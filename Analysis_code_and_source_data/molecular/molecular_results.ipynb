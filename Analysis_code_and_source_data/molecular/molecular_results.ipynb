{
 "cells": [
  {
   "cell_type": "code",
   "execution_count": null,
   "metadata": {},
   "outputs": [],
   "source": [
    "#-------------------------- Standard Imports --------------------------#\n",
    "%reload_ext autoreload\n",
    "%autoreload 2\n",
    "import kdephys as kde\n",
    "import pandas as pd\n",
    "import polars as pl\n",
    "import matplotlib.pyplot as plt\n",
    "import seaborn as sns\n",
    "import numpy as np\n",
    "import acr\n",
    "\n",
    "# ---------------------------- EXTRAS --------------------------------#\n",
    "from kdephys.plot.main import _title, bp_plot\n",
    "import kdephys.utils.spectral as sp\n",
    "from acr.utils import *\n",
    "bands = sp.bands\n",
    "\n",
    "import pingouin as pg\n",
    "from scipy import stats\n",
    "from scipy.stats import shapiro\n",
    "\n",
    "from acr.plots import pub, lrg\n",
    "plt.style.use('fast')\n",
    "lrg()\n",
    "plt.rcParams['xtick.bottom'] = False\n",
    "\n",
    "import matplotlib as mpl\n",
    "import brokenaxes as bx\n",
    "\n",
    "#--------------------------------- Import Publication Functions ---------------------------------#\n",
    "pub_utils = acr.utils.import_publication_functions('/home/kdriessen/gh_master/PUBLICATION__ACR/pub_utils.py', 'pub_utils')\n",
    "data_agg = acr.utils.import_publication_functions('/home/kdriessen/gh_master/PUBLICATION__ACR/data_agg.py', 'data_agg')"
   ]
  },
  {
   "cell_type": "code",
   "execution_count": null,
   "metadata": {},
   "outputs": [],
   "source": [
    "from scipy.stats import sem\n",
    "def mean_and_sem(data):\n",
    "    return np.mean(data), sem(data)"
   ]
  },
  {
   "cell_type": "code",
   "execution_count": null,
   "metadata": {},
   "outputs": [],
   "source": [
    "molecular_path = '/Volumes/opto_loc/Data/molecular_results.xlsx'\n",
    "mdf = pd.read_excel(molecular_path)"
   ]
  },
  {
   "cell_type": "code",
   "execution_count": null,
   "metadata": {},
   "outputs": [],
   "source": [
    "master_fig_size = (3, 4)"
   ]
  },
  {
   "cell_type": "markdown",
   "metadata": {},
   "source": [
    "# pGluR1"
   ]
  },
  {
   "cell_type": "code",
   "execution_count": null,
   "metadata": {},
   "outputs": [],
   "source": [
    "som_pglu = mdf.query(\"type == 'som'\").query(\"measure == 'pGluR1_GAPDH'\")\n",
    "som_trt = np.array(som_pglu.query(\"hemi == 'T'\")['val'])\n",
    "som_con = np.array(som_pglu.query(\"hemi == 'C'\")['val'])\n",
    "acr_pglu = mdf.query(\"type == 'acr'\").query(\"measure == 'pGluR1_GAPDH'\")\n",
    "acr_trt = np.array(acr_pglu.query(\"hemi == 'T'\")['val'])\n",
    "acr_con = np.array(acr_pglu.query(\"hemi == 'C'\")['val'])\n",
    "control_pglu = mdf.query(\"type == 'control'\").query(\"measure == 'pGluR1_GAPDH'\")\n",
    "control_trt = np.array(control_pglu.query(\"hemi == 'T'\")['val'])\n",
    "control_con = np.array(control_pglu.query(\"hemi == 'C'\")['val'])"
   ]
  },
  {
   "cell_type": "code",
   "execution_count": null,
   "metadata": {},
   "outputs": [],
   "source": [
    "# Normality Check\n",
    "s, p = shapiro((som_con-som_trt))\n",
    "print(f'shapiro p-val, som mice: {p}')\n",
    "s, p = shapiro((acr_con-acr_trt))\n",
    "print(f'shapiro p-val, acr mice: {p}')\n",
    "s, p = shapiro((control_con-control_trt))\n",
    "print(f'shapiro p-val, control mice: {p}')"
   ]
  },
  {
   "cell_type": "code",
   "execution_count": null,
   "metadata": {},
   "outputs": [],
   "source": [
    "stats = pg.ttest(som_con, som_trt, paired=True)\n",
    "hg = pg.compute_effsize(som_con, som_trt, paired=True, eftype='hedges')\n",
    "print(f'hedges g: {hg}')\n",
    "\n",
    "# ==== Write Stats Results ====\n",
    "stats_name = 'SOM_pglur1'\n",
    "acr.stats.write_stats_result(stats_name, 'paired_ttest', stats['T'][0], stats['p-val'][0], 'g', hg)\n",
    "\n",
    "stats"
   ]
  },
  {
   "cell_type": "code",
   "execution_count": null,
   "metadata": {},
   "outputs": [],
   "source": [
    "stats = pg.ttest(acr_con, acr_trt, paired=True)\n",
    "hg = pg.compute_effsize(acr_con, acr_trt, paired=True, eftype='hedges')\n",
    "print(f'hedges g: {hg}')\n",
    "\n",
    "# ==== Write Stats Results ====\n",
    "stats_name = 'ACR_pglur1'\n",
    "acr.stats.write_stats_result(stats_name, 'paired_ttest', stats['T'][0], stats['p-val'][0], 'g', hg)\n",
    "\n",
    "stats"
   ]
  },
  {
   "cell_type": "code",
   "execution_count": null,
   "metadata": {},
   "outputs": [],
   "source": [
    "stats = pg.wilcoxon(control_con, control_trt)\n",
    "hg = pg.compute_effsize(control_con, control_trt, paired=True, eftype='hedges')\n",
    "print(f'hedges g: {hg}')\n",
    "r = acr.stats.calculate_wilx_r(stats['W-val'][0], len(control_con))\n",
    "\n",
    "# ==== Write Stats Results ====\n",
    "stats_name = 'CONTROL_pglur1'\n",
    "acr.stats.write_stats_result(stats_name, 'wilcoxon', stats['W-val'][0], stats['p-val'][0], 'r, RBC', [r, stats['RBC'][0]])\n",
    "\n",
    "stats"
   ]
  },
  {
   "cell_type": "code",
   "execution_count": null,
   "metadata": {},
   "outputs": [],
   "source": [
    "# write source data\n",
    "trt_df = pd.DataFrame({'type': ['som', 'acr', 'control'], 'hemi': ['off-induction', 'off-induction', 'off-induction'], 'values': [som_trt, acr_trt, control_trt]})\n",
    "con_df = pd.DataFrame({'type': ['som', 'acr', 'control'], 'hemi': ['contralateral', 'contralateral', 'contralateral'], 'values': [som_con, acr_con, control_con]})\n",
    "pglur1_df = pd.concat([trt_df, con_df])\n",
    "pub_utils.write_source_data(pglur1_df, 'pglur1_source_data')"
   ]
  },
  {
   "cell_type": "code",
   "execution_count": null,
   "metadata": {},
   "outputs": [],
   "source": [
    "# Normalize by contra\n",
    "som_trt = som_trt / som_con\n",
    "som_con = np.ones(len(som_con))\n",
    "\n",
    "acr_trt = acr_trt / acr_con\n",
    "acr_con = np.ones(len(acr_con))\n",
    "\n",
    "control_trt = control_trt / control_con\n",
    "control_con = np.ones(len(control_con))"
   ]
  },
  {
   "cell_type": "code",
   "execution_count": null,
   "metadata": {},
   "outputs": [],
   "source": [
    "som_con_mean, som_con_sem = mean_and_sem(som_con)\n",
    "som_trt_mean, som_trt_sem = mean_and_sem(som_trt)\n",
    "\n",
    "acr_con_mean, acr_con_sem = mean_and_sem(acr_con)\n",
    "acr_trt_mean, acr_trt_sem = mean_and_sem(acr_trt)\n",
    "\n",
    "control_con_mean, control_con_sem = mean_and_sem(control_con)\n",
    "control_trt_mean, control_trt_sem = mean_and_sem(control_trt)"
   ]
  },
  {
   "cell_type": "code",
   "execution_count": null,
   "metadata": {},
   "outputs": [],
   "source": [
    "f, ax = plt.subplots(figsize=master_fig_size)\n",
    "x_pos = [1, 1.5]\n",
    "\n",
    "for i in range(8):\n",
    "    ax.plot(x_pos, [som_con[i], som_trt[i]],\n",
    "             color=SOM_BLUE, alpha=0.8, linewidth=4)\n",
    "\n",
    "\n",
    "ax.bar(x_pos, [som_con_mean, som_trt_mean], color=SOM_BLUE, alpha=0.4, width=0.2, yerr=[som_con_sem, som_trt_sem], error_kw=dict(ecolor='k', lw=4, capsize=0, capthick=0))\n",
    "\n",
    "ax.set_ylim(0.4, 1.02)\n",
    "ax.set_yticks([0.4, 0.7, 1])\n",
    "\n",
    "ax.set_xlim(0.75, 1.75)\n",
    "plt.tight_layout(pad=0.1)\n",
    "plt.savefig(f'{PAPER_FIGURE_ROOT}/molecular/som-pglu.png', bbox_inches='tight', transparent=True, dpi=600)"
   ]
  },
  {
   "cell_type": "code",
   "execution_count": null,
   "metadata": {},
   "outputs": [],
   "source": [
    "f, ax = plt.subplots(figsize=master_fig_size)\n",
    "x_pos = [1, 1.5]\n",
    "\n",
    "for i in range(8):\n",
    "    ax.plot(x_pos, [acr_con[i], acr_trt[i]],\n",
    "             color=ACR_BLUE, alpha=1, linewidth=4)\n",
    "\n",
    "\n",
    "ax.bar(x_pos, [acr_con_mean, acr_trt_mean], color=ACR_BLUE, alpha=0.5, width=0.2, yerr=[acr_con_sem, acr_trt_sem], error_kw=dict(ecolor='k', lw=4, capsize=0, capthick=0))\n",
    "\n",
    "ax.set_ylim(0.4, 1.02)\n",
    "ax.set_yticks([0.4, 0.7, 1])\n",
    "\n",
    "ax.set_xlim(0.75, 1.75)\n",
    "plt.tight_layout(pad=0.1)\n",
    "plt.savefig(f'{PAPER_FIGURE_ROOT}/molecular/acr-pglu.png', bbox_inches='tight', transparent=True, dpi=600)"
   ]
  },
  {
   "cell_type": "code",
   "execution_count": null,
   "metadata": {},
   "outputs": [],
   "source": [
    "f, ax = plt.subplots(figsize=master_fig_size)\n",
    "x_pos = [1, 1.5]\n",
    "\n",
    "for i in range(8):\n",
    "    ax.plot(x_pos, [control_con[i], control_trt[i]],\n",
    "             color=NNXR_GRAY, alpha=1, linewidth=4)\n",
    "\n",
    "\n",
    "ax.bar(x_pos, [control_con_mean, control_trt_mean], color=NNXR_GRAY, alpha=0.4, width=0.2, yerr=[control_con_sem, control_trt_sem], error_kw=dict(ecolor='k', lw=4, capsize=0, capthick=0))\n",
    "\n",
    "ax.set_yticks([0.4, 1, 1.5])\n",
    "ax.set_ylim(0.4, 1.55)\n",
    "\n",
    "ax.set_xlim(0.75, 1.75)\n",
    "plt.tight_layout(pad=0.1)\n",
    "plt.savefig(f'{PAPER_FIGURE_ROOT}/molecular/control-pglu.png', bbox_inches='tight', transparent=True, dpi=600)"
   ]
  },
  {
   "cell_type": "markdown",
   "metadata": {},
   "source": [
    "# GluR1 ONLY"
   ]
  },
  {
   "cell_type": "code",
   "execution_count": null,
   "metadata": {},
   "outputs": [],
   "source": [
    "som_pglu = mdf.query(\"type == 'som'\").query(\"measure == 'GluR1_GAPDH'\")\n",
    "som_trt = np.array(som_pglu.query(\"hemi == 'T'\")['val'])\n",
    "som_con = np.array(som_pglu.query(\"hemi == 'C'\")['val'])\n",
    "acr_pglu = mdf.query(\"type == 'acr'\").query(\"measure == 'GluR1_GAPDH'\")\n",
    "acr_trt = np.array(acr_pglu.query(\"hemi == 'T'\")['val'])\n",
    "acr_con = np.array(acr_pglu.query(\"hemi == 'C'\")['val'])\n",
    "control_pglu = mdf.query(\"type == 'control'\").query(\"measure == 'GluR1_GAPDH'\")\n",
    "control_trt = np.array(control_pglu.query(\"hemi == 'T'\")['val'])\n",
    "control_con = np.array(control_pglu.query(\"hemi == 'C'\")['val'])"
   ]
  },
  {
   "cell_type": "code",
   "execution_count": null,
   "metadata": {},
   "outputs": [],
   "source": [
    "# Normality Check\n",
    "s, p = shapiro((som_con-som_trt))\n",
    "print(f'shapiro p-val, som mice: {p}')\n",
    "s, p = shapiro((acr_con-acr_trt))\n",
    "print(f'shapiro p-val, acr mice: {p}')\n",
    "s, p = shapiro((control_con-control_trt))\n",
    "print(f'shapiro p-val, control mice: {p}')"
   ]
  },
  {
   "cell_type": "code",
   "execution_count": null,
   "metadata": {},
   "outputs": [],
   "source": [
    "stats = pg.ttest(som_con, som_trt, paired=True)\n",
    "hg = pg.compute_effsize(som_con, som_trt, paired=True, eftype='hedges')\n",
    "print(f'hedges g: {hg}')\n",
    "\n",
    "# ==== Write Stats Results ====\n",
    "stats_name = 'SOM_Glur1'\n",
    "acr.stats.write_stats_result(stats_name, 'paired_ttest', stats['T'][0], stats['p-val'][0], 'g', hg)\n",
    "\n",
    "stats"
   ]
  },
  {
   "cell_type": "code",
   "execution_count": null,
   "metadata": {},
   "outputs": [],
   "source": [
    "stats = pg.ttest(acr_con, acr_trt, paired=True)\n",
    "hg = pg.compute_effsize(acr_con, acr_trt, paired=True, eftype='hedges')\n",
    "print(f'hedges g: {hg}')\n",
    "\n",
    "# ==== Write Stats Results ====\n",
    "stats_name = 'ACR_Glur1'\n",
    "acr.stats.write_stats_result(stats_name, 'paired_ttest', stats['T'][0], stats['p-val'][0], 'g', hg)\n",
    "\n",
    "stats"
   ]
  },
  {
   "cell_type": "code",
   "execution_count": null,
   "metadata": {},
   "outputs": [],
   "source": [
    "stats = pg.ttest(control_con, control_trt, paired=True)\n",
    "hg = pg.compute_effsize(control_con, control_trt, paired=True, eftype='hedges')\n",
    "print(f'hedges g: {hg}')\n",
    "\n",
    "# ==== Write Stats Results ====\n",
    "stats_name = 'CONTROL_Glur1'\n",
    "acr.stats.write_stats_result(stats_name, 'paired_ttest', stats['T'][0], stats['p-val'][0], 'g', hg)\n",
    "\n",
    "stats"
   ]
  },
  {
   "cell_type": "code",
   "execution_count": null,
   "metadata": {},
   "outputs": [],
   "source": [
    "# write source data\n",
    "trt_df = pd.DataFrame({'type': ['som', 'acr', 'control'], 'hemi': ['off-induction', 'off-induction', 'off-induction'], 'values': [som_trt, acr_trt, control_trt]})\n",
    "con_df = pd.DataFrame({'type': ['som', 'acr', 'control'], 'hemi': ['contralateral', 'contralateral', 'contralateral'], 'values': [som_con, acr_con, control_con]})\n",
    "glur1_df = pd.concat([trt_df, con_df])\n",
    "pub_utils.write_source_data(glur1_df, 'glur1_source_data')"
   ]
  },
  {
   "cell_type": "code",
   "execution_count": null,
   "metadata": {},
   "outputs": [],
   "source": [
    "som_trt = som_trt / som_con\n",
    "som_con = np.ones(len(som_con))\n",
    "acr_trt = acr_trt / acr_con\n",
    "acr_con = np.ones(len(acr_con))\n",
    "control_trt = control_trt / control_con\n",
    "control_con = np.ones(len(control_con))"
   ]
  },
  {
   "cell_type": "code",
   "execution_count": null,
   "metadata": {},
   "outputs": [],
   "source": [
    "som_con_mean, som_con_sem = mean_and_sem(som_con)\n",
    "som_trt_mean, som_trt_sem = mean_and_sem(som_trt)\n",
    "\n",
    "acr_con_mean, acr_con_sem = mean_and_sem(acr_con)\n",
    "acr_trt_mean, acr_trt_sem = mean_and_sem(acr_trt)\n",
    "\n",
    "control_con_mean, control_con_sem = mean_and_sem(control_con)\n",
    "control_trt_mean, control_trt_sem = mean_and_sem(control_trt)"
   ]
  },
  {
   "cell_type": "code",
   "execution_count": null,
   "metadata": {},
   "outputs": [],
   "source": [
    "f, ax = plt.subplots(figsize=master_fig_size)\n",
    "x_pos = [1, 1.5]\n",
    "\n",
    "for i in range(8):\n",
    "    ax.plot(x_pos, [som_con[i], som_trt[i]],\n",
    "             color=SOM_BLUE, alpha=0.8, linewidth=4)\n",
    "\n",
    "\n",
    "ax.bar(x_pos, [som_con_mean, som_trt_mean], color=SOM_BLUE, alpha=0.4, width=0.2, yerr=[som_con_sem, som_trt_sem], error_kw=dict(ecolor='k', lw=4, capsize=0, capthick=0))\n",
    "\n",
    "ax.set_ylim(0.4, 1.02)\n",
    "ax.set_yticks([0.4, 0.7, 1])\n",
    "\n",
    "ax.set_xlim(0.75, 1.75)\n",
    "plt.tight_layout(pad=0.1)\n",
    "plt.savefig(f'{PAPER_FIGURE_ROOT}/molecular/som-glu.png', bbox_inches='tight', transparent=True, dpi=600)"
   ]
  },
  {
   "cell_type": "code",
   "execution_count": null,
   "metadata": {},
   "outputs": [],
   "source": [
    "f, ax = plt.subplots(figsize=master_fig_size)\n",
    "x_pos = [1, 1.5]\n",
    "\n",
    "for i in range(8):\n",
    "    ax.plot(x_pos, [acr_con[i], acr_trt[i]],\n",
    "             color=ACR_BLUE, alpha=1, linewidth=4)\n",
    "\n",
    "\n",
    "ax.bar(x_pos, [acr_con_mean, acr_trt_mean], color=ACR_BLUE, alpha=0.5, width=0.2, yerr=[acr_con_sem, acr_trt_sem], error_kw=dict(ecolor='k', lw=4, capsize=0, capthick=0))\n",
    "\n",
    "ax.set_ylim(0.4, 1.02)\n",
    "ax.set_yticks([0.4, 0.7, 1])\n",
    "\n",
    "ax.set_xlim(0.75, 1.75)\n",
    "plt.tight_layout(pad=0.1)\n",
    "plt.savefig(f'{PAPER_FIGURE_ROOT}/molecular/acr-glu.png', bbox_inches='tight', transparent=True, dpi=600)"
   ]
  },
  {
   "cell_type": "code",
   "execution_count": null,
   "metadata": {},
   "outputs": [],
   "source": [
    "f, ax = plt.subplots(figsize=master_fig_size)\n",
    "x_pos = [1, 1.5]\n",
    "\n",
    "for i in range(8):\n",
    "    ax.plot(x_pos, [control_con[i], control_trt[i]],\n",
    "             color=NNXR_GRAY, alpha=1, linewidth=4)\n",
    "\n",
    "\n",
    "ax.bar(x_pos, [control_con_mean, control_trt_mean], color=NNXR_GRAY, alpha=0.4, width=0.2, yerr=[control_con_sem, control_trt_sem], error_kw=dict(ecolor='k', lw=4, capsize=0, capthick=0))\n",
    "\n",
    "ax.set_ylim(0.4, 1.12)\n",
    "ax.set_yticks([0.4, 0.7, 1.0])\n",
    "\n",
    "ax.set_xlim(0.75, 1.75)\n",
    "plt.tight_layout(pad=0.1)\n",
    "plt.savefig(f'{PAPER_FIGURE_ROOT}/molecular/control-glu.png', bbox_inches='tight', transparent=True, dpi=600)"
   ]
  },
  {
   "cell_type": "markdown",
   "metadata": {},
   "source": [
    "# RATIO"
   ]
  },
  {
   "cell_type": "code",
   "execution_count": null,
   "metadata": {},
   "outputs": [],
   "source": [
    "som_pglu = mdf.query(\"type == 'som'\").query(\"measure == 'pGluR1_GluR1'\")\n",
    "som_trt = np.array(som_pglu.query(\"hemi == 'T'\")['val'])\n",
    "som_con = np.array(som_pglu.query(\"hemi == 'C'\")['val'])\n",
    "acr_pglu = mdf.query(\"type == 'acr'\").query(\"measure == 'pGluR1_GluR1'\")\n",
    "acr_trt = np.array(acr_pglu.query(\"hemi == 'T'\")['val'])\n",
    "acr_con = np.array(acr_pglu.query(\"hemi == 'C'\")['val'])\n",
    "control_pglu = mdf.query(\"type == 'control'\").query(\"measure == 'pGluR1_GluR1'\")\n",
    "control_trt = np.array(control_pglu.query(\"hemi == 'T'\")['val'])\n",
    "control_con = np.array(control_pglu.query(\"hemi == 'C'\")['val'])"
   ]
  },
  {
   "cell_type": "code",
   "execution_count": null,
   "metadata": {},
   "outputs": [],
   "source": [
    "# Normality Check\n",
    "s, p = shapiro((som_con-som_trt))\n",
    "print(f'shapiro p-val, som mice: {p}')\n",
    "s, p = shapiro((acr_con-acr_trt))\n",
    "print(f'shapiro p-val, acr mice: {p}')\n",
    "s, p = shapiro((control_con-control_trt))\n",
    "print(f'shapiro p-val, control mice: {p}')"
   ]
  },
  {
   "cell_type": "code",
   "execution_count": null,
   "metadata": {},
   "outputs": [],
   "source": [
    "stats = pg.ttest(som_con, som_trt, paired=True)\n",
    "hg = pg.compute_effsize(som_con, som_trt, paired=True, eftype='hedges')\n",
    "print(f'hedges g: {hg}')\n",
    "\n",
    "# ==== Write Stats Results ====\n",
    "stats_name = 'SOM_ratio'\n",
    "acr.stats.write_stats_result(stats_name, 'paired_ttest', stats['T'][0], stats['p-val'][0], 'g', hg)\n",
    "\n",
    "stats"
   ]
  },
  {
   "cell_type": "code",
   "execution_count": null,
   "metadata": {},
   "outputs": [],
   "source": [
    "stats = pg.ttest(acr_con, acr_trt, paired=True)\n",
    "hg = pg.compute_effsize(acr_con, acr_trt, paired=True, eftype='hedges')\n",
    "print(f'hedges g: {hg}')\n",
    "\n",
    "# ==== Write Stats Results ====\n",
    "stats_name = 'ACR_ratio'\n",
    "acr.stats.write_stats_result(stats_name, 'paired_ttest', stats['T'][0], stats['p-val'][0], 'g', hg)\n",
    "\n",
    "stats"
   ]
  },
  {
   "cell_type": "code",
   "execution_count": null,
   "metadata": {},
   "outputs": [],
   "source": [
    "stats = pg.ttest(control_con, control_trt, paired=True)\n",
    "hg = pg.compute_effsize(control_con, control_trt, paired=True, eftype='hedges')\n",
    "print(f'hedges g: {hg}')\n",
    "\n",
    "# ==== Write Stats Results ====\n",
    "stats_name = 'CONTROL_ratio'\n",
    "acr.stats.write_stats_result(stats_name, 'paired_ttest', stats['T'][0], stats['p-val'][0], 'g', hg)\n",
    "\n",
    "stats"
   ]
  },
  {
   "cell_type": "code",
   "execution_count": null,
   "metadata": {},
   "outputs": [],
   "source": [
    "# write source data\n",
    "trt_df = pd.DataFrame({'type': ['som', 'acr', 'control'], 'hemi': ['off-induction', 'off-induction', 'off-induction'], 'values': [som_trt, acr_trt, control_trt]})\n",
    "con_df = pd.DataFrame({'type': ['som', 'acr', 'control'], 'hemi': ['contralateral', 'contralateral', 'contralateral'], 'values': [som_con, acr_con, control_con]})\n",
    "ratio_df = pd.concat([trt_df, con_df])\n",
    "pub_utils.write_source_data(ratio_df, 'ratio_source_data')"
   ]
  },
  {
   "cell_type": "code",
   "execution_count": null,
   "metadata": {},
   "outputs": [],
   "source": [
    "som_trt = som_trt / som_con\n",
    "som_con = np.ones(len(som_con))\n",
    "acr_trt = acr_trt / acr_con\n",
    "acr_con = np.ones(len(acr_con))\n",
    "control_trt = control_trt / control_con\n",
    "control_con = np.ones(len(control_con))"
   ]
  },
  {
   "cell_type": "code",
   "execution_count": null,
   "metadata": {},
   "outputs": [],
   "source": [
    "som_con_mean, som_con_sem = mean_and_sem(som_con)\n",
    "som_trt_mean, som_trt_sem = mean_and_sem(som_trt)\n",
    "\n",
    "acr_con_mean, acr_con_sem = mean_and_sem(acr_con)\n",
    "acr_trt_mean, acr_trt_sem = mean_and_sem(acr_trt)\n",
    "\n",
    "control_con_mean, control_con_sem = mean_and_sem(control_con)\n",
    "control_trt_mean, control_trt_sem = mean_and_sem(control_trt)"
   ]
  },
  {
   "cell_type": "code",
   "execution_count": null,
   "metadata": {},
   "outputs": [],
   "source": [
    "f, ax = plt.subplots(figsize=master_fig_size)\n",
    "x_pos = [1, 1.5]\n",
    "\n",
    "for i in range(8):\n",
    "    ax.plot(x_pos, [som_con[i], som_trt[i]],\n",
    "             color=SOM_BLUE, alpha=0.8, linewidth=4)\n",
    "\n",
    "\n",
    "ax.bar(x_pos, [som_con_mean, som_trt_mean], color=SOM_BLUE, alpha=0.4, width=0.2, yerr=[som_con_sem, som_trt_sem], error_kw=dict(ecolor='k', lw=4, capsize=0, capthick=0))\n",
    "\n",
    "ax.set_ylim(0.6, 1.2)\n",
    "ax.set_yticks([0.6, 1, 1.2])\n",
    "\n",
    "ax.set_xlim(0.75, 1.75)\n",
    "plt.tight_layout(pad=0.1)\n",
    "plt.savefig(f'{PAPER_FIGURE_ROOT}/molecular/som-ratio.png', bbox_inches='tight', transparent=True, dpi=600)"
   ]
  },
  {
   "cell_type": "code",
   "execution_count": null,
   "metadata": {},
   "outputs": [],
   "source": [
    "f, ax = plt.subplots(figsize=master_fig_size)\n",
    "x_pos = [1, 1.5]\n",
    "\n",
    "for i in range(8):\n",
    "    ax.plot(x_pos, [acr_con[i], acr_trt[i]],\n",
    "             color=ACR_BLUE, alpha=1, linewidth=4)\n",
    "\n",
    "\n",
    "ax.bar(x_pos, [acr_con_mean, acr_trt_mean], color=ACR_BLUE, alpha=0.5, width=0.2, yerr=[acr_con_sem, acr_trt_sem], error_kw=dict(ecolor='k', lw=4, capsize=0, capthick=0))\n",
    "\n",
    "ax.set_ylim(0.6, 1.4)\n",
    "ax.set_yticks([0.6, 1, 1.4])\n",
    "\n",
    "ax.set_xlim(0.75, 1.75)\n",
    "plt.tight_layout(pad=0.1)\n",
    "plt.savefig(f'{PAPER_FIGURE_ROOT}/molecular/acr-ratio.png', bbox_inches='tight', transparent=True, dpi=600)"
   ]
  },
  {
   "cell_type": "code",
   "execution_count": null,
   "metadata": {},
   "outputs": [],
   "source": [
    "f, ax = plt.subplots(figsize=master_fig_size)\n",
    "x_pos = [1, 1.5]\n",
    "\n",
    "for i in range(8):\n",
    "    ax.plot(x_pos, [control_con[i], control_trt[i]],\n",
    "             color=NNXR_GRAY, alpha=1, linewidth=4)\n",
    "\n",
    "\n",
    "ax.bar(x_pos, [control_con_mean, control_trt_mean], color=NNXR_GRAY, alpha=0.4, width=0.2, yerr=[control_con_sem, control_trt_sem], error_kw=dict(ecolor='k', lw=4, capsize=0, capthick=0))\n",
    "\n",
    "ax.set_ylim(0.6, 1.5)\n",
    "ax.set_yticks([0.6, 1, 1.5])\n",
    "\n",
    "ax.set_xlim(0.75, 1.75)\n",
    "plt.tight_layout(pad=0.1)\n",
    "plt.savefig(f'{PAPER_FIGURE_ROOT}/molecular/control-ratio.png', bbox_inches='tight', transparent=True, dpi=600)"
   ]
  }
 ],
 "metadata": {
  "kernelspec": {
   "display_name": "offdet",
   "language": "python",
   "name": "python3"
  },
  "language_info": {
   "codemirror_mode": {
    "name": "ipython",
    "version": 3
   },
   "file_extension": ".py",
   "mimetype": "text/x-python",
   "name": "python",
   "nbconvert_exporter": "python",
   "pygments_lexer": "ipython3",
   "version": "3.10.14"
  }
 },
 "nbformat": 4,
 "nbformat_minor": 2
}
