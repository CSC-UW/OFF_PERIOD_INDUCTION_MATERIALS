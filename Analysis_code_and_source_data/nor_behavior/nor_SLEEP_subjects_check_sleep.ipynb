{
 "cells": [
  {
   "cell_type": "code",
   "execution_count": null,
   "metadata": {},
   "outputs": [],
   "source": [
    "%reload_ext autoreload\n",
    "%autoreload 2\n",
    "\n",
    "import acr\n",
    "import kdephys as kde\n",
    "import pandas as pd\n",
    "import polars as pl\n",
    "import matplotlib.pyplot as plt\n",
    "import seaborn as sns\n",
    "import numpy as np\n",
    "import os\n",
    "import plotly.express as px\n",
    "\n",
    "import warnings\n",
    "warnings.filterwarnings('ignore')"
   ]
  },
  {
   "cell_type": "markdown",
   "metadata": {},
   "source": [
    "# FUNCTIONS"
   ]
  },
  {
   "cell_type": "markdown",
   "metadata": {},
   "source": [
    "# Analysis"
   ]
  },
  {
   "cell_type": "code",
   "execution_count": null,
   "metadata": {},
   "outputs": [],
   "source": [
    "all_subjects = acr.nor.get_all_subjects()"
   ]
  },
  {
   "cell_type": "code",
   "execution_count": null,
   "metadata": {},
   "outputs": [],
   "source": [
    "sleep_subjects = []\n",
    "for subject in all_subjects:\n",
    "    sub_type = acr.nor.get_subject_type(subject)\n",
    "    if sub_type == 'sleep':\n",
    "        sleep_subjects.append(subject)\n",
    "sleep_subjects"
   ]
  },
  {
   "cell_type": "code",
   "execution_count": null,
   "metadata": {},
   "outputs": [],
   "source": [
    "vel_dfs = {}\n",
    "for subject in sleep_subjects:\n",
    "    vel = acr.dlc.load_nor_actigraphy(subject)\n",
    "    vel_dfs[subject] = vel"
   ]
  },
  {
   "cell_type": "code",
   "execution_count": null,
   "metadata": {},
   "outputs": [],
   "source": [
    "# get the mean of the velocity df (i.e. across all nodes), then do a robust z-score, then threshold sleep at -(mean/std), per validation on ephys mice. Only select the time of interest\n",
    "# (i.e. the recovery period) after doing this full pipeline.\n",
    "sub_dfs = []\n",
    "c = -1\n",
    "for subject in vel_dfs.keys():\n",
    "    acqday_start, recovery_start, recovery_end = acr.dlc.load_sleep_recovery_info(vel_dfs[subject], subject, recovery_duration='1h', buffer='5min')\n",
    "    v = vel_dfs[subject]\n",
    "    #v = v.ts(acqday_start-pd.Timedelta('24h'), acqday_start+pd.Timedelta('36h'))\n",
    "    spd = v.group_by('datetime').agg(pl.col('speed').mean()).sort(['datetime'])\n",
    "    spd = acr.dlc.rob_z_col(spd, 'speed')\n",
    "    mean = spd['speed_robust_z'].mean()\n",
    "    std = spd['speed_robust_z'].std()\n",
    "    base = mean/std\n",
    "    thresh_sleep = base*c\n",
    "    thresh_sleep_pct = acr.dlc.threshold_sleep_on_diff_df(spd.ts(recovery_start, recovery_end), thresh_sleep, col='speed_robust_z')\n",
    "    sub_df = pd.DataFrame({'subject': subject, 'thresh_sleep': thresh_sleep_pct, 'mean': mean, 'std': std}, index=[0])\n",
    "    sub_dfs.append(sub_df)\n",
    "sdf = pd.concat(sub_dfs)"
   ]
  },
  {
   "cell_type": "code",
   "execution_count": null,
   "metadata": {},
   "outputs": [],
   "source": [
    "f, ax = plt.subplots(1, 1, figsize=(28, 8))\n",
    "sns.barplot(x='subject', y='thresh_sleep', data=sdf, ax=ax)\n",
    "ax.axhline(y=0.33, color='k', linestyle='--')\n",
    "ax.axhline(y=0.3, color='r', linestyle='--')\n",
    "ax.axhline(y=0.25, color='green', linestyle='--')\n",
    "ax.axhline(y=0.20, color='pink', linestyle='--')"
   ]
  },
  {
   "cell_type": "code",
   "execution_count": null,
   "metadata": {},
   "outputs": [],
   "source": [
    "sdf['thresh_sleep'].mean()"
   ]
  },
  {
   "cell_type": "code",
   "execution_count": null,
   "metadata": {},
   "outputs": [],
   "source": [
    "sdf['thresh_sleep'].std()"
   ]
  },
  {
   "cell_type": "code",
   "execution_count": null,
   "metadata": {},
   "outputs": [],
   "source": [
    "thresh_sleep = base*c\n",
    "        thresh_sleep_pct = acr.dlc.threshold_sleep_on_diff_df(spd, thresh_sleep, col='speed_robust_z')\n",
    "        thresh_sleeps.append(thresh_sleep_pct)\n",
    "    sub_df = pd.DataFrame({'subject': sub, 'rec': rec, 'thresh_sleep': thresh_sleeps, 'h_sleep': h_sleep, 'coeffs': coeff_tests, 'mean': mean, 'std': std})\n",
    "    sub_dfs.append(sub_df)\n",
    "\n",
    "sdf = pd.concat(sub_dfs)\n",
    "sdf['diff'] = sdf['thresh_sleep'] - sdf['h_sleep']"
   ]
  },
  {
   "cell_type": "code",
   "execution_count": null,
   "metadata": {},
   "outputs": [],
   "source": [
    "for subject in sleep_subjects:\n",
    "\n",
    "    box_time, acq_day = acr.nor.get_sub_timing(subject)\n",
    "    acqday_start = pd.Timestamp(f'{acq_day} {box_time}')\n",
    "    diffs = load_nor_actigraphy(subject)\n",
    "    diff_mean = diffs.group_by(['frame', 'datetime']).agg(pl.col('diff').mean()).sort(['datetime'])\n",
    "    diff_max = diffs.group_by(['frame', 'datetime']).agg(pl.col('diff').max()).sort(['datetime'])\n",
    "\n",
    "    mean_thresh = 0.12\n",
    "    diff_mean = thresh_df(diff_mean, mean_thresh)\n",
    "\n",
    "    max_thresh = 0.4\n",
    "    diff_max = thresh_df(diff_max, max_thresh)\n",
    "    min_sleep_start = acqday_start + pd.Timedelta('10min')\n",
    "    sleep_period_border = diff_mean.filter(pl.col('datetime')>min_sleep_start)['datetime'].min()\n",
    "    sleep_period_start = pd.Timestamp(sleep_period_border + pd.Timedelta('15min'))\n",
    "    sleep_period_end = sleep_period_start + pd.Timedelta('1h')\n",
    "\n",
    "    mean_frac = diff_mean.ts(sleep_period_start, sleep_period_end).frac_sleep()\n",
    "    max_frac = diff_max.ts(sleep_period_start, sleep_period_end).frac_sleep()\n",
    "\n",
    "    f, ax = plt.subplots(1, 1, figsize=(28, 8))\n",
    "    diff_to_plot = diff_mean.ts(sleep_period_start-pd.Timedelta('1h'), sleep_period_end+pd.Timedelta('3h'))\n",
    "    sns.lineplot(x='datetime', y='diff', data=diff_mean, ax=ax, color='k')\n",
    "    ax.axvline(x=sleep_period_start, color='r', linestyle='--')\n",
    "    ax.axvline(x=sleep_period_end, color='r', linestyle='--')\n",
    "\n",
    "    ax.set_title(f'{subject} | mean-sleep-frac: {mean_frac*100:.2f}% | max-sleep-frac: {max_frac*100:.2f}%')\n",
    "    plt.show()"
   ]
  },
  {
   "cell_type": "code",
   "execution_count": null,
   "metadata": {},
   "outputs": [],
   "source": [
    "for subject in sleep_subjects:\n",
    "\n",
    "    box_time, acq_day = acr.nor.get_sub_timing(subject)\n",
    "    acqday_start = pd.Timestamp(f'{acq_day} {box_time}')\n",
    "    diffs = load_nor_actigraphy(subject)\n",
    "    diff_mean = diffs.group_by(['frame', 'datetime']).agg(pl.col('diff').mean()).sort(['datetime'])\n",
    "    diff_max = diffs.group_by(['frame', 'datetime']).agg(pl.col('diff').max()).sort(['datetime'])\n",
    "\n",
    "    mean_thresh = 0.12\n",
    "    diff_mean = thresh_df(diff_mean, mean_thresh)\n",
    "\n",
    "    max_thresh = 0.4\n",
    "    diff_max = thresh_df(diff_max, max_thresh)\n",
    "    min_sleep_start = acqday_start + pd.Timedelta('10min')\n",
    "    sleep_period_border = diff_mean.filter(pl.col('datetime')>min_sleep_start)['datetime'].min()\n",
    "    sleep_period_start = pd.Timestamp(sleep_period_border + pd.Timedelta('0min'))\n",
    "    sleep_period_end = sleep_period_start + pd.Timedelta('1h')\n",
    "\n",
    "    mean_frac = diff_mean.ts(sleep_period_start, sleep_period_end).frac_sleep()\n",
    "    max_frac = diff_max.ts(sleep_period_start, sleep_period_end).frac_sleep()\n",
    "\n",
    "    f, ax = plt.subplots(1, 1, figsize=(28, 8))\n",
    "    diff_to_plot = diff_mean.ts(sleep_period_start-pd.Timedelta('1h'), sleep_period_end+pd.Timedelta('3h'))\n",
    "    sns.lineplot(x='datetime', y='diff', data=diff_mean, ax=ax, color='k')\n",
    "    ax.axvline(x=sleep_period_start, color='r', linestyle='--')\n",
    "    ax.axvline(x=sleep_period_end, color='r', linestyle='--')\n",
    "\n",
    "    ax.set_title(f'{subject} | mean-sleep-frac: {mean_frac*100:.2f}% | max-sleep-frac: {max_frac*100:.2f}%')\n",
    "    plt.show()"
   ]
  },
  {
   "cell_type": "code",
   "execution_count": null,
   "metadata": {},
   "outputs": [],
   "source": [
    "f, ax = plt.subplots(1, 1, figsize=(28, 8))\n",
    "sns.lineplot(x='datetime', y='diff', data=diff_mean, ax=ax, color='k')\n",
    "ax.set_title(f'mean diffs, all nodes')\n",
    "ax.axvline(x=sleep_period_start, color='r', linestyle='--')\n",
    "ax.axvline(x=sleep_period_end, color='r', linestyle='--')"
   ]
  },
  {
   "cell_type": "code",
   "execution_count": null,
   "metadata": {},
   "outputs": [],
   "source": [
    "f, ax = plt.subplots(1, 1, figsize=(28, 8))\n",
    "sns.lineplot(x='datetime', y='diff', data=diff_max, ax=ax, color='k')\n",
    "kde.plot.main.shade_hypno_for_me(h, ax=ax, alpha=0.25)\n",
    "ax.set_title(f'max diffs, all nodes')"
   ]
  },
  {
   "cell_type": "code",
   "execution_count": null,
   "metadata": {},
   "outputs": [],
   "source": [
    "px.line(diff_total, x='frame', y='diff')"
   ]
  },
  {
   "cell_type": "code",
   "execution_count": null,
   "metadata": {},
   "outputs": [],
   "source": [
    "thresh = 0.12\n",
    "diff_total = diff_total.with_columns(state=pl.lit('wake'))\n",
    "diff_total = diff_total.with_columns(state=pl.when(pl.col('diff')<thresh).then(pl.lit('sleep')).otherwise(pl.col('state')))\n",
    "diff_total.group_by(['state']).agg(pl.col('diff').count()).sort(['state'])['diff'][0]/len(diff_total)"
   ]
  },
  {
   "cell_type": "code",
   "execution_count": null,
   "metadata": {},
   "outputs": [],
   "source": [
    "px.line(diff_max, x='frame', y='diff')"
   ]
  },
  {
   "cell_type": "code",
   "execution_count": null,
   "metadata": {},
   "outputs": [],
   "source": [
    "np.quantile(diff_max['diff'], [0.1, 0.2, 0.3, 0.4, 0.5])"
   ]
  },
  {
   "cell_type": "code",
   "execution_count": null,
   "metadata": {},
   "outputs": [],
   "source": [
    "thresh = 0.4\n",
    "diff_max = diff_max.with_columns(state=pl.lit('wake'))\n",
    "diff_max = diff_max.with_columns(state=pl.when(pl.col('diff')<thresh).then(pl.lit('sleep')).otherwise(pl.col('state')))\n",
    "diff_max.group_by(['state']).agg(pl.col('diff').count()).sort(['state'])['diff'][0]/len(diff_max)"
   ]
  },
  {
   "cell_type": "code",
   "execution_count": null,
   "metadata": {},
   "outputs": [],
   "source": [
    "subject = 'ACR_45'\n",
    "rec = 'swisin'\n",
    "diffs, h = load_probe_diff_df(subject, rec)\n",
    "total_hyp_duration = h.duration.sum().total_seconds()\n",
    "print(f'total hypno duration: {total_hyp_duration}')\n",
    "\n",
    "sleep_states = ['NREM', 'REM', 'Transition-to-REM', 'Transition-to-NREM', 'Transition-to-Wake']\n",
    "hypno_frac = h.keep_states(sleep_states).duration.sum().total_seconds()/h.duration.sum().total_seconds()\n",
    "print(f'hypno sleep fraction: {hypno_frac}')\n",
    "\n",
    "# get mean, min, max diffs across all nodes\n",
    "diff_mean = diffs.group_by(['frame', 'datetime']).agg(pl.col('diff').mean()).sort(['datetime'])\n",
    "diff_max = diffs.group_by(['frame', 'datetime']).agg(pl.col('diff').max()).sort(['datetime'])\n",
    "\n",
    "mean_thresh = 0.12\n",
    "mean_frac = thresh_df(diff_mean, mean_thresh)\n",
    "print(f'mean diff sleep fraction: {mean_frac}')\n",
    "\n",
    "max_thresh = 0.4\n",
    "max_frac = thresh_df(diff_max, max_thresh)\n",
    "print(f'max diff sleep fraction: {max_frac}')"
   ]
  },
  {
   "cell_type": "code",
   "execution_count": null,
   "metadata": {},
   "outputs": [],
   "source": [
    "subject = 'ACR_40'\n",
    "rec = 'swinap'\n",
    "diffs, h = load_probe_diff_df(subject, rec)\n",
    "total_hyp_duration = h.duration.sum().total_seconds()\n",
    "print(f'total hypno duration: {total_hyp_duration}')\n",
    "\n",
    "sleep_states = ['NREM', 'REM', 'Transition-to-REM', 'Transition-to-NREM', 'Transition-to-Wake']\n",
    "hypno_frac = h.keep_states(sleep_states).duration.sum().total_seconds()/h.duration.sum().total_seconds()\n",
    "print(f'hypno sleep fraction: {hypno_frac}')\n",
    "\n",
    "# get mean, min, max diffs across all nodes\n",
    "diff_mean = diffs.group_by(['frame', 'datetime']).agg(pl.col('diff').mean()).sort(['datetime'])\n",
    "diff_max = diffs.group_by(['frame', 'datetime']).agg(pl.col('diff').max()).sort(['datetime'])\n",
    "\n",
    "mean_thresh = 0.12\n",
    "mean_frac = thresh_df(diff_mean, mean_thresh)\n",
    "print(f'mean diff sleep fraction: {mean_frac}')\n",
    "\n",
    "max_thresh = 0.4\n",
    "max_frac = thresh_df(diff_max, max_thresh)\n",
    "print(f'max diff sleep fraction: {max_frac}')"
   ]
  },
  {
   "cell_type": "code",
   "execution_count": null,
   "metadata": {},
   "outputs": [],
   "source": [
    "subject = 'ACR_41'\n",
    "rec = 'swi2'\n",
    "diffs, h = load_probe_diff_df(subject, rec)\n",
    "total_hyp_duration = h.duration.sum().total_seconds()\n",
    "print(f'total hypno duration: {total_hyp_duration}')\n",
    "ht1 = h['start_time'].min()\n",
    "ht2 = h['end_time'].max()\n",
    "diffs = diffs.filter((pl.col('datetime')>ht1) & (pl.col('datetime')<ht2))\n",
    "\n",
    "\n",
    "sleep_states = ['NREM', 'REM', 'Transition-to-REM', 'Transition-to-NREM', 'Transition-to-Wake']\n",
    "hypno_frac = h.keep_states(sleep_states).duration.sum().total_seconds()/h.duration.sum().total_seconds()\n",
    "print(f'hypno sleep fraction: {hypno_frac}')\n",
    "\n",
    "# get mean, min, max diffs across all nodes\n",
    "diff_mean = diffs.group_by(['frame', 'datetime']).agg(pl.col('diff').mean()).sort(['datetime'])\n",
    "diff_max = diffs.group_by(['frame', 'datetime']).agg(pl.col('diff').max()).sort(['datetime'])\n",
    "\n",
    "mean_thresh = 0.12\n",
    "mean_frac = thresh_df(diff_mean, mean_thresh)\n",
    "print(f'mean diff sleep fraction: {mean_frac}')\n",
    "\n",
    "max_thresh = 0.4\n",
    "max_frac = thresh_df(diff_max, max_thresh)\n",
    "print(f'max diff sleep fraction: {max_frac}')"
   ]
  },
  {
   "cell_type": "code",
   "execution_count": null,
   "metadata": {},
   "outputs": [],
   "source": [
    "subject = 'ACR_35'\n",
    "rec = 'swi2-bl'\n",
    "diffs, h = load_probe_diff_df(subject, rec)\n",
    "total_hyp_duration = h.duration.sum().total_seconds()\n",
    "print(f'total hypno duration: {total_hyp_duration}')\n",
    "\n",
    "sleep_states = ['NREM', 'REM', 'Transition-to-REM', 'Transition-to-NREM', 'Transition-to-Wake']\n",
    "hypno_frac = h.keep_states(sleep_states).duration.sum().total_seconds()/h.duration.sum().total_seconds()\n",
    "print(f'hypno sleep fraction: {hypno_frac}')\n",
    "\n",
    "# get mean, min, max diffs across all nodes\n",
    "diff_mean = diffs.group_by(['frame', 'datetime']).agg(pl.col('diff').mean()).sort(['datetime'])\n",
    "diff_max = diffs.group_by(['frame', 'datetime']).agg(pl.col('diff').max()).sort(['datetime'])\n",
    "\n",
    "mean_thresh = 0.12\n",
    "mean_frac = thresh_df(diff_mean, mean_thresh)\n",
    "print(f'mean diff sleep fraction: {mean_frac}')\n",
    "\n",
    "max_thresh = 0.4\n",
    "max_frac = thresh_df(diff_max, max_thresh)\n",
    "print(f'max diff sleep fraction: {max_frac}')"
   ]
  }
 ],
 "metadata": {
  "kernelspec": {
   "display_name": "offdet",
   "language": "python",
   "name": "python3"
  },
  "language_info": {
   "codemirror_mode": {
    "name": "ipython",
    "version": 3
   },
   "file_extension": ".py",
   "mimetype": "text/x-python",
   "name": "python",
   "nbconvert_exporter": "python",
   "pygments_lexer": "ipython3",
   "version": "3.10.14"
  }
 },
 "nbformat": 4,
 "nbformat_minor": 2
}
