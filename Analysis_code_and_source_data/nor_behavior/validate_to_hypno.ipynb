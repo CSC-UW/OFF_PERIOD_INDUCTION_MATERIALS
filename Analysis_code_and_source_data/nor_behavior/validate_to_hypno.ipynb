{
 "cells": [
  {
   "cell_type": "code",
   "execution_count": null,
   "metadata": {},
   "outputs": [],
   "source": [
    "%reload_ext autoreload\n",
    "%autoreload 2\n",
    "\n",
    "import acr\n",
    "import kdephys as kde\n",
    "import pandas as pd\n",
    "import polars as pl\n",
    "import matplotlib.pyplot as plt\n",
    "import seaborn as sns\n",
    "import numpy as np\n",
    "\n",
    "import plotly.express as px\n",
    "\n",
    "import warnings\n",
    "warnings.filterwarnings('ignore')\n",
    "import os\n",
    "import scipy"
   ]
  },
  {
   "cell_type": "code",
   "execution_count": null,
   "metadata": {},
   "outputs": [],
   "source": [
    "def get_all_probe_subs_exps():\n",
    "    all_probe_analyzed = []\n",
    "    for f in os.listdir('/Volumes/ceph-tononi/acr_archived_subjects/dlc_home_cage_model/inference_results'):\n",
    "        if f.endswith('.csv') and 'filtered' not in f and 'ACR_' in f:\n",
    "            all_probe_analyzed.append(f)\n",
    "\n",
    "    all_probe_subs_exps = []\n",
    "    for f in all_probe_analyzed:\n",
    "        sub_exp = f.split('DLC_')[0]\n",
    "        all_probe_subs_exps.append(sub_exp)\n",
    "\n",
    "    return all_probe_subs_exps"
   ]
  },
  {
   "cell_type": "code",
   "execution_count": null,
   "metadata": {},
   "outputs": [],
   "source": [
    "all_probe_subs_exps = get_all_probe_subs_exps()\n",
    "cdfs = {}\n",
    "vels = {}\n",
    "hd = {}\n",
    "\n",
    "for f in all_probe_subs_exps:\n",
    "    sub, rec = f.split('--')\n",
    "    cdf = acr.dlc.load_probe_points_df(sub, rec, filtered=False)\n",
    "    vel = acr.dlc.compute_full_velocity_df(cdf)\n",
    "    h = acr.io.load_hypno(sub, rec, corrections=True)\n",
    "    cdfs[f] = cdf\n",
    "    vels[f] = vel\n",
    "    hd[f] = h"
   ]
  },
  {
   "cell_type": "markdown",
   "metadata": {},
   "source": [
    "# All Nodes, average, then scale"
   ]
  },
  {
   "cell_type": "code",
   "execution_count": null,
   "metadata": {},
   "outputs": [],
   "source": [
    "sub_dfs = []\n",
    "ss=['NREM', 'REM', 'Transition-to-REM', 'Transition-to-NREM', 'Transition-to-Wake']\n",
    "for f in vels.keys():\n",
    "    v = vels[f]\n",
    "    sub, rec = f.split('--')\n",
    "    spd = v.group_by('datetime').agg(pl.col('speed').mean()).sort(['datetime'])\n",
    "    spd = acr.dlc.rob_z_col(spd, 'speed')\n",
    "    h = hd[f]\n",
    "    spd = spd.ts(h['start_time'].min(), h['end_time'].max())\n",
    "    h_sleep = acr.dlc.get_hypno_percent_asleep(h, ss)\n",
    "    mean = spd['speed_robust_z'].mean()\n",
    "    std = spd['speed_robust_z'].std()\n",
    "    base = mean/std\n",
    "    coeff_tests = [2, 1.5, 1, 0.5, 0.3, 0.2, 0.1, 0, -0.1, -0.2,-0.3, -0.4, -0.45, -0.5, -0.6, -0.7, -0.8, -0.9, -1, -1.1, -1.2, -1.3, -1.4, -1.5, -1.6, -1.7, -1.8, -1.9, -2]\n",
    "    thresh_sleeps = []\n",
    "    for c in coeff_tests:\n",
    "        thresh_sleep = base*c\n",
    "        thresh_sleep_pct = acr.dlc.threshold_sleep_on_diff_df(spd, thresh_sleep, col='speed_robust_z')\n",
    "        thresh_sleeps.append(thresh_sleep_pct)\n",
    "    sub_df = pd.DataFrame({'subject': sub, 'rec': rec, 'thresh_sleep': thresh_sleeps, 'h_sleep': h_sleep, 'coeffs': coeff_tests, 'mean': mean, 'std': std})\n",
    "    sub_dfs.append(sub_df)\n",
    "\n",
    "sdf = pd.concat(sub_dfs)\n",
    "sdf['diff'] = sdf['thresh_sleep'] - sdf['h_sleep']"
   ]
  },
  {
   "cell_type": "code",
   "execution_count": null,
   "metadata": {},
   "outputs": [],
   "source": [
    "f, ax = plt.subplots(figsize=(20, 10))\n",
    "sns.boxplot(data=sdf, x='coeffs', y='diff')\n",
    "ax.axhline(0, color='red', linestyle='--')"
   ]
  },
  {
   "cell_type": "code",
   "execution_count": null,
   "metadata": {},
   "outputs": [],
   "source": [
    "durs = []\n",
    "for hk in hd.keys():\n",
    "    hypno = hd[hk]\n",
    "    dur = hypno['duration'].sum().total_seconds()\n",
    "    durs.append(dur)"
   ]
  },
  {
   "cell_type": "code",
   "execution_count": null,
   "metadata": {},
   "outputs": [],
   "source": [
    "#seconds\n",
    "np.sum(durs)"
   ]
  },
  {
   "cell_type": "code",
   "execution_count": null,
   "metadata": {},
   "outputs": [],
   "source": [
    "# hours\n",
    "1421023.46404/3600"
   ]
  },
  {
   "cell_type": "code",
   "execution_count": null,
   "metadata": {},
   "outputs": [],
   "source": [
    "# days\n",
    "1421023.46404/3600/24"
   ]
  },
  {
   "cell_type": "code",
   "execution_count": null,
   "metadata": {},
   "outputs": [],
   "source": [
    "df = sdf.loc[sdf['coeffs']==-1]\n",
    "thresholded_total_sleep = df['thresh_sleep'].values\n",
    "hypno_total_sleep = df['h_sleep'].values\n",
    "diffs = thresholded_total_sleep - hypno_total_sleep\n",
    "df['diffs'] = diffs"
   ]
  },
  {
   "cell_type": "code",
   "execution_count": null,
   "metadata": {},
   "outputs": [],
   "source": [
    "plt.rcdefaults()\n",
    "acr.plots.supl()"
   ]
  },
  {
   "cell_type": "code",
   "execution_count": null,
   "metadata": {},
   "outputs": [],
   "source": [
    "f, ax = acr.plots.gen_paired_boxplot(hypno_total_sleep, thresholded_total_sleep, colors=['darkorange', 'dodgerblue'], mean_color='black', alphas=[1, 1], widths=0.05)\n",
    "ax.set_xticks([])\n",
    "fig_name = f'{acr.utils.PAPER_FIGURE_ROOT}/nor_behavior/act_validation_hypno_vs_thresh'\n",
    "f.savefig(f'{fig_name}.png', transparent=True, dpi=600, bbox_inches='tight')"
   ]
  },
  {
   "cell_type": "code",
   "execution_count": null,
   "metadata": {},
   "outputs": [],
   "source": [
    "np.mean(diffs)*100"
   ]
  },
  {
   "cell_type": "code",
   "execution_count": null,
   "metadata": {},
   "outputs": [],
   "source": [
    "f, ax = plt.subplots(figsize=(3, 4))\n",
    "acr.plots.add_boxplot(ax, diffs, color='darkorange', mean_color='dodgerblue', alpha=1, widths=0.08, positions=[0.45])\n",
    "acr.plots.add_data_points(ax, diffs, color='darkorange', alpha=0.8, x_pos=0.52)\n",
    "ax.set_xlim(0.35, 0.6)\n",
    "ax.set_xticks([0.45])\n",
    "ax.set_xticklabels(['Difference'])\n",
    "\n",
    "fig_name = f'{acr.utils.PAPER_FIGURE_ROOT}/nor_behavior/act_validation_hypno_vs_thresh--DIFFERENCE'\n",
    "f.savefig(f'{fig_name}.png', transparent=True, dpi=600, bbox_inches='tight')"
   ]
  },
  {
   "cell_type": "code",
   "execution_count": null,
   "metadata": {},
   "outputs": [],
   "source": [
    "ss=['NREM', 'REM', 'Transition-to-REM', 'Transition-to-NREM', 'Transition-to-Wake']\n",
    "fkey = 'ACR_35--swi2-bl'\n",
    "for fkey in vels.keys():\n",
    "    v = vels[fkey]\n",
    "    spd = v.group_by('datetime').agg(pl.col('speed').mean()).sort(['datetime'])\n",
    "    spd = acr.dlc.rob_z_col(spd, 'speed')\n",
    "    h = hd[fkey]\n",
    "    spd = spd.ts(h['start_time'].min(), h['end_time'].max())\n",
    "    h_sleep = acr.dlc.get_hypno_percent_asleep(h, ss)\n",
    "    mean = spd['speed_robust_z'].mean()\n",
    "    std = spd['speed_robust_z'].std()\n",
    "    base = mean/std\n",
    "    spd = spd.with_columns(state=pl.lit('Wake'))\n",
    "    spd = spd.with_columns(pl.when(pl.col('speed_robust_z') < base).then(pl.lit('NREM')).otherwise(pl.col('state')).alias('state'))\n",
    "    spd_df = spd.to_pandas()\n",
    "    # 1.  Detect where the state changes ------------------------------------------\n",
    "    transition = spd_df['state'] != spd_df['state'].shift(fill_value=spd_df['state'].iloc[0])\n",
    "\n",
    "    # 2.  Give every contiguous block a unique id ---------------------------------\n",
    "    segment_id = transition.cumsum()\n",
    "\n",
    "    # 3.  Aggregate per block ------------------------------------------------------\n",
    "    hypno = (\n",
    "        spd_df\n",
    "        .assign(segment=segment_id)               # add the id just created\n",
    "        .groupby('segment')\n",
    "        .agg(\n",
    "            start_time = ('datetime', 'first'),       # <-- replace 'time' with spd_df.index if needed\n",
    "            end_time   = ('datetime', 'last'),\n",
    "            state      = ('state', 'first')\n",
    "        )\n",
    "        .reset_index(drop=True)\n",
    "    )\n",
    "\n",
    "    # 4.  Compute duration ---------------------------------------------------------\n",
    "    hypno['duration'] = hypno['end_time'] - hypno['start_time']\n",
    "\n",
    "    # 5.  Optional: reorder columns / inspect --------------------------------------\n",
    "    hypno = hypno[['start_time', 'end_time', 'state', 'duration']]\n",
    "\n",
    "    #Plot the real hypnogram\n",
    "    ls = acr.hypnogram_utils.get_light_schedule(h)\n",
    "    f, ax = plt.subplots(figsize=(24, 8))\n",
    "    ax = sns.lineplot(data=spd, x='datetime', y='speed_robust_z', ax=ax)\n",
    "    h.loc[h['state'].isin(ss), 'state'] = 'NREM'\n",
    "    ax = kde.plot.main.shade_hypno_for_me(h, ax, alpha=0.3)\n",
    "    ax = kde.plot.main.add_light_schedule(ls, ax)\n",
    "    ax.set_title(f'{fkey}')\n",
    "    plt.show()\n",
    "\n",
    "    # Plot the hypnogram from the model\n",
    "    f, ax = plt.subplots(figsize=(24, 8))\n",
    "    ax = sns.lineplot(data=spd, x='datetime', y='speed_robust_z', ax=ax)\n",
    "    ax = kde.plot.main.shade_hypno_for_me(hypno, ax, alpha=0.3)\n",
    "    ax = kde.plot.main.add_light_schedule(ls, ax)\n",
    "    ax.set_title(f'{fkey}')\n",
    "    plt.show()jkk"
   ]
  },
  {
   "cell_type": "code",
   "execution_count": null,
   "metadata": {},
   "outputs": [],
   "source": [
    "ss=['NREM', 'REM', 'Transition-to-REM', 'Transition-to-NREM', 'Transition-to-Wake']\n",
    "fkey = 'ACR_35--swisin2-bl'\n",
    "\n",
    "v = vels[fkey]\n",
    "spd = v.group_by('datetime').agg(pl.col('speed').mean()).sort(['datetime'])\n",
    "spd = acr.dlc.rob_z_col(spd, 'speed')\n",
    "h = hd[fkey]\n",
    "spd = spd.ts(h['start_time'].min(), h['end_time'].max())\n",
    "h_sleep = acr.dlc.get_hypno_percent_asleep(h, ss)\n",
    "mean = spd['speed_robust_z'].mean()\n",
    "std = spd['speed_robust_z'].std()\n",
    "base = mean/std\n",
    "spd = spd.with_columns(state=pl.lit('Wake'))\n",
    "spd = spd.with_columns(pl.when(pl.col('speed_robust_z') < base).then(pl.lit('NREM')).otherwise(pl.col('state')).alias('state'))\n",
    "spd_df = spd.to_pandas()\n",
    "# 1.  Detect where the state changes ------------------------------------------\n",
    "transition = spd_df['state'] != spd_df['state'].shift(fill_value=spd_df['state'].iloc[0])\n",
    "\n",
    "# 2.  Give every contiguous block a unique id ---------------------------------\n",
    "segment_id = transition.cumsum()\n",
    "\n",
    "# 3.  Aggregate per block ------------------------------------------------------\n",
    "hypno = (\n",
    "    spd_df\n",
    "    .assign(segment=segment_id)               # add the id just created\n",
    "    .groupby('segment')\n",
    "    .agg(\n",
    "        start_time = ('datetime', 'first'),       # <-- replace 'time' with spd_df.index if needed\n",
    "        end_time   = ('datetime', 'last'),\n",
    "        state      = ('state', 'first')\n",
    "    )\n",
    "    .reset_index(drop=True)\n",
    ")\n",
    "\n",
    "# 4.  Compute duration ---------------------------------------------------------\n",
    "hypno['duration'] = hypno['end_time'] - hypno['start_time']\n",
    "\n",
    "# 5.  Optional: reorder columns / inspect --------------------------------------\n",
    "hypno = hypno[['start_time', 'end_time', 'state', 'duration']]\n",
    "\n",
    "\n",
    "ls = acr.hypnogram_utils.get_light_schedule(h)\n",
    "f, ax = plt.subplots(figsize=(24, 8))\n",
    "ax = sns.lineplot(data=spd, x='datetime', y='speed_robust_z', ax=ax)\n",
    "ax.set_xlim(spd['datetime'].min(), spd['datetime'].max())\n",
    "fig_name = f'{acr.utils.PAPER_FIGURE_ROOT}/nor_behavior/speed_robustZ_{fkey}'\n",
    "f.savefig(f'{fig_name}.png', transparent=True, dpi=600, bbox_inches='tight')\n",
    "\n",
    "\n",
    "#Plot the real hypnogram\n",
    "f, ax = plt.subplots(figsize=(24, 8))\n",
    "#ax = sns.lineplot(data=spd, x='datetime', y='speed_robust_z', ax=ax)\n",
    "h.loc[h['state'].isin(ss), 'state'] = 'NREM'\n",
    "ax.set_xlim(spd['datetime'].min(), spd['datetime'].max())\n",
    "ax = kde.plot.main.shade_hypno_for_me(h, ax, alpha=0.25)\n",
    "ax = kde.plot.main.add_light_schedule(ls, ax)\n",
    "fig_name = f'{acr.utils.PAPER_FIGURE_ROOT}/nor_behavior/hypnogram_{fkey}__REAL'\n",
    "f.savefig(f'{fig_name}.png', transparent=True, dpi=600, bbox_inches='tight')\n",
    "\n",
    "# Plot the hypnogram from the model\n",
    "f, ax = plt.subplots(figsize=(24, 8))\n",
    "#ax = sns.lineplot(data=spd, x='datetime', y='speed_robust_z', ax=ax)\n",
    "ax.set_xlim(spd['datetime'].min(), spd['datetime'].max())\n",
    "ax = kde.plot.main.shade_hypno_for_me(hypno, ax, alpha=0.3)\n",
    "ax = kde.plot.main.add_light_schedule(ls, ax)\n",
    "fig_name = f'{acr.utils.PAPER_FIGURE_ROOT}/nor_behavior/hypnogram_{fkey}__ACTIGRAPHY'\n",
    "f.savefig(f'{fig_name}.png', transparent=True, dpi=600, bbox_inches='tight')"
   ]
  }
 ],
 "metadata": {
  "kernelspec": {
   "display_name": "offdet",
   "language": "python",
   "name": "python3"
  },
  "language_info": {
   "codemirror_mode": {
    "name": "ipython",
    "version": 3
   },
   "file_extension": ".py",
   "mimetype": "text/x-python",
   "name": "python",
   "nbconvert_exporter": "python",
   "pygments_lexer": "ipython3",
   "version": "3.10.14"
  }
 },
 "nbformat": 4,
 "nbformat_minor": 2
}
