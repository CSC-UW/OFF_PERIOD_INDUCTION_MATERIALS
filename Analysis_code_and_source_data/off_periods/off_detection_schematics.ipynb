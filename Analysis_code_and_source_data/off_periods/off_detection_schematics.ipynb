{
 "cells": [
  {
   "cell_type": "code",
   "execution_count": null,
   "id": "9322d359",
   "metadata": {},
   "outputs": [],
   "source": [
    "#-------------------------- Standard Imports --------------------------#\n",
    "%reload_ext autoreload\n",
    "%autoreload 2\n",
    "import kdephys as kde\n",
    "import pandas as pd\n",
    "import polars as pl\n",
    "import matplotlib.pyplot as plt\n",
    "import seaborn as sns\n",
    "import numpy as np\n",
    "import acr\n",
    "import xarray as xr\n",
    "from scipy import stats\n",
    "# ---------------------------- EXTRAS --------------------------------#\n",
    "from kdephys.plot.main import _title, bp_plot\n",
    "import kdephys.utils.spectral as sp\n",
    "bands = sp.bands\n",
    "\n",
    "import warnings\n",
    "warnings.filterwarnings('ignore')\n",
    "import matplotlib as mpl\n",
    "from acr.utils import *\n",
    "pu = acr.utils.import_publication_functions('/home/kdriessen/gh_master/PUBLICATION__ACR/pub_utils.py', 'pu')\n",
    "dag = acr.utils.import_publication_functions('/home/kdriessen/gh_master/PUBLICATION__ACR/data_agg.py', 'dag')"
   ]
  },
  {
   "cell_type": "code",
   "execution_count": null,
   "id": "37887ebf",
   "metadata": {},
   "outputs": [],
   "source": [
    "nbroot = f'{acr.utils.PAPER_FIGURE_ROOT}/OFF_PERIODS'"
   ]
  },
  {
   "cell_type": "code",
   "execution_count": null,
   "id": "dc7b0dc3",
   "metadata": {},
   "outputs": [],
   "source": [
    "subject = 'ACR_30'\n",
    "exp = 'swi2'\n",
    "sd_true_start, stim_start, stim_end, reb_start, full_exp_start = acr.info_pipeline.get_sd_exp_landmarks(subject, exp, update=True)\n",
    "mua = acr.mua.load_concat_peaks_df(subject, exp)\n",
    "mua = mua.sort('datetime')"
   ]
  },
  {
   "cell_type": "code",
   "execution_count": null,
   "id": "33a495a3",
   "metadata": {},
   "outputs": [],
   "source": [
    "hd = acr.hypnogram_utils.create_acr_hyp_dict(subject, exp)\n",
    "h = acr.io.load_hypno_full_exp(subject, exp)"
   ]
  },
  {
   "cell_type": "code",
   "execution_count": null,
   "id": "0fd0e986",
   "metadata": {},
   "outputs": [],
   "source": [
    "recs = acr.info_pipeline.get_exp_recs(subject, exp)\n",
    "wp = dag.load_base_oodf(subject, exp, dftype='whole-probe')\n",
    "lfp = acr.io.load_concat_raw_data(subject, recs)"
   ]
  },
  {
   "cell_type": "code",
   "execution_count": null,
   "id": "e372d018",
   "metadata": {},
   "outputs": [],
   "source": [
    "sc = dag.load_base_oodf(subject, exp, 'single-chan')\n",
    "sc = acr.onoffmua.true_strictify_oodf(sc, min_on=0.03)"
   ]
  },
  {
   "cell_type": "code",
   "execution_count": null,
   "id": "48778b10",
   "metadata": {},
   "outputs": [],
   "source": [
    "oodf = dag.compute_hybrid_off_df(subject, exp)"
   ]
  },
  {
   "cell_type": "code",
   "execution_count": null,
   "id": "f96f88b5",
   "metadata": {},
   "outputs": [],
   "source": []
  },
  {
   "cell_type": "code",
   "execution_count": null,
   "id": "78e7ce1e",
   "metadata": {},
   "outputs": [],
   "source": [
    "probe = 'NNXr'\n",
    "nnxr = lfp.prb(probe)\n",
    "nxmua = mua.prb(probe)\n",
    "hypno = hd['rebound']\n",
    "for bnum, bout in enumerate(hypno.iloc[0:6].itertuples()):\n",
    "    dur = bout.duration.total_seconds()\n",
    "    for i in np.arange(0, 9, 4):\n",
    "        t1 = bout.start_time + pd.Timedelta(i, unit='s')\n",
    "        t2 = t1 + pd.Timedelta(4, unit='s')\n",
    "        lfp2p = nnxr.ts(t1, t2)\n",
    "        mua2p = nxmua.ts(t1, t2)\n",
    "        f, axs = kde.plot.main.plot_lfp_mua_combined(lfp2p.data.T, mua2p, lfp2p.datetime.values, mua_height_multiplier=0.4, figsize=(36, 12), lfp_subplot_hspace=-0.5, rsz=70)\n",
    "        oodf2p = oodf.prb(probe).oots(t1, t2).offs()\n",
    "        sc2p = sc.prb(probe).oots(t1, t2).offs()\n",
    "        muax = kde.plot.main.shade_oodf_single_chan(axs[16], sc2p, alpha=0.7, span=0.45)\n",
    "        axs = kde.plot.main.shade_oodf(axs[16], oodf2p, off_color='cyan', alpha=0.0, single_ax=True)\n",
    "        print(bnum, i)\n",
    "        plt.show()\n",
    "        plt.close()"
   ]
  },
  {
   "cell_type": "code",
   "execution_count": null,
   "id": "d9fd5de6",
   "metadata": {},
   "outputs": [],
   "source": [
    "probe = 'NNXr'\n",
    "nnxr = lfp.prb(probe)\n",
    "nxmua = mua.prb(probe)\n",
    "hypno = hd['rebound']\n",
    "for bnum, bout in enumerate(hypno.iloc[0:1].itertuples()):\n",
    "    dur = bout.duration.total_seconds()\n",
    "    for i in np.arange(4, 8, 4):\n",
    "        t1 = bout.start_time + pd.Timedelta(i, unit='s')\n",
    "        t2 = t1 + pd.Timedelta(4, unit='s')\n",
    "        lfp2p = nnxr.ts(t1, t2)\n",
    "        mua2p = nxmua.ts(t1, t2)\n",
    "        f, axs = kde.plot.main.plot_lfp_mua_combined(lfp2p.data.T, mua2p, lfp2p.datetime.values, mua_height_multiplier=0.3, figsize=(36, 12), lfp_subplot_hspace=-0.6, rsz=70, lfp_color='black', mua_color='black', lw=2.5)\n",
    "        oodf2p = oodf.prb(probe).oots(t1, t2).offs()\n",
    "        sc2p = sc.prb(probe).oots(t1, t2).offs()\n",
    "        muax = kde.plot.main.shade_oodf_single_chan(axs[16], sc2p, alpha=0.7, span=0.45)\n",
    "        axs = kde.plot.main.shade_oodf(axs[16], oodf2p, off_color='cyan', alpha=0.0, single_ax=True, lw=5)\n",
    "        muax.set_xticks([])\n",
    "        muax.set_xticklabels([])\n",
    "        muax.set_xlabel('')\n",
    "        muax.set_ylabel('')\n",
    "        print(bnum, i)\n",
    "        plt.savefig(f'{nbroot}/off_detection_schematic.png', dpi=600, bbox_inches='tight', transparent=True, facecolor='none')"
   ]
  },
  {
   "cell_type": "code",
   "execution_count": null,
   "id": "90b0e33a",
   "metadata": {},
   "outputs": [],
   "source": [
    "axs[7].vlines?"
   ]
  },
  {
   "cell_type": "code",
   "execution_count": null,
   "id": "6022834f",
   "metadata": {},
   "outputs": [],
   "source": [
    "probe = 'NNXr'\n",
    "nnxr = lfp.prb(probe)\n",
    "nxmua = mua.prb(probe)\n",
    "hypno = hd['rebound']\n",
    "for bnum, bout in enumerate(hypno.iloc[0:1].itertuples()):\n",
    "    dur = bout.duration.total_seconds()\n",
    "    for i in np.arange(4, 8, 4):\n",
    "        t1 = bout.start_time + pd.Timedelta(i, unit='s')\n",
    "        t2 = t1 + pd.Timedelta(4, unit='s')\n",
    "        lfp2p = nnxr.ts(t1, t2)\n",
    "        mua2p = nxmua.ts(t1, t2)\n",
    "        f, axs = kde.plot.main.plot_lfp_mua_combined(lfp2p.data.T, mua2p, lfp2p.datetime.values, mua_height_multiplier=0.3, figsize=(36, 12), lfp_subplot_hspace=-0.6, rsz=70, lfp_color='black', mua_color='black', lw=2.5)\n",
    "        oodf2p = oodf.prb(probe).oots(t1, t2).offs()\n",
    "        sc2p = sc.prb(probe).oots(t1, t2).offs()\n",
    "        mmx = kde.plot.main.shade_oodf_single_chan(axs[16], sc2p, alpha=0.7, span=0.45)\n",
    "        mmx = kde.plot.main.shade_oodf(mmx, oodf2p, off_color='cyan', alpha=0.0, single_ax=True, lw=5)\n",
    "        muax = mmx[0]\n",
    "        muax.set_xticks([])\n",
    "        muax.set_xticklabels([])\n",
    "        muax.set_xlabel('')\n",
    "        muax.set_ylabel('')\n",
    "        print(bnum, i)\n",
    "        axs[7].vlines(t1+pd.Timedelta('2s'), -500, 500, color='red', linewidth=3)\n",
    "        plt.savefig(f'{nbroot}/off_detection_schematic--labelled-1mv.png', dpi=600, bbox_inches='tight', transparent=True, facecolor='none')"
   ]
  },
  {
   "cell_type": "code",
   "execution_count": null,
   "id": "4713fc31",
   "metadata": {},
   "outputs": [],
   "source": []
  }
 ],
 "metadata": {
  "kernelspec": {
   "display_name": "off_ind",
   "language": "python",
   "name": "python3"
  },
  "language_info": {
   "codemirror_mode": {
    "name": "ipython",
    "version": 3
   },
   "file_extension": ".py",
   "mimetype": "text/x-python",
   "name": "python",
   "nbconvert_exporter": "python",
   "pygments_lexer": "ipython3",
   "version": "3.12.10"
  }
 },
 "nbformat": 4,
 "nbformat_minor": 5
}
