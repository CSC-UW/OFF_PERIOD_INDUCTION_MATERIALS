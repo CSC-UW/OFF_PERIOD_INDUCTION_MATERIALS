{
 "cells": [
  {
   "cell_type": "code",
   "execution_count": null,
   "id": "4bdc7dae",
   "metadata": {},
   "outputs": [],
   "source": [
    "mua = acr.mua.load_concat_peaks_df(subject, exp)\n",
    "mua = mua.sort('datetime')\n",
    "lfp = acr.io.load_concat_raw_data(subject, ['swi-bl', 'swi'])"
   ]
  },
  {
   "cell_type": "code",
   "execution_count": null,
   "id": "9322d359",
   "metadata": {},
   "outputs": [],
   "source": [
    "#-------------------------- Standard Imports --------------------------#\n",
    "%reload_ext autoreload\n",
    "%autoreload 2\n",
    "import kdephys as kde\n",
    "import pandas as pd\n",
    "import polars as pl\n",
    "import matplotlib.pyplot as plt\n",
    "import seaborn as sns\n",
    "import numpy as np\n",
    "import acr\n",
    "import xarray as xr\n",
    "from scipy import stats\n",
    "# ---------------------------- EXTRAS --------------------------------#\n",
    "from kdephys.plot.main import _title, bp_plot\n",
    "import kdephys.utils.spectral as sp\n",
    "bands = sp.bands\n",
    "\n",
    "import warnings\n",
    "warnings.filterwarnings('ignore')\n",
    "import matplotlib as mpl\n",
    "from acr.utils import *\n",
    "pu = acr.utils.import_publication_functions('/home/kdriessen/gh_master/PUBLICATION__ACR/pub_utils.py', 'pu')\n",
    "dag = acr.utils.import_publication_functions('/home/kdriessen/gh_master/PUBLICATION__ACR/data_agg.py', 'dag')"
   ]
  },
  {
   "cell_type": "code",
   "execution_count": null,
   "id": "6172bdfd",
   "metadata": {},
   "outputs": [],
   "source": [
    "subject = 'ACR_25'\n",
    "exp = 'swi'"
   ]
  },
  {
   "cell_type": "code",
   "execution_count": null,
   "id": "b43a46e7",
   "metadata": {},
   "outputs": [],
   "source": [
    "mua = acr.mua.load_concat_peaks_df(subject, exp)"
   ]
  },
  {
   "cell_type": "code",
   "execution_count": null,
   "id": "336a5061",
   "metadata": {},
   "outputs": [],
   "source": [
    "pon, poff = acr.stim.get_individual_pulse_times(subject, exp)"
   ]
  },
  {
   "cell_type": "code",
   "execution_count": null,
   "id": "9a82a194",
   "metadata": {},
   "outputs": [],
   "source": [
    "emg = acr.io.load_concat_raw_data(subject, ['swi-bl', 'swi'], stores=['EMGr'])\n",
    "fp = acr.io.load_concat_raw_data(subject, ['swi-bl', 'swi'])"
   ]
  },
  {
   "cell_type": "code",
   "execution_count": null,
   "id": "e4bcb8e4",
   "metadata": {},
   "outputs": [],
   "source": [
    "sd_true_start, stim_start, stim_end, reb_start, full_exp_start = acr.info_pipeline.get_sd_exp_landmarks(subject, exp, update=True)\n",
    "h = acr.io.load_hypno_full_exp(subject, exp)\n",
    "hd = acr.hypnogram_utils.create_acr_hyp_dict(subject, exp)"
   ]
  },
  {
   "cell_type": "code",
   "execution_count": null,
   "id": "904cc151",
   "metadata": {},
   "outputs": [],
   "source": [
    "oodf = dag.compute_hybrid_off_df(subject, exp, chan_threshold=12)\n",
    "oodf = acr.oo_utils.enhance_oodf(oodf, h, hd)"
   ]
  },
  {
   "cell_type": "code",
   "execution_count": null,
   "id": "cff5cb5c",
   "metadata": {},
   "outputs": [],
   "source": [
    "plt.rcdefaults()\n",
    "acr.plots.lrg()\n",
    "for pulse in np.arange(2500, 2720, 15):\n",
    "    t1 = pon[pulse]\n",
    "    t2 = t1 + pd.Timedelta(seconds=5)\n",
    "    # plot the optrode:\n",
    "    lfp_dat = fp.sel(datetime=slice(t1, t2)).prb('NNXo').data.T\n",
    "    lfp_times = fp.sel(datetime=slice(t1, t2)).prb('NNXo').datetime.values\n",
    "    mua_dat = mua.ts(t1, t2).prb('NNXo')\n",
    "    f, ax = kde.plot.main.plot_lfp_mua_combined(lfp_dat, mua_dat, lfp_times)\n",
    "    \n",
    "    for p in pon[pulse:pulse+15]:\n",
    "        for a in ax:\n",
    "            a.axvspan(p, p+pd.Timedelta('100ms'), color='red', alpha=0.2)\n",
    "    \n",
    "    ax = kde.plot.main.shade_oodf(ax, oodf.prb('NNXo').oots(t1, t2))\n",
    "    f.suptitle(f'Pulse {pulse}')"
   ]
  },
  {
   "cell_type": "code",
   "execution_count": null,
   "id": "da0ac826",
   "metadata": {},
   "outputs": [],
   "source": [
    "for pulse in [2524]:\n",
    "    t1 = pon[pulse]\n",
    "    t2 = t1 + pd.Timedelta(seconds=5)\n",
    "    # plot the optrode:\n",
    "    lfp_dat = fp.sel(datetime=slice(t1, t2)).prb('NNXo').data.T\n",
    "    lfp_times = fp.sel(datetime=slice(t1, t2)).prb('NNXo').datetime.values\n",
    "    mua_dat = mua.ts(t1, t2).prb('NNXo')\n",
    "    f, ax = kde.plot.main.plot_lfp_mua_combined(lfp_dat, mua_dat, lfp_times)\n",
    "    \n",
    "    for p in pon[pulse:pulse+15]:\n",
    "        for i, a in enumerate(ax):\n",
    "            a.axvspan(p, p+pd.Timedelta('100ms'), color='red', alpha=0.2)\n",
    "            if i != 16:\n",
    "                a.set_ylim(-795, 785)\n",
    "    ax = kde.plot.main.shade_oodf(ax, oodf.prb('NNXo').oots(t1, t2))\n",
    "\n",
    "    f.suptitle(f'Pulse {pulse}')\n",
    "    fmg, axmg = plt.subplots(1, 1, figsize=(36, 4))\n",
    "    axmg.plot(emg.prb('EMGr').sel(datetime=slice(t1, t2)).ch(1).datetime, emg.prb('EMGr').sel(datetime=slice(t1, t2)).ch(1).data)"
   ]
  },
  {
   "cell_type": "code",
   "execution_count": null,
   "id": "7a4abb01",
   "metadata": {},
   "outputs": [],
   "source": [
    "[pd.Timestamp(lfp_times.min()) + pd.Timedelta(seconds=i) for i in range(5)]"
   ]
  },
  {
   "cell_type": "code",
   "execution_count": null,
   "id": "f90f01a1",
   "metadata": {},
   "outputs": [],
   "source": [
    "kde.plot.main.plot_lfp_mua_combined?"
   ]
  },
  {
   "cell_type": "code",
   "execution_count": null,
   "id": "ab365712",
   "metadata": {},
   "outputs": [],
   "source": [
    "pulse_to_start = 2524\n",
    "FSIZE = (10, 8)\n",
    "mua_height_multiplier = 0.1\n",
    "lw = 3\n",
    "rsz = 50\n",
    "seconds = 2"
   ]
  },
  {
   "cell_type": "code",
   "execution_count": null,
   "id": "aa7311d6",
   "metadata": {},
   "outputs": [],
   "source": [
    "fig_name = 'ACR_25__swi__OFF_INDUCTION_SCHEMATIC--NNXo-BASE.png'\n",
    "plt.rcdefaults()\n",
    "acr.plots.lrg()\n",
    "plt.rcParams['xtick.bottom'] = True\n",
    "plt.rcParams['xtick.major.size'] = 14\n",
    "for pulse in [pulse_to_start]:\n",
    "    t1 = pon[pulse] - pd.Timedelta('60ms')\n",
    "    t2 = t1 + pd.Timedelta(seconds=seconds)\n",
    "    # plot the optrode:\n",
    "    lfp_dat = fp.sel(datetime=slice(t1, t2)).prb('NNXo').data.T\n",
    "    lfp_times = fp.sel(datetime=slice(t1, t2)).prb('NNXo').datetime.values\n",
    "    mua_dat = mua.ts(t1, t2).prb('NNXo')\n",
    "    f, ax = kde.plot.main.plot_lfp_mua_combined(lfp_dat, mua_dat, lfp_times, lfp_subplot_hspace=-0.6, lfp_color=SOM_BLUE, mua_color=SOM_BLUE, figsize=FSIZE, mua_height_multiplier=mua_height_multiplier, lw=lw, rsz=rsz)\n",
    "    xticks = [pd.Timestamp(lfp_times.min()) + pd.Timedelta(seconds=i) for i in range(seconds+1)]\n",
    "    ax[16].set_xticklabels([])\n",
    "    ax[16].set_xticks(xticks)\n",
    "    for i, a in enumerate(ax):\n",
    "        if i != 16:\n",
    "            a.set_ylim(-795, 785)\n",
    "f.savefig(f'{PAPER_FIGURE_ROOT}/OFF_PERIODS/SCHEMATICS/{fig_name}', dpi=600, transparent=True, bbox_inches='tight')"
   ]
  },
  {
   "cell_type": "code",
   "execution_count": null,
   "id": "bbddd1b9",
   "metadata": {},
   "outputs": [],
   "source": [
    "fig_name = 'ACR_25__swi__OFF_INDUCTION_SCHEMATIC--NNXo-BASE-1000uv.png'\n",
    "plt.rcdefaults()\n",
    "acr.plots.lrg()\n",
    "plt.rcParams['xtick.bottom'] = True\n",
    "plt.rcParams['xtick.major.size'] = 14\n",
    "for pulse in [pulse_to_start]:\n",
    "    t1 = pon[pulse] - pd.Timedelta('60ms')\n",
    "    t2 = t1 + pd.Timedelta(seconds=seconds)\n",
    "    # plot the optrode:\n",
    "    lfp_dat = fp.sel(datetime=slice(t1, t2)).prb('NNXo').data.T\n",
    "    lfp_times = fp.sel(datetime=slice(t1, t2)).prb('NNXo').datetime.values\n",
    "    mua_dat = mua.ts(t1, t2).prb('NNXo')\n",
    "    f, ax = kde.plot.main.plot_lfp_mua_combined(lfp_dat, mua_dat, lfp_times, lfp_subplot_hspace=-0.6, lfp_color=SOM_BLUE, mua_color=SOM_BLUE, figsize=FSIZE, mua_height_multiplier=mua_height_multiplier, lw=lw, rsz=rsz)\n",
    "    xticks = [pd.Timestamp(lfp_times.min()) + pd.Timedelta(seconds=i) for i in range(seconds+1)]\n",
    "    ax[16].set_xticklabels([])\n",
    "    ax[16].set_xticks(xticks)\n",
    "    for p in pon[pulse:pulse+12]:\n",
    "        for i, a in enumerate(ax):\n",
    "            if i != 16:\n",
    "                a.set_ylim(-795, 785)\n",
    "# add vrect to ax[8]\n",
    "ax[8].vlines(xticks[1], -500, 500, color='green', alpha=0.8, linewidth=8)\n",
    "f.savefig(f'{PAPER_FIGURE_ROOT}/OFF_PERIODS/SCHEMATICS/{fig_name}', dpi=600, transparent=True, bbox_inches='tight')"
   ]
  },
  {
   "cell_type": "code",
   "execution_count": null,
   "id": "debd3542",
   "metadata": {},
   "outputs": [],
   "source": [
    "fig_name = 'ACR_25__swi__OFF_INDUCTION_SCHEMATIC--NNXo-STIM_OVERLAYED.png'\n",
    "plt.rcdefaults()\n",
    "acr.plots.lrg()\n",
    "plt.rcParams['xtick.bottom'] = True\n",
    "plt.rcParams['xtick.major.size'] = 14\n",
    "for pulse in [pulse_to_start]:\n",
    "    t1 = pon[pulse] - pd.Timedelta('60ms')\n",
    "    t2 = t1 + pd.Timedelta(seconds=seconds)\n",
    "    # plot the optrode:\n",
    "    lfp_dat = fp.sel(datetime=slice(t1, t2)).prb('NNXo').data.T\n",
    "    lfp_times = fp.sel(datetime=slice(t1, t2)).prb('NNXo').datetime.values\n",
    "    mua_dat = mua.ts(t1, t2).prb('NNXo')\n",
    "    f, ax = kde.plot.main.plot_lfp_mua_combined(lfp_dat, mua_dat, lfp_times, lfp_subplot_hspace=-0.6, lfp_color=SOM_BLUE, mua_color=SOM_BLUE, figsize=FSIZE, mua_height_multiplier=mua_height_multiplier, lw=lw, rsz=rsz)\n",
    "    xticks = [pd.Timestamp(lfp_times.min()) + pd.Timedelta(seconds=i) for i in range(seconds+1)]\n",
    "    ax[16].set_xticklabels([])\n",
    "    ax[16].set_xticks(xticks)\n",
    "    for p in pon[pulse:pulse+6]:\n",
    "        for i, a in enumerate(ax):\n",
    "            a.axvspan(p, p+pd.Timedelta('100ms'), color='red', alpha=0.2)\n",
    "            if i != 16:\n",
    "                a.set_ylim(-795, 785)\n",
    "f.savefig(f'{PAPER_FIGURE_ROOT}/OFF_PERIODS/SCHEMATICS/{fig_name}', dpi=600, transparent=True, bbox_inches='tight')"
   ]
  },
  {
   "cell_type": "code",
   "execution_count": null,
   "id": "0257d308",
   "metadata": {},
   "outputs": [],
   "source": [
    "fig_name = 'ACR_25__swi__OFF_INDUCTION_SCHEMATIC--NNXo-OFF_OVERLAYED.png'\n",
    "plt.rcdefaults()\n",
    "acr.plots.lrg()\n",
    "plt.rcParams['xtick.bottom'] = True\n",
    "plt.rcParams['xtick.major.size'] = 14\n",
    "for pulse in [pulse_to_start]:\n",
    "    t1 = pon[pulse] - pd.Timedelta('60ms')\n",
    "    t2 = t1 + pd.Timedelta(seconds=seconds)\n",
    "    # plot the optrode:\n",
    "    lfp_dat = fp.sel(datetime=slice(t1, t2)).prb('NNXo').data.T\n",
    "    lfp_times = fp.sel(datetime=slice(t1, t2)).prb('NNXo').datetime.values\n",
    "    mua_dat = mua.ts(t1, t2).prb('NNXo')\n",
    "    f, ax = kde.plot.main.plot_lfp_mua_combined(lfp_dat, mua_dat, lfp_times, lfp_subplot_hspace=-0.6, lfp_color=SOM_BLUE, mua_color=SOM_BLUE, figsize=FSIZE, mua_height_multiplier=mua_height_multiplier, lw=lw, rsz=rsz)\n",
    "    xticks = [pd.Timestamp(lfp_times.min()) + pd.Timedelta(seconds=i) for i in range(seconds+1)]\n",
    "    ax[16].set_xticklabels([])\n",
    "    ax[16].set_xticks(xticks)\n",
    "    for p in pon[pulse:pulse+6]:\n",
    "        for i, a in enumerate(ax):\n",
    "            if i != 16:\n",
    "                a.set_ylim(-795, 785)\n",
    "    ax = kde.plot.main.shade_oodf([ax[16]], oodf.prb('NNXo').oots(t1, t2), off_color='red', alpha=0.3)\n",
    "\n",
    "f.savefig(f'{PAPER_FIGURE_ROOT}/OFF_PERIODS/SCHEMATICS/{fig_name}', dpi=600, transparent=True, bbox_inches='tight')"
   ]
  },
  {
   "cell_type": "code",
   "execution_count": null,
   "id": "20b48960",
   "metadata": {},
   "outputs": [],
   "source": [
    "fig_name = 'ACR_25__swi__OFF_INDUCTION_SCHEMATIC--EMG.png'\n",
    "plt.rcdefaults()\n",
    "acr.plots.lrg()\n",
    "plt.rcParams['xtick.bottom'] = True\n",
    "plt.rcParams['xtick.major.size'] = 14\n",
    "plt.rcParams['axes.spines.left'] = False\n",
    "plt.rcParams['axes.spines.right'] = False\n",
    "plt.rcParams['ytick.left'] = False\n",
    "for pulse in [pulse_to_start]:\n",
    "    t1 = pon[pulse] - pd.Timedelta('60ms')\n",
    "    t2 = t1 + pd.Timedelta(seconds=seconds)\n",
    "    fmg, axmg = plt.subplots(1, 1, figsize=(18, 1.5))\n",
    "    axmg.plot(emg.prb('EMGr').sel(datetime=slice(t1, t2)).ch(1).datetime, emg.prb('EMGr').sel(datetime=slice(t1, t2)).ch(1).data, color=EMG_SLATE, linewidth=6)\n",
    "    axmg.set_xlim(t1, t2)\n",
    "    axmg.set_xticks(xticks)\n",
    "\n",
    "fmg.savefig(f'{PAPER_FIGURE_ROOT}/OFF_PERIODS/SCHEMATICS/{fig_name}', dpi=600, transparent=True, bbox_inches='tight')\n",
    "axmg.get_ylim()"
   ]
  },
  {
   "cell_type": "code",
   "execution_count": null,
   "id": "dcd05673",
   "metadata": {},
   "outputs": [],
   "source": [
    "fig_name = 'ACR_25__swi__OFF_INDUCTION_SCHEMATIC--NNXr-BASE.png'\n",
    "plt.rcdefaults()\n",
    "acr.plots.lrg()\n",
    "plt.rcParams['xtick.bottom'] = True\n",
    "plt.rcParams['xtick.major.size'] = 14\n",
    "for pulse in [pulse_to_start]:\n",
    "    t1 = pon[pulse] - pd.Timedelta('60ms')\n",
    "    t2 = t1 + pd.Timedelta(seconds=seconds)\n",
    "    # plot the optrode:\n",
    "    lfp_dat = fp.sel(datetime=slice(t1, t2)).prb('NNXr').data.T\n",
    "    lfp_times = fp.sel(datetime=slice(t1, t2)).prb('NNXr').datetime.values\n",
    "    mua_dat = mua.ts(t1, t2).prb('NNXr')\n",
    "    f, ax = kde.plot.main.plot_lfp_mua_combined(lfp_dat, mua_dat, lfp_times, lfp_subplot_hspace=-0.6, lfp_color=NNXR_GRAY, mua_color=NNXR_GRAY, figsize=FSIZE, mua_height_multiplier=mua_height_multiplier, lw=lw, rsz=rsz)\n",
    "    xticks = [pd.Timestamp(lfp_times.min()) + pd.Timedelta(seconds=i) for i in range(seconds+1)]\n",
    "    ax[16].set_xticklabels([])\n",
    "    ax[16].set_xticks(xticks)\n",
    "    for p in pon[pulse:pulse+6]:\n",
    "        for i, a in enumerate(ax):\n",
    "            if i != 16:\n",
    "                a.set_ylim(-795, 785)\n",
    "f.savefig(f'{PAPER_FIGURE_ROOT}/OFF_PERIODS/SCHEMATICS/{fig_name}', dpi=600, transparent=True, bbox_inches='tight')"
   ]
  }
 ],
 "metadata": {
  "kernelspec": {
   "display_name": "opi",
   "language": "python",
   "name": "python3"
  },
  "language_info": {
   "codemirror_mode": {
    "name": "ipython",
    "version": 3
   },
   "file_extension": ".py",
   "mimetype": "text/x-python",
   "name": "python",
   "nbconvert_exporter": "python",
   "pygments_lexer": "ipython3",
   "version": "3.10.14"
  }
 },
 "nbformat": 4,
 "nbformat_minor": 5
}
