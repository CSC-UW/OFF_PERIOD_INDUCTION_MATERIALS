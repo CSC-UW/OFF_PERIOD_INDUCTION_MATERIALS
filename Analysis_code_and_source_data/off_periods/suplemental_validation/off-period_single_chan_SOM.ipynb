{
 "cells": [
  {
   "cell_type": "code",
   "execution_count": null,
   "id": "3f5c3269",
   "metadata": {},
   "outputs": [],
   "source": [
    "from acr.utils import SOM_BLUE, ACR_BLUE, NNXR_GRAY\n",
    "\n",
    "MAIN_EXP = 'swi'\n",
    "SUBJECT_TYPE = 'som'\n",
    "MAIN_COLOR = SOM_BLUE"
   ]
  },
  {
   "cell_type": "code",
   "execution_count": null,
   "id": "9322d359",
   "metadata": {},
   "outputs": [],
   "source": [
    "#-------------------------- Standard Imports --------------------------#\n",
    "%reload_ext autoreload\n",
    "%autoreload 2\n",
    "import kdephys as kde\n",
    "import pandas as pd\n",
    "import polars as pl\n",
    "import matplotlib.pyplot as plt\n",
    "import seaborn as sns\n",
    "import numpy as np\n",
    "import acr\n",
    "import xarray as xr\n",
    "from scipy import stats\n",
    "import pingouin as pg\n",
    "from scipy.stats import shapiro, normaltest\n",
    "# ---------------------------- EXTRAS --------------------------------#\n",
    "from kdephys.plot.main import _title, bp_plot\n",
    "import kdephys.utils.spectral as sp\n",
    "bands = sp.bands\n",
    "\n",
    "import warnings\n",
    "warnings.filterwarnings('ignore')\n",
    "import matplotlib as mpl\n",
    "from acr.utils import *\n",
    "pu = acr.utils.import_publication_functions('/home/kdriessen/gh_master/PUBLICATION__ACR/pub_utils.py', 'pu')\n",
    "dag = acr.utils.import_publication_functions('/home/kdriessen/gh_master/PUBLICATION__ACR/data_agg.py', 'dag')"
   ]
  },
  {
   "cell_type": "code",
   "execution_count": null,
   "id": "3fbe4dc1",
   "metadata": {},
   "outputs": [],
   "source": [
    "plt.rcdefaults()\n",
    "acr.plots.supl()"
   ]
  },
  {
   "cell_type": "code",
   "execution_count": null,
   "id": "0258dd72",
   "metadata": {},
   "outputs": [],
   "source": [
    "subjects, exps = pu.get_subject_list(type=SUBJECT_TYPE, exp=MAIN_EXP)\n",
    "notebook_figure_root = f'{pu.PAPER_FIGURE_ROOT}/OFF_PERIODS'"
   ]
  },
  {
   "cell_type": "code",
   "execution_count": null,
   "id": "fa77eeaf",
   "metadata": {},
   "outputs": [],
   "source": [
    "full_hyps = {}\n",
    "hyp_dicts = {}\n",
    "for subject, exp in zip(subjects, exps):\n",
    "    full_hyps[subject] = acr.io.load_hypno_full_exp(subject, exp)\n",
    "    hyp_dicts[subject] = acr.hypnogram_utils.create_acr_hyp_dict(subject, exp, true_stim=True)"
   ]
  },
  {
   "cell_type": "code",
   "execution_count": null,
   "id": "d1aa71cb",
   "metadata": {},
   "outputs": [],
   "source": [
    "ooscs = {}\n",
    "for subject, exp in zip(subjects, exps):\n",
    "    oosc = dag.load_base_oodf(subject, exp, dftype='single-chan')\n",
    "    ooscs[subject] = acr.onoffmua.true_strictify_oodf(oosc, min_on=0.03)"
   ]
  },
  {
   "cell_type": "code",
   "execution_count": null,
   "id": "72cbb964",
   "metadata": {},
   "outputs": [],
   "source": [
    "# label\n",
    "for subject in subjects:\n",
    "    print(subject)\n",
    "    oodf = ooscs[subject]\n",
    "    oodf = acr.oo_utils.label_oodf_with_states(oodf, full_hyps[subject])\n",
    "    oodf = acr.oo_utils.label_oodf_full_bl(oodf)\n",
    "    oodf = acr.hypnogram_utils.label_df_with_hypno_conditions(oodf, hyp_dicts[subject], col='end_datetime')\n",
    "    ooscs[subject] = oodf"
   ]
  },
  {
   "cell_type": "code",
   "execution_count": null,
   "id": "42c46134",
   "metadata": {},
   "outputs": [],
   "source": [
    "oosc_onoff = pl.concat(ooscs.values())\n",
    "oosc = oosc_onoff.offs()\n",
    "counts_raw = oosc.group_by(['subject', 'probe', 'channel', 'condition']).agg(pl.col('status').count().alias('count')).sort('subject', 'probe', 'channel', 'condition')"
   ]
  },
  {
   "cell_type": "code",
   "execution_count": null,
   "id": "ad35fdba",
   "metadata": {},
   "outputs": [],
   "source": [
    "dfs = []\n",
    "for subject in subjects:\n",
    "    durs = []\n",
    "    hd = hyp_dicts[subject]\n",
    "    for condition in hd.keys():\n",
    "        duration = hd[condition]['duration'].sum().total_seconds() if condition != 'stim' else hd[condition]['duration'].sum()\n",
    "        durs.append(duration)\n",
    "    dfs.append(pl.DataFrame({'subject': subject, 'condition': list(hd.keys()), 'duration': durs}))\n",
    "durdf = pl.concat(dfs)"
   ]
  },
  {
   "cell_type": "markdown",
   "id": "cfcfb9e1",
   "metadata": {},
   "source": [
    "# Relative"
   ]
  },
  {
   "cell_type": "code",
   "execution_count": null,
   "id": "f24886b3",
   "metadata": {},
   "outputs": [],
   "source": [
    "counts = counts_raw.join(durdf, on=['subject', 'condition'], how='left')\n",
    "counts = counts.with_columns((pl.col('count')/pl.col('duration')).alias('freq'))\n",
    "scd = {\n",
    "    'ACR_25': [13],\n",
    "    'ACR_26': [13], \n",
    "    'ACR_29': [8, 9],\n",
    "    'ACR_30': [11],\n",
    "    'ACR_40': [9, 10],\n",
    "    'ACR_41': [13],\n",
    "    'ACR_44': [8, 9],\n",
    "}\n",
    "scd = {}\n",
    "counts = pu.drop_sub_channels(counts, scd)"
   ]
  },
  {
   "cell_type": "code",
   "execution_count": null,
   "id": "2ef415fe",
   "metadata": {},
   "outputs": [],
   "source": [
    "crel = dag.relativize_df(counts, ref_to_col='condition', ref_to_val='late_sd', avg_method='mean', col_to_relativize='freq', on=['subject', 'probe', 'channel'])\n",
    "crel = acr.info_pipeline.label_df_sub_infra(crel)\n",
    "cstim = crel.cdn('stim').group_by(['subject', 'probe', 'label']).agg(pl.col('freq_rel').mean())"
   ]
  },
  {
   "cell_type": "code",
   "execution_count": null,
   "id": "ab50011e",
   "metadata": {},
   "outputs": [],
   "source": [
    "nnxo_infra = cstim.filter(pl.col('label')=='infragranular').sort(['subject', 'probe']).prb('NNXo')['freq_rel'].to_numpy()\n",
    "nnxr_infra = cstim.filter(pl.col('label')=='infragranular').sort(['subject', 'probe']).prb('NNXr')['freq_rel'].to_numpy()\n",
    "nnxo_sub = cstim.filter(pl.col('label')=='subgranular').sort(['subject', 'probe']).prb('NNXo')['freq_rel'].to_numpy()\n",
    "nnxr_sub = cstim.filter(pl.col('label')=='subgranular').sort(['subject', 'probe']).prb('NNXr')['freq_rel'].to_numpy()\n",
    "infra_rel = nnxo_infra/nnxr_infra\n",
    "sub_rel = nnxo_sub/nnxr_sub\n",
    "nnxo_gran = cstim.filter(pl.col('label')=='granular').sort(['subject', 'probe']).prb('NNXo')['freq_rel'].to_numpy()\n",
    "nnxr_gran = cstim.filter(pl.col('label')=='granular').sort(['subject', 'probe']).prb('NNXr')['freq_rel'].to_numpy()"
   ]
  },
  {
   "cell_type": "code",
   "execution_count": null,
   "id": "0eebdd8f",
   "metadata": {},
   "outputs": [],
   "source": [
    "fig_id = 'off-freq-during-single-chan-SUB_VS_INFRA_optrode-only'\n",
    "fig_name = f'{SUBJECT_TYPE}__{MAIN_EXP}__{fig_id}'\n",
    "fig_path = f'{notebook_figure_root}/{fig_name}.png'\n",
    "\n",
    "f, ax = acr.plots.gen_paired_boxplot(nnxo_infra, nnxo_sub, colors=[MAIN_COLOR, MAIN_COLOR], alphas=[0.9, 0.9])\n",
    "ax.set_xticklabels(['Supragranular', 'Infragranular'])\n",
    "plt.savefig(fig_path, dpi=600, bbox_inches='tight', transparent=True)"
   ]
  },
  {
   "cell_type": "code",
   "execution_count": null,
   "id": "c86f4e57",
   "metadata": {},
   "outputs": [],
   "source": [
    "# =============================\n",
    "# ========== STATS ============\n",
    "# =============================\n",
    "nnxr = nnxo_infra\n",
    "nnxo = nnxo_sub\n",
    "write = True\n",
    "\n",
    "diffs = nnxr - nnxo\n",
    "shap_stat, shap_p = shapiro(diffs) # test the paired differences for normality\n",
    "agostino_stat, agostino_p = normaltest(diffs) # test the paired differences for normality\n",
    "print(f'shapiro_p-value: {shap_p}')\n",
    "print(f'd,agostino_p-value: {agostino_p}')\n",
    "\n",
    "#stats = pg.ttest(nnxr, nnxo, paired=True)\n",
    "stats = pg.wilcoxon(nnxr, nnxo)\n",
    "\n",
    "hg = pg.compute_effsize(nnxr, nnxo, paired=True, eftype='hedges')\n",
    "print(f'hedges g: {hg}')\n",
    "\n",
    "r = acr.stats.calculate_wilx_r(stats['W-val'][0], len(nnxr))\n",
    "\n",
    "\n",
    "if write:\n",
    "    # ==== Write Stats Results ====\n",
    "    stats_name = f'{fig_name}'\n",
    "    #acr.stats.write_stats_result(stats_name, 'paired_ttest', stats['T'][0], stats['p-val'][0], 'g', hg)\n",
    "    acr.stats.write_stats_result(stats_name, 'wilcoxon', stats['W-val'][0], stats['p-val'][0], 'r, RBC', [r, stats['RBC'][0]])\n",
    "    \n",
    "    # ===== Write Source Data =====\n",
    "    source_data = pd.DataFrame({'contra_control': nnxr, 'off_induction': nnxo, 'subject': np.arange(len(nnxr))})\n",
    "    pu.write_source_data(source_data, stats_name)\n",
    "stats"
   ]
  },
  {
   "cell_type": "markdown",
   "id": "0c951d92",
   "metadata": {},
   "source": [
    "# Raw"
   ]
  },
  {
   "cell_type": "code",
   "execution_count": null,
   "id": "5c626330",
   "metadata": {},
   "outputs": [],
   "source": [
    "crel = dag.relativize_df(counts, ref_to_col='condition', ref_to_val='late_sd', avg_method='mean', col_to_relativize='freq', on=['subject', 'probe', 'channel'])\n",
    "crel = acr.info_pipeline.label_df_sub_infra(crel)\n",
    "cstim = crel.cdn('stim').group_by(['subject', 'probe', 'label']).agg(pl.col('freq').mean())"
   ]
  },
  {
   "cell_type": "code",
   "execution_count": null,
   "id": "6534338b",
   "metadata": {},
   "outputs": [],
   "source": [
    "nnxo_infra = cstim.filter(pl.col('label')=='infragranular').sort(['subject', 'probe']).prb('NNXo')['freq'].to_numpy()\n",
    "nnxr_infra = cstim.filter(pl.col('label')=='infragranular').sort(['subject', 'probe']).prb('NNXr')['freq'].to_numpy()\n",
    "nnxo_sub = cstim.filter(pl.col('label')=='subgranular').sort(['subject', 'probe']).prb('NNXo')['freq'].to_numpy()\n",
    "nnxr_sub = cstim.filter(pl.col('label')=='subgranular').sort(['subject', 'probe']).prb('NNXr')['freq'].to_numpy()\n",
    "infra_rel = nnxo_infra/nnxr_infra\n",
    "sub_rel = nnxo_sub/nnxr_sub\n",
    "nnxo_gran = cstim.filter(pl.col('label')=='granular').sort(['subject', 'probe']).prb('NNXo')['freq'].to_numpy()\n",
    "nnxr_gran = cstim.filter(pl.col('label')=='granular').sort(['subject', 'probe']).prb('NNXr')['freq'].to_numpy()"
   ]
  },
  {
   "cell_type": "code",
   "execution_count": null,
   "id": "46b5ecae",
   "metadata": {},
   "outputs": [],
   "source": [
    "fig_id = 'off-freq-during-single-chan-SUB_VS_INFRA_raw-frequency'\n",
    "fig_name = f'{SUBJECT_TYPE}__{MAIN_EXP}__{fig_id}'\n",
    "fig_path = f'{notebook_figure_root}/{fig_name}.png'\n",
    "\n",
    "f, ax = acr.plots.gen_paired_boxplot(nnxo_infra, nnxo_sub, colors=[MAIN_COLOR, MAIN_COLOR], alphas=[0.9, 0.9])\n",
    "ax.set_xticklabels(['Supragranular', 'Infragranular'])\n",
    "\n",
    "plt.savefig(fig_path, dpi=600, bbox_inches='tight', transparent=True)\n"
   ]
  },
  {
   "cell_type": "code",
   "execution_count": null,
   "id": "81588643",
   "metadata": {},
   "outputs": [],
   "source": [
    "# =============================\n",
    "# ========== STATS ============\n",
    "# =============================\n",
    "nnxr = nnxo_infra\n",
    "nnxo = nnxo_sub\n",
    "write = True\n",
    "\n",
    "diffs = nnxr - nnxo\n",
    "shap_stat, shap_p = shapiro(diffs) # test the paired differences for normality\n",
    "agostino_stat, agostino_p = normaltest(diffs) # test the paired differences for normality\n",
    "print(f'shapiro_p-value: {shap_p}')\n",
    "print(f'd,agostino_p-value: {agostino_p}')\n",
    "\n",
    "stats = pg.ttest(nnxr, nnxo, paired=True)\n",
    "#stats = pg.wilcoxon(nnxr, nnxo)\n",
    "\n",
    "hg = pg.compute_effsize(nnxr, nnxo, paired=True, eftype='hedges')\n",
    "print(f'hedges g: {hg}')\n",
    "\n",
    "#r = acr.stats.calculate_wilx_r(stats['W-val'][0], len(nnxr))\n",
    "\n",
    "\n",
    "if write:\n",
    "    # ==== Write Stats Results ====\n",
    "    stats_name = f'{fig_name}'\n",
    "    acr.stats.write_stats_result(stats_name, 'paired_ttest', stats['T'][0], stats['p-val'][0], 'g', hg)\n",
    "    #acr.stats.write_stats_result(stats_name, 'wilcoxon', stats['W-val'][0], stats['p-val'][0], 'r, RBC', [r, stats['RBC'][0]])\n",
    "    \n",
    "    # ===== Write Source Data =====\n",
    "    source_data = pd.DataFrame({'contra_control': nnxr, 'off_induction': nnxo, 'subject': np.arange(len(nnxr))})\n",
    "    pu.write_source_data(source_data, stats_name)\n",
    "stats"
   ]
  },
  {
   "cell_type": "markdown",
   "id": "915c3adb",
   "metadata": {},
   "source": [
    "# ALL CHANS"
   ]
  },
  {
   "cell_type": "code",
   "execution_count": null,
   "id": "ceaa4235",
   "metadata": {},
   "outputs": [],
   "source": [
    "for subject in subjects:\n",
    "    f, ax = plt.subplots(1, 1, figsize=(16, 6))\n",
    "    sns.barplot(data=crel.filter(pl.col('subject')==subject).cdn('stim'), x='channel', y='freq_rel', hue='probe', hue_order=['NNXr', 'NNXo'], palette=[NNXR_GRAY, MAIN_COLOR], ax=ax)\n",
    "    ax.set_title(f'{subject} OFF Frequency')\n",
    "    plt.show()"
   ]
  }
 ],
 "metadata": {
  "kernelspec": {
   "display_name": "off_ind",
   "language": "python",
   "name": "python3"
  },
  "language_info": {
   "codemirror_mode": {
    "name": "ipython",
    "version": 3
   },
   "file_extension": ".py",
   "mimetype": "text/x-python",
   "name": "python",
   "nbconvert_exporter": "python",
   "pygments_lexer": "ipython3",
   "version": "3.12.10"
  }
 },
 "nbformat": 4,
 "nbformat_minor": 5
}
