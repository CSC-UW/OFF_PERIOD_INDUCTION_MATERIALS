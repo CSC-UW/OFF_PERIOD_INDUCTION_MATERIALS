{
 "cells": [
  {
   "cell_type": "code",
   "execution_count": null,
   "metadata": {},
   "outputs": [],
   "source": [
    "#-------------------------- Standard Imports --------------------------#\n",
    "import kdephys as kde\n",
    "import pandas as pd\n",
    "import polars as pl\n",
    "import matplotlib.pyplot as plt\n",
    "import seaborn as sns\n",
    "import numpy as np\n",
    "import acr\n",
    "from acr.plots import pub, lrg\n",
    "from acr.utils import NNXR_GRAY, SOM_BLUE\n",
    "lrg()\n",
    "plt.style.use('fast')\n",
    "from scipy import stats\n",
    "# ---------------------------- EXTRAS --------------------------------#\n",
    "from kdephys.plot.main import _title, bp_plot\n",
    "import kdephys.utils.spectral as sp\n",
    "bands = sp.bands\n",
    "import matplotlib.animation as animation\n",
    "from matplotlib.collections import PathCollection\n",
    "from IPython.display import HTML\n",
    "import pickle\n",
    "\n",
    "import warnings\n",
    "warnings.filterwarnings('ignore')\n",
    "def _plt_style():\n",
    "    plt.style.use('fast')\n",
    "    plt.style.use('/home/kdriessen/gh_master/kdephys/kdephys/plot/acr_plots.mplstyle')\n",
    "    return\n"
   ]
  },
  {
   "cell_type": "code",
   "execution_count": null,
   "metadata": {},
   "outputs": [],
   "source": [
    "subject = 'ACR_25'\n",
    "exp = 'swi'\n",
    "start_time = 16890\n",
    "duration = '7s'\n",
    "probe_to_animate = 'NNXo'\n",
    "#---------------- Adjust Parameters Here -----------------# \n",
    "stores = ['NNXo', 'NNXr']\n",
    "rel_state='NREM'\n",
    "#---------------------------------------------------------#\n"
   ]
  },
  {
   "cell_type": "code",
   "execution_count": null,
   "metadata": {},
   "outputs": [],
   "source": [
    "# ----------------------------------------- subject_info + Hypno -----------------------------------------\n",
    "h = acr.io.load_hypno_full_exp(subject, exp)\n",
    "hd = acr.hypnogram_utils.create_acr_hyp_dict(subject, exp)\n",
    "si = acr.info_pipeline.load_subject_info(subject)\n",
    "sort_ids = [f'{exp}-{store}' for store in stores]\n",
    "recordings = acr.info_pipeline.get_exp_recs(subject, exp)\n",
    "stim_store = si['stim-exps'][exp][0]\n",
    "\n",
    "sd_true_start, stim_start, stim_end, rebound_start, full_exp_start = acr.info_pipeline.get_sd_exp_landmarks(subject, exp, update=True)\n",
    "\n",
    "\n",
    "mua = acr.mua.load_concat_peaks_df(subject, exp)\n",
    "fp = acr.io.load_concat_raw_data(subject, recordings)\n",
    "pon, poff = acr.stim.get_individual_pulse_times(subject, exp)\n",
    "st = acr.utils.dt_from_tdt(subject, exp, start_time)"
   ]
  },
  {
   "cell_type": "code",
   "execution_count": null,
   "metadata": {},
   "outputs": [],
   "source": [
    "emg = acr.io.load_concat_raw_data(subject, recordings, stores=['EMGr'])"
   ]
  },
  {
   "cell_type": "code",
   "execution_count": null,
   "metadata": {},
   "outputs": [],
   "source": [
    "bp = acr.io.load_concat_bandpower(subject, recordings, stores)"
   ]
  },
  {
   "cell_type": "code",
   "execution_count": null,
   "metadata": {},
   "outputs": [],
   "source": [
    "bpdf = bp['delta'].to_dataframe().reset_index()\n",
    "bpdf = pl.from_pandas(bpdf)"
   ]
  },
  {
   "cell_type": "code",
   "execution_count": null,
   "metadata": {},
   "outputs": [],
   "source": [
    "delta_10s = bpdf.group_by_dynamic('datetime', every='10s', group_by=['store', 'channel']).agg(pl.col('delta').mean())\n",
    "delta_10s = acr.hypnogram_utils.label_df_with_hypno_conditions(delta_10s, hd)"
   ]
  },
  {
   "cell_type": "code",
   "execution_count": null,
   "metadata": {},
   "outputs": [],
   "source": [
    "dts_to_check = delta_10s.cdn('early_sd').chnl(1).sort('delta').prb('NNXo')['datetime'].to_numpy()"
   ]
  },
  {
   "cell_type": "code",
   "execution_count": null,
   "metadata": {},
   "outputs": [],
   "source": [
    "tcheck = [3427, 6750, 6760, 6790, 7080, 7090, 7266]"
   ]
  },
  {
   "cell_type": "code",
   "execution_count": null,
   "metadata": {},
   "outputs": [],
   "source": [
    "kde.plot.main.plot_lfp_mua_combined?"
   ]
  },
  {
   "cell_type": "code",
   "execution_count": null,
   "metadata": {},
   "outputs": [],
   "source": [
    "probe = 'NNXo'\n",
    "color = SOM_BLUE if probe == 'NNXo' else NNXR_GRAY\n",
    "for tstart in tcheck:\n",
    "    t1 = acr.utils.dt_from_tdt(subject, 'swi', tstart)\n",
    "    t2 = t1 + pd.Timedelta(seconds=10)\n",
    "    lfp2p = fp.prb(probe).ts(t1, t2).data.T\n",
    "    times = fp.prb(probe).ts(t1, t2).datetime.values\n",
    "    mua2p = mua.ts(t1, t2).prb(probe)\n",
    "    f, axs = kde.plot.main.plot_lfp_mua_combined(lfp2p, mua2p, times, lfp_color=color, mua_color=color, lfp_subplot_hspace=-0.55)\n",
    "    for i, ax in enumerate(axs):\n",
    "        if i != 16:\n",
    "            ax.set_ylim(-830, 870)"
   ]
  },
  {
   "cell_type": "code",
   "execution_count": null,
   "metadata": {},
   "outputs": [],
   "source": [
    "probe = 'NNXo'\n",
    "color = SOM_BLUE if probe == 'NNXo' else NNXR_GRAY\n",
    "for tstart in [92]:\n",
    "    t1 = acr.utils.dt_from_tdt(subject, 'swi', tstart)\n",
    "    t2 = t1 + pd.Timedelta(seconds=10)\n",
    "    lfp2p = fp.prb(probe).ts(t1, t2).data.T\n",
    "    times = fp.prb(probe).ts(t1, t2).datetime.values\n",
    "    mua2p = mua.ts(t1, t2).prb(probe)\n",
    "    f, axs = kde.plot.main.plot_lfp_mua_combined(lfp2p, mua2p, times, lfp_color=color, mua_color=color, lfp_subplot_hspace=-0.55)\n",
    "    axs[0].set_title(f'{tstart}')\n",
    "    for i, ax in enumerate(axs):\n",
    "        if i != 16:\n",
    "            ax.set_ylim(-830, 870)\n",
    "    plt.show()"
   ]
  },
  {
   "cell_type": "code",
   "execution_count": null,
   "metadata": {},
   "outputs": [],
   "source": [
    "probe = 'NNXo'\n",
    "color = SOM_BLUE if probe == 'NNXo' else NNXR_GRAY\n",
    "for tstart in [100, 110, 120, 130, 140, 150, 160, 170, 180, 190, 200, 210, 220, 230, 240, 250, 260, 270, 280, 290, 300]:\n",
    "    t1 = acr.utils.dt_from_tdt(subject, 'swi', tstart)\n",
    "    t2 = t1 + pd.Timedelta(seconds=10)\n",
    "    lfp2p = fp.prb(probe).ts(t1, t2).data.T\n",
    "    times = fp.prb(probe).ts(t1, t2).datetime.values\n",
    "    mua2p = mua.ts(t1, t2).prb(probe)\n",
    "    f, axs = kde.plot.main.plot_lfp_mua_combined(lfp2p, mua2p, times, lfp_color=color, mua_color=color, lfp_subplot_hspace=-0.55)\n",
    "    axs[0].set_title(f'{tstart}')\n",
    "    for i, ax in enumerate(axs):\n",
    "        if i != 16:\n",
    "            ax.set_ylim(-830, 870)\n",
    "    plt.show()"
   ]
  },
  {
   "cell_type": "code",
   "execution_count": null,
   "metadata": {},
   "outputs": [],
   "source": [
    "probe = 'NNXo'\n",
    "color = SOM_BLUE if probe == 'NNXo' else NNXR_GRAY\n",
    "for tstart in [3415]:\n",
    "    t1 = acr.utils.dt_from_tdt(subject, 'swi', tstart)\n",
    "    t2 = t1 + pd.Timedelta(seconds=10)\n",
    "    lfp2p = fp.prb(probe).ts(t1, t2).data.T\n",
    "    times = fp.prb(probe).ts(t1, t2).datetime.values\n",
    "    mua2p = mua.ts(t1, t2).prb(probe)\n",
    "    f, axs = kde.plot.main.plot_lfp_mua_combined(lfp2p, mua2p, times, lfp_color=color, mua_color=color, lfp_subplot_hspace=-0.55)\n",
    "    for i, ax in enumerate(axs):\n",
    "        if i != 16:\n",
    "            ax.set_ylim(-830, 870)"
   ]
  },
  {
   "cell_type": "code",
   "execution_count": null,
   "metadata": {},
   "outputs": [],
   "source": [
    "probe = 'NNXo'\n",
    "color = SOM_BLUE if probe == 'NNXo' else NNXR_GRAY\n",
    "for tstart in [20626]:\n",
    "    t1 = acr.utils.dt_from_tdt(subject, 'swi', tstart)\n",
    "    t2 = t1 + pd.Timedelta(seconds=10)\n",
    "    lfp2p = fp.prb(probe).ts(t1, t2).data.T\n",
    "    times = fp.prb(probe).ts(t1, t2).datetime.values\n",
    "    mua2p = mua.ts(t1, t2).prb(probe)\n",
    "    f, axs = kde.plot.main.plot_lfp_mua_combined(lfp2p, mua2p, times, lfp_color=color, mua_color=color, lfp_subplot_hspace=-0.55)\n",
    "    for i, ax in enumerate(axs):\n",
    "        if i != 16:\n",
    "            ax.set_ylim(-830, 870)"
   ]
  }
 ],
 "metadata": {
  "kernelspec": {
   "display_name": "off_ind",
   "language": "python",
   "name": "python3"
  },
  "language_info": {
   "codemirror_mode": {
    "name": "ipython",
    "version": 3
   },
   "file_extension": ".py",
   "mimetype": "text/x-python",
   "name": "python",
   "nbconvert_exporter": "python",
   "pygments_lexer": "ipython3",
   "version": "3.12.10"
  }
 },
 "nbformat": 4,
 "nbformat_minor": 2
}
