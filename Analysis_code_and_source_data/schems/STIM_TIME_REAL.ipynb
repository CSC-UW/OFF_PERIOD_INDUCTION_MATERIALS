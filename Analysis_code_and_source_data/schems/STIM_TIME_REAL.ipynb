{
 "cells": [
  {
   "cell_type": "code",
   "execution_count": null,
   "id": "bf25c174",
   "metadata": {},
   "outputs": [],
   "source": []
  },
  {
   "cell_type": "code",
   "execution_count": null,
   "id": "f3dad430",
   "metadata": {},
   "outputs": [],
   "source": [
    "#-------------------------- Standard Imports --------------------------#\n",
    "%reload_ext autoreload\n",
    "%autoreload 2\n",
    "import pandas as pd\n",
    "import polars as pl\n",
    "import matplotlib.pyplot as plt\n",
    "import seaborn as sns\n",
    "import acr\n",
    "import warnings\n",
    "import pingouin as pg\n",
    "import kdephys as kde\n",
    "\n",
    "from acr.utils import PAPER_FIGURE_ROOT\n",
    "\n",
    "warnings.filterwarnings('ignore')\n",
    "\n",
    "plt.style.use('fast')\n",
    "plt.style.use('/home/kdriessen/gh_master/acr/acr/plot_styles/acr_pub.mplstyle')\n",
    "#--------------------------------- Import Publication Functions ---------------------------------#\n",
    "pub_utils = acr.utils.import_publication_functions('/home/kdriessen/gh_master/PUBLICATION__ACR/pub_utils.py', 'pub_utils')\n",
    "from pub_utils import *\n",
    "data_agg = acr.utils.import_publication_functions('/home/kdriessen/gh_master/PUBLICATION__ACR/data_agg.py', 'data_agg')\n",
    "from data_agg import *"
   ]
  },
  {
   "cell_type": "code",
   "execution_count": null,
   "id": "8eb66d54",
   "metadata": {},
   "outputs": [],
   "source": [
    "from acr.utils import acr_animals, sub_swi_exps\n",
    "for sub in acr_animals:\n",
    "    exp = sub_swi_exps[sub]\n",
    "    stim_start, stim_end = acr.stim.stim_bookends(sub, exp)\n",
    "    stim_dur = (stim_end - stim_start).total_seconds()\n",
    "    print(f'{sub} {exp} stim_dur: {stim_dur:.2f} seconds')\n"
   ]
  },
  {
   "cell_type": "code",
   "execution_count": null,
   "id": "efa82982",
   "metadata": {},
   "outputs": [],
   "source": []
  },
  {
   "cell_type": "code",
   "execution_count": null,
   "id": "268b63ea",
   "metadata": {},
   "outputs": [],
   "source": []
  },
  {
   "cell_type": "code",
   "execution_count": null,
   "id": "57aa951c",
   "metadata": {},
   "outputs": [],
   "source": []
  }
 ],
 "metadata": {
  "language_info": {
   "name": "python"
  }
 },
 "nbformat": 4,
 "nbformat_minor": 5
}
