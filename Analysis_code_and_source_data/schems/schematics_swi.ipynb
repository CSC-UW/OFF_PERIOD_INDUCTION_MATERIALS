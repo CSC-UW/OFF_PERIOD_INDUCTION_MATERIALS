{
 "cells": [
  {
   "cell_type": "code",
   "execution_count": null,
   "metadata": {},
   "outputs": [],
   "source": [
    "#-------------------------- Standard Imports --------------------------#\n",
    "%reload_ext autoreload\n",
    "%autoreload 2\n",
    "import pandas as pd\n",
    "import polars as pl\n",
    "import matplotlib.pyplot as plt\n",
    "import seaborn as sns\n",
    "import acr\n",
    "import warnings\n",
    "import pingouin as pg\n",
    "import kdephys as kde\n",
    "\n",
    "from acr.utils import PAPER_FIGURE_ROOT\n",
    "\n",
    "warnings.filterwarnings('ignore')\n",
    "\n",
    "plt.style.use('fast')\n",
    "plt.style.use('/home/kdriessen/gh_master/acr/acr/plot_styles/acr_pub.mplstyle')\n",
    "#--------------------------------- Import Publication Functions ---------------------------------#\n",
    "pub_utils = acr.utils.import_publication_functions('/home/kdriessen/gh_master/PUBLICATION__ACR/pub_utils.py', 'pub_utils')\n",
    "from pub_utils import *\n",
    "data_agg = acr.utils.import_publication_functions('/home/kdriessen/gh_master/PUBLICATION__ACR/data_agg.py', 'data_agg')\n",
    "from data_agg import *"
   ]
  },
  {
   "cell_type": "code",
   "execution_count": null,
   "metadata": {},
   "outputs": [],
   "source": [
    "sub = 'ACR_26'\n",
    "exp = 'swi'"
   ]
  },
  {
   "cell_type": "markdown",
   "metadata": {},
   "source": [
    "# Hypnogram"
   ]
  },
  {
   "cell_type": "code",
   "execution_count": null,
   "metadata": {},
   "outputs": [],
   "source": [
    "h = acr.io.load_hypno_full_exp(sub, exp)\n",
    "sd_start, stim_start, stim_end, reb_start, full_x_start = acr.info_pipeline.get_sd_exp_landmarks(sub, exp, update=False, return_early=False)\n",
    "\n",
    "hd = acr.hypnogram_utils.create_acr_hyp_dict(sub, exp)\n",
    "\n",
    "\n",
    "bl_day = str(full_x_start).split(' ')[0]\n",
    "fake_x_start = pd.to_datetime(bl_day + ' 09:00:00')\n",
    "wake_states = ['Wake-Good', 'Transition-to-Wake', 'Sort-Exclude', 'Transition-to-NREM', 'Brief-Arousal', 'Art']\n",
    "REM_states = ['REM', 'Transition-to-REM']\n",
    "\n",
    "h.loc[h['state'].isin(wake_states), 'state'] = 'Wake'\n",
    "h.loc[h['state'].isin(REM_states), 'state'] = 'REM'\n",
    "\n",
    "\n",
    "# plotting adjustments\n",
    "h.loc[((h['end_time'] > sd_start) & (h['end_time'] < stim_end)), 'state'] = 'Wake'\n",
    "\n",
    "reb_end = hd['rebound'].end_time.max()\n",
    "h = acr.hypnogram_utils.standard_hypno_corrections(h)"
   ]
  },
  {
   "cell_type": "markdown",
   "metadata": {},
   "source": [
    "# Simple Colored Hypnogram"
   ]
  },
  {
   "cell_type": "code",
   "execution_count": null,
   "metadata": {},
   "outputs": [],
   "source": [
    "h2p = h.trim_select(sd_start, reb_end)"
   ]
  },
  {
   "cell_type": "code",
   "execution_count": null,
   "metadata": {},
   "outputs": [],
   "source": [
    "f, ax = kde.plot.main.plot_basic_hypnogram(h2p, style_path='/home/kdriessen/gh_master/acr/acr/plot_styles/acr_pub.mplstyle', single_tone=True)\n",
    "\n",
    "ax.axvline(stim_start, color='black', linestyle='--', linewidth=3)\n",
    "ax.axvline(stim_end, color='black', linestyle='--', linewidth=3)\n",
    "\n",
    "f.savefig(f'{PAPER_FIGURE_ROOT}/schems/{sub}_{exp}_hypnogram.png', dpi=600)"
   ]
  },
  {
   "cell_type": "code",
   "execution_count": null,
   "metadata": {},
   "outputs": [],
   "source": [
    "f, ax = kde.plot.main.plot_basic_hypnogram(h2p, style_path='/home/kdriessen/gh_master/acr/acr/plot_styles/acr_pub.mplstyle', single_tone=True)\n",
    "\n",
    "f.savefig(f'{PAPER_FIGURE_ROOT}/schems/{sub}_{exp}_hypnogram--NO_LINES.png', dpi=600)"
   ]
  },
  {
   "cell_type": "code",
   "execution_count": null,
   "metadata": {},
   "outputs": [],
   "source": [
    "f, ax = kde.plot.main.plot_basic_hypnogram(h2p, style_path='/home/kdriessen/gh_master/acr/acr/plot_styles/acr_pub.mplstyle', single_tone=True)\n",
    "\n",
    "sb1 = sd_start \n",
    "sb2 = sd_start+pd.Timedelta('1h')\n",
    "# Draw a horizontal scale bar from sb1 to sb2 (1 hour duration)\n",
    "ax.plot([sb1, sb2], [0.1, 0.1], color='black', linewidth=4)  # Position the scale bar at y=0.1\n",
    "\n",
    "f.savefig(f'{PAPER_FIGURE_ROOT}/schems/{sub}_{exp}_hypnogram--NO_LINES--ScaleBar.png', dpi=600)"
   ]
  },
  {
   "cell_type": "code",
   "execution_count": null,
   "metadata": {},
   "outputs": [],
   "source": [
    "full_duration = (reb_end - sd_start).total_seconds()\n",
    "pix_per_hr = (1600/full_duration)*3600\n",
    "print(f'{pix_per_hr:.2f} pixels per hour')\n",
    "for hr in [1, 2, 3, 4, 5, 6]:\n",
    "    print(f'{hr*pix_per_hr:.2f} pixels')\n"
   ]
  },
  {
   "cell_type": "markdown",
   "metadata": {},
   "source": [
    "## Full 48 hr Hypnogram"
   ]
  },
  {
   "cell_type": "code",
   "execution_count": null,
   "metadata": {},
   "outputs": [],
   "source": [
    "endt = fake_x_start + pd.Timedelta('48h')\n",
    "h48 = h.trim_select(fake_x_start, endt)\n",
    "\n",
    "f, ax = kde.plot.main.plot_basic_hypnogram(h48, style_path='/home/kdriessen/gh_master/acr/acr/plot_styles/acr_pub.mplstyle', xlim=(fake_x_start, endt), single_tone=True)\n",
    "\n",
    "#f.savefig(f'{PAPER_FIGURE_ROOT}/schems/{sub}_{exp}_hypnogram--48HR.png', dpi=600)"
   ]
  },
  {
   "cell_type": "markdown",
   "metadata": {},
   "source": [
    "# EMG Plot"
   ]
  },
  {
   "cell_type": "code",
   "execution_count": null,
   "metadata": {},
   "outputs": [],
   "source": [
    "plt.rcParams['axes.spines.left'] = False\n",
    "plt.rcParams['axes.spines.bottom'] = False\n",
    "plt.rcParams['axes.spines.right'] = False\n",
    "plt.rcParams['axes.spines.top'] = False\n",
    "plt.rcParams['xtick.bottom'] = False"
   ]
  },
  {
   "cell_type": "code",
   "execution_count": null,
   "metadata": {},
   "outputs": [],
   "source": [
    "recs = acr.info_pipeline.get_exp_recs(sub, exp)\n",
    "emg = acr.io.load_concat_raw_data(sub, recs, stores=['EMGr'])\n",
    "e2p = emg.ts(sd_start, reb_end).ch(1).sel(store='EMGr')\n",
    "emg48 = emg.ts(fake_x_start, endt).ch(1).sel(store='EMGr')"
   ]
  },
  {
   "cell_type": "code",
   "execution_count": null,
   "metadata": {},
   "outputs": [],
   "source": [
    "f, ax = plt.subplots(figsize=(20, 0.4))\n",
    "ax.set_xlim(sd_start, reb_end)\n",
    "ax.set_yticks([])\n",
    "ax.plot(e2p.datetime, e2p.data, color='#2b3e4b')\n",
    "ax.set_ylim(-2000, 3000)\n",
    "f.savefig(f'{PAPER_FIGURE_ROOT}/schems/{sub}_{exp}_emg.png', dpi=600, bbox_inches='tight', transparent=True, facecolor='none')"
   ]
  },
  {
   "cell_type": "code",
   "execution_count": null,
   "metadata": {},
   "outputs": [],
   "source": [
    "f, ax = plt.subplots(figsize=(20, 0.4))\n",
    "ax.set_xlim(fake_x_start, endt)\n",
    "ax.set_yticks([])\n",
    "ax.plot(emg48.datetime, emg48.data, color=EMG_SLATE)\n",
    "ax.set_ylim(-2000, 3000)\n",
    "f.savefig(f'{PAPER_FIGURE_ROOT}/schems/{sub}_{exp}_emg--48HR.png', dpi=600, bbox_inches='tight', transparent=True, facecolor='none')"
   ]
  },
  {
   "cell_type": "code",
   "execution_count": null,
   "metadata": {},
   "outputs": [],
   "source": [
    "f, ax = plt.subplots(figsize=(20, 0.4))\n",
    "ax.set_xlim(sd_start, reb_end)\n",
    "ax.set_yticks([])\n",
    "ax.plot(e2p.datetime, e2p.data, color=EMG_SLATE)\n",
    "ax.set_ylim(-2000, 3000)\n",
    "ax.axhspan(-2000, 3000, xmin=0.8, xmax=0.95, color='red', alpha=0.5)\n",
    "f.savefig(f'{PAPER_FIGURE_ROOT}/schems/{sub}_{exp}_emg--5000mv.png', dpi=600, bbox_inches='tight', transparent=True, facecolor='none')\n"
   ]
  },
  {
   "cell_type": "markdown",
   "metadata": {},
   "source": [
    "# SWA Plot"
   ]
  },
  {
   "cell_type": "code",
   "execution_count": null,
   "metadata": {},
   "outputs": [],
   "source": [
    "chan_to_plot = 10"
   ]
  },
  {
   "cell_type": "code",
   "execution_count": null,
   "metadata": {},
   "outputs": [],
   "source": [
    "_bp = load_raw_bp_df(sub, exp)\n",
    "bp = make_raw_bp_df_relative_to_baseline(_bp, col_to_use='full_bl', value_to_use='True', state_to_use='NREM', method='mean')"
   ]
  },
  {
   "cell_type": "code",
   "execution_count": null,
   "metadata": {},
   "outputs": [],
   "source": [
    "# Filter out a single channel to use\n",
    "swa = bp.filter(pl.col('band') == 'delta')\n",
    "swa_plot = swa.ts(sd_start, reb_end)\n",
    "swa_plot = swa_plot.to_pandas()\n",
    "swa_plot_o = swa_plot.prb('NNXo').chnl(chan_to_plot)\n",
    "swa_plot_r = swa_plot.prb('NNXr').chnl(chan_to_plot)\n",
    "# set the clearly arifactual periods to 0\n",
    "swa_plot_r.loc[((swa_plot_r['datetime']<reb_start) & (swa_plot_r['bandpower_rel']>0.8)), 'bandpower_rel'] = 0\n",
    "swa_plot_o.loc[((swa_plot_o['datetime']<stim_start) & (swa_plot_o['bandpower_rel']>0.8)), 'bandpower_rel'] = 0"
   ]
  },
  {
   "cell_type": "code",
   "execution_count": null,
   "metadata": {},
   "outputs": [],
   "source": [
    "# Plot Both Probes\n",
    "f, ax = plt.subplots(figsize=(25, 2.5))\n",
    "ax.set_xlim(sd_start, reb_end)\n",
    "ax.set_yticks([])\n",
    "ax.plot(swa_plot_o.datetime, swa_plot_o.sm('bandpower_rel', sigma=6)['bandpower_rel'], color=SOM_BLUE, linewidth=3, alpha=1)\n",
    "ax.plot(swa_plot_r.datetime, swa_plot_r.sm('bandpower_rel', sigma=6)['bandpower_rel'], color=NNXR_GRAY, linewidth=3, alpha=0.8)\n",
    "ax.set_ylim(0, 2.5)\n",
    "f.savefig(f'{PAPER_FIGURE_ROOT}/schems/{sub}_{exp}_NNXo_delta.png', dpi=600, bbox_inches='tight', transparent=True, facecolor='none')"
   ]
  },
  {
   "cell_type": "code",
   "execution_count": null,
   "metadata": {},
   "outputs": [],
   "source": [
    "# Plot Both Probes - with Yscale!\n",
    "f, ax = plt.subplots(figsize=(25, 2.5))\n",
    "ax.set_xlim(sd_start, reb_end)\n",
    "ax.set_yticks([])\n",
    "ax.plot(swa_plot_o.datetime, swa_plot_o.sm('bandpower_rel', sigma=6)['bandpower_rel'], color=SOM_BLUE, linewidth=3, alpha=1)\n",
    "ax.plot(swa_plot_r.datetime, swa_plot_r.sm('bandpower_rel', sigma=6)['bandpower_rel'], color=NNXR_GRAY, linewidth=3, alpha=0.8)\n",
    "ax.set_ylim(0, 2.5)\n",
    "ax.axhspan(0, 2, xmin=0.3, xmax=0.32, color='red', alpha=0.7)\n",
    "ax.axhline(1, color='green', linestyle='-', linewidth=3)\n",
    "f.savefig(f'{PAPER_FIGURE_ROOT}/schems/{sub}_{exp}_NNXo_delta--YSCALe__0-2PctofBL.png', dpi=600, bbox_inches='tight', transparent=True, facecolor='none')"
   ]
  },
  {
   "cell_type": "code",
   "execution_count": null,
   "metadata": {},
   "outputs": [],
   "source": [
    "swa_plot = swa.ts(stim_start-pd.Timedelta('2m'), reb_end)\n",
    "swa_plot = swa_plot.to_pandas()\n",
    "swa_plot_o = swa_plot.prb('NNXo').chnl(chan_to_plot)\n",
    "swa_plot_r = swa_plot.prb('NNXr').chnl(chan_to_plot)\n",
    "\n",
    "# set the clearly arifactual periods to 0\n",
    "swa_plot_r.loc[((swa_plot_r['datetime']<reb_start) & (swa_plot_r['bandpower_rel']>0.8)), 'bandpower_rel'] = 0\n",
    "swa_plot_o.loc[((swa_plot_o['datetime']<stim_start) & (swa_plot_o['bandpower_rel']>0.8)), 'bandpower_rel'] = 0"
   ]
  },
  {
   "cell_type": "code",
   "execution_count": null,
   "metadata": {},
   "outputs": [],
   "source": [
    "# Plot Both Probes - with Yscale!\n",
    "f, ax = plt.subplots(figsize=(30, 6))\n",
    "#ax.set_xlim(sd_start, reb_end)\n",
    "ax.set_yticks([])\n",
    "ax.plot(swa_plot_o.datetime, swa_plot_o.sm('bandpower_rel', sigma=3)['bandpower_rel'], color=SOM_BLUE, linewidth=3, alpha=1)\n",
    "ax.plot(swa_plot_r.datetime, swa_plot_r.sm('bandpower_rel', sigma=3)['bandpower_rel'], color=NNXR_GRAY, linewidth=3, alpha=0.8)\n",
    "ax.set_ylim(0, 3)\n",
    "ax.axhspan(0, 2, xmin=0.3, xmax=0.32, color='red', alpha=0.7)\n",
    "ax.axhline(1, color='green', linestyle='-', linewidth=3)\n",
    "f.savefig(f'{PAPER_FIGURE_ROOT}/schems/{sub}_{exp}_NNXo_delta--ZOOMED_SCALED.png', dpi=600, bbox_inches='tight', transparent=True, facecolor='none')"
   ]
  }
 ],
 "metadata": {
  "kernelspec": {
   "display_name": "offdet",
   "language": "python",
   "name": "python3"
  },
  "language_info": {
   "codemirror_mode": {
    "name": "ipython",
    "version": 3
   },
   "file_extension": ".py",
   "mimetype": "text/x-python",
   "name": "python",
   "nbconvert_exporter": "python",
   "pygments_lexer": "ipython3",
   "version": "3.10.14"
  }
 },
 "nbformat": 4,
 "nbformat_minor": 2
}
