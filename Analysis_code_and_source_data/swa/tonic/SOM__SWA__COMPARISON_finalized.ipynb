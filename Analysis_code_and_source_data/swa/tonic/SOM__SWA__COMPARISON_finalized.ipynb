{
 "cells": [
  {
   "cell_type": "code",
   "execution_count": null,
   "id": "9322d359",
   "metadata": {},
   "outputs": [],
   "source": [
    "#-------------------------- Standard Imports --------------------------#\n",
    "%reload_ext autoreload\n",
    "%autoreload 2\n",
    "import kdephys as kde\n",
    "import pandas as pd\n",
    "import polars as pl\n",
    "import matplotlib.pyplot as plt\n",
    "import seaborn as sns\n",
    "import numpy as np\n",
    "import acr\n",
    "import xarray as xr\n",
    "from scipy import stats\n",
    "# ---------------------------- EXTRAS --------------------------------#\n",
    "from kdephys.plot.main import _title, bp_plot\n",
    "import kdephys.utils.spectral as sp\n",
    "bands = sp.bands\n",
    "from scipy.stats import normaltest\n",
    "import warnings\n",
    "warnings.filterwarnings('ignore')\n",
    "import matplotlib as mpl\n",
    "from acr.utils import *\n",
    "pu = acr.utils.import_publication_functions('/home/kdriessen/gh_master/PUBLICATION__ACR/pub_utils.py', 'pu')\n",
    "dag = acr.utils.import_publication_functions('/home/kdriessen/gh_master/PUBLICATION__ACR/data_agg.py', 'dag')\n",
    "import pingouin as pg\n",
    "from scipy.stats import shapiro\n",
    "\n",
    "plt.rcdefaults()\n",
    "acr.plots.supl()"
   ]
  },
  {
   "cell_type": "code",
   "execution_count": null,
   "id": "c61d13b4",
   "metadata": {},
   "outputs": [],
   "source": [
    "from acr.utils import SOM_BLUE, ACR_BLUE, NNXR_GRAY\n",
    "SUB_TYPE = 'SOM'\n",
    "EXP_TYPES = ['offind', 'tonic']\n",
    "SUBJECT_TYPE = 'som'\n",
    "MAIN_COLOR = SOM_BLUE"
   ]
  },
  {
   "cell_type": "code",
   "execution_count": null,
   "id": "8dfd1504",
   "metadata": {},
   "outputs": [],
   "source": [
    "subjects, exps = pu.get_subject_list(type='som', exp='swisin')"
   ]
  },
  {
   "cell_type": "code",
   "execution_count": null,
   "id": "2a7641a7",
   "metadata": {},
   "outputs": [],
   "source": [
    "notebook_figure_root = f'{acr.utils.PAPER_FIGURE_ROOT}/swa/tonic_comp'"
   ]
  },
  {
   "cell_type": "code",
   "execution_count": null,
   "id": "786f42e9",
   "metadata": {},
   "outputs": [],
   "source": [
    "def read_comp_spg(subject, tag):\n",
    "    path = f'{acr.utils.pub_data_root}/comp_spg-dfs/{subject}--{tag}.parquet'\n",
    "    df = pl.read_parquet(path)\n",
    "    return df"
   ]
  },
  {
   "cell_type": "code",
   "execution_count": null,
   "id": "927a1e1d",
   "metadata": {},
   "outputs": [],
   "source": [
    "fh = {}\n",
    "for subject in subjects:\n",
    "    fh[f'{subject}-offind'] = acr.io.load_hypno_full_exp(subject, acr.utils.sub_swi_exps[subject][0])\n",
    "    fh[f'{subject}-tonic'] = acr.io.load_hypno_full_exp(subject, acr.utils.sub_swisin_exps[subject][0])\n"
   ]
  },
  {
   "cell_type": "code",
   "execution_count": null,
   "id": "b676daf6",
   "metadata": {},
   "outputs": [],
   "source": [
    "# drop the known bad channels\n",
    "scd = {}\n",
    "scd['ACR_44'] = [9, 11, 16]\n",
    "\n",
    "#relbp = drop_sub_channels(df, scd)"
   ]
  },
  {
   "cell_type": "code",
   "execution_count": null,
   "id": "49eaaea3",
   "metadata": {},
   "outputs": [],
   "source": [
    "dfs = []\n",
    "for et in EXP_TYPES:\n",
    "    for subject in subjects:\n",
    "        print(subject, et)\n",
    "        df = read_comp_spg(subject, et)\n",
    "        df = acr.hypnogram_utils.label_df_with_full_bl(df, state='NREM')\n",
    "        df = df.with_columns(xtype=pl.lit(et))\n",
    "        df = df.with_columns(subject=pl.lit(subject))\n",
    "        dfs.append(df)"
   ]
  },
  {
   "cell_type": "code",
   "execution_count": null,
   "id": "7c6d5521",
   "metadata": {},
   "outputs": [],
   "source": [
    "spgs = []\n",
    "for df in dfs:\n",
    "    spgs.append(df.filter((pl.col('condition') == 'rebound') | (pl.col('full_bl') == 'True')))"
   ]
  },
  {
   "cell_type": "code",
   "execution_count": null,
   "id": "b45d97f3",
   "metadata": {},
   "outputs": [],
   "source": [
    "# gets the low frequencies (delta)\n",
    "lows = [spg_reb.filter((pl.col('frequency') > 0.4) & (pl.col('frequency') < 3.9)) for spg_reb in spgs]"
   ]
  },
  {
   "cell_type": "code",
   "execution_count": null,
   "id": "134fa1a4",
   "metadata": {},
   "outputs": [],
   "source": [
    "bps = [low.group_by(['subject','store', 'channel', 'datetime', 'xtype', 'full_bl', 'condition']).agg(pl.col('power').sum().alias('power')) for low in lows]"
   ]
  },
  {
   "cell_type": "code",
   "execution_count": null,
   "id": "2cfd30d2",
   "metadata": {},
   "outputs": [],
   "source": [
    "bp = pl.concat(bps)\n",
    "bp = bp.sort('datetime', 'store', 'channel')"
   ]
  },
  {
   "cell_type": "code",
   "execution_count": null,
   "id": "3381dbf8",
   "metadata": {},
   "outputs": [],
   "source": [
    "relbp = dag.relativize_df(bp, 'full_bl', 'True', 'mean', 'power', ['xtype', 'subject', 'store', 'channel'])"
   ]
  },
  {
   "cell_type": "code",
   "execution_count": null,
   "id": "54394062",
   "metadata": {},
   "outputs": [],
   "source": [
    "rebbp = relbp.filter((pl.col('condition') == 'rebound'))"
   ]
  },
  {
   "cell_type": "code",
   "execution_count": null,
   "id": "047182d4",
   "metadata": {},
   "outputs": [],
   "source": [
    "rm = rebbp.group_by(['subject', 'xtype', 'store', 'channel']).agg(pl.col('power_rel').mean().alias('power_rel')).sort('subject', 'xtype', 'store', 'channel')"
   ]
  },
  {
   "cell_type": "code",
   "execution_count": null,
   "id": "de3cc5b1",
   "metadata": {},
   "outputs": [],
   "source": [
    "reb_means = pu.drop_sub_channels(rm, scd)"
   ]
  },
  {
   "cell_type": "code",
   "execution_count": null,
   "id": "1ee0283d",
   "metadata": {},
   "outputs": [],
   "source": [
    "reb_means = reb_means.group_by(['subject', 'xtype', 'store']).agg(pl.col('power_rel').mean()).sort('subject', 'xtype', 'store')"
   ]
  },
  {
   "cell_type": "code",
   "execution_count": null,
   "id": "1fe33ad7",
   "metadata": {},
   "outputs": [],
   "source": [
    "EXP_TYPE2P = 'offind'\n",
    "fig_id = f'{EXP_TYPE2P}_0.5-4Hz_rebound_all_chans'\n",
    "fig_name = f'{SUBJECT_TYPE}__{fig_id}'\n",
    "fig_path = f'{notebook_figure_root}/{fig_name}.png'\n",
    "\n",
    "nnxo = reb_means.xt('offind').prb('NNXo')['power_rel'].to_numpy()\n",
    "nnxr = reb_means.xt('offind').prb('NNXr')['power_rel'].to_numpy()\n",
    "\n",
    "nnxo_off = nnxo/nnxr\n",
    "\n",
    "f, ax = acr.plots.gen_paired_boxplot(nnxr, nnxo)\n",
    "plt.show()\n",
    "\n",
    "f, ax = acr.plots.gen_paired_boxplot(nnxr/nnxr, nnxo/nnxr, one_sided=True)\n",
    "ax.set_ylim(0.9, 1.005)\n",
    "ax.set_xticklabels(['Contra. Control', 'Optrode'])\n",
    "f.savefig(fig_path, dpi=600, transparent=True, bbox_inches='tight')\n",
    "plt.show()"
   ]
  },
  {
   "cell_type": "code",
   "execution_count": null,
   "id": "9627da80",
   "metadata": {},
   "outputs": [],
   "source": [
    "# =============================\n",
    "# ========== STATS ============\n",
    "# =============================\n",
    "write = True\n",
    "\n",
    "diffs = nnxr - nnxo\n",
    "shap_stat, shap_p = shapiro(diffs) # test the paired differences for normality\n",
    "print(f'shapiro_p-value: {shap_p}')\n",
    "\n",
    "stats = pg.ttest(nnxr, nnxo, paired=True)\n",
    "# stats = pg.wilcoxon(nnxr, nnxo)\n",
    "\n",
    "hg = pg.compute_effsize(nnxr, nnxo, paired=True, eftype='hedges')\n",
    "print(f'hedges g: {hg}')\n",
    "\n",
    "#r = acr.stats.calculate_wilx_r(stats['W-val'][0], len(nnxr))\n",
    "\n",
    "\n",
    "if write:\n",
    "    # ==== Write Stats Results ====\n",
    "    stats_name = f'{fig_name}'\n",
    "    acr.stats.write_stats_result(stats_name, 'paired_ttest', stats['T'][0], stats['p-val'][0], 'g', hg)\n",
    "    \n",
    "    # ===== Write Source Data =====\n",
    "    source_data = pd.DataFrame({'contra_control': nnxr, 'off_induction': nnxo, 'subject': np.arange(len(nnxr))})\n",
    "    pu.write_source_data(source_data, stats_name)\n",
    "stats"
   ]
  },
  {
   "cell_type": "code",
   "execution_count": null,
   "id": "3b79b203",
   "metadata": {},
   "outputs": [],
   "source": [
    "EXP_TYPE2P = 'tonic'\n",
    "fig_id = f'{EXP_TYPE2P}_0.5-4Hz_rebound_all_chans'\n",
    "fig_name = f'{SUBJECT_TYPE}__{fig_id}'\n",
    "fig_path = f'{notebook_figure_root}/{fig_name}.png'\n",
    "\n",
    "nnxo = reb_means.xt('tonic').prb('NNXo')['power_rel'].to_numpy()\n",
    "nnxr = reb_means.xt('tonic').prb('NNXr')['power_rel'].to_numpy()\n",
    "\n",
    "nnxo_ton = nnxo/nnxr\n",
    "\n",
    "f, ax = acr.plots.gen_paired_boxplot(nnxr, nnxo, colors=[NNXR_GRAY, MAIN_COLOR], alphas=[0.9, 0.6], fsize=(3.5, 4))\n",
    "plt.show()\n",
    "\n",
    "f, ax = acr.plots.gen_paired_boxplot(nnxr/nnxr, nnxo/nnxr, one_sided=True, colors=[NNXR_GRAY, MAIN_COLOR], alphas=[0.9, 0.6], fsize=(3.5, 4))\n",
    "ax.set_ylim(0.9, 1.005)\n",
    "ax.set_xticklabels(['Contra. Control', 'Optrode'])\n",
    "f.savefig(fig_path, dpi=600, transparent=True, bbox_inches='tight')\n",
    "plt.show()"
   ]
  },
  {
   "cell_type": "code",
   "execution_count": null,
   "id": "3d8604ca",
   "metadata": {},
   "outputs": [],
   "source": [
    "# =============================\n",
    "# ========== STATS ============\n",
    "# =============================\n",
    "write = True\n",
    "\n",
    "diffs = nnxr - nnxo\n",
    "shap_stat, shap_p = shapiro(diffs) # test the paired differences for normality\n",
    "print(f'shapiro_p-value: {shap_p}')\n",
    "\n",
    "stats = pg.ttest(nnxr, nnxo, paired=True)\n",
    "# stats = pg.wilcoxon(nnxr, nnxo)\n",
    "\n",
    "hg = pg.compute_effsize(nnxr, nnxo, paired=True, eftype='hedges')\n",
    "print(f'hedges g: {hg}')\n",
    "\n",
    "#r = acr.stats.calculate_wilx_r(stats['W-val'][0], len(nnxr))\n",
    "\n",
    "\n",
    "if write:\n",
    "    # ==== Write Stats Results ====\n",
    "    stats_name = f'{fig_name}'\n",
    "    acr.stats.write_stats_result(stats_name, 'paired_ttest', stats['T'][0], stats['p-val'][0], 'g', hg)\n",
    "    \n",
    "    # ===== Write Source Data =====\n",
    "    source_data = pd.DataFrame({'contra_control': nnxr, 'off_induction': nnxo, 'subject': np.arange(len(nnxr))})\n",
    "    pu.write_source_data(source_data, stats_name)\n",
    "stats"
   ]
  },
  {
   "cell_type": "code",
   "execution_count": null,
   "id": "64e4717b",
   "metadata": {},
   "outputs": [],
   "source": [
    "EXP_TYPE2P = 'TONIC-vs-OFFIND'\n",
    "fig_id = f'{EXP_TYPE2P}_0.5-4Hz_rebound_all_chans'\n",
    "fig_name = f'{SUBJECT_TYPE}__{fig_id}'\n",
    "fig_path = f'{notebook_figure_root}/{fig_name}.png'\n",
    "\n",
    "f, ax = acr.plots.gen_paired_boxplot(nnxo_ton, nnxo_off, colors=[MAIN_COLOR, MAIN_COLOR], alphas=[0.6, 0.9], fsize=(4, 5))\n",
    "ax.set_xticklabels(['Tonic', 'OFF Induction'])\n",
    "f.savefig(fig_path, dpi=600, transparent=True, bbox_inches='tight')\n",
    "plt.show()"
   ]
  },
  {
   "cell_type": "code",
   "execution_count": null,
   "id": "cc6335ae",
   "metadata": {},
   "outputs": [],
   "source": [
    "# =============================\n",
    "# ========== STATS ============\n",
    "# =============================\n",
    "write = True\n",
    "\n",
    "diffs = nnxr - nnxo\n",
    "shap_stat, shap_p = shapiro(diffs) # test the paired differences for normality\n",
    "print(f'shapiro_p-value: {shap_p}')\n",
    "\n",
    "stats = pg.ttest(nnxr, nnxo, paired=True)\n",
    "# stats = pg.wilcoxon(nnxr, nnxo)\n",
    "\n",
    "hg = pg.compute_effsize(nnxr, nnxo, paired=True, eftype='hedges')\n",
    "print(f'hedges g: {hg}')\n",
    "\n",
    "#r = acr.stats.calculate_wilx_r(stats['W-val'][0], len(nnxr))\n",
    "\n",
    "\n",
    "if write:\n",
    "    # ==== Write Stats Results ====\n",
    "    stats_name = f'{fig_name}'\n",
    "    acr.stats.write_stats_result(stats_name, 'paired_ttest', stats['T'][0], stats['p-val'][0], 'g', hg)\n",
    "    \n",
    "    # ===== Write Source Data =====\n",
    "    source_data = pd.DataFrame({'contra_control': nnxr, 'off_induction': nnxo, 'subject': np.arange(len(nnxr))})\n",
    "    pu.write_source_data(source_data, stats_name)\n",
    "stats"
   ]
  },
  {
   "cell_type": "markdown",
   "id": "210e6983",
   "metadata": {},
   "source": [
    "# Full SPG plots"
   ]
  },
  {
   "cell_type": "code",
   "execution_count": null,
   "id": "b2270335",
   "metadata": {},
   "outputs": [],
   "source": [
    "# gets the full_spgs\n",
    "fulls = [spg_reb.filter((pl.col('frequency') > -1) & (pl.col('frequency') < 20)) for spg_reb in spgs]"
   ]
  },
  {
   "cell_type": "code",
   "execution_count": null,
   "id": "c491d1ea",
   "metadata": {},
   "outputs": [],
   "source": [
    "spg = pl.concat(fulls)\n",
    "spg = spg.sort('datetime', 'store', 'channel')"
   ]
  },
  {
   "cell_type": "code",
   "execution_count": null,
   "id": "fbca3d87",
   "metadata": {},
   "outputs": [],
   "source": [
    "relbp = dag.relativize_df(spg, 'full_bl', 'True', 'mean', 'power', ['xtype', 'subject', 'store', 'channel', 'frequency'])"
   ]
  },
  {
   "cell_type": "code",
   "execution_count": null,
   "id": "4b1d618b",
   "metadata": {},
   "outputs": [],
   "source": [
    "rebbp = relbp.filter((pl.col('condition') == 'rebound'))"
   ]
  },
  {
   "cell_type": "code",
   "execution_count": null,
   "id": "7d46e146",
   "metadata": {},
   "outputs": [],
   "source": [
    "rm = rebbp.group_by(['subject', 'xtype', 'store', 'channel', 'frequency']).agg(pl.col('power_rel').mean().alias('power_rel')).sort('subject', 'xtype', 'store', 'channel', 'frequency')"
   ]
  },
  {
   "cell_type": "code",
   "execution_count": null,
   "id": "aca1ba4c",
   "metadata": {},
   "outputs": [],
   "source": [
    "rm = pu.drop_sub_channels(rm, scd)"
   ]
  },
  {
   "cell_type": "code",
   "execution_count": null,
   "id": "e42f671e",
   "metadata": {},
   "outputs": [],
   "source": [
    "rm_probe = rm.group_by(['subject', 'xtype', 'store', 'frequency']).agg(pl.col('power_rel').mean())"
   ]
  },
  {
   "cell_type": "code",
   "execution_count": null,
   "id": "4c2574e5",
   "metadata": {},
   "outputs": [],
   "source": [
    "rm_probe = rm_probe.sort('subject', 'xtype', 'store', 'frequency')"
   ]
  },
  {
   "cell_type": "code",
   "execution_count": null,
   "id": "668197aa",
   "metadata": {},
   "outputs": [],
   "source": [
    "fig_id = 'TONIC_full_spg_rebound'\n",
    "fig_name = f'{SUBJECT_TYPE}__{fig_id}'\n",
    "fig_path = f'{notebook_figure_root}/{fig_name}.png'\n",
    "\n",
    "plt.rcdefaults()  # Reset to matplotlib defaults\n",
    "acr.plots.supl()\n",
    "plt.rcParams['xtick.bottom'] = True\n",
    "\n",
    "f, ax = plt.subplots(1, 1, figsize=(4.5, 3))\n",
    "sns.lineplot(data=rm_probe.xt('tonic'), x='frequency', y='power_rel', hue='store', ax=ax, palette=[NNXR_GRAY, MAIN_COLOR], hue_order=['NNXr', 'NNXo'], errorbar='se', lw=4, alpha=0.6)\n",
    "\n",
    "ax.set_xlim(0, 20)  \n",
    "ax.set_xticks([0, 5, 10, 15, 20])\n",
    "ax.set_ylabel('')\n",
    "ax.set_xlabel('Frequency (Hz)')\n",
    "ax.set_ylim(0.9, 1.825)\n",
    "#remove the legend\n",
    "ax.legend_.remove()\n",
    "#ax.axhline(y=1.59, xmin=0.09, xmax=0.15)\n",
    "#ax.axvspan(0.3, 2.4, ymin=0.985, ymax=1.0)\n",
    "#ax.axvspan(2.6, 3.5, ymin=0.985, ymax=1.0)\n",
    "\n",
    "plt.savefig(fig_path, dpi=600, bbox_inches='tight', transparent=True)"
   ]
  },
  {
   "cell_type": "code",
   "execution_count": null,
   "id": "ae07338d",
   "metadata": {},
   "outputs": [],
   "source": [
    "# =============================\n",
    "# ===== Write Source Data =====\n",
    "# =============================\n",
    "dfs = []\n",
    "freqs = []\n",
    "for freq in rm_probe.xt('tonic')['frequency'].unique():\n",
    "    freqs.append(freq)\n",
    "    freq_df = rm_probe.xt('tonic').filter(pl.col('frequency') == freq).sort(['store', 'subject'])\n",
    "    nnxr = freq_df.filter(pl.col('store') == 'NNXr')['power_rel'].to_numpy()\n",
    "    nnxo = freq_df.filter(pl.col('store') == 'NNXo')['power_rel'].to_numpy()\n",
    "    f = round(freq, 1)\n",
    "    fdf = pd.DataFrame({'freq_bin': f, 'contra_control_power': nnxr, 'optrode_power': nnxo, 'subject': np.arange(len(nnxr))})\n",
    "    dfs.append(fdf)\n",
    "spg_source_dat = pd.concat(dfs)"
   ]
  },
  {
   "cell_type": "code",
   "execution_count": null,
   "id": "dc9e83ac",
   "metadata": {},
   "outputs": [],
   "source": [
    "pu.write_source_data(spg_source_dat, 'SOM_full_spg_source_data--TONIC')"
   ]
  },
  {
   "cell_type": "code",
   "execution_count": null,
   "id": "9a78a922",
   "metadata": {},
   "outputs": [],
   "source": [
    "fig_id = 'OFFIND_full_spg_rebound'\n",
    "fig_name = f'{SUBJECT_TYPE}__{fig_id}'\n",
    "fig_path = f'{notebook_figure_root}/{fig_name}.png'\n",
    "\n",
    "plt.rcdefaults()  # Reset to matplotlib defaults\n",
    "acr.plots.supl()\n",
    "plt.rcParams['xtick.bottom'] = True\n",
    "\n",
    "f, ax = plt.subplots(1, 1, figsize=(4.5, 3))\n",
    "sns.lineplot(data=rm_probe.xt('offind'), x='frequency', y='power_rel', hue='store', ax=ax, palette=[NNXR_GRAY, MAIN_COLOR], hue_order=['NNXr', 'NNXo'], errorbar='se', lw=4)\n",
    "\n",
    "ax.set_xlim(0, 20)  \n",
    "ax.set_xticks([0, 5, 10, 15, 20])\n",
    "ax.set_ylabel('')\n",
    "ax.set_xlabel('Frequency (Hz)')\n",
    "#remove the legend\n",
    "ax.legend_.remove()\n",
    "ax.set_ylim(0.9, 1.825)\n",
    "#ax.axhline(y=1.59, xmin=0.09, xmax=0.15)\n",
    "#ax.axvspan(0.3, 2.4, ymin=0.985, ymax=1.0)\n",
    "#ax.axvspan(2.6, 3.5, ymin=0.985, ymax=1.0)\n",
    "\n",
    "plt.savefig(fig_path, dpi=600, bbox_inches='tight', transparent=True)"
   ]
  },
  {
   "cell_type": "code",
   "execution_count": null,
   "id": "a609c107",
   "metadata": {},
   "outputs": [],
   "source": [
    "# =============================\n",
    "# ===== Write Source Data =====\n",
    "# =============================\n",
    "dfs = []\n",
    "freqs = []\n",
    "for freq in rm_probe.xt('offind')['frequency'].unique():\n",
    "    freqs.append(freq)\n",
    "    freq_df = rm_probe.xt('offind').filter(pl.col('frequency') == freq).sort(['store', 'subject'])\n",
    "    nnxr = freq_df.filter(pl.col('store') == 'NNXr')['power_rel'].to_numpy()\n",
    "    nnxo = freq_df.filter(pl.col('store') == 'NNXo')['power_rel'].to_numpy()\n",
    "    f = round(freq, 1)\n",
    "    fdf = pd.DataFrame({'freq_bin': f, 'contra_control_power': nnxr, 'optrode_power': nnxo, 'subject': np.arange(len(nnxr))})\n",
    "    dfs.append(fdf)\n",
    "spg_source_dat = pd.concat(dfs)"
   ]
  },
  {
   "cell_type": "code",
   "execution_count": null,
   "id": "86edb20b",
   "metadata": {},
   "outputs": [],
   "source": [
    "pu.write_source_data(spg_source_dat, 'SOM_full_spg_source_data--OFFIND')"
   ]
  }
 ],
 "metadata": {
  "kernelspec": {
   "display_name": "off_ind",
   "language": "python",
   "name": "python3"
  },
  "language_info": {
   "codemirror_mode": {
    "name": "ipython",
    "version": 3
   },
   "file_extension": ".py",
   "mimetype": "text/x-python",
   "name": "python",
   "nbconvert_exporter": "python",
   "pygments_lexer": "ipython3",
   "version": "3.12.10"
  }
 },
 "nbformat": 4,
 "nbformat_minor": 5
}
