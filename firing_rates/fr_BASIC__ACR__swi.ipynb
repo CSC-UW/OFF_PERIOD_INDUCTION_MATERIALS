{
 "cells": [
  {
   "cell_type": "code",
   "execution_count": null,
   "metadata": {},
   "outputs": [],
   "source": [
    "#-------------------------- Standard Imports --------------------------#\n",
    "%reload_ext autoreload\n",
    "%autoreload 2\n",
    "import pandas as pd\n",
    "import polars as pl\n",
    "import matplotlib.pyplot as plt\n",
    "import seaborn as sns\n",
    "import acr\n",
    "import pingouin as pg\n",
    "from scipy.stats import shapiro, normaltest\n",
    "import numpy as np\n",
    "import kdephys as kde\n",
    "\n",
    "import warnings\n",
    "warnings.filterwarnings('ignore')\n",
    "\n",
    "probe_ord = ['NNXr', 'NNXo']\n",
    "\n",
    "from acr.plots import lrg\n",
    "plt.rcdefaults()\n",
    "lrg()\n",
    "plt.rcParams['xtick.bottom'] = False\n",
    "#--------------------------------- Import Publication Functions ---------------------------------#\n",
    "pu = acr.utils.import_publication_functions('/home/kdriessen/gh_master/PUBLICATION__ACR/pub_utils.py', 'pub_utils')\n",
    "dag = acr.utils.import_publication_functions('/home/kdriessen/gh_master/PUBLICATION__ACR/data_agg.py', 'data_agg')\n",
    "from acr.utils import *"
   ]
  },
  {
   "cell_type": "code",
   "execution_count": null,
   "metadata": {},
   "outputs": [],
   "source": [
    "%connect_info"
   ]
  },
  {
   "cell_type": "code",
   "execution_count": null,
   "metadata": {},
   "outputs": [],
   "source": [
    "scd = {}\n",
    "scd['ACR_18'] = [3, 4, 5, 10]\n"
   ]
  },
  {
   "cell_type": "code",
   "execution_count": null,
   "metadata": {},
   "outputs": [],
   "source": [
    "from acr.utils import SOM_BLUE, ACR_BLUE, NNXR_GRAY\n",
    "\n",
    "MAIN_EXP = 'swi'\n",
    "SUBJECT_TYPE = 'acr'\n",
    "MAIN_COLOR = SOM_BLUE if SUBJECT_TYPE == 'som' else ACR_BLUE"
   ]
  },
  {
   "cell_type": "code",
   "execution_count": null,
   "metadata": {},
   "outputs": [],
   "source": [
    "plt.rcdefaults()\n",
    "acr.plots.supl()"
   ]
  },
  {
   "cell_type": "code",
   "execution_count": null,
   "metadata": {},
   "outputs": [],
   "source": [
    "subjects, exps = pu.get_subject_list(type=SUBJECT_TYPE, exp=MAIN_EXP)\n",
    "subjects, exps = pu.remove_subject('ACR_16', subjects, exps)\n",
    "notebook_figure_root = f'{pu.PAPER_FIGURE_ROOT}/firing_rates'"
   ]
  },
  {
   "cell_type": "code",
   "execution_count": null,
   "metadata": {},
   "outputs": [],
   "source": [
    "full_hyps = {}\n",
    "hyp_dicts = {}\n",
    "for subject, exp in zip(subjects, exps):\n",
    "    full_hyps[subject] = acr.io.load_hypno_full_exp(subject, exp)\n",
    "    hyp_dicts[subject] = acr.hypnogram_utils.create_acr_hyp_dict(subject, exp, true_stim=False, extra_rebounds=False)\n",
    "reb_hd = {}\n",
    "for subject, exp in zip(subjects, exps):\n",
    "    reb_hd[subject] = acr.hypnogram_utils.create_acr_hyp_dict(subject, exp, true_stim=True, extra_rebounds=True)"
   ]
  },
  {
   "cell_type": "code",
   "execution_count": null,
   "metadata": {},
   "outputs": [],
   "source": [
    "fr_dfs = {}\n",
    "for subject, exp in zip(subjects, exps):\n",
    "    fr = dag.load_raw_fr_df(subject, exp)\n",
    "    fr = acr.hypnogram_utils.label_df_with_hypno_conditions(fr, hyp_dicts[subject])\n",
    "    fr = acr.hypnogram_utils.label_df_with_hypno_conditions(fr, reb_hd[subject], label_col='reb_condition')\n",
    "    fr = acr.hypnogram_utils.label_df_with_states(fr, full_hyps[subject])\n",
    "    fr = acr.hypnogram_utils.label_df_with_full_bl(fr, state='NREM', col='datetime')\n",
    "    fr = dag.relativize_df(fr, ref_to_col='full_bl', ref_to_val='True', col_to_relativize='fr', on=['probe', 'channel'])\n",
    "    fr_dfs[subject] = fr\n",
    "frdf_all = pl.concat(fr_dfs.values())"
   ]
  },
  {
   "cell_type": "code",
   "execution_count": null,
   "metadata": {},
   "outputs": [],
   "source": [
    "fr_dfs_prb = {}\n",
    "for subject, exp in zip(subjects, exps):\n",
    "    fr = dag.load_raw_fr_df(subject, exp, data_dir=f'{acr.utils.pub_data_root}/raw_fr/by_probe')\n",
    "    fr = acr.hypnogram_utils.label_df_with_hypno_conditions(fr, hyp_dicts[subject])\n",
    "    fr = acr.hypnogram_utils.label_df_with_hypno_conditions(fr, reb_hd[subject], label_col='reb_condition')\n",
    "    fr = acr.hypnogram_utils.label_df_with_states(fr, full_hyps[subject])\n",
    "    fr = acr.hypnogram_utils.label_df_with_full_bl(fr, state='NREM', col='datetime')\n",
    "    fr = dag.relativize_df(fr, ref_to_col='condition', ref_to_val='early_sd', col_to_relativize='fr', on=['probe'])\n",
    "    fr_dfs_prb[subject] = fr"
   ]
  },
  {
   "cell_type": "markdown",
   "metadata": {},
   "source": [
    "# STIMULATION FIRING RATE"
   ]
  },
  {
   "cell_type": "code",
   "execution_count": null,
   "metadata": {},
   "outputs": [],
   "source": [
    "frdf_all = pl.concat(fr_dfs.values())\n",
    "frdf_prb = pl.concat(fr_dfs_prb.values())"
   ]
  },
  {
   "cell_type": "code",
   "execution_count": null,
   "metadata": {},
   "outputs": [],
   "source": [
    "scd = {}\n",
    "frdf = pu.drop_sub_channels(frdf_all, scd)\n",
    "#frdf_prb = pu.drop_sub_channels(frdf_all_prb, scd)"
   ]
  },
  {
   "cell_type": "code",
   "execution_count": null,
   "metadata": {},
   "outputs": [],
   "source": [
    "stimfr = frdf.filter(pl.col('condition')=='stim')\n",
    "#stimfr = pu.drop_sub_channels(stimfr, scd)\n",
    "stimfr_means = stimfr.group_by(['subject', 'probe']).agg(pl.col('fr_rel').mean())\n",
    "stimfr_means = stimfr_means.sort(['subject', 'probe'])\n",
    "stim_chan_means = stimfr.group_by(['subject', 'probe', 'channel']).agg(pl.col('fr_rel').mean())\n",
    "g = sns.catplot(data=stim_chan_means, x='channel', y='fr_rel', hue='probe', palette=[NNXR_GRAY, MAIN_COLOR], hue_order=probe_ord, row='subject', height=6, aspect=4, kind='bar')"
   ]
  },
  {
   "cell_type": "code",
   "execution_count": null,
   "metadata": {},
   "outputs": [],
   "source": [
    "fig_id = 'firing_rate_during_entire_stim'\n",
    "fig_name = f'{SUBJECT_TYPE}__{MAIN_EXP}__{fig_id}'\n",
    "fig_path = f'{notebook_figure_root}/{fig_name}.png'\n",
    "\n",
    "\n",
    "stimfr = frdf_prb.filter(pl.col('condition')=='stim')\n",
    "stimfr_means = stimfr.group_by(['subject', 'probe']).agg(pl.col('fr_rel').mean())\n",
    "stimfr_means = stimfr_means.sort(['subject', 'probe'])\n",
    "\n",
    "nnxr = stimfr_means.prb('NNXr')['fr_rel'].to_numpy()\n",
    "nnxo = stimfr_means.prb('NNXo')['fr_rel'].to_numpy()\n",
    "\n",
    "\n",
    "\n",
    "f, ax = acr.plots.gen_paired_boxplot(nnxr, nnxo, colors=[NNXR_GRAY, MAIN_COLOR])\n",
    "ax.set_xticklabels(['Contra. Control', 'Optrode'])\n",
    "f.savefig(fig_path, dpi=600, bbox_inches='tight', transparent=True)"
   ]
  },
  {
   "cell_type": "code",
   "execution_count": null,
   "metadata": {},
   "outputs": [],
   "source": [
    "# =============================\n",
    "# ========== STATS ============\n",
    "# =============================\n",
    "write = True\n",
    "\n",
    "diffs = nnxr - nnxo\n",
    "shap_stat, shap_p = shapiro(diffs) # test the paired differences for normality\n",
    "agostino_stat, agostino_p = normaltest(diffs) # test the paired differences for normality\n",
    "print(f'shapiro_p-value: {shap_p}')\n",
    "print(f'd,agostino_p-value: {agostino_p}')\n",
    "\n",
    "stats = pg.ttest(nnxr, nnxo, paired=True)\n",
    "# stats = pg.wilcoxon(nnxr, nnxo)\n",
    "\n",
    "hg = pg.compute_effsize(nnxr, nnxo, paired=True, eftype='hedges')\n",
    "print(f'hedges g: {hg}')\n",
    "\n",
    "#r = acr.stats.calculate_wilx_r(stats['W-val'][0], len(nnxr))\n",
    "\n",
    "\n",
    "if write:\n",
    "    # ==== Write Stats Results ====\n",
    "    stats_name = f'{fig_name}'\n",
    "    acr.stats.write_stats_result(stats_name, 'paired_ttest', stats['T'][0], stats['p-val'][0], 'g', hg)\n",
    "    \n",
    "    # ===== Write Source Data =====\n",
    "    source_data = pd.DataFrame({'contra_control': nnxr, 'off_induction': nnxo, 'subject': np.arange(len(nnxr))})\n",
    "    pu.write_source_data(source_data, stats_name)\n",
    "stats"
   ]
  },
  {
   "cell_type": "markdown",
   "metadata": {},
   "source": [
    "# REBOUND FIRING RATE"
   ]
  },
  {
   "cell_type": "code",
   "execution_count": null,
   "metadata": {},
   "outputs": [],
   "source": [
    "fr_dfs_prb = {}\n",
    "for subject, exp in zip(subjects, exps):\n",
    "    fr = dag.load_raw_fr_df(subject, exp, data_dir=f'{acr.utils.pub_data_root}/raw_fr/by_probe')\n",
    "    fr = acr.hypnogram_utils.label_df_with_hypno_conditions(fr, hyp_dicts[subject])\n",
    "    fr = acr.hypnogram_utils.label_df_with_hypno_conditions(fr, reb_hd[subject], label_col='reb_condition')\n",
    "    fr = acr.hypnogram_utils.label_df_with_states(fr, full_hyps[subject])\n",
    "    fr = acr.hypnogram_utils.label_df_with_full_bl(fr, state='NREM', col='datetime')\n",
    "    fr = dag.relativize_df(fr, ref_to_col='full_bl', ref_to_val='True', col_to_relativize='fr', on=['probe'])\n",
    "    fr_dfs_prb[subject] = fr\n",
    "frdf_prb = pl.concat(fr_dfs_prb.values())"
   ]
  },
  {
   "cell_type": "code",
   "execution_count": null,
   "metadata": {},
   "outputs": [],
   "source": [
    "rebfr = frdf.filter(pl.col('condition')=='rebound')\n",
    "rebfr_means = rebfr.group_by(['subject', 'probe']).agg(pl.col('fr_rel').mean())\n",
    "rebfr_means = rebfr_means.sort(['subject', 'probe'])\n",
    "reb_chan_means = rebfr.group_by(['subject', 'probe', 'channel']).agg(pl.col('fr_rel').mean())\n",
    "g = sns.catplot(data=reb_chan_means, x='channel', y='fr_rel', hue='probe', palette=[NNXR_GRAY, MAIN_COLOR], hue_order=probe_ord, row='subject', height=6, aspect=4, kind='bar')"
   ]
  },
  {
   "cell_type": "code",
   "execution_count": null,
   "metadata": {},
   "outputs": [],
   "source": [
    "fig_id = 'firing_rate_during_NREM_REBOUND_1HR'\n",
    "fig_name = f'{SUBJECT_TYPE}__{MAIN_EXP}__{fig_id}'\n",
    "fig_path = f'{notebook_figure_root}/{fig_name}.png'\n",
    "\n",
    "rebfr = frdf_prb.filter(pl.col('condition')=='rebound')\n",
    "rebfr_means = rebfr.group_by(['subject', 'probe']).agg(pl.col('fr_rel').mean())\n",
    "rebfr_means = rebfr_means.sort(['subject', 'probe'])\n",
    "\n",
    "nnxr = rebfr_means.prb('NNXr')['fr_rel'].to_numpy()\n",
    "nnxo = rebfr_means.prb('NNXo')['fr_rel'].to_numpy()\n",
    "\n",
    "f, ax = acr.plots.gen_paired_boxplot(nnxr, nnxo, colors=[NNXR_GRAY, MAIN_COLOR])\n",
    "ax.set_xticklabels(['Contra. Control', 'Optrode'])\n",
    "f.savefig(fig_path, dpi=600, bbox_inches='tight', transparent=True)\n",
    "\n",
    "\n",
    "# =============================\n",
    "# ========== STATS ============\n",
    "# =============================\n",
    "write = True\n",
    "\n",
    "diffs = nnxr - nnxo\n",
    "shap_stat, shap_p = shapiro(diffs) # test the paired differences for normality\n",
    "agostino_stat, agostino_p = normaltest(diffs) # test the paired differences for normality\n",
    "print(f'shapiro_p-value: {shap_p}')\n",
    "print(f'd,agostino_p-value: {agostino_p}')\n",
    "\n",
    "stats = pg.ttest(nnxr, nnxo, paired=True)\n",
    "#stats = pg.wilcoxon(nnxr, nnxo)\n",
    "\n",
    "hg = pg.compute_effsize(nnxr, nnxo, paired=True, eftype='hedges')\n",
    "print(f'hedges g: {hg}')\n",
    "\n",
    "#r = acr.stats.calculate_wilx_r(stats['W-val'][0], len(nnxr))\n",
    "\n",
    "\n",
    "if write:\n",
    "    # ==== Write Stats Results ====\n",
    "    stats_name = f'{fig_name}'\n",
    "    acr.stats.write_stats_result(stats_name, 'paired_ttest', stats['T'][0], stats['p-val'][0], 'g', hg)\n",
    "    #acr.stats.write_stats_result(stats_name, 'wilcoxon', stats['W-val'][0], stats['p-val'][0], 'r, RBC', [r, stats['RBC'][0]])\n",
    "    \n",
    "    # ===== Write Source Data =====\n",
    "    source_data = pd.DataFrame({'contra_control': nnxr, 'off_induction': nnxo, 'subject': np.arange(len(nnxr))})\n",
    "    pu.write_source_data(source_data, stats_name)\n",
    "stats"
   ]
  },
  {
   "cell_type": "markdown",
   "metadata": {},
   "source": [
    "# Recovery"
   ]
  },
  {
   "cell_type": "code",
   "execution_count": null,
   "metadata": {},
   "outputs": [],
   "source": [
    "rebfr2 = frdf_prb.filter(pl.col('reb_condition')=='reb2')\n",
    "rebfr2_means = rebfr2.group_by(['subject', 'probe']).agg(pl.col('fr_rel').mean())\n",
    "rebfr2_means = rebfr2_means.sort(['subject', 'probe'])\n",
    "#reb_chan_means2 = rebfr2.group_by(['subject', 'probe', 'channel']).agg(pl.col('fr_rel').mean())\n",
    "#g = sns.catplot(data=reb_chan_means, x='channel', y='fr_rel', hue='probe', palette=[NNXR_GRAY, MAIN_COLOR], hue_order=probe_ord, row='subject', height=6, aspect=4, kind='bar')"
   ]
  },
  {
   "cell_type": "code",
   "execution_count": null,
   "metadata": {},
   "outputs": [],
   "source": [
    "fig_id = 'firing_rate_after_NREM_REBOUND_HOUR-2'\n",
    "fig_name = f'{SUBJECT_TYPE}__{MAIN_EXP}__{fig_id}'\n",
    "fig_path = f'{notebook_figure_root}/{fig_name}.png'\n",
    "\n",
    "nnxr = rebfr2_means.prb('NNXr')['fr_rel'].to_numpy()\n",
    "nnxo = rebfr2_means.prb('NNXo')['fr_rel'].to_numpy()\n",
    "\n",
    "f, ax = acr.plots.gen_paired_boxplot(nnxr, nnxo, colors=[NNXR_GRAY, MAIN_COLOR])\n",
    "ax.set_xticklabels(['Contra. Control', 'Optrode'])\n",
    "f.savefig(fig_path, dpi=600, bbox_inches='tight', transparent=True)\n",
    "\n",
    "\n",
    "# =============================\n",
    "# ========== STATS ============\n",
    "# =============================\n",
    "write = True\n",
    "\n",
    "diffs = nnxr - nnxo\n",
    "shap_stat, shap_p = shapiro(diffs) # test the paired differences for normality\n",
    "agostino_stat, agostino_p = normaltest(diffs) # test the paired differences for normality\n",
    "print(f'shapiro_p-value: {shap_p}')\n",
    "print(f'd,agostino_p-value: {agostino_p}')\n",
    "\n",
    "stats = pg.ttest(nnxr, nnxo, paired=True)\n",
    "# stats = pg.wilcoxon(nnxr, nnxo)\n",
    "\n",
    "hg = pg.compute_effsize(nnxr, nnxo, paired=True, eftype='hedges')\n",
    "print(f'hedges g: {hg}')\n",
    "\n",
    "#r = acr.stats.calculate_wilx_r(stats['W-val'][0], len(nnxr))\n",
    "\n",
    "\n",
    "if write:\n",
    "    # ==== Write Stats Results ====\n",
    "    stats_name = f'{fig_name}'\n",
    "    acr.stats.write_stats_result(stats_name, 'paired_ttest', stats['T'][0], stats['p-val'][0], 'g', hg)\n",
    "    \n",
    "    # ===== Write Source Data =====\n",
    "    source_data = pd.DataFrame({'contra_control': nnxr, 'off_induction': nnxo, 'subject': np.arange(len(nnxr))})\n",
    "    pu.write_source_data(source_data, stats_name)\n",
    "stats"
   ]
  },
  {
   "cell_type": "code",
   "execution_count": null,
   "metadata": {},
   "outputs": [],
   "source": [
    "rebfr3 = frdf_prb.filter(pl.col('reb_condition')=='reb3')\n",
    "rebfr3_means = rebfr3.group_by(['subject', 'probe']).agg(pl.col('fr_rel').mean())\n",
    "rebfr3_means = rebfr3_means.sort(['subject', 'probe'])\n",
    "#reb_chan_means3 = rebfr3.group_by(['subject', 'probe', 'channel']).agg(pl.col('fr_rel').mean())\n",
    "#g = sns.catplot(data=reb_chan_means3, x='channel', y='fr_rel', hue='probe', palette=[NNXR_GRAY, MAIN_COLOR], hue_order=probe_ord, row='subject', height=6, aspect=4, kind='bar')"
   ]
  },
  {
   "cell_type": "code",
   "execution_count": null,
   "metadata": {},
   "outputs": [],
   "source": [
    "fig_id = 'firing_rate_after_NREM_REBOUND_HOUR-3'\n",
    "fig_name = f'{SUBJECT_TYPE}__{MAIN_EXP}__{fig_id}'\n",
    "fig_path = f'{notebook_figure_root}/{fig_name}.png'\n",
    "\n",
    "nnxr = rebfr3_means.prb('NNXr')['fr_rel'].to_numpy()\n",
    "nnxo = rebfr3_means.prb('NNXo')['fr_rel'].to_numpy()\n",
    "\n",
    "f, ax = acr.plots.gen_paired_boxplot(nnxr, nnxo, colors=[NNXR_GRAY, MAIN_COLOR])\n",
    "ax.set_xticklabels(['Contra. Control', 'Optrode'])\n",
    "f.savefig(fig_path, dpi=600, bbox_inches='tight', transparent=True)\n",
    "\n",
    "\n",
    "# =============================\n",
    "# ========== STATS ============\n",
    "# =============================\n",
    "write = True\n",
    "\n",
    "diffs = nnxr - nnxo\n",
    "shap_stat, shap_p = shapiro(diffs) # test the paired differences for normality\n",
    "agostino_stat, agostino_p = normaltest(diffs) # test the paired differences for normality\n",
    "print(f'shapiro_p-value: {shap_p}')\n",
    "print(f'd,agostino_p-value: {agostino_p}')\n",
    "\n",
    "stats = pg.ttest(nnxr, nnxo, paired=True)\n",
    "# stats = pg.wilcoxon(nnxr, nnxo)\n",
    "\n",
    "hg = pg.compute_effsize(nnxr, nnxo, paired=True, eftype='hedges')\n",
    "print(f'hedges g: {hg}')\n",
    "\n",
    "#r = acr.stats.calculate_wilx_r(stats['W-val'][0], len(nnxr))\n",
    "\n",
    "\n",
    "if write:\n",
    "    # ==== Write Stats Results ====\n",
    "    stats_name = f'{fig_name}'\n",
    "    acr.stats.write_stats_result(stats_name, 'paired_ttest', stats['T'][0], stats['p-val'][0], 'g', hg)\n",
    "    \n",
    "    # ===== Write Source Data =====\n",
    "    source_data = pd.DataFrame({'contra_control': nnxr, 'off_induction': nnxo, 'subject': np.arange(len(nnxr))})\n",
    "    pu.write_source_data(source_data, stats_name)\n",
    "stats"
   ]
  },
  {
   "cell_type": "code",
   "execution_count": null,
   "metadata": {},
   "outputs": [],
   "source": [
    "rebfr4 = frdf_prb.filter(pl.col('reb_condition')=='reb4')\n",
    "rebfr4_means = rebfr4.group_by(['subject', 'probe']).agg(pl.col('fr_rel').mean())\n",
    "rebfr4_means = rebfr4_means.sort(['subject', 'probe'])\n",
    "#reb_chan_means4 = rebfr4.group_by(['subject', 'probe', 'channel']).agg(pl.col('fr_rel').mean())\n",
    "#g = sns.catplot(data=reb_chan_means4, x='channel', y='fr_rel', hue='probe', palette=[NNXR_GRAY, MAIN_COLOR], hue_order=probe_ord, row='subject', height=6, aspect=4, kind='bar')"
   ]
  },
  {
   "cell_type": "code",
   "execution_count": null,
   "metadata": {},
   "outputs": [],
   "source": [
    "fig_id = 'firing_rate_after_NREM_REBOUND_HOUR-4'\n",
    "fig_name = f'{SUBJECT_TYPE}__{MAIN_EXP}__{fig_id}'\n",
    "fig_path = f'{notebook_figure_root}/{fig_name}.png'\n",
    "\n",
    "nnxr = rebfr4_means.prb('NNXr')['fr_rel'].to_numpy()\n",
    "nnxo = rebfr4_means.prb('NNXo')['fr_rel'].to_numpy()\n",
    "\n",
    "f, ax = acr.plots.gen_paired_boxplot(nnxr, nnxo, colors=[NNXR_GRAY, MAIN_COLOR])\n",
    "ax.set_xticklabels(['Contra. Control', 'Optrode'])\n",
    "f.savefig(fig_path, dpi=600, bbox_inches='tight', transparent=True)\n",
    "\n",
    "\n",
    "# =============================\n",
    "# ========== STATS ============\n",
    "# =============================\n",
    "write = True\n",
    "\n",
    "diffs = nnxr - nnxo\n",
    "shap_stat, shap_p = shapiro(diffs) # test the paired differences for normality\n",
    "agostino_stat, agostino_p = normaltest(diffs) # test the paired differences for normality\n",
    "print(f'shapiro_p-value: {shap_p}')\n",
    "print(f'd,agostino_p-value: {agostino_p}')\n",
    "\n",
    "stats = pg.ttest(nnxr, nnxo, paired=True)\n",
    "# stats = pg.wilcoxon(nnxr, nnxo)\n",
    "\n",
    "hg = pg.compute_effsize(nnxr, nnxo, paired=True, eftype='hedges')\n",
    "print(f'hedges g: {hg}')\n",
    "\n",
    "#r = acr.stats.calculate_wilx_r(stats['W-val'][0], len(nnxr))\n",
    "\n",
    "\n",
    "if write:\n",
    "    # ==== Write Stats Results ====\n",
    "    stats_name = f'{fig_name}'\n",
    "    acr.stats.write_stats_result(stats_name, 'paired_ttest', stats['T'][0], stats['p-val'][0], 'g', hg)\n",
    "    \n",
    "    # ===== Write Source Data =====\n",
    "    source_data = pd.DataFrame({'contra_control': nnxr, 'off_induction': nnxo, 'subject': np.arange(len(nnxr))})\n",
    "    pu.write_source_data(source_data, stats_name)\n",
    "stats"
   ]
  },
  {
   "cell_type": "code",
   "execution_count": null,
   "metadata": {},
   "outputs": [],
   "source": [
    "rebfr5 = frdf_prb.filter(pl.col('reb_condition')=='reb5')\n",
    "rebfr5_means = rebfr5.group_by(['subject', 'probe']).agg(pl.col('fr_rel').mean())\n",
    "rebfr5_means = rebfr5_means.sort(['subject', 'probe'])\n",
    "#reb_chan_means5 = rebfr5.group_by(['subject', 'probe', 'channel']).agg(pl.col('fr_rel').mean())\n",
    "#g = sns.catplot(data=reb_chan_means5, x='channel', y='fr_rel', hue='probe', palette=[NNXR_GRAY, MAIN_COLOR], hue_order=probe_ord, row='subject', height=6, aspect=4, kind='bar')"
   ]
  },
  {
   "cell_type": "code",
   "execution_count": null,
   "metadata": {},
   "outputs": [],
   "source": [
    "fig_id = 'firing_rate_after_NREM_REBOUND_HOUR-5'\n",
    "fig_name = f'{SUBJECT_TYPE}__{MAIN_EXP}__{fig_id}'\n",
    "fig_path = f'{notebook_figure_root}/{fig_name}.png'\n",
    "\n",
    "nnxr = rebfr5_means.prb('NNXr')['fr_rel'].to_numpy()\n",
    "nnxo = rebfr5_means.prb('NNXo')['fr_rel'].to_numpy()\n",
    "\n",
    "f, ax = acr.plots.gen_paired_boxplot(nnxr, nnxo, colors=[NNXR_GRAY, MAIN_COLOR])\n",
    "ax.set_xticklabels(['Contra. Control', 'Optrode'])\n",
    "f.savefig(fig_path, dpi=600, bbox_inches='tight', transparent=True)\n",
    "\n",
    "\n",
    "# =============================\n",
    "# ========== STATS ============\n",
    "# =============================\n",
    "write = True\n",
    "\n",
    "diffs = nnxr - nnxo\n",
    "shap_stat, shap_p = shapiro(diffs) # test the paired differences for normality\n",
    "agostino_stat, agostino_p = normaltest(diffs) # test the paired differences for normality\n",
    "print(f'shapiro_p-value: {shap_p}')\n",
    "print(f'd,agostino_p-value: {agostino_p}')\n",
    "\n",
    "stats = pg.ttest(nnxr, nnxo, paired=True)\n",
    "# stats = pg.wilcoxon(nnxr, nnxo)\n",
    "\n",
    "hg = pg.compute_effsize(nnxr, nnxo, paired=True, eftype='hedges')\n",
    "print(f'hedges g: {hg}')\n",
    "\n",
    "#r = acr.stats.calculate_wilx_r(stats['W-val'][0], len(nnxr))\n",
    "\n",
    "\n",
    "if write:\n",
    "    # ==== Write Stats Results ====\n",
    "    stats_name = f'{fig_name}'\n",
    "    acr.stats.write_stats_result(stats_name, 'paired_ttest', stats['T'][0], stats['p-val'][0], 'g', hg)\n",
    "    \n",
    "    # ===== Write Source Data =====\n",
    "    source_data = pd.DataFrame({'contra_control': nnxr, 'off_induction': nnxo, 'subject': np.arange(len(nnxr))})\n",
    "    pu.write_source_data(source_data, stats_name)\n",
    "stats"
   ]
  },
  {
   "cell_type": "markdown",
   "metadata": {},
   "source": [
    "## OVER Time"
   ]
  },
  {
   "cell_type": "code",
   "execution_count": null,
   "metadata": {},
   "outputs": [],
   "source": [
    "frdf_prb = frdf_prb.sort(['datetime', 'subject', 'probe'])\n",
    "frsubs = frdf_prb.group_by_dynamic(index_column='datetime', every='20s', closed='left', group_by=['subject', 'probe'], start_by='datapoint').agg(pl.col('fr_rel').mean())"
   ]
  },
  {
   "cell_type": "code",
   "execution_count": null,
   "metadata": {},
   "outputs": [],
   "source": [
    "dfs = []\n",
    "for subject in frsubs['subject'].unique():\n",
    "    df = frsubs.filter(pl.col('subject') == subject)\n",
    "    df = acr.hypnogram_utils.label_df_with_states(df, full_hyps[subject])\n",
    "    dfs.append(df)\n",
    "frsubs = pl.concat(dfs)\n",
    "frsubs = frsubs.sort(['subject', 'probe', 'datetime'])"
   ]
  },
  {
   "cell_type": "code",
   "execution_count": null,
   "metadata": {},
   "outputs": [],
   "source": [
    "dfs = []\n",
    "for subject in frsubs['subject'].unique():\n",
    "    rs = hyp_dicts[subject]['rebound']['start_time'].min()\n",
    "    df = frsubs.filter(pl.col('subject') == subject).ts(rs, rs+pd.Timedelta(hours=24)).st('NREM').sort('datetime')\n",
    "    for probe in ['NNXo', 'NNXr']:\n",
    "        pdf = df.prb(probe)\n",
    "        bouts = np.arange(0, len(pdf), 1)\n",
    "        bouts = bouts/3\n",
    "        pdf = pdf.with_columns(bout=pl.lit(bouts))\n",
    "        print(subject, len(bouts))\n",
    "        dfs.append(pdf)\n",
    "frreb = pl.concat(dfs)\n",
    "frreb_bouts = frreb.group_by(['subject', 'bout', 'probe']).agg(pl.col('fr_rel').mean()).sort(['subject', 'probe', 'bout'])"
   ]
  },
  {
   "cell_type": "code",
   "execution_count": null,
   "metadata": {},
   "outputs": [],
   "source": [
    "fig_id = 'rebound_FIRING-RATE_recovery_over_time'\n",
    "fig_name = f'{SUBJECT_TYPE}__{MAIN_EXP}__{fig_id}'\n",
    "fig_path = f'{notebook_figure_root}/{fig_name}.png'\n",
    "\n",
    "f, ax = plt.subplots(1, 1, figsize=(16, 8))\n",
    "sns.lineplot(data=frreb_bouts.to_pandas(), x='bout', y='fr_rel', hue='probe', hue_order=['NNXr', 'NNXo'], palette=[NNXR_GRAY, MAIN_COLOR], ax=ax, errorbar='se')\n",
    "ax.axhline(1.0, color='red', linestyle='--')\n",
    "ax.set_xlim(0, 300)\n",
    "ax.set_ylabel('')\n",
    "ax.set_xlabel('Time (min)')\n",
    "ax.legend().remove()\n",
    "ax.set_ylim(0.62, 1.4)\n",
    "f.savefig(fig_path, dpi=600, bbox_inches='tight', transparent=True)"
   ]
  },
  {
   "cell_type": "code",
   "execution_count": null,
   "metadata": {},
   "outputs": [],
   "source": [
    "for subject in subjects:\n",
    "    df = frreb_bouts.filter(pl.col('subject') == subject)\n",
    "    f, ax = plt.subplots(1, 1, figsize=(28, 8))\n",
    "    sns.lineplot(data=df.to_pandas(), x='bout', y='fr_rel', hue='probe', hue_order=['NNXr', 'NNXo'], palette=[NNXR_GRAY, MAIN_COLOR], ax=ax)\n",
    "    ax.set_title(f'{subject}')\n",
    "    plt.show()"
   ]
  },
  {
   "cell_type": "markdown",
   "metadata": {},
   "source": [
    "# REM"
   ]
  },
  {
   "cell_type": "code",
   "execution_count": null,
   "metadata": {},
   "outputs": [],
   "source": [
    "rdfs = []\n",
    "for subject in subjects:\n",
    "    subdf = frdf_prb.filter(pl.col('subject') == subject)\n",
    "    reb_start = hyp_dicts[subject]['rebound']['start_time'].min()\n",
    "    reb_end = hyp_dicts[subject]['rebound']['end_time'].max()\n",
    "    subdf = subdf.ts(reb_start, reb_end).filter(pl.col('state') == 'REM')\n",
    "    rdfs.append(subdf)\n",
    "rdf = pl.concat(rdfs)"
   ]
  },
  {
   "cell_type": "code",
   "execution_count": null,
   "metadata": {},
   "outputs": [],
   "source": [
    "rdf_means = rdf.group_by(['subject', 'probe']).agg(pl.col('fr_rel').mean())"
   ]
  },
  {
   "cell_type": "code",
   "execution_count": null,
   "metadata": {},
   "outputs": [],
   "source": [
    "fig_id = 'firing_rate_during_REM_REBOUND_1HR'\n",
    "fig_name = f'{SUBJECT_TYPE}__{MAIN_EXP}__{fig_id}'\n",
    "fig_path = f'{notebook_figure_root}/{fig_name}.png'\n",
    "\n",
    "nnxr = rdf_means.prb('NNXr')['fr_rel'].to_numpy()\n",
    "nnxo = rdf_means.prb('NNXo')['fr_rel'].to_numpy()\n",
    "\n",
    "f, ax = acr.plots.gen_paired_boxplot(nnxr, nnxo, colors=[NNXR_GRAY, MAIN_COLOR])\n",
    "ax.set_xticklabels(['Contra. Control', 'Optrode'])\n",
    "#f.savefig(fig_path, dpi=600, bbox_inches='tight', transparent=True)"
   ]
  },
  {
   "cell_type": "code",
   "execution_count": null,
   "metadata": {},
   "outputs": [],
   "source": [
    "# =============================\n",
    "# ========== STATS ============\n",
    "# =============================\n",
    "write = False\n",
    "\n",
    "diffs = nnxr - nnxo\n",
    "shap_stat, shap_p = shapiro(diffs) # test the paired differences for normality\n",
    "agostino_stat, agostino_p = normaltest(diffs) # test the paired differences for normality\n",
    "print(f'shapiro_p-value: {shap_p}')\n",
    "print(f'd,agostino_p-value: {agostino_p}')\n",
    "\n",
    "stats = pg.ttest(nnxr, nnxo, paired=True)\n",
    "# stats = pg.wilcoxon(nnxr, nnxo)\n",
    "\n",
    "hg = pg.compute_effsize(nnxr, nnxo, paired=True, eftype='hedges')\n",
    "print(f'hedges g: {hg}')\n",
    "\n",
    "#r = acr.stats.calculate_wilx_r(stats['W-val'][0], len(nnxr))\n",
    "\n",
    "\n",
    "if write:\n",
    "    # ==== Write Stats Results ====\n",
    "    stats_name = f'{fig_name}'\n",
    "    acr.stats.write_stats_result(stats_name, 'paired_ttest', stats['T'][0], stats['p-val'][0], 'g', hg)\n",
    "    \n",
    "    # ===== Write Source Data =====\n",
    "    source_data = pd.DataFrame({'contra_control': nnxr, 'off_induction': nnxo, 'subject': np.arange(len(nnxr))})\n",
    "    pu.write_source_data(source_data, stats_name)\n",
    "stats"
   ]
  },
  {
   "cell_type": "markdown",
   "metadata": {},
   "source": [
    "# BY DEPTH - NOT READY FOR PRODUCTION"
   ]
  },
  {
   "cell_type": "code",
   "execution_count": null,
   "metadata": {},
   "outputs": [],
   "source": [
    "# NOTE: THIS ANALYSIS IS NOT COMPLETED, NOT INCLUDED IN ANY FINAL VERSION."
   ]
  },
  {
   "cell_type": "code",
   "execution_count": null,
   "metadata": {},
   "outputs": [],
   "source": [
    "nbroot = f'{acr.utils.PAPER_FIGURE_ROOT}/firing_rates/by_depth'"
   ]
  },
  {
   "cell_type": "code",
   "execution_count": null,
   "metadata": {},
   "outputs": [],
   "source": [
    "rebfr = frdf.filter(pl.col('condition')=='rebound')\n",
    "rebfr = acr.info_pipeline.label_df_sub_infra(rebfr)\n",
    "reb_fr_means = rebfr.group_by(['subject', 'probe', 'label']).agg(pl.col('fr_rel').mean()).sort(['subject', 'probe', 'label'])"
   ]
  },
  {
   "cell_type": "code",
   "execution_count": null,
   "metadata": {},
   "outputs": [],
   "source": [
    "fig_id = 'firing_rate_1hr_NREM_rebound--infragranular'\n",
    "fig_name = f'{SUBJECT_TYPE}__{MAIN_EXP}__{fig_id}'\n",
    "fig_path = f'{nbroot}/{fig_name}.png'\n",
    "\n",
    "nnxr = reb_fr_means.filter(pl.col('label')=='infragranular').prb('NNXr')['fr_rel'].to_numpy()\n",
    "nnxo = reb_fr_means.filter(pl.col('label')=='infragranular').prb('NNXo')['fr_rel'].to_numpy()\n",
    "f, ax = acr.plots.gen_paired_boxplot(nnxr, nnxo, colors=[NNXR_GRAY, MAIN_COLOR])\n",
    "\n",
    "plt.savefig(fig_path, dpi=600, bbox_inches='tight', transparent=True)\n",
    "\n",
    "# =============================\n",
    "# ========== STATS ============\n",
    "# =============================\n",
    "write = True\n",
    "\n",
    "diffs = nnxr - nnxo\n",
    "shap_stat, shap_p = shapiro(diffs) # test the paired differences for normality\n",
    "agostino_stat, agostino_p = normaltest(diffs) # test the paired differences for normality\n",
    "print(f'shapiro_p-value: {shap_p}')\n",
    "print(f'd,agostino_p-value: {agostino_p}')\n",
    "\n",
    "stats = pg.ttest(nnxr, nnxo, paired=True)\n",
    "# stats = pg.wilcoxon(nnxr, nnxo)\n",
    "\n",
    "hg = pg.compute_effsize(nnxr, nnxo, paired=True, eftype='hedges')\n",
    "print(f'hedges g: {hg}')\n",
    "\n",
    "#r = acr.stats.calculate_wilx_r(stats['W-val'][0], len(nnxr))\n",
    "\n",
    "\n",
    "if write:\n",
    "    # ==== Write Stats Results ====\n",
    "    stats_name = f'{fig_name}'\n",
    "    acr.stats.write_stats_result(stats_name, 'paired_ttest', stats['T'][0], stats['p-val'][0], 'g', hg)\n",
    "    \n",
    "    # ===== Write Source Data =====\n",
    "    source_data = pd.DataFrame({'contra_control': nnxr, 'off_induction': nnxo, 'subject': np.arange(len(nnxr))})\n",
    "    pu.write_source_data(source_data, stats_name)\n",
    "stats"
   ]
  },
  {
   "cell_type": "code",
   "execution_count": null,
   "metadata": {},
   "outputs": [],
   "source": [
    "fig_id = 'firing_rate_1hr_NREM_rebound--granular'\n",
    "fig_name = f'{SUBJECT_TYPE}__{MAIN_EXP}__{fig_id}'\n",
    "fig_path = f'{nbroot}/{fig_name}.png'\n",
    "\n",
    "nnxr = reb_fr_means.filter(pl.col('label')=='granular').prb('NNXr')['fr_rel'].to_numpy()\n",
    "nnxo = reb_fr_means.filter(pl.col('label')=='granular').prb('NNXo')['fr_rel'].to_numpy()\n",
    "f, ax = acr.plots.gen_paired_boxplot(nnxr, nnxo, colors=[NNXR_GRAY, MAIN_COLOR])\n",
    "\n",
    "plt.savefig(fig_path, dpi=600, bbox_inches='tight', transparent=True)\n",
    "\n",
    "# =============================\n",
    "# ========== STATS ============\n",
    "# =============================\n",
    "write = True\n",
    "\n",
    "diffs = nnxr - nnxo\n",
    "shap_stat, shap_p = shapiro(diffs) # test the paired differences for normality\n",
    "print(f'shapiro_p-value: {shap_p}')\n",
    "\n",
    "stats = pg.ttest(nnxr, nnxo, paired=True)\n",
    "# stats = pg.wilcoxon(nnxr, nnxo)\n",
    "\n",
    "hg = pg.compute_effsize(nnxr, nnxo, paired=True, eftype='hedges')\n",
    "print(f'hedges g: {hg}')\n",
    "\n",
    "#r = acr.stats.calculate_wilx_r(stats['W-val'][0], len(nnxr))\n",
    "\n",
    "\n",
    "if write:\n",
    "    # ==== Write Stats Results ====\n",
    "    stats_name = f'{fig_name}'\n",
    "    acr.stats.write_stats_result(stats_name, 'paired_ttest', stats['T'][0], stats['p-val'][0], 'g', hg)\n",
    "    \n",
    "    # ===== Write Source Data =====\n",
    "    source_data = pd.DataFrame({'contra_control': nnxr, 'off_induction': nnxo, 'subject': np.arange(len(nnxr))})\n",
    "    pu.write_source_data(source_data, stats_name)\n",
    "stats"
   ]
  },
  {
   "cell_type": "code",
   "execution_count": null,
   "metadata": {},
   "outputs": [],
   "source": [
    "fig_id = 'firing_rate_1hr_NREM_rebound--subgranular'\n",
    "fig_name = f'{SUBJECT_TYPE}__{MAIN_EXP}__{fig_id}'\n",
    "fig_path = f'{nbroot}/{fig_name}.png'\n",
    "\n",
    "nnxr = reb_fr_means.filter(pl.col('label')=='subgranular').prb('NNXr')['fr_rel'].to_numpy()\n",
    "nnxo = reb_fr_means.filter(pl.col('label')=='subgranular').prb('NNXo')['fr_rel'].to_numpy()\n",
    "f, ax = acr.plots.gen_paired_boxplot(nnxr, nnxo, colors=[NNXR_GRAY, MAIN_COLOR])\n",
    "\n",
    "plt.savefig(fig_path, dpi=600, bbox_inches='tight', transparent=True)\n",
    "\n",
    "# =============================\n",
    "# ========== STATS ============\n",
    "# =============================\n",
    "write = True\n",
    "\n",
    "diffs = nnxr - nnxo\n",
    "shap_stat, shap_p = shapiro(diffs) # test the paired differences for normality\n",
    "print(f'shapiro_p-value: {shap_p}')\n",
    "\n",
    "stats = pg.ttest(nnxr, nnxo, paired=True)\n",
    "# stats = pg.wilcoxon(nnxr, nnxo)\n",
    "\n",
    "hg = pg.compute_effsize(nnxr, nnxo, paired=True, eftype='hedges')\n",
    "print(f'hedges g: {hg}')\n",
    "\n",
    "#r = acr.stats.calculate_wilx_r(stats['W-val'][0], len(nnxr))\n",
    "\n",
    "\n",
    "if write:\n",
    "    # ==== Write Stats Results ====\n",
    "    stats_name = f'{fig_name}'\n",
    "    acr.stats.write_stats_result(stats_name, 'paired_ttest', stats['T'][0], stats['p-val'][0], 'g', hg)\n",
    "    \n",
    "    # ===== Write Source Data =====\n",
    "    source_data = pd.DataFrame({'contra_control': nnxr, 'off_induction': nnxo, 'subject': np.arange(len(nnxr))})\n",
    "    pu.write_source_data(source_data, stats_name)\n",
    "stats"
   ]
  },
  {
   "cell_type": "markdown",
   "metadata": {},
   "source": [
    "# ON-PERIOD-Specific"
   ]
  },
  {
   "cell_type": "code",
   "execution_count": null,
   "metadata": {},
   "outputs": [],
   "source": [
    "oodfs = {}\n",
    "for subject, exp in zip(subjects, exps):\n",
    "    print(subject)\n",
    "    hdf = dag.compute_hybrid_off_df(subject, exp, chan_threshold=12)\n",
    "    hdf = acr.oo_utils.enhance_oodf(hdf, full_hyps[subject], hyp_dicts[subject])\n",
    "    oodfs[subject] = hdf"
   ]
  },
  {
   "cell_type": "code",
   "execution_count": null,
   "metadata": {},
   "outputs": [],
   "source": [
    "on_dfs = {}\n",
    "for subject in oodfs.keys():\n",
    "    on_df = dag.compute_hybrid_on_df(oodfs[subject])\n",
    "    on_df = acr.oo_utils.enhance_oodf(on_df, full_hyps[subject], hyp_dicts[subject])\n",
    "    on_dfs[subject] = on_df\n",
    "ondf = pl.concat(on_dfs.values())"
   ]
  },
  {
   "cell_type": "code",
   "execution_count": null,
   "metadata": {},
   "outputs": [],
   "source": [
    "spk = {}\n",
    "for subject in on_dfs.keys():\n",
    "    bin_counts = dag.load_binned_spikes(subject, acr.utils.sub_swi_exps[subject][0])\n",
    "    spk[subject] = bin_counts"
   ]
  },
  {
   "cell_type": "code",
   "execution_count": null,
   "metadata": {},
   "outputs": [],
   "source": [
    "better_on_dfs = []\n",
    "for subject in on_dfs.keys():\n",
    "    for probe in ['NNXr', 'NNXo']:\n",
    "        on = ondf.filter(pl.col('subject')==subject).prb(probe)\n",
    "        spk_counts = spk[subject][probe]\n",
    "        on = add_global_spk_rate(on, spk_counts)\n",
    "        on = acr.oo_utils.relativize_oodf(on, ref_to_col='full_bl', ref_to_val='True', col_to_relativize='spk_rate')\n",
    "        better_on_dfs.append(on)\n",
    "onn = pl.concat(better_on_dfs)"
   ]
  },
  {
   "cell_type": "code",
   "execution_count": null,
   "metadata": {},
   "outputs": [],
   "source": [
    "onn_cond = onn.filter(pl.col('condition') != 'None')\n",
    "onn_means = onn_cond.group_by(['subject', 'probe', 'condition']).agg(pl.col('spk_rate_rel').mean())\n",
    "reb_on_fr = onn_cond.filter(pl.col('condition')=='rebound')\n",
    "rebon_means = reb_on_fr.group_by(['subject', 'probe']).agg(pl.col('spk_rate_rel').mean()).sort(['subject', 'probe'])"
   ]
  },
  {
   "cell_type": "code",
   "execution_count": null,
   "metadata": {},
   "outputs": [],
   "source": [
    "total_on_time = onn_cond.group_by(['subject', 'probe', 'condition']).agg(pl.col('duration').sum()).sort(['subject', 'probe', 'condition'])"
   ]
  },
  {
   "cell_type": "code",
   "execution_count": null,
   "metadata": {},
   "outputs": [],
   "source": [
    "f, ax = plt.subplots(figsize=(25, 10))\n",
    "sns.stripplot(data=onn_means, x='condition', y='spk_rate_rel', hue='probe', order=['early_bl', 'circ_bl', 'rebound'])"
   ]
  },
  {
   "cell_type": "code",
   "execution_count": null,
   "metadata": {},
   "outputs": [],
   "source": [
    "nnxr = rebon_means.prb('NNXr')['spk_rate_rel'].to_numpy()\n",
    "nnxo = rebon_means.prb('NNXo')['spk_rate_rel'].to_numpy()\n",
    "plt.rcdefaults()\n",
    "plt.style.use('fivethirtyeight')\n",
    "f, ax = acr.plots.gen_paired_boxplot(nnxr, nnxo)"
   ]
  },
  {
   "cell_type": "code",
   "execution_count": null,
   "metadata": {},
   "outputs": [],
   "source": [
    "t50_on_dfs = []\n",
    "for subject in on_dfs.keys():\n",
    "    for probe in ['NNXr', 'NNXo']:\n",
    "        on = ondf.filter(pl.col('subject')==subject).prb(probe)\n",
    "        spk_counts = spk[subject][probe]\n",
    "        on = add_global_spk_rate(on, spk_counts, use_ends=0.05)\n",
    "        on = acr.oo_utils.relativize_oodf(on, ref_to_col='full_bl', ref_to_val='True', col_to_relativize='spk_rate')\n",
    "        better_on_dfs.append(on)\n",
    "onn_50 = pl.concat(better_on_dfs)"
   ]
  }
 ],
 "metadata": {
  "kernelspec": {
   "display_name": "off_ind",
   "language": "python",
   "name": "python3"
  },
  "language_info": {
   "codemirror_mode": {
    "name": "ipython",
    "version": 3
   },
   "file_extension": ".py",
   "mimetype": "text/x-python",
   "name": "python",
   "nbconvert_exporter": "python",
   "pygments_lexer": "ipython3",
   "version": "3.12.10"
  }
 },
 "nbformat": 4,
 "nbformat_minor": 2
}
