{
 "cells": [
  {
   "cell_type": "code",
   "execution_count": null,
   "metadata": {},
   "outputs": [],
   "source": [
    "#-------------------------- Standard Imports --------------------------#\n",
    "%reload_ext autoreload\n",
    "%autoreload 2\n",
    "import pandas as pd\n",
    "import polars as pl\n",
    "import matplotlib.pyplot as plt\n",
    "import seaborn as sns\n",
    "import acr\n",
    "import pingouin as pg\n",
    "from scipy.stats import shapiro, normaltest\n",
    "import numpy as np\n",
    "import kdephys as kde\n",
    "\n",
    "import warnings\n",
    "warnings.filterwarnings('ignore')\n",
    "\n",
    "probe_ord = ['NNXr', 'NNXo']\n",
    "\n",
    "from acr.plots import lrg\n",
    "plt.rcdefaults()\n",
    "lrg()\n",
    "plt.rcParams['xtick.bottom'] = False\n",
    "#--------------------------------- Import Publication Functions ---------------------------------#\n",
    "pu = acr.utils.import_publication_functions('/home/kdriessen/gh_master/PUBLICATION__ACR/pub_utils.py', 'pub_utils')\n",
    "dag = acr.utils.import_publication_functions('/home/kdriessen/gh_master/PUBLICATION__ACR/data_agg.py', 'data_agg')\n",
    "from acr.utils import *"
   ]
  },
  {
   "cell_type": "code",
   "execution_count": null,
   "metadata": {},
   "outputs": [],
   "source": [
    "%connect_info"
   ]
  },
  {
   "cell_type": "code",
   "execution_count": null,
   "metadata": {},
   "outputs": [],
   "source": [
    "scd = {}\n",
    "#scd['ACR_29'] = [1, 2, 3, 4]\n",
    "#scd['ACR_44'] = [14]\n",
    "#scd['ACR_37'] = [4]"
   ]
  },
  {
   "cell_type": "code",
   "execution_count": null,
   "metadata": {},
   "outputs": [],
   "source": [
    "from acr.utils import SOM_BLUE, ACR_BLUE, NNXR_GRAY\n",
    "\n",
    "MAIN_EXP = 'swi'\n",
    "SUBJECT_TYPE = 'control'\n",
    "MAIN_COLOR = CTRL_BLUE"
   ]
  },
  {
   "cell_type": "code",
   "execution_count": null,
   "metadata": {},
   "outputs": [],
   "source": [
    "plt.rcdefaults()\n",
    "acr.plots.supl()"
   ]
  },
  {
   "cell_type": "code",
   "execution_count": null,
   "metadata": {},
   "outputs": [],
   "source": [
    "subjects, exps = pu.get_subject_list(type=SUBJECT_TYPE, exp=MAIN_EXP)\n",
    "notebook_figure_root = f'{pu.PAPER_FIGURE_ROOT}/firing_rates'"
   ]
  },
  {
   "cell_type": "code",
   "execution_count": null,
   "metadata": {},
   "outputs": [],
   "source": [
    "full_hyps = {}\n",
    "hyp_dicts = {}\n",
    "for subject, exp in zip(subjects, exps):\n",
    "    full_hyps[subject] = acr.io.load_hypno_full_exp(subject, exp)\n",
    "    hyp_dicts[subject] = acr.hypnogram_utils.create_acr_hyp_dict(subject, exp, true_stim=False, extra_rebounds=False)\n",
    "#reb_hd = {}\n",
    "#for subject, exp in zip(subjects, exps):\n",
    "#    reb_hd[subject] = acr.hypnogram_utils.create_acr_hyp_dict(subject, exp, true_stim=True, extra_rebounds=True)"
   ]
  },
  {
   "cell_type": "code",
   "execution_count": null,
   "metadata": {},
   "outputs": [],
   "source": [
    "fr_dfs = {}\n",
    "for subject, exp in zip(subjects, exps):\n",
    "    fr = dag.load_raw_fr_df(subject, exp, data_dir=f'{acr.utils.pub_data_root}/raw_fr/by_probe')\n",
    "    fr = acr.hypnogram_utils.label_df_with_hypno_conditions(fr, hyp_dicts[subject], )\n",
    "    fr = acr.hypnogram_utils.label_df_with_states(fr, full_hyps[subject])\n",
    "    fr = acr.hypnogram_utils.label_df_with_full_bl(fr, state='NREM', col='datetime')\n",
    "    fr = dag.relativize_df(fr, ref_to_col='condition', ref_to_val='early_sd', col_to_relativize='fr', on=['probe'])\n",
    "    fr_dfs[subject] = fr\n",
    "frdf_all = pl.concat(fr_dfs.values())"
   ]
  },
  {
   "cell_type": "markdown",
   "metadata": {},
   "source": [
    "# STIMULATION FIRING RATE"
   ]
  },
  {
   "cell_type": "code",
   "execution_count": null,
   "metadata": {},
   "outputs": [],
   "source": [
    "frdf = pu.drop_sub_channels(frdf_all, scd)"
   ]
  },
  {
   "cell_type": "code",
   "execution_count": null,
   "metadata": {},
   "outputs": [],
   "source": [
    "stimfr = frdf.filter(pl.col('condition')=='stim')\n",
    "#stimfr = pu.drop_sub_channels(stimfr, scd)\n",
    "stimfr_means = stimfr.group_by(['subject', 'probe']).agg(pl.col('fr_rel').mean())\n",
    "stimfr_means = stimfr_means.sort(['subject', 'probe'])\n",
    "#stim_chan_means = stimfr.group_by(['subject', 'probe', 'channel']).agg(pl.col('fr_rel').mean())\n",
    "#g = sns.catplot(data=stim_chan_means, x='channel', y='fr_rel', hue='probe', palette=[NNXR_GRAY, MAIN_COLOR], hue_order=probe_ord, row='subject', height=6, aspect=4, kind='bar')"
   ]
  },
  {
   "cell_type": "code",
   "execution_count": null,
   "metadata": {},
   "outputs": [],
   "source": [
    "fig_id = 'firing_rate_during_entire_stim'\n",
    "fig_name = f'{SUBJECT_TYPE}__{MAIN_EXP}__{fig_id}'\n",
    "fig_path = f'{notebook_figure_root}/{fig_name}.png'\n",
    "\n",
    "nnxr = stimfr_means.prb('NNXr')['fr_rel'].to_numpy()\n",
    "nnxo = stimfr_means.prb('NNXo')['fr_rel'].to_numpy()\n",
    "\n",
    "f, ax = acr.plots.gen_paired_boxplot(nnxr, nnxo, colors=[NNXR_GRAY, MAIN_COLOR])\n",
    "ax.set_xticklabels(['Contra. Control', 'Optrode'])\n",
    "f.savefig(fig_path, dpi=600, bbox_inches='tight', transparent=True)"
   ]
  },
  {
   "cell_type": "code",
   "execution_count": null,
   "metadata": {},
   "outputs": [],
   "source": [
    "# =============================\n",
    "# ========== STATS ============\n",
    "# =============================\n",
    "write = True\n",
    "\n",
    "diffs = nnxr - nnxo\n",
    "shap_stat, shap_p = shapiro(diffs) # test the paired differences for normality\n",
    "print(f'shapiro_p-value: {shap_p}')\n",
    "\n",
    "stats = pg.ttest(nnxr, nnxo, paired=True)\n",
    "# stats = pg.wilcoxon(nnxr, nnxo)\n",
    "\n",
    "hg = pg.compute_effsize(nnxr, nnxo, paired=True, eftype='hedges')\n",
    "print(f'hedges g: {hg}')\n",
    "\n",
    "#r = acr.stats.calculate_wilx_r(stats['W-val'][0], len(nnxr))\n",
    "\n",
    "\n",
    "if write:\n",
    "    # ==== Write Stats Results ====\n",
    "    stats_name = f'{fig_name}'\n",
    "    acr.stats.write_stats_result(stats_name, 'paired_ttest', stats['T'][0], stats['p-val'][0], 'g', hg)\n",
    "    \n",
    "    # ===== Write Source Data =====\n",
    "    source_data = pd.DataFrame({'contra_control': nnxr, 'off_induction': nnxo, 'subject': np.arange(len(nnxr))})\n",
    "    pu.write_source_data(source_data, stats_name)\n",
    "stats"
   ]
  },
  {
   "cell_type": "markdown",
   "metadata": {},
   "source": [
    "# REBOUND FIRING RATE"
   ]
  },
  {
   "cell_type": "code",
   "execution_count": null,
   "metadata": {},
   "outputs": [],
   "source": [
    "fr_dfs = {}\n",
    "for subject, exp in zip(subjects, exps):\n",
    "    fr = dag.load_raw_fr_df(subject, exp, data_dir=f'{acr.utils.pub_data_root}/raw_fr/by_probe')\n",
    "    fr = acr.hypnogram_utils.label_df_with_hypno_conditions(fr, hyp_dicts[subject], )\n",
    "    fr = acr.hypnogram_utils.label_df_with_states(fr, full_hyps[subject])\n",
    "    fr = acr.hypnogram_utils.label_df_with_full_bl(fr, state='NREM', col='datetime')\n",
    "    fr = dag.relativize_df(fr, ref_to_col='full_bl', ref_to_val='True', col_to_relativize='fr', on=['probe'])\n",
    "    fr_dfs[subject] = fr\n",
    "frdf_all = pl.concat(fr_dfs.values())"
   ]
  },
  {
   "cell_type": "code",
   "execution_count": null,
   "metadata": {},
   "outputs": [],
   "source": [
    "frdf = pu.drop_sub_channels(frdf_all, scd)"
   ]
  },
  {
   "cell_type": "code",
   "execution_count": null,
   "metadata": {},
   "outputs": [],
   "source": [
    "rebfr = frdf.filter(pl.col('condition')=='rebound')\n",
    "rebfr_means = rebfr.group_by(['subject', 'probe']).agg(pl.col('fr_rel').mean())\n",
    "rebfr_means = rebfr_means.sort(['subject', 'probe'])\n",
    "#reb_chan_means = rebfr.group_by(['subject', 'probe', 'channel']).agg(pl.col('fr_rel').mean())\n",
    "#g = sns.catplot(data=reb_chan_means, x='channel', y='fr_rel', hue='probe', palette=[NNXR_GRAY, MAIN_COLOR], hue_order=probe_ord, row='subject', height=6, aspect=4, kind='bar')"
   ]
  },
  {
   "cell_type": "code",
   "execution_count": null,
   "metadata": {},
   "outputs": [],
   "source": [
    "fig_id = 'firing_rate_during_NREM_REBOUND_1HR'\n",
    "fig_name = f'{SUBJECT_TYPE}__{MAIN_EXP}__{fig_id}'\n",
    "fig_path = f'{notebook_figure_root}/{fig_name}.png'\n",
    "\n",
    "nnxr = rebfr_means.prb('NNXr')['fr_rel'].to_numpy()\n",
    "nnxo = rebfr_means.prb('NNXo')['fr_rel'].to_numpy()\n",
    "\n",
    "f, ax = acr.plots.gen_paired_boxplot(nnxr, nnxo, colors=[NNXR_GRAY, MAIN_COLOR])\n",
    "ax.set_xticklabels(['Contra. Control', 'Optrode'])\n",
    "f.savefig(fig_path, dpi=600, bbox_inches='tight', transparent=True)\n",
    "\n",
    "\n",
    "# =============================\n",
    "# ========== STATS ============\n",
    "# =============================\n",
    "write = True\n",
    "\n",
    "diffs = nnxr - nnxo\n",
    "shap_stat, shap_p = shapiro(diffs) # test the paired differences for normality\n",
    "print(f'shapiro_p-value: {shap_p}')\n",
    "\n",
    "stats = pg.ttest(nnxr, nnxo, paired=True)\n",
    "#stats = pg.wilcoxon(nnxr, nnxo)\n",
    "\n",
    "hg = pg.compute_effsize(nnxr, nnxo, paired=True, eftype='hedges')\n",
    "print(f'hedges g: {hg}')\n",
    "\n",
    "#r = acr.stats.calculate_wilx_r(stats['W-val'][0], len(nnxr))\n",
    "\n",
    "\n",
    "if write:\n",
    "    # ==== Write Stats Results ====\n",
    "    stats_name = f'{fig_name}'\n",
    "    acr.stats.write_stats_result(stats_name, 'paired_ttest', stats['T'][0], stats['p-val'][0], 'g', hg)\n",
    "    #acr.stats.write_stats_result(stats_name, 'wilcoxon', stats['W-val'][0], stats['p-val'][0], 'r, RBC', [r, stats['RBC'][0]])\n",
    "    \n",
    "    # ===== Write Source Data =====\n",
    "    source_data = pd.DataFrame({'contra_control': nnxr, 'off_induction': nnxo, 'subject': np.arange(len(nnxr))})\n",
    "    pu.write_source_data(source_data, stats_name)\n",
    "stats"
   ]
  },
  {
   "cell_type": "code",
   "execution_count": null,
   "metadata": {},
   "outputs": [],
   "source": []
  }
 ],
 "metadata": {
  "kernelspec": {
   "display_name": "off_ind",
   "language": "python",
   "name": "python3"
  },
  "language_info": {
   "codemirror_mode": {
    "name": "ipython",
    "version": 3
   },
   "file_extension": ".py",
   "mimetype": "text/x-python",
   "name": "python",
   "nbconvert_exporter": "python",
   "pygments_lexer": "ipython3",
   "version": "3.12.10"
  }
 },
 "nbformat": 4,
 "nbformat_minor": 2
}
