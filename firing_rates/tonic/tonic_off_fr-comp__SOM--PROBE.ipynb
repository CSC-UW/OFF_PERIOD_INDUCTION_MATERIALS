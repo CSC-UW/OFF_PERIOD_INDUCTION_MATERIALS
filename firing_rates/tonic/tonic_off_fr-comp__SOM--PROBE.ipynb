{
 "cells": [
  {
   "cell_type": "code",
   "execution_count": null,
   "metadata": {},
   "outputs": [],
   "source": [
    "#-------------------------- Standard Imports --------------------------#\n",
    "%reload_ext autoreload\n",
    "%autoreload 2\n",
    "import pandas as pd\n",
    "import polars as pl\n",
    "import matplotlib.pyplot as plt\n",
    "import seaborn as sns\n",
    "import acr\n",
    "import pingouin as pg\n",
    "from scipy.stats import shapiro, normaltest\n",
    "import numpy as np\n",
    "\n",
    "import warnings\n",
    "warnings.filterwarnings('ignore')\n",
    "\n",
    "probe_ord = ['NNXr', 'NNXo']\n",
    "\n",
    "from acr.plots import lrg\n",
    "plt.rcdefaults()\n",
    "lrg()\n",
    "plt.rcParams['xtick.bottom'] = False\n",
    "#--------------------------------- Import Publication Functions ---------------------------------#\n",
    "pu = acr.utils.import_publication_functions('/home/kdriessen/gh_master/PUBLICATION__ACR/pub_utils.py', 'pub_utils')\n",
    "dag = acr.utils.import_publication_functions('/home/kdriessen/gh_master/PUBLICATION__ACR/data_agg.py', 'data_agg')\n",
    "from acr.utils import *"
   ]
  },
  {
   "cell_type": "code",
   "execution_count": null,
   "metadata": {},
   "outputs": [],
   "source": [
    "save_figs = True\n",
    "write_stats = True"
   ]
  },
  {
   "cell_type": "code",
   "execution_count": null,
   "metadata": {},
   "outputs": [],
   "source": [
    "from acr.utils import SOM_BLUE, ACR_BLUE, NNXR_GRAY\n",
    "\n",
    "MAIN_EXP = 'swisin'\n",
    "SUBJECT_TYPE = 'som'\n",
    "MAIN_COLOR = SOM_BLUE if SUBJECT_TYPE == 'som' else ACR_BLUE"
   ]
  },
  {
   "cell_type": "code",
   "execution_count": null,
   "metadata": {},
   "outputs": [],
   "source": [
    "subjects, exps = pu.get_subject_list(type=SUBJECT_TYPE, exp=MAIN_EXP)\n",
    "notebook_figure_root = f'{acr.utils.PAPER_FIGURE_ROOT}/firing_rates/tonic_comp'"
   ]
  },
  {
   "cell_type": "code",
   "execution_count": null,
   "metadata": {},
   "outputs": [],
   "source": [
    "full_hyps = {}\n",
    "hyp_dicts = {}\n",
    "for subject, exp in zip(subjects, exps):\n",
    "    full_hyps[subject] = acr.io.load_hypno_full_exp(subject, exp, update=False)\n",
    "    hyp_dicts[subject] = acr.hypnogram_utils.create_acr_hyp_dict(subject, exp, true_stim=False)"
   ]
  },
  {
   "cell_type": "code",
   "execution_count": null,
   "metadata": {},
   "outputs": [],
   "source": [
    "fr_dfs = {}\n",
    "for subject, exp in zip(subjects, exps):\n",
    "    fr = dag.load_raw_fr_df(subject, exp, data_dir=f'{acr.utils.pub_data_root}/raw_fr/by_probe')\n",
    "    fr = acr.hypnogram_utils.label_df_with_hypno_conditions(fr, hyp_dicts[subject])\n",
    "    fr = acr.hypnogram_utils.label_df_with_states(fr, full_hyps[subject])\n",
    "    fr = acr.hypnogram_utils.label_df_with_full_bl(fr, state='NREM', col='datetime')\n",
    "    fr = dag.relativize_df(fr, ref_to_col='condition', ref_to_val='early_sd', col_to_relativize='fr', on=['probe'])\n",
    "    fr_dfs[subject] = fr\n",
    "frdf = pl.concat(fr_dfs.values())"
   ]
  },
  {
   "cell_type": "code",
   "execution_count": null,
   "metadata": {},
   "outputs": [],
   "source": [
    "stimf = frdf.filter(pl.col('condition')=='stim')\n",
    "stim_means = stimf.group_by(['subject', 'probe']).agg(pl.col('fr_rel').mean())\n",
    "stim_means = stim_means.sort(['subject', 'probe'])\n",
    "#stim_chan_means = stimf.group_by(['subject', 'probe', 'channel']).agg(pl.col('fr_rel').mean())\n",
    "#g = sns.catplot(data=stim_chan_means, x='channel', y='fr_rel', row='subject', hue='probe', hue_order=probe_ord, palette=[NNXR_GRAY, MAIN_COLOR], kind='bar', height=6, aspect=3)"
   ]
  },
  {
   "cell_type": "code",
   "execution_count": null,
   "metadata": {},
   "outputs": [],
   "source": [
    "acr.plots.supl()"
   ]
  },
  {
   "cell_type": "code",
   "execution_count": null,
   "metadata": {},
   "outputs": [],
   "source": [
    "fig_id = 'tonic_som_fr_during_stim'\n",
    "fig_name = f'{SUBJECT_TYPE}__{fig_id}'\n",
    "fig_path = f'{notebook_figure_root}/{fig_name}.png'\n",
    "\n",
    "nnxo_ton = stim_means.filter(pl.col('probe')=='NNXo')['fr_rel'].to_numpy()\n",
    "nnxr_ton = stim_means.filter(pl.col('probe')=='NNXr')['fr_rel'].to_numpy()\n",
    "\n",
    "f, ax = acr.plots.gen_paired_boxplot(nnxr_ton, nnxo_ton, colors=[NNXR_GRAY, MAIN_COLOR], alphas=[0.9, 0.6], fsize=(3.5, 4), one_sided=False)\n",
    "\n",
    "\n",
    "ax.set_xlim(0.30, 0.70) # x limits\n",
    "ax.set_xticklabels(['Contra. Control', 'Optrode'])\n",
    "\n",
    "plt.savefig(fig_path, dpi=600, bbox_inches='tight', transparent=True)"
   ]
  },
  {
   "cell_type": "code",
   "execution_count": null,
   "metadata": {},
   "outputs": [],
   "source": [
    "# =============================\n",
    "# ========== STATS ============\n",
    "# =============================\n",
    "write = True\n",
    "\n",
    "diffs = nnxr_ton - nnxo_ton\n",
    "shap_stat, shap_p = shapiro(diffs) # test the paired differences for normality\n",
    "print(f'shapiro_p-value: {shap_p}')\n",
    "\n",
    "stats = pg.ttest(nnxr_ton, nnxo_ton, paired=True)\n",
    "# stats = pg.wilcoxon(nnxr, nnxo)\n",
    "\n",
    "hg = pg.compute_effsize(nnxr_ton, nnxo_ton, paired=True, eftype='hedges')\n",
    "print(f'hedges g: {hg}')\n",
    "\n",
    "#r = acr.stats.calculate_wilx_r(stats['W-val'][0], len(nnxr))\n",
    "\n",
    "\n",
    "if write:\n",
    "    # ==== Write Stats Results ====\n",
    "    stats_name = f'{fig_name}'\n",
    "    acr.stats.write_stats_result(stats_name, 'paired_ttest', stats['T'][0], stats['p-val'][0], 'g', hg)\n",
    "    \n",
    "    # ===== Write Source Data =====\n",
    "    source_data = pd.DataFrame({'contra_control': nnxr_ton, 'off_induction': nnxo_ton, 'subject': np.arange(len(nnxr_ton))})\n",
    "    pu.write_source_data(source_data, stats_name)\n",
    "stats"
   ]
  },
  {
   "cell_type": "code",
   "execution_count": null,
   "metadata": {},
   "outputs": [],
   "source": [
    "fig_id = 'tonic_som_fr_during_stim__NORM'\n",
    "fig_name = f'{SUBJECT_TYPE}__{fig_id}'\n",
    "fig_path = f'{notebook_figure_root}/{fig_name}.png'\n",
    "\n",
    "nnxo_ton_norm = nnxo_ton/nnxr_ton\n",
    "nnxr_ton_norm = nnxr_ton/nnxr_ton\n",
    "\n",
    "f, ax = acr.plots.gen_paired_boxplot(nnxr_ton_norm, nnxo_ton_norm, colors=[NNXR_GRAY, MAIN_COLOR], alphas=[0.9, 0.6], fsize=(3.5, 4), one_sided=True)\n",
    "\n",
    "\n",
    "ax.set_xlim(0.30, 0.70) # x limits\n",
    "ax.set_xticklabels(['Contra. Control', 'Optrode'])\n",
    "\n",
    "plt.savefig(fig_path, dpi=600, bbox_inches='tight', transparent=True)"
   ]
  },
  {
   "cell_type": "markdown",
   "metadata": {},
   "source": [
    "# MATCHED SWI"
   ]
  },
  {
   "cell_type": "code",
   "execution_count": null,
   "metadata": {},
   "outputs": [],
   "source": [
    "swi_exps = []\n",
    "for sub in subjects:\n",
    "    swi_exps.append(acr.utils.sub_swi_exps[sub][0])\n",
    "#notebook_figure_root = f'{pu.PAPER_FIGURE_ROOT}/analysis/sub_analysis'"
   ]
  },
  {
   "cell_type": "code",
   "execution_count": null,
   "metadata": {},
   "outputs": [],
   "source": [
    "full_hyps = {}\n",
    "hyp_dicts = {}\n",
    "for subject, exp in zip(subjects, swi_exps):\n",
    "    full_hyps[subject] = acr.io.load_hypno_full_exp(subject, exp)\n",
    "    hyp_dicts[subject] = acr.hypnogram_utils.create_acr_hyp_dict(subject, exp, true_stim=False)"
   ]
  },
  {
   "cell_type": "code",
   "execution_count": null,
   "metadata": {},
   "outputs": [],
   "source": [
    "fr_dfs = {}\n",
    "for subject, exp in zip(subjects, swi_exps):\n",
    "    print(subject)\n",
    "    fr = dag.load_raw_fr_df(subject, exp, data_dir=f'{acr.utils.pub_data_root}/raw_fr/by_probe')\n",
    "    fr = acr.hypnogram_utils.label_df_with_hypno_conditions(fr, hyp_dicts[subject])\n",
    "    fr = acr.hypnogram_utils.label_df_with_states(fr, full_hyps[subject])\n",
    "    fr = acr.hypnogram_utils.label_df_with_full_bl(fr, state='NREM', col='datetime')\n",
    "    fr = dag.relativize_df(fr, ref_to_col='condition', ref_to_val='early_sd', col_to_relativize='fr', on=['probe'])\n",
    "    fr_dfs[subject] = fr\n",
    "frdf_swi = pl.concat(fr_dfs.values())"
   ]
  },
  {
   "cell_type": "code",
   "execution_count": null,
   "metadata": {},
   "outputs": [],
   "source": [
    "stimf_swi = frdf_swi.filter(pl.col('condition')=='stim')\n",
    "stim_means_swi = stimf_swi.group_by(['subject', 'probe']).agg(pl.col('fr_rel').mean())\n",
    "stim_means_swi = stim_means_swi.sort(['subject', 'probe'])\n",
    "#stim_chan_means_swi = stimf_swi.group_by(['subject', 'probe', 'channel']).agg(pl.col('fr_rel').mean())\n",
    "#g = sns.catplot(data=stim_chan_means_swi, x='channel', y='fr_rel', row='subject', hue='probe', hue_order=probe_ord, palette=[NNXR_GRAY, MAIN_COLOR], kind='bar', height=6, aspect=3)"
   ]
  },
  {
   "cell_type": "code",
   "execution_count": null,
   "metadata": {},
   "outputs": [],
   "source": [
    "nnxo_opi = stim_means_swi.filter(pl.col('probe')=='NNXo')['fr_rel'].to_numpy()\n",
    "nnxr_opi = stim_means_swi.filter(pl.col('probe')=='NNXr')['fr_rel'].to_numpy()\n",
    "nnxr_norm_opi = nnxr_opi/nnxr_opi\n",
    "nnxo_norm_opi = nnxo_opi/nnxr_opi"
   ]
  },
  {
   "cell_type": "code",
   "execution_count": null,
   "metadata": {},
   "outputs": [],
   "source": [
    "fig_id = 'OFF-IND_som_fr_during_stim'\n",
    "fig_name = f'{SUBJECT_TYPE}__{fig_id}'\n",
    "fig_path = f'{notebook_figure_root}/{fig_name}.png'\n",
    "\n",
    "f, ax = acr.plots.gen_paired_boxplot(nnxr_opi, nnxo_opi, colors=[NNXR_GRAY, MAIN_COLOR], alphas=[0.8, 0.8], fsize=(3.5, 4), one_sided=False)\n",
    "\n",
    "\n",
    "ax.set_xlim(0.30, 0.70) # x limits\n",
    "ax.set_xticklabels(['Contra. Control', 'Optrode'])\n",
    "\n",
    "plt.savefig(fig_path, dpi=600, bbox_inches='tight', transparent=True)"
   ]
  },
  {
   "cell_type": "code",
   "execution_count": null,
   "metadata": {},
   "outputs": [],
   "source": [
    "# =============================\n",
    "# ========== STATS ============\n",
    "# =============================\n",
    "write = True\n",
    "\n",
    "diffs = nnxr_opi - nnxo_opi\n",
    "shap_stat, shap_p = shapiro(diffs) # test the paired differences for normality\n",
    "print(f'shapiro_p-value: {shap_p}')\n",
    "\n",
    "stats = pg.ttest(nnxr_opi, nnxo_opi, paired=True)\n",
    "# stats = pg.wilcoxon(nnxr, nnxo)\n",
    "\n",
    "hg = pg.compute_effsize(nnxr_opi, nnxo_opi, paired=True, eftype='hedges')\n",
    "print(f'hedges g: {hg}')\n",
    "\n",
    "#r = acr.stats.calculate_wilx_r(stats['W-val'][0], len(nnxr))\n",
    "\n",
    "\n",
    "if write:\n",
    "    # ==== Write Stats Results ====\n",
    "    stats_name = f'{fig_name}'\n",
    "    acr.stats.write_stats_result(stats_name, 'paired_ttest', stats['T'][0], stats['p-val'][0], 'g', hg)\n",
    "    \n",
    "    # ===== Write Source Data =====\n",
    "    source_data = pd.DataFrame({'contra_control': nnxr_opi, 'off_induction': nnxo_opi, 'subject': np.arange(len(nnxr_opi))})\n",
    "    pu.write_source_data(source_data, stats_name)\n",
    "stats"
   ]
  },
  {
   "cell_type": "code",
   "execution_count": null,
   "metadata": {},
   "outputs": [],
   "source": [
    "fig_id = 'OFF-IND_som_fr_during_stim__NORM'\n",
    "fig_name = f'{SUBJECT_TYPE}__{fig_id}'\n",
    "fig_path = f'{notebook_figure_root}/{fig_name}.png'\n",
    "\n",
    "f, ax = acr.plots.gen_paired_boxplot(nnxr_norm_opi, nnxo_norm_opi, colors=[NNXR_GRAY, MAIN_COLOR], alphas=[0.8, 0.8], fsize=(3.5, 4), one_sided=True)\n",
    "\n",
    "\n",
    "ax.set_xlim(0.30, 0.70) # x limits\n",
    "ax.set_xticklabels(['Contra. Control', 'Optrode'])\n",
    "\n",
    "plt.savefig(fig_path, dpi=600, bbox_inches='tight', transparent=True)"
   ]
  },
  {
   "cell_type": "code",
   "execution_count": null,
   "metadata": {},
   "outputs": [],
   "source": [
    "fig_id = 'ton-vs-off_som_fr_during_stim'\n",
    "fig_name = f'{SUBJECT_TYPE}__{fig_id}'\n",
    "fig_path = f'{notebook_figure_root}/{fig_name}.png'\n",
    "\n",
    "f, ax = acr.plots.gen_paired_boxplot(nnxo_ton_norm, nnxo_norm_opi, colors=[MAIN_COLOR, MAIN_COLOR], alphas=[0.6, 0.9], fsize=(3.5, 4), one_sided=False)\n",
    "\n",
    "\n",
    "ax.set_xlim(0.30, 0.70) # x limits\n",
    "ax.set_xticklabels(['Tonic', 'OFF Induction'])\n",
    "\n",
    "plt.savefig(fig_path, dpi=600, bbox_inches='tight', transparent=True)"
   ]
  },
  {
   "cell_type": "code",
   "execution_count": null,
   "metadata": {},
   "outputs": [],
   "source": [
    "# =============================\n",
    "# ========== STATS ============\n",
    "# =============================\n",
    "write = True\n",
    "\n",
    "diffs = nnxo_norm_opi - nnxo_ton_norm\n",
    "shap_stat, shap_p = shapiro(diffs) # test the paired differences for normality\n",
    "print(f'shapiro_p-value: {shap_p}')\n",
    "\n",
    "stats = pg.ttest(nnxo_norm_opi, nnxo_ton_norm, paired=True)\n",
    "# stats = pg.wilcoxon(nnxr, nnxo)\n",
    "\n",
    "hg = pg.compute_effsize(nnxo_norm_opi, nnxo_ton_norm, paired=True, eftype='hedges')\n",
    "print(f'hedges g: {hg}')\n",
    "\n",
    "#r = acr.stats.calculate_wilx_r(stats['W-val'][0], len(nnxr))\n",
    "\n",
    "\n",
    "if write:\n",
    "    # ==== Write Stats Results ====\n",
    "    stats_name = f'{fig_name}'\n",
    "    acr.stats.write_stats_result(stats_name, 'paired_ttest', stats['T'][0], stats['p-val'][0], 'g', hg)\n",
    "    \n",
    "    # ===== Write Source Data =====\n",
    "    source_data = pd.DataFrame({'contra_control': nnxo_norm_opi, 'off_induction': nnxo_ton_norm, 'subject': np.arange(len(nnxo_norm_opi))})\n",
    "    pu.write_source_data(source_data, stats_name)\n",
    "stats"
   ]
  }
 ],
 "metadata": {
  "kernelspec": {
   "display_name": "off_ind",
   "language": "python",
   "name": "python3"
  },
  "language_info": {
   "codemirror_mode": {
    "name": "ipython",
    "version": 3
   },
   "file_extension": ".py",
   "mimetype": "text/x-python",
   "name": "python",
   "nbconvert_exporter": "python",
   "pygments_lexer": "ipython3",
   "version": "3.12.10"
  }
 },
 "nbformat": 4,
 "nbformat_minor": 2
}
