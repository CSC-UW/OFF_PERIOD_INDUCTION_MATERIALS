{
 "cells": [
  {
   "cell_type": "code",
   "execution_count": null,
   "metadata": {},
   "outputs": [],
   "source": [
    "#-------------------------- Standard Imports --------------------------#\n",
    "%reload_ext autoreload\n",
    "%autoreload 2\n",
    "import kdephys as kde\n",
    "import pandas as pd\n",
    "import polars as pl\n",
    "import matplotlib.pyplot as plt\n",
    "import seaborn as sns\n",
    "import numpy as np\n",
    "import acr\n",
    "import tdt\n",
    "\n",
    "# ---------------------------- EXTRAS --------------------------------#\n",
    "from kdephys.plot.main import _title, bp_plot\n",
    "import kdephys.utils.spectral as sp\n",
    "from acr.utils import *\n",
    "bands = sp.bands\n",
    "\n",
    "import pingouin as pg\n",
    "from scipy import stats\n",
    "from scipy.stats import shapiro\n",
    "\n",
    "from acr.plots import pub, lrg\n",
    "lrg()\n",
    "plt.rcParams['xtick.bottom'] = False\n",
    "\n",
    "import matplotlib as mpl\n",
    "import brokenaxes as bx\n",
    "\n",
    "#--------------------------------- Import Publication Functions ---------------------------------#\n",
    "pub_utils = acr.utils.import_publication_functions('/home/kdriessen/gh_master/PUBLICATION__ACR/pub_utils.py', 'pub_utils')\n",
    "data_agg = acr.utils.import_publication_functions('/home/kdriessen/gh_master/PUBLICATION__ACR/data_agg.py', 'data_agg')"
   ]
  },
  {
   "cell_type": "code",
   "execution_count": null,
   "metadata": {},
   "outputs": [],
   "source": [
    "notebook_figure_root = f'{pub_utils.PAPER_FIGURE_ROOT}/molecular/ephys'"
   ]
  },
  {
   "cell_type": "code",
   "execution_count": null,
   "metadata": {},
   "outputs": [],
   "source": [
    "som_subjects = ['OPTSOM_1', 'OPTSOM_2', 'OPTSOM_3', 'OPTSOM_4', 'OPTSOM_5', 'OPTSOM_7', 'OPTSOM_8', 'OPTSOM_9']\n",
    "acr_subjects = ['OPT_2', 'OPT_4', 'OPT_10', 'OPT_11', 'OPT_12', 'OPT_15', 'OPT_16']\n",
    "control_subjects = ['OPT_5_CTRL', 'OPT_6_CTRL', 'OPT_8_CTRL', 'OPT_9_CTRL', 'OPT_13_CTRL', 'OPT_14_CTRL', 'OPT_17_CTRL', 'OPT_18_CTRL']"
   ]
  },
  {
   "cell_type": "code",
   "execution_count": null,
   "metadata": {},
   "outputs": [],
   "source": [
    "master_fig_size = (3, 4)"
   ]
  },
  {
   "cell_type": "markdown",
   "metadata": {},
   "source": [
    "# Custom Functions"
   ]
  },
  {
   "cell_type": "code",
   "execution_count": null,
   "metadata": {},
   "outputs": [],
   "source": [
    "def get_molecular_stim_times(subject, recording, store='Pu1/'):\n",
    "    raw_data_root = '/Volumes/em_storage/Electron_Microscopy/Rest-activity/OPT_EXP/OPTSOM_EXP' if 'OPTSOM' in subject else '/Volumes/em_storage/Electron_Microscopy/Rest-activity/OPT_EXP/ACR_EXP'\n",
    "    block_path = f'{raw_data_root}/{subject}/{subject}-{recording}'\n",
    "    data = tdt.read_block(block_path, store=store)\n",
    "    onsets = data.epocs.Pu1_.onset\n",
    "    offsets = data.epocs.Pu1_.offset\n",
    "    onsets = pd.to_timedelta(onsets, unit='s')\n",
    "\n",
    "    offsets = pd.to_timedelta(offsets, unit='s')\n",
    "    rec_start = rec_start_time(subject, recording)\n",
    "    onsets = onsets + rec_start\n",
    "    offsets = offsets + rec_start\n",
    "    return onsets, offsets\n",
    "\n",
    "def rec_start_time(subject, recording):\n",
    "    raw_data_root = '/Volumes/em_storage/Electron_Microscopy/Rest-activity/OPT_EXP/OPTSOM_EXP' if 'OPTSOM' in subject else '/Volumes/em_storage/Electron_Microscopy/Rest-activity/OPT_EXP/ACR_EXP'\n",
    "    block_path = f'{raw_data_root}/{subject}/{subject}-{recording}'\n",
    "    dat = tdt.read_block(block_path, evtype=['epocs'])\n",
    "    return pd.Timestamp(dat.info.start_date)\n",
    "\n",
    "def load_molecular_exp_hypno(subject, start_time):\n",
    "    path = f'/Volumes/em_storage/Electron_Microscopy/Rest-activity/config_files_25/FINAL_HYPNOS/hypno_{subject}-exp.txt'\n",
    "    hypno = kde.hypno.hypno.load_hypno_file(path, start_time, dt=True)\n",
    "    return hypno\n",
    "\n",
    "def read_mephys_data(subject, recording, exp_hypno=False):\n",
    "    raw_data_root = '/Volumes/em_storage/Electron_Microscopy/Rest-activity/OPT_EXP/OPTSOM_EXP' if 'OPTSOM' in subject else '/Volumes/em_storage/Electron_Microscopy/Rest-activity/OPT_EXP/ACR_EXP'\n",
    "    block_path = f'{raw_data_root}/{subject}/{subject}-{recording}'\n",
    "    dat = kde.xr.io.get_data(block_path, store='EEGr', channel=[1, 2])\n",
    "    start_time = dat.datetime.values[0]\n",
    "    if exp_hypno:\n",
    "        hypno = load_molecular_exp_hypno(subject, start_time)\n",
    "        return dat, hypno\n",
    "    else:\n",
    "        return dat\n",
    "def label_df_between_times(df, ons, offs, label='stim'):\n",
    "    if 'label' not in df.columns:\n",
    "        df['label'] = \"NO_LABEL\"\n",
    "    for i in range(len(ons)):\n",
    "        df.loc[(df['datetime'] >= ons[i]) & (df['datetime'] <= offs[i]), 'label'] = label\n",
    "    return df\n",
    "\n",
    "def label_bl(df, stim_start, label='bl'):\n",
    "    df.loc[df['datetime'] < stim_start, 'label'] = label\n",
    "    return df\n"
   ]
  },
  {
   "cell_type": "code",
   "execution_count": null,
   "metadata": {},
   "outputs": [],
   "source": [
    "def delta_rel_to_bl_ts(df, state='Wake'):\n",
    "    \"\"\"df should have a label column with only two values: 'bl' and 'stim'\n",
    "\n",
    "    Parameters\n",
    "    ----------\n",
    "    df : _type_\n",
    "        _description_\n",
    "\n",
    "    \"\"\"\n",
    "    if state is not None:\n",
    "        state_df = df.loc[df['state'] == state]\n",
    "    else:\n",
    "        state_df = df\n",
    "    means = state_df.groupby(['label', 'channel']).mean().reset_index()\n",
    "    means = means.loc[means['label'] == 'bl']\n",
    "    means.drop(columns=['time'], inplace=True)\n",
    "    df['delta_bl'] = 0\n",
    "    df.loc[df['channel'] == 1, 'delta_bl'] = means.loc[means['channel'] == 1, 'delta'].values[0]\n",
    "    df.loc[df['channel'] == 2, 'delta_bl'] = means.loc[means['channel'] == 2, 'delta'].values[0]\n",
    "    df['delta_rel'] = df['delta']/df['delta_bl']\n",
    "    return df"
   ]
  },
  {
   "cell_type": "code",
   "execution_count": null,
   "metadata": {},
   "outputs": [],
   "source": [
    "def delta_rel_to_bl(df, state='Wake'):\n",
    "    \"\"\"df should have a label column with only two values: 'bl' and 'stim'\n",
    "\n",
    "    Parameters\n",
    "    ----------\n",
    "    df : _type_\n",
    "        _description_\n",
    "\n",
    "    \"\"\"\n",
    "    state_df = df.loc[df['state'] == state] \n",
    "    means = state_df.groupby(['label', 'channel']).mean().reset_index()\n",
    "    means = means.loc[means['label'] == 'bl']\n",
    "    means.drop(columns=['time'], inplace=True)\n",
    "    df['delta_bl'] = 0\n",
    "    df.loc[df['channel'] == 1, 'delta_bl'] = means.loc[means['channel'] == 1, 'delta'].values[0]\n",
    "    df.loc[df['channel'] == 2, 'delta_bl'] = means.loc[means['channel'] == 2, 'delta'].values[0]\n",
    "    df['delta_rel'] = df['delta']/df['delta_bl']\n",
    "    return df"
   ]
  },
  {
   "cell_type": "markdown",
   "metadata": {},
   "source": [
    "# Control Subjects"
   ]
  },
  {
   "cell_type": "code",
   "execution_count": null,
   "metadata": {},
   "outputs": [],
   "source": [
    "bps = {}\n",
    "h = {}\n",
    "for subject in control_subjects:\n",
    "    dat, hypno = read_mephys_data(subject, 'swi', exp_hypno=True)\n",
    "    h[subject] = hypno\n",
    "    spg = kde.xr.spectral.get_spextrogram(dat)\n",
    "    bp = kde.xr.spectral.get_bp_set(spg)\n",
    "    bp = kde.hypno.hypno.add_states(bp, hypno)\n",
    "    bps[subject] = bp\n",
    "bpdf = []\n",
    "for subject in bps.keys():\n",
    "    df = bps[subject].delta.to_dataframe().reset_index()\n",
    "    df['subject'] = subject\n",
    "    ons, offs = get_molecular_stim_times(subject, 'swi')\n",
    "    ton, toff = acr.stim.get_pulse_train_times(ons, offs, times=True)\n",
    "    df = label_df_between_times(df, ton, toff, label='stim')\n",
    "    df = label_bl(df, ton[0])\n",
    "    df = df.loc[df['label'] != 'NO_LABEL']\n",
    "    df = df.loc[df['state'] == 'Wake']\n",
    "    delta_rel_to_bl(df, state='Wake')\n",
    "    bpdf.append(df)\n",
    "bpdf = pd.concat(bpdf)"
   ]
  },
  {
   "cell_type": "code",
   "execution_count": null,
   "metadata": {},
   "outputs": [],
   "source": [
    "#bpw = bpdf.loc[bpdf['state'] == 'Wake']\n",
    "delta_means = bpdf.groupby(['subject', 'channel', 'label']).mean().reset_index()"
   ]
  },
  {
   "cell_type": "code",
   "execution_count": null,
   "metadata": {},
   "outputs": [],
   "source": [
    "dm = delta_means.loc[delta_means['label'] == 'stim']\n",
    "ch1 = dm.chnl(1)['delta_rel'].values\n",
    "ch2 = dm.chnl(2)['delta_rel'].values\n",
    "ch1_norm = ch1/ch2\n",
    "ch2_norm = ch2/ch2"
   ]
  },
  {
   "cell_type": "code",
   "execution_count": null,
   "metadata": {},
   "outputs": [],
   "source": [
    "f, ax = acr.plots.gen_paired_boxplot(ch2, ch1, colors=[NNXR_GRAY, NNXR_GRAY], fsize=(4, 3))\n",
    "#f, ax = pub_utils.swa_boxplot(ch2, ch1, stats=False, one_sided=False, color=NNXR_GRAY, mean_size=28, fsize=(4, 3))\n",
    "\n",
    "ax.set_ylim(0.85, 1.5) # y limits\n",
    "ax.set_xlim(0.3, 0.70) # x limits\n",
    "ax.set_yticks([0.9, 1, 1.1, 1.2, 1.3, 1.4, 1.5]) # y ticks\n",
    "\n",
    "#plt.tight_layout(pad=0.2)\n",
    "\n",
    "fig_name = 'MOLECULAR--control_subs_swa_during_stim_raw'\n",
    "fig_path = f'{pub_utils.PAPER_FIGURE_ROOT}/molecular/ephys/{fig_name}.png'\n",
    "plt.savefig(fig_path, bbox_inches='tight', dpi=600, transparent=True)"
   ]
  },
  {
   "cell_type": "code",
   "execution_count": null,
   "metadata": {},
   "outputs": [],
   "source": [
    "write = True\n",
    "\n",
    "diffs = ch1 - ch2\n",
    "_s, _p = shapiro(ch1-ch2)\n",
    "print(f'Shapiro-Wilk p-value = {_p}')\n",
    "\n",
    "stats = pg.ttest(ch1, ch2, paired=True)\n",
    "hg = pg.compute_effsize(ch1, ch2, paired=True, eftype='hedges')\n",
    "print(f'hedges g: {hg}')\n",
    "\n",
    "if write:\n",
    "    # ==== Write Stats Results ====\n",
    "    stats_name = fig_name\n",
    "    acr.stats.write_stats_result(stats_name, 'paired_ttest', stats['T'][0], stats['p-val'][0], 'g', hg)\n",
    "    \n",
    "    # source_data\n",
    "    source_dat = pd.DataFrame({'off_induction_eeg': ch1, 'contra_eeg': ch2})\n",
    "    pub_utils.write_source_data(source_dat, fig_name)\n",
    "\n",
    "stats\n"
   ]
  },
  {
   "cell_type": "code",
   "execution_count": null,
   "metadata": {},
   "outputs": [],
   "source": [
    "f, ax = acr.plots.gen_paired_boxplot(ch2_norm, ch1_norm, colors=[NNXR_GRAY, NNXR_GRAY], fsize=(4, 3), one_sided=True)\n",
    "ax.set_ylim(0.85, 1.3) # y limits\n",
    "ax.set_xlim(0.35, 0.70) # x limits\n",
    "ax.set_yticks([0.9, 1, 1.1, 1.2, 1.3]) # y ticks\n",
    "\n",
    "fig_name = 'MOLECULAR--control_subs_swa_during_stim_ReltoContra'\n",
    "fig_path = f'{pub_utils.PAPER_FIGURE_ROOT}/molecular/ephys/{fig_name}.png'\n",
    "plt.savefig(fig_path, bbox_inches='tight', dpi=600, transparent=True)"
   ]
  },
  {
   "cell_type": "markdown",
   "metadata": {},
   "source": [
    "# SOM SUBJECTS"
   ]
  },
  {
   "cell_type": "code",
   "execution_count": null,
   "metadata": {},
   "outputs": [],
   "source": [
    "bps = {}\n",
    "h = {}\n",
    "for subject in som_subjects:\n",
    "    dat, hypno = read_mephys_data(subject, 'swi', exp_hypno=True)\n",
    "    h[subject] = hypno\n",
    "    spg = kde.xr.spectral.get_spextrogram(dat)\n",
    "    bp = kde.xr.spectral.get_bp_set(spg)\n",
    "    bp = kde.hypno.hypno.add_states(bp, hypno)\n",
    "    bps[subject] = bp\n",
    "\n",
    "bpdf = []\n",
    "for subject in bps.keys():\n",
    "    df = bps[subject].delta.to_dataframe().reset_index()\n",
    "    df['subject'] = subject\n",
    "    ons, offs = get_molecular_stim_times(subject, 'swi')\n",
    "    ton, toff = acr.stim.get_pulse_train_times(ons, offs, times=True)\n",
    "    df = label_df_between_times(df, ton, toff, label='stim')\n",
    "    df = label_bl(df, ton[0])\n",
    "    df = df.loc[df['label'] != 'NO_LABEL']\n",
    "    df = df.loc[df['state'] == 'Wake']\n",
    "    df = delta_rel_to_bl(df)\n",
    "    bpdf.append(df)\n",
    "bpdf = pd.concat(bpdf)"
   ]
  },
  {
   "cell_type": "code",
   "execution_count": null,
   "metadata": {},
   "outputs": [],
   "source": [
    "#bpw = bpdf.loc[bpdf['state'] == 'Wake']\n",
    "delta_means = bpdf.groupby(['subject', 'channel', 'label']).mean().reset_index()"
   ]
  },
  {
   "cell_type": "code",
   "execution_count": null,
   "metadata": {},
   "outputs": [],
   "source": [
    "dm = delta_means.loc[delta_means['label'] == 'stim']\n",
    "ch1 = dm.chnl(1)['delta_rel'].values\n",
    "ch2 = dm.chnl(2)['delta_rel'].values\n",
    "ch1_norm = ch1/ch2\n",
    "ch2_norm = ch2/ch2"
   ]
  },
  {
   "cell_type": "code",
   "execution_count": null,
   "metadata": {},
   "outputs": [],
   "source": [
    "f, ax = acr.plots.gen_paired_boxplot(ch2, ch1, colors=[NNXR_GRAY, SOM_BLUE], fsize=(4, 3))\n",
    "#f, ax = pub_utils.swa_boxplot(ch2, ch1, stats=False, one_sided=False, color=NNXR_GRAY, mean_size=28, fsize=(4, 3))\n",
    "\n",
    "ax.set_ylim(1.0, 7) # y limits\n",
    "ax.set_xlim(0.3, 0.70) # x limits\n",
    "ax.set_yticks([1, 2, 3, 4, 5, 6, 7]) # y ticks\n",
    "\n",
    "#plt.tight_layout(pad=0.2)\n",
    "\n",
    "fig_name = 'MOLECULAR--SOM_subs_swa_during_stim_raw'\n",
    "fig_path = f'{pub_utils.PAPER_FIGURE_ROOT}/molecular/ephys/{fig_name}.png'\n",
    "plt.savefig(fig_path, bbox_inches='tight', dpi=600, transparent=True)"
   ]
  },
  {
   "cell_type": "code",
   "execution_count": null,
   "metadata": {},
   "outputs": [],
   "source": [
    "write = True\n",
    "\n",
    "diffs = ch1 - ch2\n",
    "_s, _p = shapiro(ch1-ch2)\n",
    "print(f'Shapiro-Wilk p-value = {_p}')\n",
    "\n",
    "stats = pg.ttest(ch1, ch2, paired=True)\n",
    "hg = pg.compute_effsize(ch1, ch2, paired=True, eftype='hedges')\n",
    "print(f'hedges g: {hg}')\n",
    "\n",
    "if write:\n",
    "    # ==== Write Stats Results ====\n",
    "    stats_name = fig_name\n",
    "    acr.stats.write_stats_result(stats_name, 'paired_ttest', stats['T'][0], stats['p-val'][0], 'g', hg)\n",
    "    \n",
    "    # source_data\n",
    "    source_dat = pd.DataFrame({'off_induction_eeg': ch1, 'contra_eeg': ch2})\n",
    "    pub_utils.write_source_data(source_dat, fig_name)\n",
    "\n",
    "stats\n"
   ]
  },
  {
   "cell_type": "code",
   "execution_count": null,
   "metadata": {},
   "outputs": [],
   "source": [
    "f, ax = acr.plots.gen_paired_boxplot(ch2_norm, ch1_norm, colors=[NNXR_GRAY, SOM_BLUE], fsize=(4, 3), one_sided=True)\n",
    "\n",
    "ax.set_ylim(0.9, 2.2) # y limits\n",
    "ax.set_xlim(0.35, 0.70) # x limits\n",
    "ax.set_yticks([1, 1.5, 2]) # y ticks\n",
    "\n",
    "fig_name = 'MOLECULAR--SOM_subs_swa_during_stim_ReltoContra'\n",
    "fig_path = f'{pub_utils.PAPER_FIGURE_ROOT}/molecular/ephys/{fig_name}.png'\n",
    "plt.savefig(fig_path, bbox_inches='tight', dpi=600, transparent=True)"
   ]
  },
  {
   "cell_type": "markdown",
   "metadata": {},
   "source": [
    "# ACR ANIMALS"
   ]
  },
  {
   "cell_type": "code",
   "execution_count": null,
   "metadata": {},
   "outputs": [],
   "source": [
    "import xarray as xr"
   ]
  },
  {
   "cell_type": "code",
   "execution_count": null,
   "metadata": {},
   "outputs": [],
   "source": [
    "bps = {}\n",
    "h = {}\n",
    "datsd = read_mephys_data('OPT_1', 'swi-sd')\n",
    "dat = read_mephys_data('OPT_1', 'swi')\n",
    "dat1 = xr.concat([datsd, dat], dim='datetime')\n",
    "hsd = kde.hypno.hypno.load_hypno_file(f'/Volumes/em_storage/Electron_Microscopy/Rest-activity/config_files_25/FINAL_HYPNOS/hypno_OPT_1-exp1.txt', st=datsd.datetime.values[0], dt=True)\n",
    "hexp = kde.hypno.hypno.load_hypno_file(f'/Volumes/em_storage/Electron_Microscopy/Rest-activity/config_files_25/FINAL_HYPNOS/hypno_OPT_1-exp2.txt', st=dat.datetime.values[0], dt=True)\n",
    "h1 = pd.concat([hsd, hexp])\n",
    "h['OPT_1'] = h1\n",
    "spg = kde.xr.spectral.get_spextrogram(dat1)\n",
    "bp = kde.xr.spectral.get_bp_set(spg)\n",
    "bp = kde.hypno.hypno.add_states(bp, h1)\n",
    "bp = bp.swap_dims({'channel': 'channel'}).assign_coords(channel=[2,1])\n",
    "bps['OPT_1'] = bp"
   ]
  },
  {
   "cell_type": "code",
   "execution_count": null,
   "metadata": {},
   "outputs": [],
   "source": [
    "for subject in acr_subjects:\n",
    "    dat, hypno = read_mephys_data(subject, 'swi', exp_hypno=True)\n",
    "    h[subject] = hypno\n",
    "    spg = kde.xr.spectral.get_spextrogram(dat)\n",
    "    bp = kde.xr.spectral.get_bp_set(spg)\n",
    "    bp = kde.hypno.hypno.add_states(bp, hypno)\n",
    "    bps[subject] = bp\n",
    "\n",
    "bpdf = []\n",
    "for subject in bps.keys():\n",
    "    df = bps[subject].delta.to_dataframe().reset_index()\n",
    "    df['subject'] = subject\n",
    "    ons, offs = get_molecular_stim_times(subject, 'swi')\n",
    "    ton, toff = acr.stim.get_pulse_train_times(ons, offs, times=True)\n",
    "    df = label_df_between_times(df, ton, toff, label='stim')\n",
    "    df = label_bl(df, ton[0])\n",
    "    df = df.loc[df['label'] != 'NO_LABEL']\n",
    "    df = df.loc[df['state'] == 'Wake']\n",
    "    df = delta_rel_to_bl(df)\n",
    "    bpdf.append(df)\n",
    "bpdf = pd.concat(bpdf)"
   ]
  },
  {
   "cell_type": "code",
   "execution_count": null,
   "metadata": {},
   "outputs": [],
   "source": [
    "#bpw = bpdf.loc[bpdf['state'] == 'Wake']\n",
    "delta_means = bpdf.groupby(['subject', 'channel', 'label']).mean().reset_index()"
   ]
  },
  {
   "cell_type": "code",
   "execution_count": null,
   "metadata": {},
   "outputs": [],
   "source": [
    "dm = delta_means.loc[delta_means['label'] == 'stim']\n",
    "ch1 = dm.chnl(1)['delta_rel'].values\n",
    "ch2 = dm.chnl(2)['delta_rel'].values\n",
    "ch1_norm = ch1/ch2\n",
    "ch2_norm = ch2/ch2"
   ]
  },
  {
   "cell_type": "code",
   "execution_count": null,
   "metadata": {},
   "outputs": [],
   "source": [
    "f, ax = acr.plots.gen_paired_boxplot(ch2, ch1, colors=[NNXR_GRAY, ACR_BLUE], fsize=(4, 3))\n",
    "#f, ax = pub_utils.swa_boxplot(ch2, ch1, stats=False, one_sided=False, color=NNXR_GRAY, mean_size=28, fsize=(4, 3))\n",
    "\n",
    "ax.set_ylim(0, 25) # y limits\n",
    "ax.set_xlim(0.3, 0.70) # x limits\n",
    "ax.set_yticks([0, 10,  20]) # y ticks\n",
    "\n",
    "#plt.tight_layout(pad=0.2)\n",
    "\n",
    "fig_name = 'MOLECULAR--ACR_subs_swa_during_stim_raw'\n",
    "fig_path = f'{pub_utils.PAPER_FIGURE_ROOT}/molecular/ephys/{fig_name}.png'\n",
    "plt.savefig(fig_path, bbox_inches='tight', dpi=600, transparent=True)"
   ]
  },
  {
   "cell_type": "code",
   "execution_count": null,
   "metadata": {},
   "outputs": [],
   "source": [
    "write = True\n",
    "\n",
    "diffs = ch1 - ch2\n",
    "_s, _p = shapiro(ch1-ch2)\n",
    "print(f'Shapiro-Wilk p-value = {_p}')\n",
    "\n",
    "stats = pg.ttest(ch1, ch2, paired=True)\n",
    "hg = pg.compute_effsize(ch1, ch2, paired=True, eftype='hedges')\n",
    "print(f'hedges g: {hg}')\n",
    "\n",
    "if write:\n",
    "    # ==== Write Stats Results ====\n",
    "    stats_name = fig_name\n",
    "    acr.stats.write_stats_result(stats_name, 'paired_ttest', stats['T'][0], stats['p-val'][0], 'g', hg)\n",
    "    \n",
    "    # source_data\n",
    "    source_dat = pd.DataFrame({'off_induction_eeg': ch1, 'contra_eeg': ch2})\n",
    "    pub_utils.write_source_data(source_dat, fig_name)\n",
    "\n",
    "stats\n"
   ]
  },
  {
   "cell_type": "code",
   "execution_count": null,
   "metadata": {},
   "outputs": [],
   "source": [
    "f, ax = acr.plots.gen_paired_boxplot(ch2_norm, ch1_norm, colors=[NNXR_GRAY, ACR_BLUE], fsize=(4, 3), one_sided=True)\n",
    "\n",
    "ax.set_ylim(0.65, 9) # y limits\n",
    "ax.set_xlim(0.35, 0.70) # x limits\n",
    "ax.set_yticks([1, 5, 9]) # y ticks\n",
    "\n",
    "fig_name = 'MOLECULAR--ACR_subs_swa_during_stim_ReltoContra'\n",
    "fig_path = f'{pub_utils.PAPER_FIGURE_ROOT}/molecular/ephys/{fig_name}.png'\n",
    "plt.savefig(fig_path, bbox_inches='tight', dpi=600, transparent=True)"
   ]
  },
  {
   "cell_type": "markdown",
   "metadata": {},
   "source": [
    "# All subjects averaged SWA over time"
   ]
  },
  {
   "cell_type": "code",
   "execution_count": null,
   "metadata": {},
   "outputs": [],
   "source": [
    "sub_dfs = {}\n",
    "for sub_type, sub_list in zip(['som', 'acr', 'control'], [som_subjects, acr_subjects, control_subjects]):\n",
    "    for subject in sub_list:\n",
    "        dat, hypno = read_mephys_data(subject, 'swi', exp_hypno=True)\n",
    "        spg = kde.xr.spectral.get_spextrogram(dat)\n",
    "        bp = kde.xr.spectral.get_bp_set(spg)\n",
    "        bp = kde.hypno.hypno.add_states(bp, hypno)\n",
    "\n",
    "        df = bp.delta.to_dataframe().reset_index()\n",
    "        df['subject'] = subject\n",
    "        ons, offs = get_molecular_stim_times(subject, 'swi')\n",
    "        ton, toff = acr.stim.get_pulse_train_times(ons, offs, times=True)\n",
    "        df = label_df_between_times(df, ton, toff, label='stim')\n",
    "        df = label_bl(df, ton[0])\n",
    "        df = delta_rel_to_bl_ts(df, state=None) # AVERAGE OVER THE WHOLE BASELINE!\n",
    "        df['type'] = sub_type\n",
    "        sub_dfs[subject] = df"
   ]
  },
  {
   "cell_type": "code",
   "execution_count": null,
   "metadata": {},
   "outputs": [],
   "source": [
    "start = \"09:00:00\"\n",
    "end = \"13:50:00\"\n",
    "divisions = pd.date_range(start=start, end=end, freq='10min')\n",
    "new_dfs = []\n",
    "for subject in sub_dfs.keys():\n",
    "    df = sub_dfs[subject]\n",
    "    df['epoch'] = 'NA'\n",
    "    day = str(df['datetime'].min()).split(' ')[0]\n",
    "    for i, d in enumerate(divisions):\n",
    "        d_time = str(d).split(' ')[1]\n",
    "        t1 = pd.Timestamp(day + ' ' + d_time)\n",
    "        t2 = t1 + pd.Timedelta('10min')\n",
    "        df.loc[(df['datetime'] >= t1) & (df['datetime'] < t2), 'epoch'] = i\n",
    "    df = df.loc[df['epoch'] != 'NA']\n",
    "    new_dfs.append(df)\n",
    "all_dfs = pd.concat(new_dfs)"
   ]
  },
  {
   "cell_type": "code",
   "execution_count": null,
   "metadata": {},
   "outputs": [],
   "source": [
    "som_df = all_dfs.loc[all_dfs['type'] == 'som']\n",
    "acr_df = all_dfs.loc[all_dfs['type'] == 'acr']\n",
    "con_df = all_dfs.loc[all_dfs['type'] == 'control']\n",
    "type_dfs = {'som': som_df, 'acr': acr_df, 'control': con_df}"
   ]
  },
  {
   "cell_type": "code",
   "execution_count": null,
   "metadata": {},
   "outputs": [],
   "source": [
    "type_dfs['som'] = type_dfs['som'].loc[type_dfs['som']['subject'] != 'OPTSOM_8']"
   ]
  },
  {
   "cell_type": "code",
   "execution_count": null,
   "metadata": {},
   "outputs": [],
   "source": [
    "means = {}\n",
    "sems = {}\n",
    "ep_means = {}\n",
    "for type in type_dfs.keys():\n",
    "    df = type_dfs[type]\n",
    "    epoch_means = df.groupby(['subject', 'channel', 'epoch']).mean().reset_index()\n",
    "    ep_means[type] = epoch_means\n",
    "    epochs=epoch_means.chnl(2).epoch.unique()\n",
    "    ch2 =epoch_means.chnl(2).sort_values(['subject', 'epoch']).delta_rel.values\n",
    "    ch1 = epoch_means.chnl(1).sort_values(['subject', 'epoch'])\n",
    "    ch1['drel_ch2'] = ch2\n",
    "    ch1['drel_norm'] = ch1['delta_rel']/ch1['drel_ch2']\n",
    "    norm_means = ch1.groupby('epoch').mean().drel_norm.values\n",
    "    norm_stds = ch1.groupby('epoch').sem().drel_norm.values\n",
    "    means[type] = norm_means\n",
    "    sems[type] = norm_stds"
   ]
  },
  {
   "cell_type": "code",
   "execution_count": null,
   "metadata": {},
   "outputs": [],
   "source": [
    "plt.rcdefaults()\n",
    "lrg()"
   ]
  },
  {
   "cell_type": "code",
   "execution_count": null,
   "metadata": {},
   "outputs": [],
   "source": [
    "f, ax = plt.subplots(figsize=(30, 10))\n",
    "for type, color in zip(type_dfs.keys(), [SOM_BLUE, ACR_BLUE, NNXR_GRAY]):\n",
    "        ax.errorbar(epochs,\n",
    "                means[type],\n",
    "                yerr=sems[type],\n",
    "                color=color, \n",
    "                linewidth=0, \n",
    "                marker='o', \n",
    "                markersize=10, \n",
    "                markerfacecolor=color, \n",
    "                markeredgecolor=color,\n",
    "                capsize=4,\n",
    "                capthick=3.5, \n",
    "                elinewidth=3.5, \n",
    "                ecolor=color, \n",
    "                alpha=0.9,  # This alpha applies to the error bars\n",
    "                zorder=1)\n",
    "\n",
    "        # Add a separate line plot for the connecting line with different alpha\n",
    "        ax.plot(epochs, means[type], \n",
    "                color=color, \n",
    "                linewidth=4.5, \n",
    "                alpha=0.6)  # Adjust this value for the desired line transparency\n",
    "ax.set_yticks([0, 2, 4, 6])\n",
    "ax.set_ylim(0, 6)\n",
    "ax.set_xticks([0, 6, 12, 18, 24, 30])"
   ]
  },
  {
   "cell_type": "code",
   "execution_count": null,
   "metadata": {},
   "outputs": [],
   "source": [
    "f, ax = plt.subplots(figsize=(12, 4))\n",
    "sns.lineplot(data=ep_means['acr'].chnl(2), x='epoch', y='delta_rel', ax=ax, errorbar='se', color='gray', linewidth=4)\n",
    "sns.lineplot(data=ep_means['acr'].chnl(1), x='epoch', y='delta_rel', ax=ax, errorbar='se', color=ACR_BLUE, linewidth=4)\n",
    "ax.set_yticks([0, 2, 4, 6, 8, 10, 12])\n",
    "ax.set_ylim(0, 12)\n",
    "ax.set_xticks([0, 6, 12, 18, 24, 30])"
   ]
  },
  {
   "cell_type": "code",
   "execution_count": null,
   "metadata": {},
   "outputs": [],
   "source": [
    "epochs = epochs + 1"
   ]
  },
  {
   "cell_type": "code",
   "execution_count": null,
   "metadata": {},
   "outputs": [],
   "source": [
    "f, ax = plt.subplots(figsize=(12, 4))\n",
    "color=ACR_BLUE\n",
    "sub_type = 'acr'\n",
    "\n",
    "ax.errorbar(epochs,\n",
    "        ep_means[sub_type].chnl(1).groupby('epoch').mean().delta_rel.values,\n",
    "        yerr=ep_means[sub_type].chnl(1).groupby('epoch').sem().delta_rel.values,\n",
    "        color=color, \n",
    "        linewidth=0, \n",
    "        marker='o', \n",
    "        markersize=10, \n",
    "        markerfacecolor=color, \n",
    "        markeredgecolor=color,\n",
    "        capsize=4,\n",
    "        capthick=3.5, \n",
    "        elinewidth=3.5, \n",
    "        ecolor=color, \n",
    "        alpha=0.9,  # This alpha applies to the error bars\n",
    "        zorder=1)\n",
    "\n",
    "# Add a separate line plot for the connecting line with different alpha\n",
    "ax.plot(epochs, ep_means[sub_type].chnl(1).groupby('epoch').mean().delta_rel.values, \n",
    "        color=color, \n",
    "        linewidth=4.5, \n",
    "        alpha=0.6)  # Adjust this value for the desired line transparency\n",
    "\n",
    "\n",
    "ax.errorbar(epochs,\n",
    "        ep_means[sub_type].chnl(2).groupby('epoch').mean().delta_rel.values,\n",
    "        yerr=ep_means[sub_type].chnl(2).groupby('epoch').sem().delta_rel.values,\n",
    "        color='gray', \n",
    "        linewidth=0, \n",
    "        marker='o', \n",
    "        markersize=10, \n",
    "        markerfacecolor='gray', \n",
    "        markeredgecolor='gray',\n",
    "        capsize=4,\n",
    "        capthick=3.5, \n",
    "        elinewidth=3.5, \n",
    "        ecolor='gray', \n",
    "        alpha=0.9,  # This alpha applies to the error bars\n",
    "        zorder=1)\n",
    "\n",
    "# Add a separate line plot for the connecting line with different alpha\n",
    "ax.plot(epochs, ep_means[sub_type].chnl(2).groupby('epoch').mean().delta_rel.values, \n",
    "        color='gray', \n",
    "        linewidth=4.5, \n",
    "        alpha=0.6)  # Adjust this value for the desired line transparency\n",
    "\n",
    "ax.set_yticks([0, 4, 8, 12])\n",
    "ax.set_ylim(0, 12)\n",
    "ax.set_xticks([0, 6, 12, 18, 24, 30])\n",
    "plt.savefig(f'{PAPER_FIGURE_ROOT}/molecular/ephys/{sub_type}_subs_swa_over_SD__rel_to_full_SDmean.png', bbox_inches='tight', dpi=600, transparent=True)"
   ]
  },
  {
   "cell_type": "code",
   "execution_count": null,
   "metadata": {},
   "outputs": [],
   "source": [
    "f, ax = plt.subplots(figsize=(12, 4))\n",
    "sns.lineplot(data=ep_means['som'].chnl(2), x='epoch', y='delta_rel', ax=ax, errorbar='se', color='gray', linewidth=4)\n",
    "sns.lineplot(data=ep_means['som'].chnl(1), x='epoch', y='delta_rel', ax=ax, errorbar='se', color=SOM_BLUE, linewidth=4)\n",
    "\n",
    "ax.set_yticks([0.5, 1, 2, 3])\n",
    "ax.set_ylim(0.5, 3)\n",
    "ax.set_xticks([0, 6, 12, 18, 24, 30])"
   ]
  },
  {
   "cell_type": "code",
   "execution_count": null,
   "metadata": {},
   "outputs": [],
   "source": [
    "f, ax = plt.subplots(figsize=(12, 4))\n",
    "color=SOM_BLUE\n",
    "sub_type = 'som'\n",
    "\n",
    "ax.errorbar(epochs,\n",
    "        ep_means[sub_type].chnl(1).groupby('epoch').mean().delta_rel.values,\n",
    "        yerr=ep_means[sub_type].chnl(1).groupby('epoch').sem().delta_rel.values,\n",
    "        color=color, \n",
    "        linewidth=0, \n",
    "        marker='o', \n",
    "        markersize=10, \n",
    "        markerfacecolor=color, \n",
    "        markeredgecolor=color,\n",
    "        capsize=4,\n",
    "        capthick=3.5, \n",
    "        elinewidth=3.5, \n",
    "        ecolor=color, \n",
    "        alpha=0.9,  # This alpha applies to the error bars\n",
    "        zorder=1)\n",
    "\n",
    "# Add a separate line plot for the connecting line with different alpha\n",
    "ax.plot(epochs, ep_means[sub_type].chnl(1).groupby('epoch').mean().delta_rel.values, \n",
    "        color=color, \n",
    "        linewidth=4.5, \n",
    "        alpha=0.6)  # Adjust this value for the desired line transparency\n",
    "\n",
    "\n",
    "ax.errorbar(epochs,\n",
    "        ep_means[sub_type].chnl(2).groupby('epoch').mean().delta_rel.values,\n",
    "        yerr=ep_means[sub_type].chnl(2).groupby('epoch').sem().delta_rel.values,\n",
    "        color='gray', \n",
    "        linewidth=0, \n",
    "        marker='o', \n",
    "        markersize=10, \n",
    "        markerfacecolor='gray', \n",
    "        markeredgecolor='gray',\n",
    "        capsize=4,\n",
    "        capthick=3.5, \n",
    "        elinewidth=3.5, \n",
    "        ecolor='gray', \n",
    "        alpha=0.9,  # This alpha applies to the error bars\n",
    "        zorder=1)\n",
    "\n",
    "# Add a separate line plot for the connecting line with different alpha\n",
    "ax.plot(epochs, ep_means[sub_type].chnl(2).groupby('epoch').mean().delta_rel.values, \n",
    "        color='gray', \n",
    "        linewidth=4.5, \n",
    "        alpha=0.6)  # Adjust this value for the desired line transparency\n",
    "\n",
    "ax.set_yticks([0.5, 1, 2, 3])\n",
    "ax.set_ylim(0.5, 3)\n",
    "ax.set_xticks([0, 6, 12, 18, 24, 30])\n",
    "plt.savefig(f'{PAPER_FIGURE_ROOT}/molecular/ephys/{sub_type}_subs_swa_over_SD__rel_to_full_SDmean.png', bbox_inches='tight', dpi=600, transparent=True)"
   ]
  },
  {
   "cell_type": "code",
   "execution_count": null,
   "metadata": {},
   "outputs": [],
   "source": [
    "f, ax = plt.subplots(figsize=(12, 4))\n",
    "sns.lineplot(data=ep_means['control'].chnl(2), x='epoch', y='delta_rel', ax=ax, errorbar='se', color='gray', linewidth=4)\n",
    "sns.lineplot(data=ep_means['control'].chnl(1), x='epoch', y='delta_rel', ax=ax, errorbar='se', color='black', linewidth=4)\n",
    "ax.set_yticks([0.5, 1, 1.5, 2])\n",
    "ax.set_ylim(0.5, 2)\n",
    "ax.set_xticks([0, 6, 12, 18, 24, 30])"
   ]
  },
  {
   "cell_type": "code",
   "execution_count": null,
   "metadata": {},
   "outputs": [],
   "source": [
    "f, ax = plt.subplots(figsize=(12, 4))\n",
    "color='black'\n",
    "sub_type = 'control'\n",
    "\n",
    "ax.errorbar(epochs,\n",
    "        ep_means[sub_type].chnl(1).groupby('epoch').mean().delta_rel.values,\n",
    "        yerr=ep_means[sub_type].chnl(1).groupby('epoch').sem().delta_rel.values,\n",
    "        color=color, \n",
    "        linewidth=0, \n",
    "        marker='o', \n",
    "        markersize=10, \n",
    "        markerfacecolor=color, \n",
    "        markeredgecolor=color,\n",
    "        capsize=4,\n",
    "        capthick=3.5, \n",
    "        elinewidth=3.5, \n",
    "        ecolor=color, \n",
    "        alpha=0.9,  # This alpha applies to the error bars\n",
    "        zorder=1)\n",
    "\n",
    "# Add a separate line plot for the connecting line with different alpha\n",
    "ax.plot(epochs, ep_means[sub_type].chnl(1).groupby('epoch').mean().delta_rel.values, \n",
    "        color=color, \n",
    "        linewidth=4.5, \n",
    "        alpha=0.6)  # Adjust this value for the desired line transparency\n",
    "\n",
    "\n",
    "ax.errorbar(epochs,\n",
    "        ep_means[sub_type].chnl(2).groupby('epoch').mean().delta_rel.values,\n",
    "        yerr=ep_means[sub_type].chnl(2).groupby('epoch').sem().delta_rel.values,\n",
    "        color='gray', \n",
    "        linewidth=0, \n",
    "        marker='o', \n",
    "        markersize=10, \n",
    "        markerfacecolor='gray', \n",
    "        markeredgecolor='gray',\n",
    "        capsize=4,\n",
    "        capthick=3.5, \n",
    "        elinewidth=3.5, \n",
    "        ecolor='gray', \n",
    "        alpha=0.9,  # This alpha applies to the error bars\n",
    "        zorder=1)\n",
    "\n",
    "# Add a separate line plot for the connecting line with different alpha\n",
    "ax.plot(epochs, ep_means[sub_type].chnl(2).groupby('epoch').mean().delta_rel.values, \n",
    "        color='gray', \n",
    "        linewidth=4.5, \n",
    "        alpha=0.6)  # Adjust this value for the desired line transparency\n",
    "\n",
    "ax.set_yticks([0.5, 1, 1.5, 2])\n",
    "ax.set_ylim(0.5, 2)\n",
    "ax.set_xticks([0, 6, 12, 18, 24, 30])\n",
    "plt.savefig(f'{PAPER_FIGURE_ROOT}/molecular/ephys/{sub_type}_subs_swa_over_SD__rel_to_full_SDmean.png', bbox_inches='tight', dpi=600, transparent=True)"
   ]
  },
  {
   "cell_type": "markdown",
   "metadata": {},
   "source": [
    "# Time Series Plots for Schematic"
   ]
  },
  {
   "cell_type": "markdown",
   "metadata": {},
   "source": [
    "## ACR"
   ]
  },
  {
   "cell_type": "code",
   "execution_count": null,
   "metadata": {},
   "outputs": [],
   "source": [
    "bps = {}\n",
    "h = {}\n",
    "subject = 'OPT_12'\n",
    "dat, hypno = read_mephys_data(subject, 'swi', exp_hypno=True)\n",
    "spg = kde.xr.spectral.get_spextrogram(dat)\n",
    "bp = kde.xr.spectral.get_bp_set(spg)\n",
    "bp = kde.hypno.hypno.add_states(bp, hypno)\n",
    "\n",
    "df = bp.delta.to_dataframe().reset_index()\n",
    "df['subject'] = subject\n",
    "ons, offs = get_molecular_stim_times(subject, 'swi')\n",
    "ton, toff = acr.stim.get_pulse_train_times(ons, offs, times=True)\n",
    "df = label_df_between_times(df, ton, toff, label='stim')\n",
    "df = label_bl(df, ton[0])\n",
    "df = delta_rel_to_bl_ts(df)"
   ]
  },
  {
   "cell_type": "code",
   "execution_count": null,
   "metadata": {},
   "outputs": [],
   "source": [
    "\n",
    "ch1 = df.chnl(1)\n",
    "ch2 = df.chnl(2)\n",
    "ch1['delta_smoothed'] = ch1.sm('delta', sigma=4)['delta'].values\n",
    "ch2['delta_smoothed'] = ch2.sm('delta', sigma=4)['delta'].values"
   ]
  },
  {
   "cell_type": "code",
   "execution_count": null,
   "metadata": {},
   "outputs": [],
   "source": [
    "plt.rcdefaults()\n",
    "plt.style.use('fivethirtyeight')\n",
    "f, ax = plt.subplots(figsize=(30, 10))\n",
    "ax.plot(ch1['datetime'].values, ch1['delta_smoothed'].values, color=SOM_BLUE)\n",
    "ax.plot(ch2['datetime'].values, ch2['delta_smoothed'].values, color=NNXR_GRAY, alpha=0.9)\n",
    "ax.axhline(1, color='red', linewidth=2)"
   ]
  },
  {
   "cell_type": "code",
   "execution_count": null,
   "metadata": {},
   "outputs": [],
   "source": [
    "# set obviously artifactual values to median\n",
    "ch1.loc[(ch1['delta_smoothed']>8000) & (ch1['label'] != 'stim'), 'delta_smoothed'] = np.median(ch1['delta_smoothed'])\n",
    "ch2.loc[(ch2['delta_smoothed']>8000) & (ch2['label'] != 'stim'), 'delta_smoothed'] = np.median(ch2['delta_smoothed'])\n",
    "\n",
    "# PLOT\n",
    "plt.rcdefaults()\n",
    "pub()\n",
    "plt.rcParams['axes.spines.left'] = False\n",
    "plt.rcParams['axes.spines.bottom'] = False\n",
    "plt.rcParams['axes.spines.right'] = False\n",
    "plt.rcParams['axes.spines.top'] = False\n",
    "plt.rcParams['xtick.bottom'] = False\n",
    "plt.rcParams['ytick.left'] = False\n",
    "\n",
    "f, ax = plt.subplots(figsize=(30, 8))\n",
    "ax.plot(ch1['datetime'].values, ch1['delta_smoothed'].values, color=ACR_BLUE, linewidth=6)\n",
    "ax.plot(ch2['datetime'].values, ch2['delta_smoothed'].values, color=NNXR_GRAY, alpha=1, linewidth=6)\n",
    "ax.set_ylim(0, 70000)\n",
    "ax.set_xlim(ch1['datetime'].values[0], ch1['datetime'].values[-1])\n",
    "plt.subplots_adjust(left=0, right=1, top=1, bottom=0)\n",
    "f.savefig(f'{PAPER_FIGURE_ROOT}/molecular/ephys/OPT_12_SWA-TS.png', bbox_inches='tight', dpi=600, transparent=True)"
   ]
  },
  {
   "cell_type": "code",
   "execution_count": null,
   "metadata": {},
   "outputs": [],
   "source": [
    "\n",
    "# PLOT\n",
    "plt.rcdefaults()\n",
    "pub()\n",
    "plt.rcParams['axes.spines.left'] = False\n",
    "plt.rcParams['axes.spines.bottom'] = False\n",
    "plt.rcParams['axes.spines.right'] = False\n",
    "plt.rcParams['axes.spines.top'] = False\n",
    "plt.rcParams['xtick.bottom'] = False\n",
    "plt.rcParams['ytick.left'] = False\n",
    "\n",
    "f, ax = plt.subplots(figsize=(30, 8))\n",
    "ax.plot(ch1['datetime'].values, ch1['delta_smoothed'].values, color=ACR_BLUE, linewidth=6)\n",
    "ax.plot(ch2['datetime'].values, ch2['delta_smoothed'].values, color=NNXR_GRAY, alpha=1, linewidth=6)\n",
    "ax.set_ylim(0, 70000)\n",
    "ax.set_xlim(ch1['datetime'].values[0], ch1['datetime'].values[-1])\n",
    "plt.subplots_adjust(left=0, right=1, top=1, bottom=0)\n",
    "ax.axvspan(ton[0], ton[0]-pd.Timedelta('1h'), color='red', alpha=0.1)\n",
    "ax.axhspan(10000, 20000, xmin=0.2, xmax=0.4,color='purple', alpha=0.1)\n",
    "f.savefig(f'{PAPER_FIGURE_ROOT}/molecular/ephys/OPT_12_SWA-TS__SCALED-1h-10000uvhz.png', bbox_inches='tight', dpi=600, transparent=True)"
   ]
  },
  {
   "cell_type": "markdown",
   "metadata": {},
   "source": [
    "## SOM"
   ]
  },
  {
   "cell_type": "code",
   "execution_count": null,
   "metadata": {},
   "outputs": [],
   "source": [
    "bps = {}\n",
    "h = {}\n",
    "subject = 'OPTSOM_3'\n",
    "dat, hypno = read_mephys_data(subject, 'swi', exp_hypno=True)\n",
    "spg = kde.xr.spectral.get_spextrogram(dat)\n",
    "bp = kde.xr.spectral.get_bp_set(spg)\n",
    "bp = kde.hypno.hypno.add_states(bp, hypno)\n",
    "\n",
    "df = bp.delta.to_dataframe().reset_index()\n",
    "df['subject'] = subject\n",
    "ons, offs = get_molecular_stim_times(subject, 'swi')\n",
    "ton, toff = acr.stim.get_pulse_train_times(ons, offs, times=True)\n",
    "df = label_df_between_times(df, ton, toff, label='stim')\n",
    "df = label_bl(df, ton[0])\n",
    "df = delta_rel_to_bl_ts(df)"
   ]
  },
  {
   "cell_type": "code",
   "execution_count": null,
   "metadata": {},
   "outputs": [],
   "source": [
    "\n",
    "ch1 = df.chnl(1)\n",
    "ch2 = df.chnl(2)\n",
    "ch1['delta_smoothed'] = ch1.sm('delta', sigma=4)['delta'].values\n",
    "ch2['delta_smoothed'] = ch2.sm('delta', sigma=4)['delta'].values"
   ]
  },
  {
   "cell_type": "code",
   "execution_count": null,
   "metadata": {},
   "outputs": [],
   "source": [
    "plt.rcdefaults()\n",
    "plt.style.use('fivethirtyeight')\n",
    "f, ax = plt.subplots(figsize=(30, 10))\n",
    "ax.plot(ch1['datetime'].values, ch1['delta_smoothed'].values, color=SOM_BLUE)\n",
    "ax.plot(ch2['datetime'].values, ch2['delta_smoothed'].values, color=NNXR_GRAY, alpha=0.9)\n",
    "ax.axhline(1, color='red', linewidth=2)"
   ]
  },
  {
   "cell_type": "code",
   "execution_count": null,
   "metadata": {},
   "outputs": [],
   "source": [
    "# set obviously artifactual values to median\n",
    "ch1.loc[(ch1['delta_smoothed']>6000) & (ch1['label'] != 'stim'), 'delta_smoothed'] = np.median(ch1['delta_smoothed'])\n",
    "ch2.loc[(ch2['delta_smoothed']>6000) & (ch2['label'] != 'stim'), 'delta_smoothed'] = np.median(ch2['delta_smoothed'])\n",
    "\n",
    "# PLOT\n",
    "plt.rcdefaults()\n",
    "pub()\n",
    "plt.rcParams['axes.spines.left'] = False\n",
    "plt.rcParams['axes.spines.bottom'] = False\n",
    "plt.rcParams['axes.spines.right'] = False\n",
    "plt.rcParams['axes.spines.top'] = False\n",
    "plt.rcParams['xtick.bottom'] = False\n",
    "plt.rcParams['ytick.left'] = False\n",
    "\n",
    "f, ax = plt.subplots(figsize=(30, 5))\n",
    "ax.plot(ch1['datetime'].values, ch1['delta_smoothed'].values, color=SOM_BLUE, linewidth=4)\n",
    "ax.plot(ch2['datetime'].values, ch2['delta_smoothed'].values, color=NNXR_GRAY, alpha=0.9, linewidth=4)\n",
    "ax.set_ylim(0, 25000)\n",
    "ax.set_xlim(ch1['datetime'].values[0], ch1['datetime'].values[-1])\n",
    "plt.subplots_adjust(left=0, right=1, top=1, bottom=0)\n",
    "f.savefig(f'{PAPER_FIGURE_ROOT}/molecular/ephys/OPTSOM_3_SWA-TS.png', bbox_inches='tight', dpi=600, transparent=True)"
   ]
  },
  {
   "cell_type": "code",
   "execution_count": null,
   "metadata": {},
   "outputs": [],
   "source": [
    "\n",
    "# PLOT\n",
    "plt.rcdefaults()\n",
    "pub()\n",
    "plt.rcParams['axes.spines.left'] = False\n",
    "plt.rcParams['axes.spines.bottom'] = False\n",
    "plt.rcParams['axes.spines.right'] = False\n",
    "plt.rcParams['axes.spines.top'] = False\n",
    "plt.rcParams['xtick.bottom'] = False\n",
    "plt.rcParams['ytick.left'] = False\n",
    "\n",
    "f, ax = plt.subplots(figsize=(30, 5))\n",
    "ax.plot(ch1['datetime'].values, ch1['delta_smoothed'].values, color=SOM_BLUE, linewidth=4)\n",
    "ax.plot(ch2['datetime'].values, ch2['delta_smoothed'].values, color=NNXR_GRAY, alpha=0.9, linewidth=4)\n",
    "ax.set_ylim(0, 25000)\n",
    "ax.set_xlim(ch1['datetime'].values[0], ch1['datetime'].values[-1])\n",
    "plt.subplots_adjust(left=0, right=1, top=1, bottom=0)\n",
    "ax.axvspan(ton[0], ton[0]-pd.Timedelta('1h'), color='red', alpha=0.1)\n",
    "ax.axhspan(10000, 20000, xmin=0.2, xmax=0.4,color='purple', alpha=0.1)\n",
    "f.savefig(f'{PAPER_FIGURE_ROOT}/molecular/ephys/OPTSOM_3_SWA-TS__SCALED-1h-10000uvhz.png', bbox_inches='tight', dpi=600, transparent=True)"
   ]
  },
  {
   "cell_type": "markdown",
   "metadata": {},
   "source": [
    "## Control"
   ]
  },
  {
   "cell_type": "code",
   "execution_count": null,
   "metadata": {},
   "outputs": [],
   "source": [
    "bps = {}\n",
    "h = {}\n",
    "subject = 'OPT_9_CTRL'\n",
    "dat, hypno = read_mephys_data(subject, 'swi', exp_hypno=True)\n",
    "spg = kde.xr.spectral.get_spextrogram(dat)\n",
    "bp = kde.xr.spectral.get_bp_set(spg)\n",
    "bp = kde.hypno.hypno.add_states(bp, hypno)\n",
    "\n",
    "df = bp.delta.to_dataframe().reset_index()\n",
    "df['subject'] = subject\n",
    "ons, offs = get_molecular_stim_times(subject, 'swi')\n",
    "ton, toff = acr.stim.get_pulse_train_times(ons, offs, times=True)\n",
    "df = label_df_between_times(df, ton, toff, label='stim')\n",
    "df = label_bl(df, ton[0])\n",
    "df = delta_rel_to_bl_ts(df)"
   ]
  },
  {
   "cell_type": "code",
   "execution_count": null,
   "metadata": {},
   "outputs": [],
   "source": [
    "ch1 = df.chnl(1)\n",
    "ch2 = df.chnl(2)\n",
    "ch1['delta_smoothed'] = ch1.sm('delta', sigma=4)['delta'].values\n",
    "ch2['delta_smoothed'] = ch2.sm('delta', sigma=4)['delta'].values"
   ]
  },
  {
   "cell_type": "code",
   "execution_count": null,
   "metadata": {},
   "outputs": [],
   "source": [
    "plt.rcdefaults()\n",
    "plt.style.use('fivethirtyeight')\n",
    "f, ax = plt.subplots(figsize=(30, 10))\n",
    "ax.plot(ch1['datetime'].values, ch1['delta_smoothed'].values, color='k')\n",
    "ax.plot(ch2['datetime'].values, ch2['delta_smoothed'].values, color=NNXR_GRAY, alpha=0.9)\n",
    "ax.axhline(1, color='red', linewidth=2)\n",
    "ax.set_ylim(0, 20000)"
   ]
  },
  {
   "cell_type": "code",
   "execution_count": null,
   "metadata": {},
   "outputs": [],
   "source": [
    "# set obviously artifactual values to median\n",
    "ch1.loc[(ch1['delta_smoothed']>5500), 'delta_smoothed'] = np.median(ch1['delta_smoothed'])\n",
    "ch2.loc[(ch2['delta_smoothed']>5500), 'delta_smoothed'] = np.median(ch2['delta_smoothed'])\n",
    "\n",
    "# PLOT\n",
    "plt.rcdefaults()\n",
    "pub()\n",
    "plt.rcParams['axes.spines.left'] = False\n",
    "plt.rcParams['axes.spines.bottom'] = False\n",
    "plt.rcParams['axes.spines.right'] = False\n",
    "plt.rcParams['axes.spines.top'] = False\n",
    "plt.rcParams['xtick.bottom'] = False\n",
    "plt.rcParams['ytick.left'] = False\n",
    "\n",
    "f, ax = plt.subplots(figsize=(30, 5))\n",
    "ax.plot(ch1['datetime'].values, ch1['delta_smoothed'].values, color='k', linewidth=4)\n",
    "ax.plot(ch2['datetime'].values, ch2['delta_smoothed'].values, color=NNXR_GRAY, alpha=0.9, linewidth=4)\n",
    "ax.set_ylim(0, 25000)\n",
    "ax.set_xlim(ch1['datetime'].values[0], ch1['datetime'].values[-1])\n",
    "plt.subplots_adjust(left=0, right=1, top=1, bottom=0)\n",
    "f.savefig(f'{PAPER_FIGURE_ROOT}/molecular/ephys/OPT9_CTRL_SWA-TS.png', bbox_inches='tight', dpi=600, transparent=True)"
   ]
  },
  {
   "cell_type": "code",
   "execution_count": null,
   "metadata": {},
   "outputs": [],
   "source": [
    "\n",
    "# PLOT\n",
    "plt.rcdefaults()\n",
    "pub()\n",
    "plt.rcParams['axes.spines.left'] = False\n",
    "plt.rcParams['axes.spines.bottom'] = False\n",
    "plt.rcParams['axes.spines.right'] = False\n",
    "plt.rcParams['axes.spines.top'] = False\n",
    "plt.rcParams['xtick.bottom'] = False\n",
    "plt.rcParams['ytick.left'] = False\n",
    "\n",
    "f, ax = plt.subplots(figsize=(30, 5))\n",
    "ax.plot(ch1['datetime'].values, ch1['delta_smoothed'].values, color='k', linewidth=4)\n",
    "ax.plot(ch2['datetime'].values, ch2['delta_smoothed'].values, color=NNXR_GRAY, alpha=0.9, linewidth=4)\n",
    "ax.set_ylim(0, 25000)\n",
    "ax.set_xlim(ch1['datetime'].values[0], ch1['datetime'].values[-1])\n",
    "plt.subplots_adjust(left=0, right=1, top=1, bottom=0)\n",
    "ax.axvspan(ton[0], ton[0]-pd.Timedelta('1h'), color='red', alpha=0.1)\n",
    "ax.axhspan(10000, 20000, xmin=0.2, xmax=0.4,color='purple', alpha=0.1)\n",
    "f.savefig(f'{PAPER_FIGURE_ROOT}/molecular/ephys/OPT9_CTRL_SWA-TS__SCALED-1h-10000uvhz.png', bbox_inches='tight', dpi=600, transparent=True)"
   ]
  }
 ],
 "metadata": {
  "kernelspec": {
   "display_name": "offdet",
   "language": "python",
   "name": "python3"
  },
  "language_info": {
   "codemirror_mode": {
    "name": "ipython",
    "version": 3
   },
   "file_extension": ".py",
   "mimetype": "text/x-python",
   "name": "python",
   "nbconvert_exporter": "python",
   "pygments_lexer": "ipython3",
   "version": "3.10.14"
  }
 },
 "nbformat": 4,
 "nbformat_minor": 2
}
