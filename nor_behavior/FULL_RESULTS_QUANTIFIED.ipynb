{
 "cells": [
  {
   "cell_type": "code",
   "execution_count": null,
   "metadata": {},
   "outputs": [],
   "source": [
    "%reload_ext autoreload\n",
    "%autoreload 2\n",
    "import pandas as pd\n",
    "from acr.nor import *\n",
    "import matplotlib.pyplot as plt\n",
    "import seaborn as sns\n",
    "import acr\n",
    "from acr.nor import stim_subjects\n",
    "import numpy as np\n",
    "import pingouin as pg\n",
    "from acr.plots import lrg, pub\n",
    "\n",
    "#--------------------------------- Import Publication Functions ---------------------------------#\n",
    "pub_utils = acr.utils.import_publication_functions('/home/kdriessen/gh_master/PUBLICATION__ACR/pub_utils.py', 'pub_utils')\n",
    "from pub_utils import write_stats, write_source_data"
   ]
  },
  {
   "cell_type": "code",
   "execution_count": null,
   "metadata": {},
   "outputs": [],
   "source": [
    "dfs = []\n",
    "all_subjects = get_all_subjects()\n",
    "for sub in all_subjects:\n",
    "    print(sub)\n",
    "    t = get_subject_type(sub)\n",
    "    dfs.append(load_subject_node(sub, 'nose', test_dur=6000, type=t))\n",
    "df = pd.concat(dfs)"
   ]
  },
  {
   "cell_type": "markdown",
   "metadata": {},
   "source": [
    "# OVERVIEW"
   ]
  },
  {
   "cell_type": "code",
   "execution_count": null,
   "metadata": {},
   "outputs": [],
   "source": [
    "plt.rcdefaults()\n",
    "plt.style.use('fivethirtyeight')"
   ]
  },
  {
   "cell_type": "code",
   "execution_count": null,
   "metadata": {},
   "outputs": [],
   "source": [
    "\n",
    "frame_counts = df.groupby(['subject', 'type', 'condition', 'node', 'side']).count().reset_index()\n",
    "counts = frame_counts.sort_values(by=['subject', 'side'])\n",
    "counts['ratio'] = counts.groupby(['subject', 'condition'])['x'].transform(lambda x: x / x.sum())"
   ]
  },
  {
   "cell_type": "code",
   "execution_count": null,
   "metadata": {},
   "outputs": [],
   "source": [
    "# For the raw time-on-side comparisons, we obviously need to exclude the subjects who did not spend a fair amount of time on both sides during the acquisition period\n",
    "to_ex = counts.loc[(counts['condition']=='acq')&(counts['ratio']>(2/3))]['subject'].values\n",
    "df_new = df.loc[~df['subject'].isin(to_ex)]\n",
    "frame_counts = df_new.groupby(['subject', 'type', 'condition', 'node', 'side']).count().reset_index()\n",
    "counts = frame_counts.sort_values(by=['subject', 'side'])\n",
    "counts['ratio'] = counts.groupby(['subject', 'condition'])['x'].transform(lambda x: x / x.sum())"
   ]
  },
  {
   "cell_type": "code",
   "execution_count": null,
   "metadata": {},
   "outputs": [],
   "source": [
    "f, axs = plt.subplots(3, 1, figsize=(30, 10))\n",
    "axs[0] = sns.barplot(counts.loc[(counts['side']=='novel')&(counts['type']=='sleep')], x='subject', y='ratio', hue='condition', palette=['gray', 'green'], ax=axs[0])\n",
    "axs[1] = sns.barplot(counts.loc[(counts['side']=='novel')&(counts['type']=='sd')], x='subject', y='ratio', hue='condition', palette=['gray', 'green'], ax=axs[1])\n",
    "axs[2] = sns.barplot(counts.loc[(counts['side']=='novel')&(counts['type']=='stim')], x='subject', y='ratio', hue='condition', palette=['gray', 'green'], ax=axs[2])\n",
    "for a in axs:\n",
    "    a.axhline(0.5, color='red', linestyle='--')"
   ]
  },
  {
   "cell_type": "code",
   "execution_count": null,
   "metadata": {},
   "outputs": [],
   "source": [
    "f, axs = plt.subplots(1, 1, figsize=(30, 20))\n",
    "axs = sns.barplot(counts.loc[(counts['side']=='novel')&(counts['type']=='stim')], x='subject', y='ratio', hue='condition', palette=['gray', 'green'], ax=axs)\n",
    "axs.axhline(0.5, color='red', linestyle='--')"
   ]
  },
  {
   "cell_type": "code",
   "execution_count": null,
   "metadata": {},
   "outputs": [],
   "source": [
    "g = sns.catplot(counts.loc[counts['side']=='novel'], kind='bar', x='condition', y='ratio', hue='condition', palette=['gray', 'green'], col='type', col_order=['sleep', 'sd', 'stim'])\n",
    "for a in g.axes.flat:\n",
    "    a.axhline(0.5, color='red', linestyle='--')"
   ]
  },
  {
   "cell_type": "markdown",
   "metadata": {},
   "source": [
    "# Basic Group-level plots"
   ]
  },
  {
   "cell_type": "code",
   "execution_count": null,
   "metadata": {},
   "outputs": [],
   "source": [
    "cs = counts.loc[counts['side']=='novel']\n",
    "cs_sleep = cs.loc[cs['type']=='sleep']\n",
    "cs_sd = cs.loc[cs['type']=='sd']\n",
    "cs_stim = cs.loc[cs['type']=='stim']\n",
    "cs_sleep_acq = cs_sleep.loc[cs_sleep['condition']=='acq']['ratio'].values\n",
    "cs_sleep_test = cs_sleep.loc[cs_sleep['condition']=='test']['ratio'].values\n",
    "cs_sd_acq = cs_sd.loc[cs_sd['condition']=='acq']['ratio'].values\n",
    "cs_sd_test = cs_sd.loc[cs_sd['condition']=='test']['ratio'].values\n",
    "cs_stim_acq = cs_stim.loc[cs_stim['condition']=='acq']['ratio'].values\n",
    "cs_stim_test = cs_stim.loc[cs_stim['condition']=='test']['ratio'].values"
   ]
  },
  {
   "cell_type": "code",
   "execution_count": null,
   "metadata": {},
   "outputs": [],
   "source": [
    "rel_sleep = cs_sleep_test/cs_sleep_acq\n",
    "rel_sd = cs_sd_test/cs_sd_acq\n",
    "rel_stim = cs_stim_test/cs_stim_acq"
   ]
  },
  {
   "cell_type": "code",
   "execution_count": null,
   "metadata": {},
   "outputs": [],
   "source": [
    "f, ax = plt.subplots(1, 1, figsize=(10, 5))\n",
    "ax.boxplot([cs_sleep_acq, cs_sleep_test], positions=[0.3, 0.7])\n",
    "for i in range(len(cs_sleep_acq)):\n",
    "    ax.scatter(0.4, cs_sleep_acq[i], color='gray', alpha=0.9, s=60, zorder=202)\n",
    "    ax.scatter(0.6, cs_sleep_test[i], color='green', alpha=0.9, s=60, zorder=203)"
   ]
  },
  {
   "cell_type": "code",
   "execution_count": null,
   "metadata": {},
   "outputs": [],
   "source": [
    "f, ax = plt.subplots(1, 1, figsize=(10, 5))\n",
    "ax.boxplot([cs_sd_acq, cs_sd_test], positions=[0.3, 0.7])\n",
    "for i in range(len(cs_sd_acq)):\n",
    "    ax.scatter(0.4, cs_sd_acq[i], color='gray', alpha=0.9, s=60, zorder=202)\n",
    "    ax.scatter(0.6, cs_sd_test[i], color='green', alpha=0.9, s=60, zorder=203)"
   ]
  },
  {
   "cell_type": "code",
   "execution_count": null,
   "metadata": {},
   "outputs": [],
   "source": [
    "f, ax = plt.subplots(1, 1, figsize=(10, 5))\n",
    "ax.boxplot([cs_stim_acq, cs_stim_test], positions=[0.3, 0.7])\n",
    "for i in range(len(cs_stim_acq)):\n",
    "    ax.scatter(0.4, cs_stim_acq[i], color='gray', alpha=0.9, s=60, zorder=202)\n",
    "    ax.scatter(0.6, cs_stim_test[i], color='green', alpha=0.9, s=60, zorder=203)"
   ]
  },
  {
   "cell_type": "code",
   "execution_count": null,
   "metadata": {},
   "outputs": [],
   "source": [
    "f, ax = plt.subplots(1, 1, figsize=(20, 10))\n",
    "ax.boxplot([cs_sleep_test, cs_sd_test, cs_stim_test], positions=[0.3, 0.5, 0.7], showfliers=False, showmeans=True)\n",
    "for i in range(len(cs_sleep_test)):\n",
    "    ax.scatter(0.3, cs_sleep_test[i], color='red', alpha=0.9, s=60, zorder=202)\n",
    "for i in range(len(cs_sd_test)):\n",
    "    ax.scatter(0.5, cs_sd_test[i], color='gray', alpha=0.9, s=60, zorder=203)\n",
    "for i in range(len(cs_stim_test)):\n",
    "    ax.scatter(0.7, cs_stim_test[i], color='blue', alpha=0.9, s=60, zorder=204)\n",
    "ax.axhline(0.5, color='red', linestyle='--')\n",
    "ax.set_title(\"RAW NOVELTY RATIO DURING TEST\")"
   ]
  },
  {
   "cell_type": "markdown",
   "metadata": {},
   "source": [
    "# Write Stats and Source Data"
   ]
  },
  {
   "cell_type": "code",
   "execution_count": null,
   "metadata": {},
   "outputs": [],
   "source": [
    "subs_to_exclude = []\n",
    "csex = cs.copy()\n",
    "for sub in subs_to_exclude:\n",
    "    csex = csex.loc[csex['subject']!=sub]\n",
    "cs_sleep = csex.loc[cs['type']=='sleep']\n",
    "cs_sd = csex.loc[cs['type']=='sd']\n",
    "cs_stim = csex.loc[cs['type']=='stim']\n",
    "cs_sleep_acq = cs_sleep.loc[cs_sleep['condition']=='acq']['ratio'].values\n",
    "cs_sleep_test = cs_sleep.loc[cs_sleep['condition']=='test']['ratio'].values\n",
    "cs_sd_acq = cs_sd.loc[cs_sd['condition']=='acq']['ratio'].values\n",
    "cs_sd_test = cs_sd.loc[cs_sd['condition']=='test']['ratio'].values\n",
    "cs_stim_acq = cs_stim.loc[cs_stim['condition']=='acq']['ratio'].values\n",
    "cs_stim_test = cs_stim.loc[cs_stim['condition']=='test']['ratio'].values"
   ]
  },
  {
   "cell_type": "code",
   "execution_count": null,
   "metadata": {},
   "outputs": [],
   "source": [
    "# Normality Checks\n",
    "from scipy.stats import shapiro\n",
    "_, p = shapiro(cs_sleep_test)\n",
    "print(f'p-value for sleep: {p}')\n",
    "\n",
    "_, p = shapiro(cs_stim_test)\n",
    "print(f'p-value for stim: {p}')\n",
    "\n",
    "_, p = shapiro(cs_sd_test)\n",
    "print(f'p-value for sd: {p}')"
   ]
  },
  {
   "cell_type": "code",
   "execution_count": null,
   "metadata": {},
   "outputs": [],
   "source": [
    "sleep_df = pd.DataFrame({\"sleep_condition\":'sleep', 'ratio':cs_sleep_test})\n",
    "stim_df = pd.DataFrame({\"sleep_condition\":'stim', 'ratio':cs_stim_test})\n",
    "sd_df = pd.DataFrame({\"sleep_condition\":'sd', 'ratio': cs_sd_test})\n",
    "\n",
    "anova_df = pd.concat([sleep_df, stim_df, sd_df])"
   ]
  },
  {
   "cell_type": "code",
   "execution_count": null,
   "metadata": {},
   "outputs": [],
   "source": [
    "# Equal Variance Check\n",
    "pg.homoscedasticity(data=anova_df, dv='ratio', group='sleep_condition')"
   ]
  },
  {
   "cell_type": "code",
   "execution_count": null,
   "metadata": {},
   "outputs": [],
   "source": [
    "anov = pg.welch_anova(data=anova_df, dv='ratio', between='sleep_condition')\n",
    "anov"
   ]
  },
  {
   "cell_type": "code",
   "execution_count": null,
   "metadata": {},
   "outputs": [],
   "source": [
    "tuk = pg.pairwise_tukey(anova_df, dv='ratio', between='sleep_condition')\n",
    "tuk"
   ]
  },
  {
   "cell_type": "code",
   "execution_count": null,
   "metadata": {},
   "outputs": [],
   "source": [
    "import scipy\n",
    "trts = [cs_sleep_test, cs_stim_test]\n",
    "DUN = scipy.stats.dunnett(*trts, control=cs_sd_test)"
   ]
  },
  {
   "cell_type": "code",
   "execution_count": null,
   "metadata": {},
   "outputs": [],
   "source": [
    "acr.stats.write_stats_result('novelty_ratio_anova', 'WELCH_ANOVA', anov['F'][0], anov['p-unc'][0], 'np2', anov['np2'][0])\n",
    "acr.stats.write_stats_result('sleep_vs_sd_novelty_ratio', 'pairwise_tukey', tuk['T'][0], tuk['p-tukey'][0], 'g', tuk['hedges'][0])\n",
    "acr.stats.write_stats_result('stim_vs_sd_novelty_ratio', 'pairwise_tukey', tuk['T'][1], tuk['p-tukey'][1], 'g', tuk['hedges'][1])\n",
    "acr.stats.write_stats_result('sleep_vs_stim_novelty_ratio', 'pairwise_tukey', tuk['T'][2], tuk['p-tukey'][2], 'g', tuk['hedges'][2])"
   ]
  },
  {
   "cell_type": "code",
   "execution_count": null,
   "metadata": {},
   "outputs": [],
   "source": [
    "# write source data for statistical tests\n",
    "source_data_sleep = pd.DataFrame({'novelty_ratio': cs_sleep_test, 'subject_number': range(len(cs_sleep_test)), 'subject_type': 'sleep'})\n",
    "source_data_sd = pd.DataFrame({'novelty_ratio': cs_sd_test, 'subject_number': range(len(cs_sd_test)), 'subject_type': 'sd'})\n",
    "source_data_stim = pd.DataFrame({'novelty_ratio': cs_stim_test, 'subject_number': range(len(cs_stim_test)), 'subject_type': 'sd-off-induction'})\n",
    "source_data = pd.concat([source_data_sleep, source_data_sd, source_data_stim])\n",
    "write_source_data(source_data, 'floor_texture_recognition_source_data')"
   ]
  },
  {
   "cell_type": "markdown",
   "metadata": {},
   "source": [
    "# Final Plot"
   ]
  },
  {
   "cell_type": "code",
   "execution_count": null,
   "metadata": {},
   "outputs": [],
   "source": [
    "plt.rcdefaults()\n",
    "lrg()\n",
    "plt.rcParams['xtick.bottom'] = False\n",
    "from acr.utils import SOM_BLUE, NNXR_GRAY, NREM_RED, PAPER_FIGURE_ROOT"
   ]
  },
  {
   "cell_type": "code",
   "execution_count": null,
   "metadata": {},
   "outputs": [],
   "source": [
    "f, ax = plt.subplots(1, 1, figsize=(9, 5))\n",
    "# Boxplots for all three conditions\n",
    "\n",
    "ax, box = acr.plots.add_boxplot(ax, cs_sleep_test, positions=[0.4], widths=0.0225, color=NREM_RED, means=True, mean_color='gold', mean_linewidth=3.5, mean_linestyle='--', mean_dashes=(1.2, 1.2), alpha=0.9)\n",
    "ax = acr.plots.add_data_points(ax, cs_sleep_test, x_pos=0.42, color=NREM_RED, alpha=0.9, s=70, zorder=202)\n",
    "\n",
    "ax, box2 = acr.plots.add_boxplot(ax, cs_sd_test, positions=[0.5], widths=0.0225, color=NNXR_GRAY, means=True, mean_color='gold', mean_linewidth=3.5, mean_linestyle='--', mean_dashes=(1.2, 1.2), alpha=0.9)\n",
    "ax = acr.plots.add_data_points(ax, cs_sd_test, x_pos=0.52, color=NNXR_GRAY, alpha=0.9, s=70, zorder=203)\n",
    "\n",
    "ax, box3 = acr.plots.add_boxplot(ax, cs_stim_test, positions=[0.6], widths=0.0225, color=SOM_BLUE, means=True, mean_color='gold', mean_linewidth=3.5, mean_linestyle='--', mean_dashes=(1.2, 1.2), alpha=0.9)\n",
    "ax = acr.plots.add_data_points(ax, cs_stim_test, x_pos=0.62, color=SOM_BLUE, alpha=0.9, s=70, zorder=204)\n",
    "\n",
    "ax.set_xlim(0.35, 0.65)\n",
    "ax.set_ylim(0.3, 0.8)\n",
    "ax.set_yticks([0.3, 0.4, 0.5, 0.6, 0.7, 0.8])\n",
    "#ax.axhline(0.5, color='red', linestyle='--')\n",
    "\n",
    "plt.tight_layout()\n",
    "f.savefig(f'{PAPER_FIGURE_ROOT}/nor_behavior/novelty_ratio_boxplot.png', dpi=600, bbox_inches='tight', transparent=True)"
   ]
  },
  {
   "cell_type": "code",
   "execution_count": null,
   "metadata": {},
   "outputs": [],
   "source": [
    "f, ax = plt.subplots(1, 1, figsize=(9, 5))\n",
    "# Boxplots for all three conditions\n",
    "box_sleep = ax.boxplot(cs_sleep_test, positions=[0.4], widths=0.025, patch_artist=True, capprops=dict(color='none', linewidth=0), whiskerprops=dict(color='k', linewidth=3), medianprops=dict(color='k', linewidth=3, zorder=101), showfliers=False)\n",
    "box_sleep['boxes'][0].set_facecolor(NREM_RED)\n",
    "box_sleep['boxes'][0].set_alpha(0.8)\n",
    "box_sleep['boxes'][0].set_linewidth(0)\n",
    "box_sleep['boxes'][0].set_zorder(100)\n",
    "\n",
    "box_sd = ax.boxplot(cs_sd_test, positions=[0.5], widths=0.025, patch_artist=True, capprops=dict(color='none', linewidth=0), whiskerprops=dict(color='k', linewidth=3), medianprops=dict(color='k', linewidth=3, zorder=101), showfliers=False)\n",
    "box_sd['boxes'][0].set_facecolor(NNXR_GRAY)\n",
    "box_sd['boxes'][0].set_alpha(0.8)\n",
    "box_sd['boxes'][0].set_linewidth(0)\n",
    "box_sd['boxes'][0].set_zorder(100)\n",
    "\n",
    "box_stim = ax.boxplot(cs_stim_test, positions=[0.6], widths=0.025, patch_artist=True, capprops=dict(color='none', linewidth=0), whiskerprops=dict(color='k', linewidth=3), medianprops=dict(color='k', linewidth=3, zorder=101), showfliers=False)\n",
    "box_stim['boxes'][0].set_facecolor(SOM_BLUE)\n",
    "box_stim['boxes'][0].set_alpha(0.8)\n",
    "box_stim['boxes'][0].set_linewidth(0)\n",
    "box_stim['boxes'][0].set_zorder(100)\n",
    "\n",
    "# Add individual points\n",
    "for i in range(len(cs_sleep_test)):\n",
    "    ax.scatter(0.42, cs_sleep_test[i], color=NREM_RED, alpha=0.9, s=70, zorder=202)\n",
    "for i in range(len(cs_sd_test)):\n",
    "    ax.scatter(0.52, cs_sd_test[i], color=NNXR_GRAY, alpha=0.9, s=70, zorder=203)\n",
    "for i in range(len(cs_stim_test)):\n",
    "    ax.scatter(0.62, cs_stim_test[i], color=SOM_BLUE, alpha=0.9, s=70, zorder=204)\n",
    "\n",
    "ax.set_xlim(0.35, 0.65)\n",
    "ax.set_ylim(0.3, 0.8)\n",
    "ax.set_yticks([0.3, 0.4, 0.5, 0.6, 0.7, 0.8])\n",
    "ax.axhline(0.5, color='red', linestyle='--')\n",
    "plt.tight_layout()\n",
    "f.savefig(f'{PAPER_FIGURE_ROOT}/nor_behavior/novelty_ratio_boxplot.png', dpi=600, bbox_inches='tight', transparent=True)"
   ]
  },
  {
   "cell_type": "markdown",
   "metadata": {},
   "source": [
    "# Relative Data (each subject normalized to its own acquisition)"
   ]
  },
  {
   "cell_type": "code",
   "execution_count": null,
   "metadata": {},
   "outputs": [],
   "source": [
    "frame_counts = df.groupby(['subject', 'type', 'condition', 'node', 'side']).count().reset_index()\n",
    "counts = frame_counts.sort_values(by=['subject', 'side'])\n",
    "counts['ratio'] = counts.groupby(['subject', 'condition'])['x'].transform(lambda x: x / x.sum())"
   ]
  },
  {
   "cell_type": "code",
   "execution_count": null,
   "metadata": {},
   "outputs": [],
   "source": [
    "cs = counts.loc[counts['side']=='novel']\n",
    "cs_sleep = cs.loc[cs['type']=='sleep']\n",
    "cs_sd = cs.loc[cs['type']=='sd']\n",
    "cs_stim = cs.loc[cs['type']=='stim']\n",
    "cs_sleep_acq = cs_sleep.loc[cs_sleep['condition']=='acq']['ratio'].values\n",
    "cs_sleep_test = cs_sleep.loc[cs_sleep['condition']=='test']['ratio'].values\n",
    "cs_sd_acq = cs_sd.loc[cs_sd['condition']=='acq']['ratio'].values\n",
    "cs_sd_test = cs_sd.loc[cs_sd['condition']=='test']['ratio'].values\n",
    "cs_stim_acq = cs_stim.loc[cs_stim['condition']=='acq']['ratio'].values\n",
    "cs_stim_test = cs_stim.loc[cs_stim['condition']=='test']['ratio'].values"
   ]
  },
  {
   "cell_type": "code",
   "execution_count": null,
   "metadata": {},
   "outputs": [],
   "source": [
    "rel_sleep = cs_sleep_test/cs_sleep_acq\n",
    "rel_sd = cs_sd_test/cs_sd_acq\n",
    "rel_stim = cs_stim_test/cs_stim_acq"
   ]
  },
  {
   "cell_type": "code",
   "execution_count": null,
   "metadata": {},
   "outputs": [],
   "source": [
    "plt.rcdefaults()\n",
    "acr.plots.supl()"
   ]
  },
  {
   "cell_type": "code",
   "execution_count": null,
   "metadata": {},
   "outputs": [],
   "source": [
    "f, ax = plt.subplots(1, 1, figsize=(20, 10))\n",
    "ax.boxplot([rel_sleep, rel_sd, rel_stim], positions=[0.3, 0.5, 0.7], showfliers=False, showmeans=True)\n",
    "for i in range(len(rel_sleep)):\n",
    "    ax.scatter(0.3, rel_sleep[i], color='red', alpha=0.9, s=60, zorder=202)\n",
    "for i in range(len(rel_sd)):\n",
    "    ax.scatter(0.5, rel_sd[i], color='gray', alpha=0.9, s=60, zorder=203)\n",
    "for i in range(len(rel_stim)):\n",
    "    ax.scatter(0.7, rel_stim[i], color='blue', alpha=0.9, s=60, zorder=204)\n",
    "ax.axhline(1, color='red', linestyle='--')\n",
    "ax.set_title(\"RELATIVE NOVELTY RATIO DURING TEST (per subject adjusted)\")"
   ]
  },
  {
   "cell_type": "code",
   "execution_count": null,
   "metadata": {},
   "outputs": [],
   "source": [
    "sleep_df = pd.DataFrame({\"sleep_condition\":'sleep', 'ratio':rel_sleep})\n",
    "stim_df = pd.DataFrame({\"sleep_condition\":'stim', 'ratio':rel_stim})\n",
    "sd_df = pd.DataFrame({\"sleep_condition\":'sd', 'ratio': rel_sd})\n",
    "\n",
    "anova_df = pd.concat([sleep_df, stim_df, sd_df])"
   ]
  },
  {
   "cell_type": "code",
   "execution_count": null,
   "metadata": {},
   "outputs": [],
   "source": [
    "# Equal Variance Check\n",
    "pg.homoscedasticity(data=anova_df, dv='ratio', group='sleep_condition')"
   ]
  },
  {
   "cell_type": "code",
   "execution_count": null,
   "metadata": {},
   "outputs": [],
   "source": [
    "anov = pg.welch_anova(data=anova_df, dv='ratio', between='sleep_condition')\n",
    "anov"
   ]
  },
  {
   "cell_type": "code",
   "execution_count": null,
   "metadata": {},
   "outputs": [],
   "source": [
    "scipy.stats.dunnett(*[rel_sleep, rel_stim], control=rel_sd)\n"
   ]
  },
  {
   "cell_type": "code",
   "execution_count": null,
   "metadata": {},
   "outputs": [],
   "source": [
    "tuk = pg.pairwise_tukey(anova_df, dv='ratio', between='sleep_condition')\n",
    "tuk"
   ]
  },
  {
   "cell_type": "code",
   "execution_count": null,
   "metadata": {},
   "outputs": [],
   "source": [
    "tt_rel_sleep = pg.ttest(rel_sleep, rel_sd)\n",
    "tt_rel_sleep"
   ]
  },
  {
   "cell_type": "code",
   "execution_count": null,
   "metadata": {},
   "outputs": [],
   "source": [
    "tt_rel_stim = pg.ttest(rel_stim, rel_sd)\n",
    "tt_rel_stim"
   ]
  }
 ],
 "metadata": {
  "kernelspec": {
   "display_name": "offdet",
   "language": "python",
   "name": "python3"
  },
  "language_info": {
   "codemirror_mode": {
    "name": "ipython",
    "version": 3
   },
   "file_extension": ".py",
   "mimetype": "text/x-python",
   "name": "python",
   "nbconvert_exporter": "python",
   "pygments_lexer": "ipython3",
   "version": "3.10.14"
  }
 },
 "nbformat": 4,
 "nbformat_minor": 2
}
