{
 "cells": [
  {
   "cell_type": "code",
   "execution_count": null,
   "id": "3f5c3269",
   "metadata": {},
   "outputs": [],
   "source": [
    "from acr.utils import HALO_GREEN, NNXR_GRAY\n",
    "\n",
    "MAIN_EXP = 'swisin'\n",
    "SUBJECT_TYPE = 'halo'\n",
    "MAIN_COLOR = HALO_GREEN"
   ]
  },
  {
   "cell_type": "code",
   "execution_count": null,
   "id": "9322d359",
   "metadata": {},
   "outputs": [],
   "source": [
    "#-------------------------- Standard Imports --------------------------#\n",
    "%reload_ext autoreload\n",
    "%autoreload 2\n",
    "import kdephys as kde\n",
    "import pandas as pd\n",
    "import polars as pl\n",
    "import matplotlib.pyplot as plt\n",
    "import seaborn as sns\n",
    "import numpy as np\n",
    "import acr\n",
    "import xarray as xr\n",
    "\n",
    "from scipy import stats\n",
    "import pingouin as pg\n",
    "from scipy.stats import shapiro, normaltest\n",
    "# ---------------------------- EXTRAS --------------------------------#\n",
    "from kdephys.plot.main import _title, bp_plot\n",
    "import kdephys.utils.spectral as sp\n",
    "bands = sp.bands\n",
    "\n",
    "import warnings\n",
    "warnings.filterwarnings('ignore')\n",
    "import matplotlib as mpl\n",
    "from acr.utils import *\n",
    "pu = acr.utils.import_publication_functions('/home/kdriessen/gh_master/PUBLICATION__ACR/pub_utils.py', 'pu')\n",
    "dag = acr.utils.import_publication_functions('/home/kdriessen/gh_master/PUBLICATION__ACR/data_agg.py', 'dag')"
   ]
  },
  {
   "cell_type": "code",
   "execution_count": null,
   "id": "0258dd72",
   "metadata": {},
   "outputs": [],
   "source": [
    "subjects, exps = pu.get_subject_list(type=SUBJECT_TYPE, exp=MAIN_EXP)\n",
    "notebook_figure_root = f'{pu.PAPER_FIGURE_ROOT}/OFF_PERIODS'"
   ]
  },
  {
   "cell_type": "code",
   "execution_count": null,
   "id": "fa77eeaf",
   "metadata": {},
   "outputs": [],
   "source": [
    "full_hyps = {}\n",
    "hyp_dicts = {}\n",
    "for subject, exp in zip(subjects, exps):\n",
    "    full_hyps[subject] = acr.io.load_hypno_full_exp(subject, exp)\n",
    "    hyp_dicts[subject] = acr.hypnogram_utils.create_acr_hyp_dict(subject, exp, true_stim=True)"
   ]
  },
  {
   "cell_type": "code",
   "execution_count": null,
   "id": "d0be59db",
   "metadata": {},
   "outputs": [],
   "source": [
    "# WHOLE-PROBE DATAFRAMES\n",
    "bindfs = [] \n",
    "oodfs = {}\n",
    "for subject, exp in zip(subjects, exps):\n",
    "        print(subject, exp)\n",
    "        if subject in bindfs:\n",
    "                oodf = dag.load_base_oodf(subject, exp)\n",
    "        else:\n",
    "                oodf = dag.load_base_oodf(subject, exp)\n",
    "        oodf = acr.oo_utils.enhance_oodf(oodf, full_hyps[subject], hyp_dicts[subject])\n",
    "        oodfs[subject] = oodf\n",
    "full_oodf_wp = pl.concat(oodfs.values())\n",
    "off_means = full_oodf_wp.group_by(['subject', 'probe', 'condition']).agg(pl.col('duration_rel').mean())"
   ]
  },
  {
   "cell_type": "code",
   "execution_count": null,
   "id": "895f1896",
   "metadata": {},
   "outputs": [],
   "source": [
    "# HYBRID DATAFRAMES\n",
    "bindfs = ['ACR_46', 'ACR_52'] \n",
    "oodfs = {}\n",
    "for subject, exp in zip(subjects, exps):\n",
    "        print(subject, exp)\n",
    "        if subject in bindfs:\n",
    "                oodf = dag.load_wpdf_with_hybrid_format(subject, exp)\n",
    "        else:\n",
    "                oodf = dag.compute_hybrid_off_df(subject, exp, chan_threshold=12)\n",
    "        oodf = acr.oo_utils.enhance_oodf(oodf, full_hyps[subject], hyp_dicts[subject])\n",
    "        oodfs[subject] = oodf\n",
    "\n",
    "# 46 rebound-frequency outlier smooth with the 1ms binned definition, which should help for normalization to baseline\n",
    "subject = 'ACR_46'\n",
    "exp = sub_swisin_exps[subject][0]\n",
    "oodf = dag.load_bindf_with_hybrid_format(subject, exp)\n",
    "oodf = acr.oo_utils.enhance_oodf(oodf, full_hyps[subject], hyp_dicts[subject])\n",
    "oodfs[subject] = oodf\n",
    "full_oodf = pl.concat(oodfs.values())\n",
    "off_means = full_oodf.group_by(['subject', 'probe', 'condition']).agg(pl.col('duration_rel').mean())"
   ]
  },
  {
   "cell_type": "code",
   "execution_count": null,
   "id": "7c36dca1",
   "metadata": {},
   "outputs": [],
   "source": [
    "hdf_freqs = []\n",
    "freq_means = []\n",
    "for subject in subjects:\n",
    "    subdf = full_oodf.filter(pl.col('subject')==subject)\n",
    "    subdf = subdf.offs()\n",
    "    subfreq = acr.oo_utils.calc_off_freq(subdf, window='5s')\n",
    "    subfreq = acr.oo_utils.label_oodf_with_states(subfreq, full_hyps[subject])\n",
    "    subfreq = acr.oo_utils.label_oodf_full_bl(subfreq)\n",
    "    subfreq = acr.oo_utils.label_oodf_hyp_dict_conditions(subfreq, hyp_dicts[subject])    \n",
    "    subfreq = acr.oo_utils.relativize_oodf(subfreq, ref_to_col='full_bl', ref_to_val='True', avg_method='mean', col_to_relativize='off_freq_per_s') \n",
    "    hdf_freqs.append(subfreq)\n",
    "freq = pl.concat(hdf_freqs)\n",
    "freq = freq.filter(pl.col('condition')!='None')\n",
    "freq_means = freq.group_by(['subject', 'probe', 'condition']).agg(pl.col('off_freq_per_s_rel').mean())"
   ]
  },
  {
   "cell_type": "code",
   "execution_count": null,
   "id": "b3e9f963",
   "metadata": {},
   "outputs": [],
   "source": [
    "plt.rcdefaults()\n",
    "acr.plots.supl()"
   ]
  },
  {
   "cell_type": "code",
   "execution_count": null,
   "id": "fa58c4e0",
   "metadata": {},
   "outputs": [],
   "source": [
    "f, ax = plt.subplots(2, 1, figsize=(28, 12))\n",
    "sns.boxplot(data=off_means, x='condition', y='duration_rel', hue='probe', hue_order=['NNXr', 'NNXo'], palette=[NNXR_GRAY, MAIN_COLOR], ax=ax[0], order=COND_ORDER)\n",
    "sns.stripplot(data=off_means, x='condition', y='duration_rel', hue='probe', dodge=True, hue_order=['NNXr', 'NNXo'], palette=['red', 'black'], alpha=0.7, ax=ax[0], s=5, order=COND_ORDER)\n",
    "ax[0].set_ylim(0, 1.5)\n",
    "ax[0].axhline(y=1, color='red', linestyle='--')\n",
    "ax[0].set_title(f'Threshold: {12} Channels | OFF Period Duration Across all Subjects, Relative to Full Baseline')\n",
    "sns.boxplot(data=freq_means, x='condition', y='off_freq_per_s_rel', hue='probe', hue_order=['NNXr', 'NNXo'], palette=[NNXR_GRAY, MAIN_COLOR], ax=ax[1], order=COND_ORDER)\n",
    "sns.stripplot(data=freq_means, x='condition', y='off_freq_per_s_rel', hue='probe', dodge=True, hue_order=['NNXr', 'NNXo'], palette=['red', 'black'], alpha=0.7, ax=ax[1], s=5, order=COND_ORDER)\n",
    "#ax[1].set_ylim(0, 1.5)\n",
    "ax[1].axhline(y=1, color='red', linestyle='--')\n",
    "ax[1].set_title(f'Threshold: {12} Channels | OFF Period Frequency Across all Subjects, Relative to Full Baseline')\n",
    "#ax[1].set_ylim(0, 1.5)"
   ]
  },
  {
   "cell_type": "code",
   "execution_count": null,
   "id": "6482639f",
   "metadata": {},
   "outputs": [],
   "source": [
    "freq_means_raw = freq.group_by(['subject', 'probe', 'condition']).agg(pl.col('off_freq_per_s').mean())\n",
    "off_means_raw = full_oodf.group_by(['subject', 'probe', 'condition']).agg(pl.col('duration').mean())\n",
    "f, ax = plt.subplots(2, 1, figsize=(28, 12))\n",
    "sns.boxplot(data=off_means_raw, x='condition', y='duration', hue='probe', hue_order=['NNXr', 'NNXo'], palette=[NNXR_GRAY, MAIN_COLOR], ax=ax[0], order=COND_ORDER)\n",
    "sns.stripplot(data=off_means_raw, x='condition', y='duration', hue='probe', dodge=True, hue_order=['NNXr', 'NNXo'], palette=['red', 'black'], alpha=0.7, ax=ax[0], s=5, order=COND_ORDER)\n",
    "#ax[0].set_ylim(0, 1.5)\n",
    "ax[0].set_title(f'Threshold: {12} Channels | OFF Period Duration Across all Subjects, Relative to Full Baseline')\n",
    "sns.boxplot(data=freq_means_raw, x='condition', y='off_freq_per_s', hue='probe', hue_order=['NNXr', 'NNXo'], palette=[NNXR_GRAY, MAIN_COLOR], ax=ax[1], order=COND_ORDER)\n",
    "sns.stripplot(data=freq_means_raw, x='condition', y='off_freq_per_s', hue='probe', dodge=True, hue_order=['NNXr', 'NNXo'], palette=['red', 'black'], alpha=0.7, ax=ax[1], s=5, order=COND_ORDER)\n",
    "#ax[1].set_ylim(0, 1.5)\n",
    "ax[1].set_title(f'Threshold: {12} Channels | OFF Period Frequency Across all Subjects, Relative to Full Baseline')\n",
    "#ax[1].set_ylim(0, 1.5)"
   ]
  },
  {
   "cell_type": "code",
   "execution_count": null,
   "id": "f6817d76",
   "metadata": {},
   "outputs": [],
   "source": [
    "plt.rcdefaults()\n",
    "acr.plots.lrg()\n",
    "plt.rcParams['xtick.bottom'] = False"
   ]
  },
  {
   "cell_type": "code",
   "execution_count": null,
   "id": "017f3cee",
   "metadata": {},
   "outputs": [],
   "source": [
    "plt.rcParams['xtick.bottom'] = False\n",
    "nnxr = freq_means.cdn('stim').prb('NNXr').sort('subject')['off_freq_per_s_rel'].to_numpy()\n",
    "nnxo = freq_means.cdn('stim').prb('NNXo').sort('subject')['off_freq_per_s_rel'].to_numpy()\n",
    "\n",
    "fig_id = 'off-freq-during-STIM'\n",
    "fig_name = f'{SUBJECT_TYPE}__{MAIN_EXP}__{fig_id}'\n",
    "fig_path = f'{notebook_figure_root}/{fig_name}.png'\n",
    "\n",
    "f, ax = plt.subplots(1, 1, figsize=(3.5, 4))\n",
    "acr.plots.gen_paired_boxplot(nnxr, nnxo, ax=ax, colors=[NNXR_GRAY, MAIN_COLOR])\n",
    "print(ax.get_ylim())\n",
    "ax.set_yticks([0, 0.5, 1])\n",
    "ax.set_ylim(-0.05, 1)\n",
    "ax.set_xticklabels(['Contra. Control', 'Optrode'])\n",
    "f.savefig(fig_path,dpi=600, transparent=True, bbox_inches='tight')"
   ]
  },
  {
   "cell_type": "code",
   "execution_count": null,
   "id": "8fe2202c",
   "metadata": {},
   "outputs": [],
   "source": [
    "# =============================\n",
    "# ========== STATS ============\n",
    "# =============================\n",
    "write = True\n",
    "\n",
    "diffs = nnxr - nnxo\n",
    "shap_stat, shap_p = shapiro(diffs) # test the paired differences for normality\n",
    "print(f'shapiro_p-value: {shap_p}')\n",
    "\n",
    "stats = pg.ttest(nnxr, nnxo, paired=True)\n",
    "# stats = pg.wilcoxon(nnxr, nnxo)\n",
    "\n",
    "hg = pg.compute_effsize(nnxr, nnxo, paired=True, eftype='hedges')\n",
    "print(f'hedges g: {hg}')\n",
    "\n",
    "#r = acr.stats.calculate_wilx_r(stats['W-val'][0], len(nnxr))\n",
    "\n",
    "\n",
    "if write:\n",
    "    stats_name = f'{fig_name}'\n",
    "    acr.stats.write_stats_result(stats_name, 'paired_ttest', stats['T'][0], stats['p-val'][0], 'g', hg)\n",
    "    \n",
    "    # ===== Write Source Data =====\n",
    "    source_data = pd.DataFrame({'contra_control': nnxr, 'off_induction': nnxo, 'subject': np.arange(len(nnxr))})\n",
    "    pu.write_source_data(source_data, stats_name)\n",
    "stats"
   ]
  },
  {
   "cell_type": "code",
   "execution_count": null,
   "id": "2f744f0f",
   "metadata": {},
   "outputs": [],
   "source": [
    "nnxr = freq_means.cdn('stim').prb('NNXr').sort('subject')['off_freq_per_s_rel'].to_numpy()\n",
    "nnxo = freq_means.cdn('stim').prb('NNXo').sort('subject')['off_freq_per_s_rel'].to_numpy()\n",
    "nnxr_sd = freq_means.cdn('late_sd').prb('NNXr').sort('subject')['off_freq_per_s_rel'].to_numpy()\n",
    "nnxo_sd = freq_means.cdn('late_sd').prb('NNXo').sort('subject')['off_freq_per_s_rel'].to_numpy()\n",
    "\n",
    "# Replace any zero values in nnxr with corresponding values from nnxr_sd\n",
    "nnxr = np.where(nnxr == 0, nnxr_sd, nnxr)\n",
    "nnxo = np.where(nnxo == 0, nnxo_sd, nnxo)\n",
    "\n",
    "nnxr_rel = nnxr/nnxr\n",
    "nnxo_rel = nnxo/nnxr\n",
    "\n",
    "fig_id = 'off-freq-during-STIM-NORMALIZED'\n",
    "fig_name = f'{SUBJECT_TYPE}__{MAIN_EXP}__{fig_id}'\n",
    "fig_path = f'{notebook_figure_root}/{fig_name}.png'\n",
    "\n",
    "f, ax = plt.subplots(1, 1, figsize=(3.5, 4))\n",
    "acr.plots.gen_paired_boxplot(nnxr_rel, nnxo_rel, ax=ax, one_sided=True, colors=[NNXR_GRAY, MAIN_COLOR])\n",
    "ax.set_xticklabels(['Contra. Control', 'Optrode'])\n",
    "#f.savefig(fig_path, dpi=600, transparent=True, bbox_inches='tight')\n",
    "ax.get_ylim()"
   ]
  },
  {
   "cell_type": "markdown",
   "id": "b9f0b650",
   "metadata": {},
   "source": [
    "----------"
   ]
  },
  {
   "cell_type": "code",
   "execution_count": null,
   "id": "ce4d7616",
   "metadata": {},
   "outputs": [],
   "source": [
    "nnxr = off_means.cdn('stim').prb('NNXr').sort('subject')['duration_rel'].to_numpy()\n",
    "nnxo = off_means.cdn('stim').prb('NNXo').sort('subject')['duration_rel'].to_numpy()\n",
    "\n",
    "fig_id = 'off-duration-during-STIM'\n",
    "fig_name = f'{SUBJECT_TYPE}__{MAIN_EXP}__{fig_id}'\n",
    "fig_path = f'{notebook_figure_root}/{fig_name}.png'\n",
    "\n",
    "f, ax = plt.subplots(1, 1, figsize=(3.5, 4))\n",
    "acr.plots.gen_paired_boxplot(nnxr, nnxo, ax=ax, colors=[NNXR_GRAY, MAIN_COLOR])\n",
    "print(ax.get_ylim())\n",
    "ax.set_xticklabels(['Contra. Control', 'Optrode'])\n",
    "ax.set_yticks([0.4, 0.6, 0.8, 1])\n",
    "f.savefig(fig_path, dpi=600, transparent=True, bbox_inches='tight')\n"
   ]
  },
  {
   "cell_type": "code",
   "execution_count": null,
   "id": "b0719fa6",
   "metadata": {},
   "outputs": [],
   "source": [
    "# =============================\n",
    "# ========== STATS ============\n",
    "# =============================\n",
    "write = True\n",
    "\n",
    "diffs = nnxr - nnxo\n",
    "shap_stat, shap_p = shapiro(diffs) # test the paired differences for normality\n",
    "agostino_stat, agostino_p = normaltest(diffs) # test the paired differences for normality\n",
    "print(f'shapiro_p-value: {shap_p}')\n",
    "print(f'd,agostino_p-value: {agostino_p}')\n",
    "\n",
    "stats = pg.ttest(nnxr, nnxo, paired=True)\n",
    "# stats = pg.wilcoxon(nnxr, nnxo)\n",
    "\n",
    "hg = pg.compute_effsize(nnxr, nnxo, paired=True, eftype='hedges')\n",
    "print(f'hedges g: {hg}')\n",
    "\n",
    "#r = acr.stats.calculate_wilx_r(stats['W-val'][0], len(nnxr))\n",
    "\n",
    "\n",
    "if write:\n",
    "    stats_name = f'{fig_name}'\n",
    "    acr.stats.write_stats_result(stats_name, 'paired_ttest', stats['T'][0], stats['p-val'][0], 'g', hg)\n",
    "    \n",
    "    # ===== Write Source Data =====\n",
    "    source_data = pd.DataFrame({'contra_control': nnxr, 'off_induction': nnxo, 'subject': np.arange(len(nnxr))})\n",
    "    pu.write_source_data(source_data, stats_name)\n",
    "stats"
   ]
  },
  {
   "cell_type": "code",
   "execution_count": null,
   "id": "f2c78009",
   "metadata": {},
   "outputs": [],
   "source": [
    "nnxr = off_means.cdn('stim').prb('NNXr').sort('subject')['duration_rel'].to_numpy()\n",
    "nnxo = off_means.cdn('stim').prb('NNXo').sort('subject')['duration_rel'].to_numpy()\n",
    "\n",
    "nnxr_rel = nnxr/nnxr\n",
    "nnxo_rel = nnxo/nnxr\n",
    "\n",
    "fig_id = 'off-duration-during-STIM-NORMALIZED'\n",
    "fig_name = f'{SUBJECT_TYPE}__{MAIN_EXP}__{fig_id}'\n",
    "fig_path = f'{notebook_figure_root}/{fig_name}.png'\n",
    "\n",
    "f, ax = plt.subplots(1, 1, figsize=(3.5, 4))\n",
    "acr.plots.gen_paired_boxplot(nnxr_rel, nnxo_rel, ax=ax, one_sided=True, colors=[NNXR_GRAY, MAIN_COLOR])\n",
    "ax.set_xticklabels(['Contra. Control', 'Optrode'])\n",
    "f.savefig(fig_path, dpi=600, transparent=True, bbox_inches='tight')\n",
    "ax.get_ylim()"
   ]
  },
  {
   "cell_type": "markdown",
   "id": "597087b0",
   "metadata": {},
   "source": [
    "--------------"
   ]
  },
  {
   "cell_type": "code",
   "execution_count": null,
   "id": "ef982ddb",
   "metadata": {},
   "outputs": [],
   "source": [
    "nnxr = off_means.cdn('rebound').prb('NNXr').sort('subject')['duration_rel'].to_numpy()\n",
    "nnxo = off_means.cdn('rebound').prb('NNXo').sort('subject')['duration_rel'].to_numpy()\n",
    "\n",
    "fig_id = 'off-duration-during-REBOUND'\n",
    "fig_name = f'{SUBJECT_TYPE}__{MAIN_EXP}__{fig_id}'\n",
    "fig_path = f'{notebook_figure_root}/{fig_name}.png'\n",
    "\n",
    "f, ax = plt.subplots(1, 1, figsize=(3.5, 4))\n",
    "acr.plots.gen_paired_boxplot(nnxr, nnxo, ax=ax, colors=[NNXR_GRAY, MAIN_COLOR])\n",
    "print(ax.get_ylim())\n",
    "ax.set_yticks([1, 1.1, 1.2, 1.3])\n",
    "ax.set_xticklabels(['Contra. Control', 'Optrode'])\n",
    "f.savefig(fig_path, dpi=600, transparent=True, bbox_inches='tight')\n"
   ]
  },
  {
   "cell_type": "code",
   "execution_count": null,
   "id": "fa627a5c",
   "metadata": {},
   "outputs": [],
   "source": [
    "# =============================\n",
    "# ========== STATS ============\n",
    "# =============================\n",
    "write = True\n",
    "\n",
    "diffs = nnxr - nnxo\n",
    "shap_stat, shap_p = shapiro(diffs) # test the paired differences for normality\n",
    "print(f'shapiro_p-value: {shap_p}')\n",
    "\n",
    "stats = pg.ttest(nnxr, nnxo, paired=True)\n",
    "#stats = pg.wilcoxon(nnxr, nnxo)\n",
    "\n",
    "hg = pg.compute_effsize(nnxr, nnxo, paired=True, eftype='hedges')\n",
    "print(f'hedges g: {hg}')\n",
    "\n",
    "#r = acr.stats.calculate_wilx_r(stats['W-val'][0], len(nnxr))\n",
    "\n",
    "\n",
    "if write:\n",
    "    stats_name = f'{fig_name}'\n",
    "    acr.stats.write_stats_result(stats_name, 'paired_ttest', stats['T'][0], stats['p-val'][0], 'g', hg)\n",
    "    \n",
    "    # ===== Write Source Data =====\n",
    "    source_data = pd.DataFrame({'contra_control': nnxr, 'off_induction': nnxo, 'subject': np.arange(len(nnxr))})\n",
    "    pu.write_source_data(source_data, stats_name)\n",
    "stats"
   ]
  },
  {
   "cell_type": "code",
   "execution_count": null,
   "id": "ff82516c",
   "metadata": {},
   "outputs": [],
   "source": [
    "nnxr_rel = nnxr/nnxr\n",
    "nnxo_rel = nnxo/nnxr\n",
    "\n",
    "fig_id = 'off-duration-during-REBOUND-NORMALIZED'\n",
    "fig_name = f'{SUBJECT_TYPE}__{MAIN_EXP}__{fig_id}'\n",
    "fig_path = f'{notebook_figure_root}/{fig_name}.png'\n",
    "\n",
    "f, ax = plt.subplots(1, 1, figsize=(3.5, 4))\n",
    "acr.plots.gen_paired_boxplot(nnxr_rel, nnxo_rel, ax=ax, one_sided=True, colors=[NNXR_GRAY, MAIN_COLOR])\n",
    "ax.set_xticklabels(['Contra. Control', 'Optrode'])\n",
    "print(ax.get_ylim())\n",
    "f.savefig(fig_path, dpi=600, transparent=True, bbox_inches='tight')\n"
   ]
  },
  {
   "cell_type": "markdown",
   "id": "178896c8",
   "metadata": {},
   "source": [
    "-------------------"
   ]
  },
  {
   "cell_type": "code",
   "execution_count": null,
   "id": "214f9024",
   "metadata": {},
   "outputs": [],
   "source": [
    "nnxr = freq_means.cdn('rebound').prb('NNXr').sort('subject')['off_freq_per_s_rel'].to_numpy()\n",
    "nnxo = freq_means.cdn('rebound').prb('NNXo').sort('subject')['off_freq_per_s_rel'].to_numpy()\n",
    "\n",
    "fig_id = 'off-freq-during-REBOUND'\n",
    "fig_name = f'{SUBJECT_TYPE}__{MAIN_EXP}__{fig_id}'\n",
    "fig_path = f'{notebook_figure_root}/{fig_name}.png'\n",
    "\n",
    "f, ax = plt.subplots(1, 1, figsize=(3.5, 4))\n",
    "acr.plots.gen_paired_boxplot(nnxr, nnxo, ax=ax, colors=[NNXR_GRAY, MAIN_COLOR])\n",
    "ax.set_xticklabels(['Contra. Control', 'Optrode'])\n",
    "print(ax.get_ylim())\n",
    "ax.set_yticks([1, 2, 3])\n",
    "f.savefig(fig_path, dpi=600, transparent=True, bbox_inches='tight')\n"
   ]
  },
  {
   "cell_type": "code",
   "execution_count": null,
   "id": "b465b4a9",
   "metadata": {},
   "outputs": [],
   "source": [
    "# =============================\n",
    "# ========== STATS ============\n",
    "# =============================\n",
    "write = True\n",
    "\n",
    "diffs = nnxr - nnxo\n",
    "shap_stat, shap_p = shapiro(diffs) # test the paired differences for normality\n",
    "print(f'shapiro_p-value: {shap_p}')\n",
    "\n",
    "stats = pg.ttest(nnxr, nnxo, paired=True)\n",
    "#stats = pg.wilcoxon(nnxr, nnxo)\n",
    "\n",
    "hg = pg.compute_effsize(nnxr, nnxo, paired=True, eftype='hedges')\n",
    "print(f'hedges g: {hg}')\n",
    "\n",
    "#r = acr.stats.calculate_wilx_r(stats['W-val'][0], len(nnxr))\n",
    "\n",
    "\n",
    "if write:\n",
    "    stats_name = f'{fig_name}'\n",
    "    acr.stats.write_stats_result(stats_name, 'paired_ttest', stats['T'][0], stats['p-val'][0], 'g', hg)\n",
    "    \n",
    "    # ===== Write Source Data =====\n",
    "    source_data = pd.DataFrame({'contra_control': nnxr, 'off_induction': nnxo, 'subject': np.arange(len(nnxr))})\n",
    "    pu.write_source_data(source_data, stats_name)\n",
    "stats"
   ]
  },
  {
   "cell_type": "code",
   "execution_count": null,
   "id": "d6ad5202",
   "metadata": {},
   "outputs": [],
   "source": [
    "nnxr_rel = nnxr/nnxr\n",
    "nnxo_rel = nnxo/nnxr\n",
    "\n",
    "fig_id = 'off-freq-during-REBOUND-NORMALIZED'\n",
    "fig_name = f'{SUBJECT_TYPE}__{MAIN_EXP}__{fig_id}'\n",
    "fig_path = f'{notebook_figure_root}/{fig_name}.png'\n",
    "\n",
    "f, ax = plt.subplots(1, 1, figsize=(3.5, 4))\n",
    "acr.plots.gen_paired_boxplot(nnxr_rel, nnxo_rel, ax=ax, one_sided=True, colors=[NNXR_GRAY, MAIN_COLOR])\n",
    "ax.set_xticklabels(['Contra. Control', 'Optrode'])\n",
    "f.savefig(fig_path, dpi=600, transparent=True, bbox_inches='tight')\n"
   ]
  }
 ],
 "metadata": {
  "kernelspec": {
   "display_name": "off_ind",
   "language": "python",
   "name": "python3"
  },
  "language_info": {
   "codemirror_mode": {
    "name": "ipython",
    "version": 3
   },
   "file_extension": ".py",
   "mimetype": "text/x-python",
   "name": "python",
   "nbconvert_exporter": "python",
   "pygments_lexer": "ipython3",
   "version": "3.12.10"
  }
 },
 "nbformat": 4,
 "nbformat_minor": 5
}
