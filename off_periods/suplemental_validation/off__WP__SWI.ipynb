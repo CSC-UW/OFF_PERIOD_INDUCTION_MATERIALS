{
 "cells": [
  {
   "cell_type": "code",
   "execution_count": null,
   "id": "9322d359",
   "metadata": {},
   "outputs": [],
   "source": [
    "#-------------------------- Standard Imports --------------------------#\n",
    "%reload_ext autoreload\n",
    "%autoreload 2\n",
    "import kdephys as kde\n",
    "import pandas as pd\n",
    "import polars as pl\n",
    "import matplotlib.pyplot as plt\n",
    "import seaborn as sns\n",
    "import numpy as np\n",
    "import acr\n",
    "import xarray as xr\n",
    "from scipy import stats\n",
    "# ---------------------------- EXTRAS --------------------------------#\n",
    "from kdephys.plot.main import _title, bp_plot\n",
    "import kdephys.utils.spectral as sp\n",
    "bands = sp.bands\n",
    "\n",
    "import warnings\n",
    "warnings.filterwarnings('ignore')\n",
    "import matplotlib as mpl\n",
    "from acr.utils import *\n",
    "from acr.utils import COND_ORDER\n",
    "pu = acr.utils.import_publication_functions('/home/kdriessen/gh_master/PUBLICATION__ACR/pub_utils.py', 'pu')\n",
    "dag = acr.utils.import_publication_functions('/home/kdriessen/gh_master/PUBLICATION__ACR/data_agg.py', 'dag')"
   ]
  },
  {
   "cell_type": "code",
   "execution_count": null,
   "id": "c0a61f32",
   "metadata": {},
   "outputs": [],
   "source": [
    "exp = 'swi'"
   ]
  },
  {
   "cell_type": "code",
   "execution_count": null,
   "id": "1de53b85",
   "metadata": {},
   "outputs": [],
   "source": [
    "full_hyps = {}\n",
    "hyp_dicts = {}\n",
    "for subject in som_animals:\n",
    "    full_hyps[subject] = acr.io.load_hypno_full_exp(subject, sub_swi_exps[subject][0])\n",
    "    hyp_dicts[subject] = acr.hypnogram_utils.create_acr_hyp_dict(subject, sub_swi_exps[subject][0])\n",
    "for subject in acr_animals:\n",
    "    full_hyps[subject] = acr.io.load_hypno_full_exp(subject, sub_swi_exps[subject][0])\n",
    "    hyp_dicts[subject] = acr.hypnogram_utils.create_acr_hyp_dict(subject, sub_swi_exps[subject][0])"
   ]
  },
  {
   "cell_type": "code",
   "execution_count": null,
   "id": "c58f6375",
   "metadata": {},
   "outputs": [],
   "source": [
    "oodfs = []\n",
    "for subject in som_animals:\n",
    "    for exp in sub_swi_exps[subject]:\n",
    "        print(subject, exp)\n",
    "        wp = dag.load_base_oodf(subject, exp, dftype='whole-probe')\n",
    "        wp = acr.oo_utils.label_oodf_with_states(wp, full_hyps[subject])\n",
    "        wp = acr.oo_utils.label_oodf_full_bl(wp)\n",
    "        wp = acr.oo_utils.label_oodf_hyp_dict_conditions(wp, hyp_dicts[subject])\n",
    "        wp = acr.oo_utils.relativize_oodf(wp, ref_to_col='full_bl', ref_to_val='True', avg_method='mean', col_to_relativize='duration')\n",
    "        oodfs.append(wp)\n",
    "odf = pl.concat(oodfs)\n",
    "offdf = odf.offs().filter(pl.col('condition') != 'None')\n",
    "off_means = offdf.group_by(['subject', 'probe', 'condition']).agg(pl.col('duration_rel').mean())\n",
    "ondf = odf.ons().filter(pl.col('condition') != 'None')\n",
    "on_means = ondf.group_by(['subject', 'probe', 'condition']).agg(pl.col('duration_rel').mean())"
   ]
  },
  {
   "cell_type": "code",
   "execution_count": null,
   "id": "5dad10b6",
   "metadata": {},
   "outputs": [],
   "source": [
    "f, ax = plt.subplots(1, 2, figsize=(30, 15))\n",
    "sns.boxplot(data=on_means, x='condition', y='duration_rel', hue='probe', hue_order=['NNXr', 'NNXo'], palette=[NNXR_GRAY, SOM_BLUE], ax=ax[0], order=COND_ORDER)\n",
    "sns.stripplot(data=on_means, x='condition', y='duration_rel', hue='probe', dodge=True, hue_order=['NNXr', 'NNXo'], palette=['red', 'black'], alpha=0.8, ax=ax[0], s=5, order=COND_ORDER)\n",
    "ax[0].set_ylim(0, 2.5)\n",
    "ax[0].axhline(y=1, color='red', linestyle='--')\n",
    "ax[0].set_title('ON Period Duration by Subject, Relative to Full Baseline')\n",
    "\n",
    "sns.boxplot(data=off_means, x='condition', y='duration_rel', hue='probe', hue_order=['NNXr', 'NNXo'], palette=[NNXR_GRAY, SOM_BLUE], ax=ax[1], order=COND_ORDER)\n",
    "sns.stripplot(data=off_means, x='condition', y='duration_rel', hue='probe', dodge=True, hue_order=['NNXr', 'NNXo'], palette=['red', 'black'], alpha=0.8, ax=ax[1], s=5, order=COND_ORDER)\n",
    "ax[1].set_ylim(0, 2.5)\n",
    "ax[1].axhline(y=1, color='red', linestyle='--')\n",
    "ax[1].set_title('OFF Period Duration by Subject, Relative to Full Baseline')"
   ]
  },
  {
   "cell_type": "code",
   "execution_count": null,
   "id": "063d50cb",
   "metadata": {},
   "outputs": [],
   "source": [
    "f, ax = plt.subplots(1, 2, figsize=(30, 15))\n",
    "sns.boxplot(data=ondf, x='condition', y='duration', hue='probe', hue_order=['NNXr', 'NNXo'], palette=[NNXR_GRAY, SOM_BLUE], ax=ax[0], order=COND_ORDER)\n",
    "ax[0].set_title('ON Period Duration by Subject, Raw Values')\n",
    "ax[0].set_ylim(0, 2)\n",
    "\n",
    "sns.boxplot(data=offdf, x='condition', y='duration', hue='probe', hue_order=['NNXr', 'NNXo'], palette=[NNXR_GRAY, SOM_BLUE], ax=ax[1], order=COND_ORDER)\n",
    "ax[1].set_title('OFF Period Duration by Subject, Raw Values')"
   ]
  },
  {
   "cell_type": "markdown",
   "id": "d5adde29",
   "metadata": {},
   "source": [
    "# Frequency"
   ]
  },
  {
   "cell_type": "code",
   "execution_count": null,
   "id": "e3b277b7",
   "metadata": {},
   "outputs": [],
   "source": [
    "freq_dfs = []\n",
    "for subject in offdf['subject'].unique():\n",
    "    subdf = odf.offs().filter(pl.col('subject')==subject)\n",
    "    subfreq = acr.oo_utils.calc_off_freq(subdf, window='5s')\n",
    "    subfreq = acr.oo_utils.label_oodf_with_states(subfreq, full_hyps[subject])\n",
    "    subfreq = acr.oo_utils.label_oodf_full_bl(subfreq)\n",
    "    subfreq = acr.oo_utils.label_oodf_hyp_dict_conditions(subfreq, hyp_dicts[subject])\n",
    "    subfreq = acr.oo_utils.relativize_oodf(subfreq, ref_to_col='full_bl', ref_to_val='True', avg_method='mean', col_to_relativize='off_freq_per_s')\n",
    "    freq_dfs.append(subfreq)\n",
    "fdf = pl.concat(freq_dfs)\n",
    "fdf = fdf.filter(pl.col('condition')!='None')\n",
    "freq_means = fdf.group_by(['subject', 'probe', 'condition']).agg(pl.col('off_freq_per_s_rel').mean())"
   ]
  },
  {
   "cell_type": "code",
   "execution_count": null,
   "id": "75560e0f",
   "metadata": {},
   "outputs": [],
   "source": [
    "f, ax = plt.subplots(figsize=(25, 10))\n",
    "sns.boxplot(data=freq_means, x='condition', y='off_freq_per_s_rel', hue='probe', hue_order=['NNXr', 'NNXo'], palette=[NNXR_GRAY, SOM_BLUE], ax=ax, order=COND_ORDER)\n",
    "sns.stripplot(data=freq_means, x='condition', y='off_freq_per_s_rel', hue='probe', dodge=True, hue_order=['NNXr', 'NNXo'], palette=['red', 'black'], alpha=0.8, ax=ax, s=5, order=COND_ORDER)\n",
    "ax.axhline(y=1, color='red', linestyle='--')\n",
    "\n",
    "ax.set_title('OFF Period Frequency by Subject, Relative to Full Baseline')\n"
   ]
  },
  {
   "cell_type": "markdown",
   "id": "9839a677",
   "metadata": {},
   "source": [
    "# ACR_SUBJECTS"
   ]
  },
  {
   "cell_type": "code",
   "execution_count": null,
   "id": "fe5d370e",
   "metadata": {},
   "outputs": [],
   "source": [
    "oodfs = []\n",
    "for subject in acr_animals:\n",
    "    for exp in sub_swi_exps[subject]:\n",
    "        print(subject, exp)\n",
    "        wp = dag.load_base_oodf(subject, exp, dftype='whole-probe')\n",
    "        wp = acr.oo_utils.label_oodf_with_states(wp, full_hyps[subject])\n",
    "        wp = acr.oo_utils.label_oodf_full_bl(wp)\n",
    "        wp = acr.oo_utils.label_oodf_hyp_dict_conditions(wp, hyp_dicts[subject])\n",
    "        wp = acr.oo_utils.relativize_oodf(wp, ref_to_col='full_bl', ref_to_val='True', avg_method='mean', col_to_relativize='duration')\n",
    "        oodfs.append(wp)\n",
    "odf = pl.concat(oodfs)\n",
    "offdf = odf.offs().filter(pl.col('condition') != 'None')\n",
    "off_means = offdf.group_by(['subject', 'probe', 'condition']).agg(pl.col('duration_rel').mean())\n",
    "ondf = odf.ons().filter(pl.col('condition') != 'None')\n",
    "on_means = ondf.group_by(['subject', 'probe', 'condition']).agg(pl.col('duration_rel').mean())"
   ]
  },
  {
   "cell_type": "code",
   "execution_count": null,
   "id": "fa4b5ed2",
   "metadata": {},
   "outputs": [],
   "source": [
    "f, ax = plt.subplots(1, 2, figsize=(30, 15))\n",
    "sns.boxplot(data=on_means, x='condition', y='duration_rel', hue='probe', hue_order=['NNXr', 'NNXo'], palette=[NNXR_GRAY, ACR_BLUE], ax=ax[0], order=COND_ORDER)\n",
    "sns.stripplot(data=on_means, x='condition', y='duration_rel', hue='probe', dodge=True, hue_order=['NNXr', 'NNXo'], palette=['red', 'black'], alpha=0.8, ax=ax[0], s=5, order=COND_ORDER)\n",
    "ax[0].set_ylim(0, 2.5)\n",
    "ax[0].axhline(y=1, color='red', linestyle='--')\n",
    "ax[0].set_title('ON Period Duration by Subject, Relative to Full Baseline')\n",
    "\n",
    "sns.boxplot(data=off_means, x='condition', y='duration_rel', hue='probe', hue_order=['NNXr', 'NNXo'], palette=[NNXR_GRAY, ACR_BLUE], ax=ax[1], order=COND_ORDER)\n",
    "sns.stripplot(data=off_means, x='condition', y='duration_rel', hue='probe', dodge=True, hue_order=['NNXr', 'NNXo'], palette=['red', 'black'], alpha=0.8, ax=ax[1], s=5, order=COND_ORDER)\n",
    "ax[1].set_ylim(0, 2.5)\n",
    "ax[1].axhline(y=1, color='red', linestyle='--')\n",
    "ax[1].set_title('OFF Period Duration by Subject, Relative to Full Baseline')"
   ]
  },
  {
   "cell_type": "code",
   "execution_count": null,
   "id": "58e9cb69",
   "metadata": {},
   "outputs": [],
   "source": [
    "f, ax = plt.subplots(1, 2, figsize=(30, 15))\n",
    "sns.boxplot(data=ondf, x='condition', y='duration', hue='probe', hue_order=['NNXr', 'NNXo'], palette=[NNXR_GRAY, ACR_BLUE], ax=ax[0], order=COND_ORDER)\n",
    "ax[0].set_title('ON Period Duration by Subject, Raw Values')\n",
    "ax[0].set_ylim(0, 2)\n",
    "\n",
    "sns.boxplot(data=offdf, x='condition', y='duration', hue='probe', hue_order=['NNXr', 'NNXo'], palette=[NNXR_GRAY, ACR_BLUE], ax=ax[1], order=COND_ORDER)\n",
    "ax[1].set_title('OFF Period Duration by Subject, Raw Values')"
   ]
  },
  {
   "cell_type": "markdown",
   "id": "44a0cbe4",
   "metadata": {},
   "source": [
    "## Frequency"
   ]
  },
  {
   "cell_type": "code",
   "execution_count": null,
   "id": "a2f749dd",
   "metadata": {},
   "outputs": [],
   "source": [
    "freq_dfs = []\n",
    "for subject in offdf['subject'].unique():\n",
    "    subdf = odf.offs().filter(pl.col('subject')==subject)\n",
    "    subfreq = acr.oo_utils.calc_off_freq(subdf, window='5s')\n",
    "    subfreq = acr.oo_utils.label_oodf_with_states(subfreq, full_hyps[subject])\n",
    "    subfreq = acr.oo_utils.label_oodf_full_bl(subfreq)\n",
    "    subfreq = acr.oo_utils.label_oodf_hyp_dict_conditions(subfreq, hyp_dicts[subject])\n",
    "    subfreq = acr.oo_utils.relativize_oodf(subfreq, ref_to_col='full_bl', ref_to_val='True', avg_method='mean', col_to_relativize='off_freq_per_s')\n",
    "    freq_dfs.append(subfreq)\n",
    "fdf = pl.concat(freq_dfs)\n",
    "fdf = fdf.filter(pl.col('condition')!='None')\n",
    "freq_means = fdf.group_by(['subject', 'probe', 'condition']).agg(pl.col('off_freq_per_s_rel').mean())"
   ]
  },
  {
   "cell_type": "code",
   "execution_count": null,
   "id": "4d277902",
   "metadata": {},
   "outputs": [],
   "source": [
    "f, ax = plt.subplots(figsize=(25, 10))\n",
    "sns.boxplot(data=freq_means, x='condition', y='off_freq_per_s_rel', hue='probe', hue_order=['NNXr', 'NNXo'], palette=[NNXR_GRAY, ACR_BLUE], ax=ax, order=COND_ORDER)\n",
    "sns.stripplot(data=freq_means, x='condition', y='off_freq_per_s_rel', hue='probe', dodge=True, hue_order=['NNXr', 'NNXo'], palette=['red', 'black'], alpha=0.8, ax=ax, s=5, order=COND_ORDER)\n",
    "ax.axhline(y=1, color='red', linestyle='--')\n",
    "\n",
    "ax.set_title('OFF Period Frequency by Subject, Relative to Full Baseline')\n"
   ]
  }
 ],
 "metadata": {
  "kernelspec": {
   "display_name": "off_ind",
   "language": "python",
   "name": "python3"
  },
  "language_info": {
   "codemirror_mode": {
    "name": "ipython",
    "version": 3
   },
   "file_extension": ".py",
   "mimetype": "text/x-python",
   "name": "python",
   "nbconvert_exporter": "python",
   "pygments_lexer": "ipython3",
   "version": "3.12.10"
  }
 },
 "nbformat": 4,
 "nbformat_minor": 5
}
