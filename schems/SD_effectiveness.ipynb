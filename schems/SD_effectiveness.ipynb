{
 "cells": [
  {
   "cell_type": "code",
   "execution_count": null,
   "metadata": {},
   "outputs": [],
   "source": [
    "from acr.utils import SOM_BLUE, ACR_BLUE, NNXR_GRAY\n",
    "\n",
    "MAIN_EXP = 'swi'\n",
    "SUBJECT_TYPE = 'acr'\n",
    "MAIN_COLOR = SOM_BLUE if SUBJECT_TYPE == 'som' else ACR_BLUE"
   ]
  },
  {
   "cell_type": "code",
   "execution_count": null,
   "metadata": {},
   "outputs": [],
   "source": [
    "#-------------------------- Standard Imports --------------------------#\n",
    "%reload_ext autoreload\n",
    "%autoreload 2\n",
    "import pandas as pd\n",
    "import polars as pl\n",
    "import matplotlib.pyplot as plt\n",
    "import seaborn as sns\n",
    "import acr\n",
    "import pingouin as pg\n",
    "from scipy.stats import shapiro, normaltest\n",
    "import numpy as np\n",
    "\n",
    "import warnings\n",
    "warnings.filterwarnings('ignore')\n",
    "\n",
    "probe_ord = ['NNXr', 'NNXo']\n",
    "hue_ord = [NNXR_GRAY, MAIN_COLOR]\n",
    "\n",
    "from acr.plots import lrg\n",
    "plt.rcdefaults()\n",
    "lrg()\n",
    "plt.rcParams['xtick.bottom'] = False\n",
    "#--------------------------------- Import Publication Functions ---------------------------------#\n",
    "pu = acr.utils.import_publication_functions('/home/kdriessen/gh_master/PUBLICATION__ACR/pub_utils.py', 'pub_utils')\n",
    "dag = acr.utils.import_publication_functions('/home/kdriessen/gh_master/PUBLICATION__ACR/data_agg.py', 'data_agg')"
   ]
  },
  {
   "cell_type": "code",
   "execution_count": null,
   "metadata": {},
   "outputs": [],
   "source": [
    "notebook_figure_root = f'{acr.utils.PAPER_FIGURE_ROOT}/schems'"
   ]
  },
  {
   "cell_type": "code",
   "execution_count": null,
   "metadata": {},
   "outputs": [],
   "source": [
    "from acr.utils import sub_swi_exps"
   ]
  },
  {
   "cell_type": "code",
   "execution_count": null,
   "metadata": {},
   "outputs": [],
   "source": [
    "len(sub_swi_exps)"
   ]
  },
  {
   "cell_type": "code",
   "execution_count": null,
   "metadata": {},
   "outputs": [],
   "source": [
    "# covers all SWI, ACR, and Control mice\n",
    "full_hyps = {}\n",
    "hyp_dicts = {}\n",
    "from acr.utils import sub_swi_exps\n",
    "for subject in sub_swi_exps:\n",
    "    exp = sub_swi_exps[subject][0]\n",
    "    full_hyps[subject] = acr.io.load_hypno_full_exp(subject, exp)\n",
    "    #hyp_dicts[subject] = acr.hypnogram_utils.create_acr_hyp_dict(subject, exp, true_stim=False)\n",
    "full_hyps['ACR_20'] = acr.io.load_hypno_full_exp('ACR_20', 'swisin')"
   ]
  },
  {
   "cell_type": "code",
   "execution_count": null,
   "metadata": {},
   "outputs": [],
   "source": [
    "sleep_states = ['NREM', 'REM', 'Transition-to-REM', 'Transition-to-NREM']\n",
    "bl_pct_sleep = []\n",
    "sd_pct_sleep = []\n",
    "for sub in full_hyps:\n",
    "    bl_start = full_hyps[sub].start_time.min().replace(hour=9, minute=0, second=0, microsecond=0)\n",
    "    bl_period_hyp = full_hyps[sub].trim_select(bl_start, bl_start + pd.Timedelta(hours=5))\n",
    "    print(sub, bl_period_hyp.duration.sum().total_seconds())\n",
    "    if bl_period_hyp.duration.sum().total_seconds() < 2:\n",
    "        continue\n",
    "    bl_sleep = bl_period_hyp.keep_states(sleep_states)\n",
    "    bl_pct_sleep.append(bl_sleep.duration.sum().total_seconds() / bl_period_hyp.duration.sum().total_seconds())\n",
    "    \n",
    "    sd_start = bl_start + pd.Timedelta('24h')\n",
    "    sd_period_hyp = full_hyps[sub].trim_select(sd_start, sd_start + pd.Timedelta(hours=5))\n",
    "    print(sub, sd_period_hyp.duration.sum().total_seconds())\n",
    "    sd_sleep = sd_period_hyp.keep_states(sleep_states)\n",
    "    sd_pct_sleep.append(sd_sleep.duration.sum().total_seconds() / sd_period_hyp.duration.sum().total_seconds())\n",
    "    print(sd_pct_sleep[-1])"
   ]
  },
  {
   "cell_type": "code",
   "execution_count": null,
   "metadata": {},
   "outputs": [],
   "source": [
    "from acr.utils import NREM_RED"
   ]
  },
  {
   "cell_type": "code",
   "execution_count": null,
   "metadata": {},
   "outputs": [],
   "source": [
    "plt.rcdefaults()\n",
    "acr.plots.supl()"
   ]
  },
  {
   "cell_type": "code",
   "execution_count": null,
   "metadata": {},
   "outputs": [],
   "source": [
    "fig_id = 'sd_effectiveness'\n",
    "fig_name = f'All-Subs__{fig_id}'\n",
    "fig_path = f'{notebook_figure_root}/{fig_name}.png'\n",
    "f, ax = plt.subplots(1, 1, figsize=(5, 7))\n",
    "acr.plots.add_boxplot(ax, bl_pct_sleep, [0.3], color=NREM_RED, alpha=0.8)\n",
    "acr.plots.add_data_points(ax, bl_pct_sleep, 0.36, color=NREM_RED, alpha=0.8, s=120)\n",
    "\n",
    "acr.plots.add_boxplot(ax, sd_pct_sleep, [0.7], color=NREM_RED, alpha=0.8)\n",
    "acr.plots.add_data_points(ax, sd_pct_sleep, 0.64, color=NREM_RED, alpha=0.8, s=120)\n",
    "\n",
    "acr.plots.add_paired_lines(ax, bl_pct_sleep, sd_pct_sleep, 0.36, 0.64, colors=[NREM_RED, NREM_RED], alpha=0.65, linewidth=4)\n",
    "ax.set_xlim(0.25, 0.75)\n",
    "ax.set_xticklabels(['Baseline', 'Sleep Deprivation'])\n",
    "plt.savefig(fig_path, dpi=600, bbox_inches='tight', transparent=True)"
   ]
  },
  {
   "cell_type": "code",
   "execution_count": null,
   "metadata": {},
   "outputs": [],
   "source": [
    "# =============================\n",
    "# ========== STATS ============\n",
    "# =============================\n",
    "write = True\n",
    "\n",
    "diffs = nnxr - nnxo\n",
    "nnxr = np.array(bl_pct_sleep)\n",
    "nnxo = np.array(sd_pct_sleep)\n",
    "shap_stat, shap_p = shapiro(diffs) # test the paired differences for normality\n",
    "agostino_stat, agostino_p = normaltest(diffs) # test the paired differences for normality\n",
    "print(f'shapiro_p-value: {shap_p}')\n",
    "print(f'd,agostino_p-value: {agostino_p}')\n",
    "\n",
    "#stats = pg.ttest(nnxr, nnxo, paired=True)\n",
    "stats = pg.wilcoxon(nnxr, nnxo)\n",
    "\n",
    "hg = pg.compute_effsize(nnxr, nnxo, paired=True, eftype='hedges')\n",
    "print(f'hedges g: {hg}')\n",
    "\n",
    "r = acr.stats.calculate_wilx_r(stats['W-val'][0], len(nnxr))\n",
    "\n",
    "if write:\n",
    "    # ==== Write Stats Results ====\n",
    "    stats_name = f'{fig_name}'\n",
    "    acr.stats.write_stats_result(stats_name, 'wilcoxon', stats['W-val'][0], stats['p-val'][0], 'r, RBC', [r, stats['RBC'][0]])\n",
    "    \n",
    "    # ===== Write Source Data =====\n",
    "    source_data = pd.DataFrame({'contra_control': nnxr, 'off_induction': nnxo, 'subject': np.arange(len(nnxr))})\n",
    "    pu.write_source_data(source_data, stats_name)\n",
    "stats"
   ]
  },
  {
   "cell_type": "markdown",
   "metadata": {},
   "source": [
    "# Example"
   ]
  },
  {
   "cell_type": "code",
   "execution_count": null,
   "metadata": {},
   "outputs": [],
   "source": [
    "sub = 'ACR_40'\n",
    "bl_start = full_hyps[sub].start_time.min().replace(hour=9, minute=0, second=0, microsecond=0)\n",
    "bl_period_hyp = full_hyps[sub].trim_select(bl_start, bl_start + pd.Timedelta(hours=5))\n",
    "print(sub, bl_period_hyp.duration.sum().total_seconds())\n",
    "\n",
    "bl_sleep = bl_period_hyp.keep_states(sleep_states)\n",
    "\n",
    "sd_start = bl_start + pd.Timedelta('24h')\n",
    "sd_period_hyp = full_hyps[sub].trim_select(sd_start, sd_start + pd.Timedelta(hours=5))\n",
    "print(sub, sd_period_hyp.duration.sum().total_seconds())\n",
    "sd_sleep = sd_period_hyp.keep_states(sleep_states)"
   ]
  },
  {
   "cell_type": "code",
   "execution_count": null,
   "metadata": {},
   "outputs": [],
   "source": [
    "f, ax = kde.plot.main.plot_basic_hypnogram(bl_period_hyp, style_path='/home/kdriessen/gh_master/acr/acr/plot_styles/acr_pub.mplstyle', single_tone=True, size=(15, 3))\n",
    "fig_path = f'{notebook_figure_root}/bl_hypnogram_demo.png'\n",
    "plt.savefig(fig_path, dpi=600, bbox_inches='tight', transparent=True)"
   ]
  },
  {
   "cell_type": "code",
   "execution_count": null,
   "metadata": {},
   "outputs": [],
   "source": [
    "f, ax = kde.plot.main.plot_basic_hypnogram(sd_period_hyp, style_path='/home/kdriessen/gh_master/acr/acr/plot_styles/acr_pub.mplstyle', single_tone=True, size=(15, 3))\n",
    "fig_path = f'{notebook_figure_root}/sd_hypnogram_demo.png'\n",
    "plt.savefig(fig_path, dpi=600, bbox_inches='tight', transparent=True)"
   ]
  }
 ],
 "metadata": {
  "kernelspec": {
   "display_name": "offdet",
   "language": "python",
   "name": "python3"
  },
  "language_info": {
   "codemirror_mode": {
    "name": "ipython",
    "version": 3
   },
   "file_extension": ".py",
   "mimetype": "text/x-python",
   "name": "python",
   "nbconvert_exporter": "python",
   "pygments_lexer": "ipython3",
   "version": "3.10.14"
  }
 },
 "nbformat": 4,
 "nbformat_minor": 2
}
