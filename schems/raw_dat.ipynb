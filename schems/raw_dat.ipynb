{
 "cells": [
  {
   "cell_type": "code",
   "execution_count": null,
   "metadata": {},
   "outputs": [],
   "source": [
    "#-------------------------- Standard Imports --------------------------#\n",
    "%reload_ext autoreload\n",
    "%autoreload 2\n",
    "import pandas as pd\n",
    "import polars as pl\n",
    "import matplotlib.pyplot as plt\n",
    "import seaborn as sns\n",
    "import acr\n",
    "import kdephys as kde\n",
    "from kdephys.utils.main import td\n",
    "import warnings\n",
    "import pingouin as pg\n",
    "from acr.utils import SOM_BLUE, ACR_BLUE, LASER_BLUE, NNXR_GRAY, NNXO_BLUE, EMG_SLATE, BACKUP_RED\n",
    "from kdephys.plot.main import base_trace_plot, base_raster\n",
    "\n",
    "#--------------------------------- Import Publication Functions ---------------------------------#\n",
    "pub_utils = acr.utils.import_publication_functions('/home/kdriessen/gh_master/PUBLICATION__ACR/pub_utils.py', 'pub_utils')\n",
    "from pub_utils import *\n",
    "data_agg = acr.utils.import_publication_functions('/home/kdriessen/gh_master/PUBLICATION__ACR/data_agg.py', 'data_agg')\n",
    "from data_agg import *\n",
    "\n",
    "#--------------------------------- PLOTTING STUFF ---------------------------------#\n",
    "plt.style.use('fast')\n",
    "plt.style.use('/home/kdriessen/gh_master/acr/acr/plot_styles/acr_pub.mplstyle')\n",
    "probe_ord = ['NNXr', 'NNXo']\n",
    "\n",
    "\n",
    "#--------------------------------- MISCELLANEOUS ---------------------------------#\n",
    "#warnings.filterwarnings('ignore')"
   ]
  },
  {
   "cell_type": "markdown",
   "metadata": {},
   "source": [
    "# Control Raw Data Plots"
   ]
  },
  {
   "cell_type": "code",
   "execution_count": null,
   "metadata": {},
   "outputs": [],
   "source": [
    "subject = 'ACR_25'\n",
    "exp = 'swisin'\n",
    "recs = acr.info_pipeline.get_exp_recs(subject, exp)"
   ]
  },
  {
   "cell_type": "code",
   "execution_count": null,
   "metadata": {},
   "outputs": [],
   "source": [
    "fp = acr.io.load_concat_raw_data(subject, [exp])"
   ]
  },
  {
   "cell_type": "code",
   "execution_count": null,
   "metadata": {},
   "outputs": [],
   "source": [
    "mua = acr.mua.load_concat_peaks_df(subject, exp, probes=probe_ord)"
   ]
  },
  {
   "cell_type": "code",
   "execution_count": null,
   "metadata": {},
   "outputs": [],
   "source": [
    "h = acr.io.load_hypno_full_exp(subject, exp)\n",
    "hd = acr.hypnogram_utils.create_acr_hyp_dict(subject, exp)\n",
    "reb_start = hd['rebound']['start_time'].min()\n",
    "sd_start, stim_start, stim_end, reb_start, full_x_start = acr.info_pipeline.get_sd_exp_landmarks(subject, exp, update=False, return_early=False)"
   ]
  },
  {
   "cell_type": "markdown",
   "metadata": {},
   "source": [
    "## LFPs + separate MUA"
   ]
  },
  {
   "cell_type": "markdown",
   "metadata": {},
   "source": [
    "TIMES (fill in for state_start below)\n",
    "--------\n",
    "\n",
    "NREM: 18817.5\n",
    "REM: 19053.5\n",
    "Wake: 5791"
   ]
  },
  {
   "cell_type": "code",
   "execution_count": null,
   "metadata": {},
   "outputs": [],
   "source": [
    "state_start = 18817.5\n",
    "start = acr.utils.dt_from_tdt(subject, exp, state_start)\n",
    "states = kde.hypno.hypno.get_states(h, np.array([start]))\n",
    "state = states[0]\n",
    "state"
   ]
  },
  {
   "cell_type": "code",
   "execution_count": null,
   "metadata": {},
   "outputs": [],
   "source": [
    "for probe in ['NNXo', 'NNXr']:\n",
    "    col = SOM_BLUE if probe == 'NNXo' else NNXR_GRAY\n",
    "    dur = 4\n",
    "    ds = fp.ts(start, start + td(dur)).prb(probe)\n",
    "    d2p = ds.panda()\n",
    "    ms = mua.ts(start, start + td(dur)).prb(probe)\n",
    "    m2p = ms.to_pandas()\n",
    "\n",
    "    # LFP PLOT\n",
    "    g = base_trace_plot(d2p, height=0.5, aspect=50, hspace=-0.6, color=col)\n",
    "    for i, ax in enumerate(g.axes.flatten()):\n",
    "        #print(ax.get_ylim())\n",
    "        ax.set_ylim(-1050, 1050)\n",
    "    g.figure.savefig(f'{PAPER_FIGURE_ROOT}/schems/{subject}_{exp}_{probe}_RAW--LFPs--{state}.png', dpi=600, bbox_inches='tight', transparent=True, facecolor='none')\n",
    "    \n",
    "    # Scaled LFP PLOT\n",
    "    g = base_trace_plot(d2p, height=0.5, aspect=50, hspace=-0.6, color=col)\n",
    "    for i, ax in enumerate(g.axes.flatten()):\n",
    "        ax.set_ylim(-1050, 1050)\n",
    "        if i == 7:\n",
    "            ax.axhspan(-500, 500, xmin=0.9, xmax=0.95, color='red', alpha=0.5)\n",
    "            ax.axvspan(start+td(1), start+td(2), color='green', alpha=0.5, linewidth=4)\n",
    "    g.figure.savefig(f'{PAPER_FIGURE_ROOT}/schems/{subject}_{exp}_{probe}_RAW--LFPs--{state}__SCALED-1000mv_1sec.png', dpi=600, bbox_inches='tight', transparent=True, facecolor='none')\n",
    "\n",
    "    # MUA RASTER PLOT\n",
    "    f, ax = base_raster(m2p, color=col, figsize=(20, 2.5))\n",
    "    f.savefig(f'{PAPER_FIGURE_ROOT}/schems/{subject}_{exp}_{probe}_RAW--MUA--RASTER--{state}.png', dpi=600, bbox_inches='tight', transparent=True, facecolor='none')"
   ]
  },
  {
   "cell_type": "code",
   "execution_count": null,
   "metadata": {},
   "outputs": [],
   "source": [
    "acr.info_pipeline.get_channel_map(subject)"
   ]
  },
  {
   "cell_type": "markdown",
   "metadata": {},
   "source": [
    "# KCSD"
   ]
  },
  {
   "cell_type": "code",
   "execution_count": null,
   "metadata": {},
   "outputs": [],
   "source": [
    "import kcsd"
   ]
  },
  {
   "cell_type": "code",
   "execution_count": null,
   "metadata": {},
   "outputs": [],
   "source": [
    "gdx = .05\n",
    "ele_pos = np.arange(start=gdx, step=gdx, stop=((gdx*16)+.001))\n",
    "ds = ds.assign_coords(y=(\"channel\", ele_pos)) \n",
    "d2p = ds.panda()\n",
    "ds = ds.swap_dims({'datetime': 'time'})"
   ]
  },
  {
   "cell_type": "code",
   "execution_count": null,
   "metadata": {},
   "outputs": [],
   "source": [
    "k = kcsd.KCSD1D(ds['y'].values.reshape(-1, 1), ds.transpose(\"channel\", \"time\").values, gdx=0.01, sigma=1, R_init=0.23)\n",
    "k.L_curve()"
   ]
  },
  {
   "cell_type": "code",
   "execution_count": null,
   "metadata": {},
   "outputs": [],
   "source": [
    "#csd = xr.zeros_like(ds)\n",
    "# Double the length of the 'channel' dimension\n",
    "# Create new y-coordinates with double the resolution\n",
    "new_y_coords = np.linspace(ds['y'].values.min(), ds['y'].values.max(), k.values(\"CSD\").shape[0])\n",
    "\n",
    "# Create a new xarray with doubled channel dimension\n",
    "csd = xr.DataArray(\n",
    "    data=np.zeros((len(ds['time']), len(new_y_coords))),\n",
    "    dims=['time', 'channel'],\n",
    "    coords={\n",
    "        'time': ds['time'],\n",
    "        'channel': np.arange(len(new_y_coords)),\n",
    "        'y': ('channel', new_y_coords)\n",
    "    }\n",
    ")"
   ]
  },
  {
   "cell_type": "code",
   "execution_count": null,
   "metadata": {},
   "outputs": [],
   "source": [
    "f, ax = plt.subplots(figsize=(20, 6))\n",
    "csdl = xr.zeros_like(csd)\n",
    "csdl.values = k.values(\"CSD\").T\n",
    "csdl.plot.imshow(x='time', y='y', cmap='rocket_r', origin='upper', vmin=-14000, vmax=14000)"
   ]
  },
  {
   "cell_type": "code",
   "execution_count": null,
   "metadata": {},
   "outputs": [],
   "source": [
    "# Apply Gaussian smoothing to the CSD data in both dimensions\n",
    "from scipy.ndimage import gaussian_filter\n",
    "\n",
    "# Create a smoothed version of the CSD data\n",
    "# Sigma values control the smoothing amount (adjust as needed)\n",
    "sigma_space = 8  # Smoothing in time dimension\n",
    "sigma_time = 4 # Smoothing in spatial dimension\n",
    "csdl_smoothed = xr.zeros_like(csdl)\n",
    "csdl_smoothed.values = gaussian_filter(csdl.values, sigma=[sigma_time, sigma_space])\n",
    "\n",
    "# Display both original and smoothed data\n",
    "f, ax = plt.subplots(figsize=(20, 6))\n",
    "csdl_smoothed.plot.imshow(x='time', y='y', cmap='rocket', origin='upper', ax=ax, vmin=-8000, vmax=8000)\n",
    "#ax.set_title(f'Smoothed CSD (Gaussian filter) sigma_space = {sigma_space}, sigma_time = {sigma_time}', fontsize=20)\n",
    "ax.set_xlabel('')\n",
    "ax.set_ylabel('')\n",
    "ax.set_xticks([])\n",
    "ax.set_yticks([])\n",
    "# Remove the colorbar/scalebar\n",
    "#plt.colorbar(ax=ax, visible=False)  # This creates but hides the colorbar\n",
    "# Alternative approach: access the last created colorbar and remove it\n",
    "if len(f.axes) > 1:  # If there's a colorbar (it would be an additional axis)\n",
    "    cbar_ax = f.axes[-1]  # Get the last axes which should be the colorbar\n",
    "    cbar_ax.remove()  # Remove the colorbar axis\n",
    "\n"
   ]
  }
 ],
 "metadata": {
  "kernelspec": {
   "display_name": "offdet",
   "language": "python",
   "name": "python3"
  },
  "language_info": {
   "codemirror_mode": {
    "name": "ipython",
    "version": 3
   },
   "file_extension": ".py",
   "mimetype": "text/x-python",
   "name": "python",
   "nbconvert_exporter": "python",
   "pygments_lexer": "ipython3",
   "version": "3.10.14"
  }
 },
 "nbformat": 4,
 "nbformat_minor": 2
}
