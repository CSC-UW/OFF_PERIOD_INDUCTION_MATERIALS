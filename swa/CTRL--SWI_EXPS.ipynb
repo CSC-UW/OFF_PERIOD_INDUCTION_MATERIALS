{
 "cells": [
  {
   "cell_type": "code",
   "execution_count": null,
   "metadata": {},
   "outputs": [],
   "source": [
    "scd = {}\n",
    "scd['ACR_49'] = [1]"
   ]
  },
  {
   "cell_type": "code",
   "execution_count": null,
   "metadata": {},
   "outputs": [],
   "source": [
    "from acr.utils import SOM_BLUE, NNXR_GRAY, CTRL_BLUE\n",
    "\n",
    "MAIN_EXP = 'swi'\n",
    "SUBJECT_TYPE = 'control'\n",
    "MAIN_COLOR = CTRL_BLUE"
   ]
  },
  {
   "cell_type": "code",
   "execution_count": null,
   "metadata": {},
   "outputs": [],
   "source": [
    "#-------------------------- Standard Imports --------------------------#\n",
    "%reload_ext autoreload\n",
    "%autoreload 2\n",
    "import pandas as pd\n",
    "import polars as pl\n",
    "import matplotlib.pyplot as plt\n",
    "import seaborn as sns\n",
    "import acr\n",
    "import warnings\n",
    "import pingouin as pg\n",
    "from scipy.stats import shapiro, normaltest\n",
    "\n",
    "warnings.filterwarnings('ignore')\n",
    "probe_ord = ['NNXr', 'NNXo']\n",
    "hue_ord = [NNXR_GRAY, MAIN_COLOR]\n",
    "\n",
    "from acr.plots import pub, lrg\n",
    "\n",
    "plt.style.use('fast')\n",
    "pub()\n",
    "plt.rcParams['xtick.bottom'] = False\n",
    "#--------------------------------- Import Publication Functions ---------------------------------#\n",
    "pub_utils = acr.utils.import_publication_functions('/home/kdriessen/gh_master/PUBLICATION__ACR/pub_utils.py', 'pub_utils')\n",
    "from pub_utils import *\n",
    "data_agg = acr.utils.import_publication_functions('/home/kdriessen/gh_master/PUBLICATION__ACR/data_agg.py', 'data_agg')\n",
    "from data_agg import *"
   ]
  },
  {
   "cell_type": "code",
   "execution_count": null,
   "metadata": {},
   "outputs": [],
   "source": [
    "subjects, exps = get_subject_list(type=SUBJECT_TYPE, exp=MAIN_EXP)\n",
    "subjects,  exps = pub_utils.remove_subject('ACR_38', subjects, exps)\n",
    "#subjects,  exps = pub_utils.remove_subject('ACR_42', subjects, exps)"
   ]
  },
  {
   "cell_type": "code",
   "execution_count": null,
   "metadata": {},
   "outputs": [],
   "source": [
    "full_hyps = {}\n",
    "hyp_dicts = {}\n",
    "for subject, exp in zip(subjects, exps):\n",
    "    full_hyps[subject] = acr.io.load_hypno_full_exp(subject, exp)\n",
    "    hyp_dicts[subject] = acr.hypnogram_utils.create_acr_hyp_dict(subject, exp, true_stim=True, extra_rebounds=False)"
   ]
  },
  {
   "cell_type": "code",
   "execution_count": null,
   "metadata": {},
   "outputs": [],
   "source": [
    "#load all raw bp dfs\n",
    "bp_dfs = {}\n",
    "for sub, exp in zip(subjects, exps):\n",
    "    bp = load_raw_bp_df(sub, exp)\n",
    "    #bp = acr.hypnogram_utils.label_df_with_hypno_conditions(bp, hyp_dicts[sub])\n",
    "    #bp = data_agg._label_12_hr_baseline(bp)\n",
    "    bp_dfs[sub] = bp"
   ]
  },
  {
   "cell_type": "code",
   "execution_count": null,
   "metadata": {},
   "outputs": [],
   "source": [
    "reldfs = []\n",
    "for subject in subjects:\n",
    "    print(subject)\n",
    "    subdf = bp_dfs[subject]\n",
    "    subdf = acr.hypnogram_utils.label_df_with_hypno_conditions(subdf, hyp_dicts[subject])\n",
    "    print('Done conditions')\n",
    "    subdf = acr.hypnogram_utils.label_df_with_states(subdf, full_hyps[subject])\n",
    "    subdf = acr.hypnogram_utils.label_df_with_full_bl(subdf)\n",
    "    subdf = make_raw_bp_df_relative_to_baseline(subdf, col_to_use='full_bl', value_to_use='True', state_to_use='NREM', method='mean')\n",
    "    print('Done states/bl')\n",
    "    reldfs.append(subdf)\n",
    "relbp = pl.concat(reldfs)"
   ]
  },
  {
   "cell_type": "code",
   "execution_count": null,
   "metadata": {},
   "outputs": [],
   "source": [
    "# drop the known bad channels\n",
    "relbp = drop_sub_channels(relbp, scd)\n",
    "rebbp = relbp.filter(pl.col('condition') == 'rebound')"
   ]
  },
  {
   "cell_type": "code",
   "execution_count": null,
   "metadata": {},
   "outputs": [],
   "source": [
    "plt.rcdefaults()\n",
    "# quick data check to make sure all remaining channels are good\n",
    "g = sns.catplot(data=relbp.filter(pl.col('band') == 'delta').filter(pl.col('condition')=='rebound').to_pandas(), \n",
    "                x='channel', \n",
    "                y='bandpower_rel', \n",
    "                hue='store', \n",
    "                kind='box',\n",
    "                row='subject',\n",
    "                row_order=subjects,\n",
    "                showfliers=False,\n",
    "                showmeans=True, meanprops={\"marker\": \"_\", 'markerfacecolor':'gold','markeredgecolor':'gold','markersize':'24', \"markeredgewidth\": \"3\"},\n",
    "                height=10,\n",
    "                aspect=3,\n",
    "                hue_order=probe_ord, \n",
    "                palette=[NNXR_GRAY, SOM_BLUE]\n",
    "                )\n",
    "\n",
    "for ax in g.axes.flat:\n",
    "    ax.set_ylim(0, 5)"
   ]
  },
  {
   "cell_type": "code",
   "execution_count": null,
   "metadata": {},
   "outputs": [],
   "source": [
    "reb_avgs = rebbp.group_by(['subject', 'store', 'band']).mean().to_pandas()\n",
    "reb_avgs = sub_regions_to_df(reb_avgs)"
   ]
  },
  {
   "cell_type": "markdown",
   "metadata": {},
   "source": [
    "# SWA, simple average of all channels"
   ]
  },
  {
   "cell_type": "code",
   "execution_count": null,
   "metadata": {},
   "outputs": [],
   "source": [
    "plt.rcdefaults()\n",
    "acr.plots.supl()"
   ]
  },
  {
   "cell_type": "code",
   "execution_count": null,
   "metadata": {},
   "outputs": [],
   "source": [
    "# DEFINE THE DATA\n",
    "# --------------------------------------------\n",
    "BAND = 'delta'\n",
    "SUBJECT_GROUP = 'ALL_SUBJECTS'\n",
    "CHANNEL_GROUP = 'ALL_CHANNELS'\n",
    "FIG_ID = f'{BAND}_rebound_{MAIN_EXP}'\n",
    "figure_name = f'{SUBJECT_TYPE.upper()}--{SUBJECT_GROUP}--{CHANNEL_GROUP}--{FIG_ID}.png'\n",
    "\n",
    "#---------------- filter the data ----------------#\n",
    "data = reb_avgs.query('band == @BAND')\n",
    "data = data.sort_values(by=['subject', 'store'])\n",
    "nnxr = data.query('store == \"NNXr\"')['bandpower_rel'].values\n",
    "nnxo = data.query('store == \"NNXo\"')['bandpower_rel'].values\n",
    "\n",
    "# PLOT AND SAVE\n",
    "# ---------------------------------------------\n",
    "f, ax = acr.plots.gen_paired_boxplot(nnxr, nnxo, colors=[NNXR_GRAY, MAIN_COLOR], fsize=(3.5, 4))\n",
    "\n",
    "ax.set_ylim(1, 1.8) # y limits\n",
    "ax.set_xlim(0.30, 0.70) # x limits\n",
    "ax.set_yticks([1, 1.4, 1.8]) # y ticks\n",
    "ax.set_xticklabels(['Contra. Control', 'Optrode'])\n",
    "#ax.set_yticks([1.25, 1.75], minor=True) # minor y ticks\n",
    "\n",
    "#plt.tight_layout(pad=0.2)\n",
    "plt.savefig(f'{PAPER_FIGURE_ROOT}/swa/{figure_name}', dpi=600, bbox_inches='tight', transparent=True)\n"
   ]
  },
  {
   "cell_type": "code",
   "execution_count": null,
   "metadata": {},
   "outputs": [],
   "source": [
    "# =============================\n",
    "# ========== STATS ============\n",
    "# =============================\n",
    "write = True\n",
    "\n",
    "diffs = nnxr - nnxo\n",
    "shap_stat, shap_p = shapiro(diffs) # test the paired differences for normality\n",
    "agostino_stat, agostino_p = normaltest(diffs) # test the paired differences for normality\n",
    "print(f'shapiro_p-value: {shap_p}')\n",
    "print(f'd,agostino_p-value: {agostino_p}')\n",
    "stats = pg.ttest(nnxr, nnxo, paired=True)\n",
    "hg = pg.compute_effsize(nnxr, nnxo, paired=True, eftype='hedges')\n",
    "print(f'hedges g: {hg}')\n",
    "if write:\n",
    "    # ===== Write Stats =====\n",
    "    stats_name = f'REB-SWA__{SUBJECT_TYPE.upper()}__{SUBJECT_GROUP}__{CHANNEL_GROUP}'\n",
    "    acr.stats.write_stats_result(stats_name, 'paired_ttest', stats['T'][0], stats['p-val'][0], 'g', hg)\n",
    "    \n",
    "    # ===== Write Source Data =====\n",
    "    source_data = pd.DataFrame({'contra_control': nnxr, 'off_induction': nnxo, 'subject': np.arange(len(nnxr))})\n",
    "    pub_utils.write_source_data(source_data, stats_name)\n",
    "stats"
   ]
  },
  {
   "cell_type": "code",
   "execution_count": null,
   "metadata": {},
   "outputs": [],
   "source": [
    "# DEFINE THE DATA\n",
    "# --------------------------------------------\n",
    "BAND = 'delta'\n",
    "SUBJECT_GROUP = 'ALL_SUBJECTS'\n",
    "CHANNEL_GROUP = 'ALL_CHANNELS'\n",
    "FIG_ID = f'{BAND}_rebound_{MAIN_EXP}__NORMALIZED'\n",
    "figure_name = f'{SUBJECT_TYPE.upper()}--{SUBJECT_GROUP}--{CHANNEL_GROUP}--{FIG_ID}.png'\n",
    "\n",
    "#---------------- filter the data ----------------#\n",
    "data = reb_avgs.query('band == @BAND')\n",
    "data = data.sort_values(by=['subject', 'store'])\n",
    "nnxr = data.query('store == \"NNXr\"')['bandpower_rel'].values\n",
    "nnxo = data.query('store == \"NNXo\"')['bandpower_rel'].values\n",
    "\n",
    "nnxr_norm = nnxr/nnxr\n",
    "nnxo_norm = nnxo/nnxr\n",
    "\n",
    "# PLOT AND SAVE\n",
    "# ---------------------------------------------\n",
    "f, ax = acr.plots.gen_paired_boxplot(nnxr_norm, nnxo_norm, colors=[NNXR_GRAY, MAIN_COLOR], one_sided=True, fsize=(3.5, 4), lineplot_width=3.5)\n",
    "print(ax.get_ylim())\n",
    "\n",
    "ax.set_ylim(0.98, 1.16) # y limits\n",
    "ax.set_xlim(0.35, 0.70) # x limits\n",
    "ax.set_yticks([1, 1.1]) # y ticks\n",
    "ax.set_xticklabels(['Contra. Control', 'Optrode'])\n",
    "plt.savefig(f'{PAPER_FIGURE_ROOT}/swa/{figure_name}', dpi=600, bbox_inches='tight', transparent=True)"
   ]
  },
  {
   "cell_type": "code",
   "execution_count": null,
   "metadata": {},
   "outputs": [],
   "source": [
    "# DEFINE THE DATA\n",
    "# --------------------------------------------\n",
    "BAND = 'delta'\n",
    "SUBJECT_GROUP = 'FRONTAL_SUBJECTS'\n",
    "CHANNEL_GROUP = 'ALL_CHANNELS'\n",
    "FIG_ID = f'{BAND}_rebound_{MAIN_EXP}'\n",
    "figure_name = f'{SUBJECT_TYPE.upper()}--{SUBJECT_GROUP}--{CHANNEL_GROUP}--{FIG_ID}.png'\n",
    "\n",
    "#---------------- filter the data ----------------#\n",
    "data = reb_avgs.query('band == @BAND').query('region == \"frontal\"')\n",
    "data = data.sort_values(by=['subject', 'store'])\n",
    "nnxr = data.query('store == \"NNXr\"')['bandpower_rel'].values\n",
    "nnxo = data.query('store == \"NNXo\"')['bandpower_rel'].values\n",
    "\n",
    "# PLOT AND SAVE\n",
    "# ---------------------------------------------\n",
    "f, ax = acr.plots.gen_paired_boxplot(nnxr, nnxo, colors=[NNXR_GRAY, MAIN_COLOR], one_sided=False, fsize=(3.5, 4), lineplot_width=3.5)\n",
    "print(ax.get_ylim())\n",
    "ax.set_ylim(1.65, 1.75) # y limits\n",
    "ax.set_xlim(0.30, 0.70) # x limits\n",
    "ax.set_yticks([1.65, 1.75]) # y ticks\n",
    "\n",
    "plt.tight_layout(pad=0.2)\n",
    "plt.savefig(f'{PAPER_FIGURE_ROOT}/swa/{figure_name}', dpi=600, bbox_inches='tight', transparent=True)"
   ]
  },
  {
   "cell_type": "code",
   "execution_count": null,
   "metadata": {},
   "outputs": [],
   "source": [
    "# =============================\n",
    "# ========== STATS ============\n",
    "# =============================\n",
    "write = True\n",
    "\n",
    "diffs = nnxr - nnxo\n",
    "shap_stat, shap_p = shapiro(diffs) # test the paired differences for normality\n",
    "#agostino_stat, agostino_p = normaltest(diffs) # test the paired differences for normality\n",
    "print(f'shapiro_p-value: {shap_p}')\n",
    "print(f'd,agostino_p-value: {agostino_p}')\n",
    "stats = pg.ttest(nnxr, nnxo, paired=True)\n",
    "hg = pg.compute_effsize(nnxr, nnxo, paired=True, eftype='hedges')\n",
    "print(f'hedges g: {hg}')\n",
    "if write:\n",
    "    # ===== Write Stats =====\n",
    "    stats_name = f'REB-SWA__{SUBJECT_TYPE.upper()}__{SUBJECT_GROUP}__{CHANNEL_GROUP}'\n",
    "    acr.stats.write_stats_result(stats_name, 'paired_ttest', stats['T'][0], stats['p-val'][0], 'g', hg)\n",
    "    \n",
    "    # ===== Write Source Data =====\n",
    "    source_data = pd.DataFrame({'contra_control': nnxr, 'off_induction': nnxo, 'subject': np.arange(len(nnxr))})\n",
    "    pub_utils.write_source_data(source_data, stats_name)\n",
    "    \n",
    "stats"
   ]
  },
  {
   "cell_type": "code",
   "execution_count": null,
   "metadata": {},
   "outputs": [],
   "source": [
    "# DEFINE THE DATA\n",
    "# --------------------------------------------\n",
    "BAND = 'delta'\n",
    "SUBJECT_GROUP = 'FRONTAL_SUBJECTS'\n",
    "CHANNEL_GROUP = 'ALL_CHANNELS'\n",
    "FIG_ID = f'{BAND}_rebound_{MAIN_EXP}__NORMALIZED'\n",
    "figure_name = f'{SUBJECT_TYPE.upper()}--{SUBJECT_GROUP}--{CHANNEL_GROUP}--{FIG_ID}.png'\n",
    "\n",
    "#---------------- filter the data ----------------#\n",
    "data = reb_avgs.query('band == @BAND').query('region == \"frontal\"')\n",
    "data = data.sort_values(by=['subject', 'store'])\n",
    "nnxr = data.query('store == \"NNXr\"')['bandpower_rel'].values\n",
    "nnxo = data.query('store == \"NNXo\"')['bandpower_rel'].values\n",
    "\n",
    "nnxr_norm = nnxr/nnxr\n",
    "nnxo_norm = nnxo/nnxr\n",
    "\n",
    "# PLOT AND SAVE\n",
    "# ---------------------------------------------\n",
    "f, ax = acr.plots.gen_paired_boxplot(nnxr_norm, nnxo_norm, colors=[NNXR_GRAY, MAIN_COLOR], one_sided=True, fsize=(3.5, 4), lineplot_width=3.5)\n",
    "\n",
    "\n",
    "ax.set_ylim(0.9, 1.01) # y limits\n",
    "ax.set_xlim(0.35, 0.70) # x limits\n",
    "ax.set_yticks([0.9, 1]) # y ticks\n",
    "\n",
    "plt.tight_layout(pad=0.2)\n",
    "plt.savefig(f'{PAPER_FIGURE_ROOT}/swa/{figure_name}', dpi=600, bbox_inches='tight', transparent=True)"
   ]
  },
  {
   "cell_type": "code",
   "execution_count": null,
   "metadata": {},
   "outputs": [],
   "source": [
    "# DEFINE THE DATA\n",
    "# --------------------------------------------\n",
    "BAND = 'delta'\n",
    "SUBJECT_GROUP = 'PARIETAL_SUBJECTS'\n",
    "CHANNEL_GROUP = 'ALL_CHANNELS'\n",
    "FIG_ID = f'{BAND}_rebound_{MAIN_EXP}'\n",
    "figure_name = f'{SUBJECT_TYPE.upper()}--{SUBJECT_GROUP}--{CHANNEL_GROUP}--{FIG_ID}.png'\n",
    "\n",
    "#---------------- filter the data ----------------#\n",
    "data = reb_avgs.query('band == @BAND').query('region == \"parietal\"')\n",
    "data = data.sort_values(by=['subject', 'store'])\n",
    "nnxr = data.query('store == \"NNXr\"')['bandpower_rel'].values\n",
    "nnxo = data.query('store == \"NNXo\"')['bandpower_rel'].values\n",
    "\n",
    "# PLOT AND SAVE\n",
    "# ---------------------------------------------\n",
    "f, ax = acr.plots.gen_paired_boxplot(nnxr, nnxo, colors=[NNXR_GRAY, MAIN_COLOR], one_sided=False, fsize=(3.5, 4), lineplot_width=3.5)\n",
    "print(ax.get_ylim())\n",
    "ax.set_ylim(1, 1.8) # y limits\n",
    "ax.set_xlim(0.30, 0.70) # x limits\n",
    "ax.set_yticks([1, 1.4, 1.8]) # y ticks\n",
    "\n",
    "plt.tight_layout(pad=0.2)\n",
    "plt.savefig(f'{PAPER_FIGURE_ROOT}/swa/{figure_name}', dpi=600, bbox_inches='tight', transparent=True)"
   ]
  },
  {
   "cell_type": "code",
   "execution_count": null,
   "metadata": {},
   "outputs": [],
   "source": [
    "# =============================\n",
    "# ========== STATS ============\n",
    "# =============================\n",
    "write = True\n",
    "\n",
    "diffs = nnxr - nnxo\n",
    "shap_stat, shap_p = shapiro(diffs) # test the paired differences for normality\n",
    "#agostino_stat, agostino_p = normaltest(diffs) # test the paired differences for normality\n",
    "print(f'shapiro_p-value: {shap_p}')\n",
    "print(f'd,agostino_p-value: {agostino_p}')\n",
    "stats = pg.ttest(nnxr, nnxo, paired=True)\n",
    "hg = pg.compute_effsize(nnxr, nnxo, paired=True, eftype='hedges')\n",
    "print(f'hedges g: {hg}')\n",
    "if write:\n",
    "    # ===== Write Stats =====\n",
    "    stats_name = f'REB-SWA__{SUBJECT_TYPE.upper()}__{SUBJECT_GROUP}__{CHANNEL_GROUP}'\n",
    "    acr.stats.write_stats_result(stats_name, 'paired_ttest', stats['T'][0], stats['p-val'][0], 'g', hg)\n",
    "    \n",
    "    # ===== Write Source Data =====\n",
    "    source_data = pd.DataFrame({'contra_control': nnxr, 'off_induction': nnxo, 'subject': np.arange(len(nnxr))})\n",
    "    pub_utils.write_source_data(source_data, stats_name)\n",
    "stats"
   ]
  },
  {
   "cell_type": "code",
   "execution_count": null,
   "metadata": {},
   "outputs": [],
   "source": [
    "# DEFINE THE DATA\n",
    "# --------------------------------------------\n",
    "BAND = 'delta'\n",
    "SUBJECT_GROUP = 'PARIETAL_SUBJECTS'\n",
    "CHANNEL_GROUP = 'ALL_CHANNELS'\n",
    "FIG_ID = f'{BAND}_rebound_{MAIN_EXP}__NORMALIZED'\n",
    "figure_name = f'{SUBJECT_TYPE.upper()}--{SUBJECT_GROUP}--{CHANNEL_GROUP}--{FIG_ID}.png'\n",
    "\n",
    "#---------------- filter the data ----------------#\n",
    "data = reb_avgs.query('band == @BAND').query('region == \"parietal\"')\n",
    "data = data.sort_values(by=['subject', 'store'])\n",
    "nnxr = data.query('store == \"NNXr\"')['bandpower_rel'].values\n",
    "nnxo = data.query('store == \"NNXo\"')['bandpower_rel'].values\n",
    "\n",
    "nnxr_norm = nnxr/nnxr\n",
    "nnxo_norm = nnxo/nnxr\n",
    "\n",
    "# PLOT AND SAVE\n",
    "# ---------------------------------------------\n",
    "f, ax = acr.plots.gen_paired_boxplot(nnxr_norm, nnxo_norm, colors=[NNXR_GRAY, MAIN_COLOR], one_sided=True, fsize=(3.5, 4), lineplot_width=3.5)\n",
    "print(ax.get_ylim())\n",
    "ax.set_ylim(0.95, 1.16) # y limits\n",
    "ax.set_xlim(0.35, 0.70) # x limits\n",
    "ax.set_yticks([1, 1.1]) # y ticks\n",
    "\n",
    "plt.tight_layout(pad=0.2)\n",
    "plt.savefig(f'{PAPER_FIGURE_ROOT}/swa/{figure_name}', dpi=600, bbox_inches='tight', transparent=True)\n"
   ]
  },
  {
   "cell_type": "markdown",
   "metadata": {},
   "source": [
    "# Full Spectrograms"
   ]
  },
  {
   "cell_type": "code",
   "execution_count": null,
   "metadata": {},
   "outputs": [],
   "source": []
  },
  {
   "cell_type": "code",
   "execution_count": null,
   "metadata": {},
   "outputs": [],
   "source": [
    "reb_spgs = {}\n",
    "for subject, exp in zip(subjects, exps):\n",
    "    if subject in scd:\n",
    "        to_drop = scd[subject]\n",
    "    else:\n",
    "        to_drop=None\n",
    "    reb_spgs[subject] = create_reb_spg(subject, exp, drop_chans=to_drop)\n",
    "full_df = pd.concat(reb_spgs.values())\n",
    "full_means = full_df.groupby(['store', 'frequency']).mean(numeric_only=True).reset_index()"
   ]
  },
  {
   "cell_type": "code",
   "execution_count": null,
   "metadata": {},
   "outputs": [],
   "source": [
    "from statsmodels.stats.multitest import multipletests\n",
    "# statistical-tests for all frequencies\n",
    "t_tests = {}\n",
    "freqs = []\n",
    "p_vals = []\n",
    "for freq in full_df['frequency'].unique():\n",
    "    freqs.append(freq)\n",
    "    freq_df = full_df.loc[full_df['frequency'] == freq].sort_values(['store', 'subject'])\n",
    "    nnxr = freq_df.query('store == \"NNXr\"')['power_rel'].values\n",
    "    nnxo = freq_df.query('store == \"NNXo\"')['power_rel'].values\n",
    "    \n",
    "    # will use wilcoxon across all frequencies to avoid differing normality assumptions across different frequencies, etc\n",
    "    stat = pg.wilcoxon(nnxr, nnxo)\n",
    "    p_vals.append(stat['p-val'][0])"
   ]
  },
  {
   "cell_type": "code",
   "execution_count": null,
   "metadata": {},
   "outputs": [],
   "source": [
    "# Correct for multiple Comparisons using Benjamini–Hochberg False discovery rate correction \n",
    "rej, p_fdr, _, _ = multipletests(p_vals, alpha=0.05, method='fdr_bh')\n",
    "\n",
    "for p_cor, freq in zip(p_fdr, freqs):\n",
    "    if p_cor<0.05:\n",
    "        print(round(freq, 1), round(p_cor, 3))\n",
    "    #print(round(freq, 1), round(p_cor, 3))\n"
   ]
  },
  {
   "cell_type": "code",
   "execution_count": null,
   "metadata": {},
   "outputs": [],
   "source": [
    "# NO significance"
   ]
  },
  {
   "cell_type": "code",
   "execution_count": null,
   "metadata": {},
   "outputs": [],
   "source": [
    "# =============================\n",
    "# ===== Write Source Data =====\n",
    "# =============================\n",
    "dfs = []\n",
    "for freq in full_df['frequency'].unique():\n",
    "    freqs.append(freq)\n",
    "    freq_df = full_df.loc[full_df['frequency'] == freq].sort_values(['store', 'subject'])\n",
    "    nnxr = freq_df.query('store == \"NNXr\"')['power_rel'].values\n",
    "    nnxo = freq_df.query('store == \"NNXo\"')['power_rel'].values\n",
    "    f = round(freq, 1)\n",
    "    fdf = pd.DataFrame({'freq_bin': f, 'contra_control_power': nnxr, 'optrode_power': nnxo, 'subject': np.arange(len(nnxr))})\n",
    "    dfs.append(fdf)\n",
    "spg_source_dat = pd.concat(dfs)\n",
    "pub_utils.write_source_data(spg_source_dat, 'CTRL_full_spg_source_data')"
   ]
  },
  {
   "cell_type": "code",
   "execution_count": null,
   "metadata": {},
   "outputs": [],
   "source": [
    "SUBJECT_GROUP = 'ALL_SUBJECTS'\n",
    "CHANNEL_GROUP = 'ALL_CHANNELS'\n",
    "FIG_ID = 'spg_rebound'\n",
    "\n",
    "fig_path = f'{PAPER_FIGURE_ROOT}/spectral/{SUBJECT_TYPE.upper()}--{SUBJECT_GROUP}--{CHANNEL_GROUP}--{MAIN_EXP}--{FIG_ID}.png'\n",
    "# --------------------------------------------------------------------------------------------------\n",
    "\n",
    "plt.rcdefaults()  # Reset to matplotlib defaults\n",
    "acr.plots.lrg()\n",
    "plt.rcParams['xtick.bottom'] = True\n",
    "\n",
    "f, ax = plt.subplots(1, 1, figsize=(4.5, 3))\n",
    "sns.lineplot(data=full_df, x='frequency', y='power_rel', hue='store', ax=ax, palette=[NNXR_GRAY, MAIN_COLOR], hue_order=probe_ord, errorbar='se', lw=4)\n",
    "\n",
    "ax.set_xlim(0, 20)  \n",
    "ax.set_ylim(0.8, 1.6)\n",
    "ax.set_yticks([0.8, 1, 1.2, 1.4, 1.6])\n",
    "ax.set_xticks([0, 5, 10, 15, 20])\n",
    "\n",
    "#remove the legend\n",
    "ax.legend_.remove()\n",
    "#ax.axhline(y=1.59, xmin=0.09, xmax=0.15)\n",
    "#ax.axvspan(0.3, 2.4, ymin=0.985, ymax=1.0)\n",
    "#ax.axvspan(2.6, 3.5, ymin=0.985, ymax=1.0)\n",
    "\n",
    "plt.savefig(fig_path, dpi=600, bbox_inches='tight', transparent=True)"
   ]
  },
  {
   "cell_type": "code",
   "execution_count": null,
   "metadata": {},
   "outputs": [],
   "source": [
    "SUBJECT_GROUP = 'ALL_SUBJECTS'\n",
    "CHANNEL_GROUP = 'ALL_CHANNELS'\n",
    "FIG_ID = 'spg_rebound__SIGNIFICANCE_MARKERS'\n",
    "\n",
    "fig_path = f'{PAPER_FIGURE_ROOT}/spectral/{SUBJECT_TYPE.upper()}--{SUBJECT_GROUP}--{CHANNEL_GROUP}--{MAIN_EXP}--{FIG_ID}.svg'\n",
    "# --------------------------------------------------------------------------------------------------\n",
    "\n",
    "plt.rcdefaults()  # Reset to matplotlib defaults\n",
    "acr.plots.lrg()\n",
    "plt.rcParams['xtick.bottom'] = True\n",
    "\n",
    "f, ax = plt.subplots(1, 1, figsize=(4.5, 3))\n",
    "sns.lineplot(data=full_df, x='frequency', y='power_rel', hue='store', ax=ax, palette=[NNXR_GRAY, MAIN_COLOR], hue_order=probe_ord, errorbar='se', lw=4)\n",
    "\n",
    "ax.set_xlim(0, 20)  \n",
    "ax.set_ylim(0.8, 1.6)\n",
    "ax.set_yticks([0.8, 1, 1.2, 1.4, 1.6])\n",
    "ax.set_xticks([0, 5, 10, 15, 20])\n",
    "\n",
    "#remove the legend\n",
    "ax.legend_.remove()\n",
    "\n",
    "ax.hlines(1.5, 0.5, 3)\n",
    "\n",
    "plt.savefig(fig_path, dpi=600, bbox_inches='tight', transparent=True)"
   ]
  },
  {
   "cell_type": "markdown",
   "metadata": {},
   "source": [
    "# FUll SPG"
   ]
  },
  {
   "cell_type": "code",
   "execution_count": null,
   "metadata": {},
   "outputs": [],
   "source": [
    "spgs = {}\n",
    "for subject, exp in zip(subjects, exps):\n",
    "    spgs[subject] = data_agg.load_raw_spg(subject, exp)"
   ]
  },
  {
   "cell_type": "code",
   "execution_count": null,
   "metadata": {},
   "outputs": [],
   "source": [
    "subject = 'ACR_21'\n",
    "spg = spgs[subject]"
   ]
  },
  {
   "cell_type": "code",
   "execution_count": null,
   "metadata": {},
   "outputs": [],
   "source": [
    "fspgs = []\n",
    "for subject in spgs:\n",
    "    fspgs.append(data_agg.get_bl_reb_spg_df(spgs[subject], full_hyps, hyp_dicts, subject))\n",
    "\n",
    "fspg = pl.concat(fspgs)"
   ]
  },
  {
   "cell_type": "code",
   "execution_count": null,
   "metadata": {},
   "outputs": [],
   "source": [
    "def get_relative_rebound_band(fullspg, flow, fhigh):\n",
    "    band_spg = fullspg.filter(pl.col('frequency') > flow).filter(pl.col('frequency') < fhigh)\n",
    "    band_spg = band_spg.group_by(['subject', 'datetime', 'store', 'channel', 'state', 'condition']).agg(pl.col('power').sum()).sort('subject','store', 'channel')\n",
    "    band_spg = data_agg.relativize_df(band_spg, 'condition', 'full_bl', col_to_relativize='power', on=['subject','store', 'channel'])\n",
    "    rebband = band_spg.cdn('rebound')\n",
    "    return rebband"
   ]
  },
  {
   "cell_type": "code",
   "execution_count": null,
   "metadata": {},
   "outputs": [],
   "source": [
    "delta_rebound = get_relative_rebound_band(fspg, 0.4, 4)"
   ]
  },
  {
   "cell_type": "code",
   "execution_count": null,
   "metadata": {},
   "outputs": [],
   "source": [
    "bm = delta_rebound.group_by(['subject', 'store', 'channel']).agg(pl.col('power_rel').mean()).sort('subject', 'store')"
   ]
  },
  {
   "cell_type": "code",
   "execution_count": null,
   "metadata": {},
   "outputs": [],
   "source": [
    "nnxo = bm.prb('NNXo')['power_rel'].to_numpy()\n",
    "nnxr = bm.prb('NNXr')['power_rel'].to_numpy()\n",
    "\n",
    "f, ax = acr.plots.gen_paired_boxplot(nnxr, nnxo)"
   ]
  }
 ],
 "metadata": {
  "kernelspec": {
   "display_name": "opi",
   "language": "python",
   "name": "python3"
  },
  "language_info": {
   "codemirror_mode": {
    "name": "ipython",
    "version": 3
   },
   "file_extension": ".py",
   "mimetype": "text/x-python",
   "name": "python",
   "nbconvert_exporter": "python",
   "pygments_lexer": "ipython3",
   "version": "3.10.14"
  }
 },
 "nbformat": 4,
 "nbformat_minor": 2
}
