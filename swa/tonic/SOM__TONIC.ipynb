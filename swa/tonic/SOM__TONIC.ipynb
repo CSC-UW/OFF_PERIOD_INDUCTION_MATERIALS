{
 "cells": [
  {
   "cell_type": "code",
   "execution_count": null,
   "metadata": {},
   "outputs": [],
   "source": [
    "#-------------------------- Standard Imports --------------------------#\n",
    "%reload_ext autoreload\n",
    "%autoreload 2\n",
    "import pandas as pd\n",
    "import polars as pl\n",
    "import matplotlib.pyplot as plt\n",
    "import seaborn as sns\n",
    "import acr\n",
    "import warnings\n",
    "import pingouin as pg\n",
    "from scipy.stats import shapiro, normaltest\n",
    "\n",
    "warnings.filterwarnings('ignore')\n",
    "from acr.utils import *\n",
    "probe_ord = ['NNXr', 'NNXo']\n",
    "\n",
    "\n",
    "from acr.plots import pub, lrg\n",
    "\n",
    "plt.rcdefaults()\n",
    "acr.plots.supl()\n",
    "\n",
    "#--------------------------------- Import Publication Functions ---------------------------------#\n",
    "pub_utils = acr.utils.import_publication_functions('/home/kdriessen/gh_master/PUBLICATION__ACR/pub_utils.py', 'pub_utils')\n",
    "from pub_utils import *\n",
    "data_agg = acr.utils.import_publication_functions('/home/kdriessen/gh_master/PUBLICATION__ACR/data_agg.py', 'data_agg')\n",
    "from data_agg import *\n",
    "\n",
    "pu = acr.utils.import_publication_functions('/home/kdriessen/gh_master/PUBLICATION__ACR/pub_utils.py', 'pub_utils')\n",
    "dag = acr.utils.import_publication_functions('/home/kdriessen/gh_master/PUBLICATION__ACR/data_agg.py', 'data_agg')"
   ]
  },
  {
   "cell_type": "code",
   "execution_count": null,
   "metadata": {},
   "outputs": [],
   "source": [
    "from acr.utils import SOM_BLUE, NNXR_GRAY\n",
    "\n",
    "MAIN_EXP = 'swisin'\n",
    "SUBJECT_TYPE = 'som'\n",
    "MAIN_COLOR = SOM_BLUE\n",
    "\n",
    "EXP_TYPE_REAL = 'TONIC'\n",
    "\n",
    "notebook_figure_root = f'{acr.utils.PAPER_FIGURE_ROOT}/swa/tonic_comp'"
   ]
  },
  {
   "cell_type": "code",
   "execution_count": null,
   "metadata": {},
   "outputs": [],
   "source": [
    "subjects, exps = get_subject_list(type=SUBJECT_TYPE, exp=MAIN_EXP)"
   ]
  },
  {
   "cell_type": "code",
   "execution_count": null,
   "metadata": {},
   "outputs": [],
   "source": [
    "full_hyps = {}\n",
    "hyp_dicts = {}\n",
    "for subject, exp in zip(subjects, exps):\n",
    "    full_hyps[subject] = acr.io.load_hypno_full_exp(subject, exp)\n",
    "    hyp_dicts[subject] = acr.hypnogram_utils.create_acr_hyp_dict(subject, exp, true_stim=True, extra_rebounds=False)"
   ]
  },
  {
   "cell_type": "code",
   "execution_count": null,
   "metadata": {},
   "outputs": [],
   "source": [
    "#load all raw bp dfs\n",
    "bp_dfs = {}\n",
    "for sub, exp in zip(subjects, exps):\n",
    "    bp = load_raw_bp_df(sub, exp)\n",
    "    bp_dfs[sub] = bp"
   ]
  },
  {
   "cell_type": "code",
   "execution_count": null,
   "metadata": {},
   "outputs": [],
   "source": [
    "# label and make relative to baseline\n",
    "reldfs = []\n",
    "for subject in subjects:\n",
    "    subdf = bp_dfs[subject]\n",
    "    subdf = acr.hypnogram_utils.label_df_with_hypno_conditions(subdf, hyp_dicts[subject])\n",
    "    subdf = acr.hypnogram_utils.label_df_with_states(subdf, full_hyps[subject])\n",
    "    subdf = acr.hypnogram_utils.label_df_with_full_bl(subdf)\n",
    "    subdf = make_raw_bp_df_relative_to_baseline(subdf, col_to_use='full_bl', value_to_use='True', state_to_use='NREM', method='mean')\n",
    "    reldfs.append(subdf)"
   ]
  },
  {
   "cell_type": "code",
   "execution_count": null,
   "metadata": {},
   "outputs": [],
   "source": [
    "relbp = pl.concat(reldfs)"
   ]
  },
  {
   "cell_type": "code",
   "execution_count": null,
   "metadata": {},
   "outputs": [],
   "source": [
    "# drop the known bad channels\n",
    "scd = {}\n",
    "\n",
    "scd['ACR_44'] = [9, 11, 16]\n",
    "relbp = drop_sub_channels(relbp, scd)\n",
    "rebbp = relbp.filter(pl.col('condition') == 'rebound')\n",
    "reb_avgs = rebbp.group_by(['subject', 'store', 'band']).mean().to_pandas()\n",
    "reb_avgs = sub_regions_to_df(reb_avgs)"
   ]
  },
  {
   "cell_type": "code",
   "execution_count": null,
   "metadata": {},
   "outputs": [],
   "source": [
    "g = sns.catplot(data=relbp.filter(pl.col('band') == 'delta').filter(pl.col('condition')=='rebound').to_pandas(), \n",
    "                x='channel', \n",
    "                y='bandpower_rel', \n",
    "                hue='store', \n",
    "                kind='box',\n",
    "                row='subject',\n",
    "                row_order=subjects,\n",
    "                showfliers=False,\n",
    "                showmeans=True, meanprops={\"marker\": \"_\", 'markerfacecolor':'gold','markeredgecolor':'gold','markersize':'24', \"markeredgewidth\": \"3\"},\n",
    "                height=10,\n",
    "                aspect=3,\n",
    "                hue_order=probe_ord, \n",
    "                palette=[NNXR_GRAY, MAIN_COLOR]\n",
    "                )\n",
    "\n",
    "for ax in g.axes.flat:\n",
    "    ax.set_ylim(0, 5)"
   ]
  },
  {
   "cell_type": "code",
   "execution_count": null,
   "metadata": {},
   "outputs": [],
   "source": [
    "delta = reb_avgs.query('band == \"delta\"')\n",
    "delta = delta.sort_values(by=['subject', 'store'])\n",
    "rel_delta = delta.query('store == \"NNXo\"')['bandpower_rel'].values/delta.query('store == \"NNXr\"')['bandpower_rel'].values"
   ]
  },
  {
   "cell_type": "code",
   "execution_count": null,
   "metadata": {},
   "outputs": [],
   "source": [
    "nnxo = delta.query('store == \"NNXo\"')['bandpower_rel'].values\n",
    "nnxr = delta.query('store == \"NNXr\"')['bandpower_rel'].values\n",
    "\n",
    "fig_id = 'tonic_delta_rebound_all_chans'\n",
    "fig_name = f'{SUBJECT_TYPE}__{EXP_TYPE_REAL}__{fig_id}'\n",
    "fig_path = f'{notebook_figure_root}/{fig_name}.png'\n",
    "\n",
    "f, ax = acr.plots.gen_paired_boxplot(nnxr, nnxo, colors=[NNXR_GRAY, MAIN_COLOR], alphas=[0.9, 0.6], fsize=(3.5, 4))\n",
    "\n",
    "ax.set_xlim(0.30, 0.70) # x limits\n",
    "ax.set_xticklabels(['Contra. Control', 'Optrode'])\n",
    "\n",
    "plt.savefig(fig_path, dpi=600, bbox_inches='tight', transparent=True)"
   ]
  },
  {
   "cell_type": "code",
   "execution_count": null,
   "metadata": {},
   "outputs": [],
   "source": [
    "# =============================\n",
    "# ========== STATS ============\n",
    "# =============================\n",
    "write = True\n",
    "\n",
    "diffs = nnxr - nnxo\n",
    "shap_stat, shap_p = shapiro(diffs) # test the paired differences for normality\n",
    "print(f'shapiro_p-value: {shap_p}')\n",
    "\n",
    "stats = pg.ttest(nnxr, nnxo, paired=True)\n",
    "# stats = pg.wilcoxon(nnxr, nnxo)\n",
    "\n",
    "hg = pg.compute_effsize(nnxr, nnxo, paired=True, eftype='hedges')\n",
    "print(f'hedges g: {hg}')\n",
    "\n",
    "#r = acr.stats.calculate_wilx_r(stats['W-val'][0], len(nnxr))\n",
    "\n",
    "\n",
    "if write:\n",
    "    # ==== Write Stats Results ====\n",
    "    stats_name = f'{fig_name}'\n",
    "    acr.stats.write_stats_result(stats_name, 'paired_ttest', stats['T'][0], stats['p-val'][0], 'g', hg)\n",
    "    \n",
    "    # ===== Write Source Data =====\n",
    "    source_data = pd.DataFrame({'contra_control': nnxr, 'off_induction': nnxo, 'subject': np.arange(len(nnxr))})\n",
    "    pu.write_source_data(source_data, stats_name)\n",
    "stats"
   ]
  },
  {
   "cell_type": "code",
   "execution_count": null,
   "metadata": {},
   "outputs": [],
   "source": [
    "nnxo_rel = nnxo/nnxr\n",
    "nnxr_rel = nnxr/nnxr\n",
    "\n",
    "fig_id = 'tonic_delta_rebound_all_chans__NORMALIZED'\n",
    "fig_name = f'{SUBJECT_TYPE}__{EXP_TYPE_REAL}__{fig_id}'\n",
    "fig_path = f'{notebook_figure_root}/{fig_name}.png'\n",
    "\n",
    "f, ax = acr.plots.gen_paired_boxplot(nnxr_rel, nnxo_rel, colors=[NNXR_GRAY, MAIN_COLOR], alphas=[0.9, 0.6], fsize=(3.5, 4), one_sided=True)\n",
    "\n",
    "ax.set_xlim(0.30, 0.70) # x limits\n",
    "ax.set_xticklabels(['Contra. Control', 'Optrode'])\n",
    "\n",
    "plt.savefig(fig_path, dpi=600, bbox_inches='tight', transparent=True)"
   ]
  },
  {
   "cell_type": "code",
   "execution_count": null,
   "metadata": {},
   "outputs": [],
   "source": [
    "nnxo_rel_df = pd.DataFrame({'subject': subjects, 'exp': EXP_TYPE_REAL, 'optrode_rel': nnxo_rel})\n",
    "pu.write_quick_data(nnxo_rel_df, 'tonic_optrode_delta')"
   ]
  },
  {
   "cell_type": "markdown",
   "metadata": {},
   "source": [
    "# Full Spectrograms"
   ]
  },
  {
   "cell_type": "code",
   "execution_count": null,
   "metadata": {},
   "outputs": [],
   "source": [
    "reb_spgs = {}\n",
    "for subject, exp in zip(subjects, exps):\n",
    "    if subject in scd:\n",
    "        to_drop = scd[subject]\n",
    "    else:\n",
    "        to_drop=None\n",
    "    reb_spgs[subject] = create_reb_spg(subject, exp, drop_chans=to_drop)\n",
    "full_df = pd.concat(reb_spgs.values())"
   ]
  },
  {
   "cell_type": "code",
   "execution_count": null,
   "metadata": {},
   "outputs": [],
   "source": [
    "full_means = full_df.groupby(['store', 'frequency']).mean(numeric_only=True).reset_index()"
   ]
  },
  {
   "cell_type": "code",
   "execution_count": null,
   "metadata": {},
   "outputs": [],
   "source": [
    "from statsmodels.stats.multitest import multipletests\n",
    "# statistical-tests for all frequencies\n",
    "t_tests = {}\n",
    "freqs = []\n",
    "p_vals = []\n",
    "for freq in full_df['frequency'].unique():\n",
    "    freqs.append(freq)\n",
    "    freq_df = full_df.loc[full_df['frequency'] == freq].sort_values(['store', 'subject'])\n",
    "    nnxr = freq_df.query('store == \"NNXr\"')['power_rel'].values\n",
    "    nnxo = freq_df.query('store == \"NNXo\"')['power_rel'].values\n",
    "    \n",
    "    # will use wilcoxon across all frequencies to avoid differing normality assumptions across different frequencies, etc\n",
    "    stat = pg.wilcoxon(nnxr, nnxo)\n",
    "    p_vals.append(stat['p-val'][0])"
   ]
  },
  {
   "cell_type": "code",
   "execution_count": null,
   "metadata": {},
   "outputs": [],
   "source": [
    "# Correct for multiple Comparisons using Benjamini–Hochberg False discovery rate correction \n",
    "rej, p_fdr, _, _ = multipletests(p_vals, alpha=0.05, method='fdr_bh')\n",
    "\n",
    "for p_cor, freq in zip(p_fdr, freqs):\n",
    "    if p_cor<0.05:\n",
    "        print(round(freq, 1), round(p_cor, 3))\n",
    "    #print(round(freq, 1), round(p_cor, 3))"
   ]
  },
  {
   "cell_type": "code",
   "execution_count": null,
   "metadata": {},
   "outputs": [],
   "source": [
    "# =============================\n",
    "# ===== Write Source Data =====\n",
    "# =============================\n",
    "dfs = []\n",
    "for freq in full_df['frequency'].unique():\n",
    "    freqs.append(freq)\n",
    "    freq_df = full_df.loc[full_df['frequency'] == freq].sort_values(['store', 'subject'])\n",
    "    nnxr = freq_df.query('store == \"NNXr\"')['power_rel'].values\n",
    "    nnxo = freq_df.query('store == \"NNXo\"')['power_rel'].values\n",
    "    f = round(freq, 1)\n",
    "    fdf = pd.DataFrame({'freq_bin': f, 'contra_control_power': nnxr, 'optrode_power': nnxo, 'subject': np.arange(len(nnxr))})\n",
    "    dfs.append(fdf)\n",
    "spg_source_dat = pd.concat(dfs)\n",
    "pub_utils.write_source_data(spg_source_dat, 'SOM_full_spg_source_data--TONIC')"
   ]
  },
  {
   "cell_type": "code",
   "execution_count": null,
   "metadata": {},
   "outputs": [],
   "source": [
    "fig_id = 'TONIC_full_spg_rebound'\n",
    "fig_name = f'{SUBJECT_TYPE}__{EXP_TYPE_REAL}__{fig_id}'\n",
    "fig_path = f'{notebook_figure_root}/{fig_name}.png'\n",
    "\n",
    "plt.rcdefaults()  # Reset to matplotlib defaults\n",
    "acr.plots.supl()\n",
    "plt.rcParams['xtick.bottom'] = True\n",
    "\n",
    "f, ax = plt.subplots(1, 1, figsize=(4.5, 3))\n",
    "sns.lineplot(data=full_df, x='frequency', y='power_rel', hue='store', ax=ax, palette=[NNXR_GRAY, MAIN_COLOR], hue_order=probe_ord, errorbar='se', lw=4)\n",
    "\n",
    "ax.set_xlim(0, 20)  \n",
    "ax.set_xticks([0, 5, 10, 15, 20])\n",
    "ax.set_ylabel('')\n",
    "ax.set_xlabel('Frequency (Hz)')\n",
    "#remove the legend\n",
    "ax.legend_.remove()\n",
    "#ax.axhline(y=1.59, xmin=0.09, xmax=0.15)\n",
    "#ax.axvspan(0.3, 2.4, ymin=0.985, ymax=1.0)\n",
    "#ax.axvspan(2.6, 3.5, ymin=0.985, ymax=1.0)\n",
    "\n",
    "plt.savefig(fig_path, dpi=600, bbox_inches='tight', transparent=True)"
   ]
  },
  {
   "cell_type": "code",
   "execution_count": null,
   "metadata": {},
   "outputs": [],
   "source": [
    "fig_id = 'SPG_1-to-4_Hz'\n",
    "fig_name = f'SOM-TONIC__{fig_id}'\n",
    "fig_path = f'{notebook_figure_root}/{fig_name}.png'\n",
    "\n",
    "plt.rcdefaults()  # Reset to matplotlib defaults\n",
    "acr.plots.supl()\n",
    "plt.rcParams['xtick.bottom'] = True\n",
    "\n",
    "f, ax = plt.subplots(1, 1, figsize=(4.5, 3))\n",
    "sns.lineplot(data=full_df, x='frequency', y='power_rel', hue='store', ax=ax, palette=[NNXR_GRAY, MAIN_COLOR], hue_order=probe_ord, errorbar='se', lw=4)\n",
    "\n",
    "ax.set_xlim(0, 20)  \n",
    "ax.set_xticks([0, 5, 10, 15, 20])\n",
    "ax.set_ylabel('')\n",
    "ax.set_xlabel('Frequency (Hz)')\n",
    "#remove the legend\n",
    "ax.legend_.remove()\n",
    "ax.hlines(y=1.58, xmin=1.0, xmax=4.0)\n",
    "\n",
    "plt.savefig(fig_path, dpi=600, bbox_inches='tight', transparent=True)"
   ]
  },
  {
   "cell_type": "code",
   "execution_count": null,
   "metadata": {},
   "outputs": [],
   "source": [
    "df_delt = full_df.loc[(full_df['frequency'] > 0.7)&(full_df['frequency'] < 4)]\n",
    "df_delt_means = df_delt.groupby(['subject', 'store']).sum(numeric_only=True).reset_index()\n",
    "nnxo = df_delt.query('store == \"NNXo\"')['power_rel'].values\n",
    "nnxr = df_delt.query('store == \"NNXr\"')['power_rel'].values"
   ]
  },
  {
   "cell_type": "code",
   "execution_count": null,
   "metadata": {},
   "outputs": [],
   "source": [
    "# =============================\n",
    "# ========== STATS ============\n",
    "# =============================\n",
    "write = True\n",
    "\n",
    "diffs = nnxr - nnxo\n",
    "shap_stat, shap_p = shapiro(diffs) # test the paired differences for normality\n",
    "print(f'shapiro_p-value: {shap_p}')\n",
    "\n",
    "stats = pg.ttest(nnxr, nnxo, paired=True)\n",
    "# stats = pg.wilcoxon(nnxr, nnxo)\n",
    "\n",
    "hg = pg.compute_effsize(nnxr, nnxo, paired=True, eftype='hedges')\n",
    "print(f'hedges g: {hg}')\n",
    "\n",
    "#r = acr.stats.calculate_wilx_r(stats['W-val'][0], len(nnxr))\n",
    "\n",
    "\n",
    "if write:\n",
    "    # ==== Write Stats Results ====\n",
    "    stats_name = f'{fig_name}'\n",
    "    acr.stats.write_stats_result(stats_name, 'paired_ttest', stats['T'][0], stats['p-val'][0], 'g', hg)\n",
    "    \n",
    "    # ===== Write Source Data =====\n",
    "    source_data = pd.DataFrame({'contra_control': nnxr, 'off_induction': nnxo, 'subject': np.arange(len(nnxr))})\n",
    "    pu.write_source_data(source_data, stats_name)\n",
    "stats"
   ]
  },
  {
   "cell_type": "code",
   "execution_count": null,
   "metadata": {},
   "outputs": [],
   "source": []
  },
  {
   "cell_type": "markdown",
   "metadata": {},
   "source": [
    "# NEW SPG"
   ]
  },
  {
   "cell_type": "code",
   "execution_count": null,
   "metadata": {},
   "outputs": [],
   "source": [
    "spgs = {}\n",
    "for subject, exp in zip(subjects, exps):\n",
    "    spgs[subject] = data_agg.load_raw_spg(subject, exp)"
   ]
  },
  {
   "cell_type": "code",
   "execution_count": null,
   "metadata": {},
   "outputs": [],
   "source": [
    "def save_quick_spgdf(spg, subject, exp_type):\n",
    "    path = f'{acr.utils.pub_data_root}/comp_spg-dfs/{subject}--{exp_type}.parquet'\n",
    "    spg.write_parquet(path)"
   ]
  },
  {
   "cell_type": "code",
   "execution_count": null,
   "metadata": {},
   "outputs": [],
   "source": [
    "for subject in ['ACR_25', 'ACR_39', 'ACR_40', 'ACR_41', 'ACR_44']:\n",
    "    sspl = dag.df_and_label_spg(spgs[subject], full_hyps, hyp_dicts, subject, flow=0, fhigh=21)\n",
    "    save_quick_spgdf(sspl, subject, 'tonic')"
   ]
  },
  {
   "cell_type": "code",
   "execution_count": null,
   "metadata": {},
   "outputs": [],
   "source": [
    "fspgs = []\n",
    "for subject in spgs:\n",
    "    fspgs.append(data_agg.get_bl_reb_spg_df(spgs[subject], full_hyps, hyp_dicts, subject))\n",
    "\n",
    "fspg = pl.concat(fspgs)"
   ]
  },
  {
   "cell_type": "code",
   "execution_count": null,
   "metadata": {},
   "outputs": [],
   "source": [
    "def get_relative_rebound_band(fullspg, flow, fhigh):\n",
    "    band_spg = fullspg.filter(pl.col('frequency') > flow).filter(pl.col('frequency') < fhigh)\n",
    "    band_spg = band_spg.group_by(['subject', 'datetime', 'store', 'channel', 'state', 'condition']).agg(pl.col('power').sum()).sort('subject','store', 'channel')\n",
    "    band_spg = data_agg.relativize_df(band_spg, 'condition', 'full_bl', col_to_relativize='power', on=['subject','store', 'channel'])\n",
    "    rebband = band_spg.cdn('rebound')\n",
    "    return rebband"
   ]
  },
  {
   "cell_type": "code",
   "execution_count": null,
   "metadata": {},
   "outputs": [],
   "source": [
    "delta_rebound = get_relative_rebound_band(fspg, 0.7, 4)"
   ]
  },
  {
   "cell_type": "code",
   "execution_count": null,
   "metadata": {},
   "outputs": [],
   "source": [
    "bm = delta_rebound.group_by(['subject', 'store', 'channel']).agg(pl.col('power_rel').mean()).sort('subject', 'store', 'channel')\n",
    "bm = bm.group_by(['subject', 'store']).agg(pl.col('power_rel').mean()).sort('subject', 'store')"
   ]
  },
  {
   "cell_type": "code",
   "execution_count": null,
   "metadata": {},
   "outputs": [],
   "source": [
    "nnxo = bm.prb('NNXo')['power_rel'].to_numpy()\n",
    "nnxr = bm.prb('NNXr')['power_rel'].to_numpy()\n",
    "\n",
    "f, ax = acr.plots.gen_paired_boxplot(nnxr, nnxo)"
   ]
  },
  {
   "cell_type": "code",
   "execution_count": null,
   "metadata": {},
   "outputs": [],
   "source": [
    "nnxo_rel = nnxo/nnxr\n",
    "nnxo_rel_df = pd.DataFrame({'subject': subjects, 'exp': EXP_TYPE_REAL, 'optrode_rel': nnxo_rel})\n",
    "pu.write_quick_data(nnxo_rel_df, 'tonic_optrode_delta')"
   ]
  },
  {
   "cell_type": "code",
   "execution_count": null,
   "metadata": {},
   "outputs": [],
   "source": [
    "pg.ttest(nnxr, nnxo, paired=True)"
   ]
  }
 ],
 "metadata": {
  "kernelspec": {
   "display_name": "off_ind",
   "language": "python",
   "name": "python3"
  },
  "language_info": {
   "codemirror_mode": {
    "name": "ipython",
    "version": 3
   },
   "file_extension": ".py",
   "mimetype": "text/x-python",
   "name": "python",
   "nbconvert_exporter": "python",
   "pygments_lexer": "ipython3",
   "version": "3.12.10"
  }
 },
 "nbformat": 4,
 "nbformat_minor": 2
}
