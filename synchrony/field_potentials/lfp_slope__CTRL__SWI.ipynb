{
 "cells": [
  {
   "cell_type": "code",
   "execution_count": null,
   "id": "9322d359",
   "metadata": {},
   "outputs": [],
   "source": [
    "#-------------------------- Standard Imports --------------------------#\n",
    "%reload_ext autoreload\n",
    "%autoreload 2\n",
    "import kdephys as kde\n",
    "import pandas as pd\n",
    "import polars as pl\n",
    "import matplotlib.pyplot as plt\n",
    "import seaborn as sns\n",
    "import numpy as np\n",
    "import acr\n",
    "import xarray as xr\n",
    "from scipy import stats\n",
    "# ---------------------------- EXTRAS --------------------------------#\n",
    "from kdephys.plot.main import _title, bp_plot\n",
    "import kdephys.utils.spectral as sp\n",
    "bands = sp.bands\n",
    "from scipy.stats import normaltest\n",
    "import warnings\n",
    "warnings.filterwarnings('ignore')\n",
    "import matplotlib as mpl\n",
    "from acr.utils import *\n",
    "pu = acr.utils.import_publication_functions('/home/kdriessen/gh_master/PUBLICATION__ACR/pub_utils.py', 'pu')\n",
    "dag = acr.utils.import_publication_functions('/home/kdriessen/gh_master/PUBLICATION__ACR/data_agg.py', 'dag')\n",
    "import pingouin as pg\n",
    "from scipy.stats import shapiro\n",
    "\n",
    "plt.rcdefaults()\n",
    "acr.plots.lrg()"
   ]
  },
  {
   "cell_type": "code",
   "execution_count": null,
   "id": "88e93e31",
   "metadata": {},
   "outputs": [],
   "source": [
    "%connect_info"
   ]
  },
  {
   "cell_type": "code",
   "execution_count": null,
   "id": "c61d13b4",
   "metadata": {},
   "outputs": [],
   "source": [
    "from acr.utils import SOM_BLUE, ACR_BLUE, NNXR_GRAY\n",
    "\n",
    "MAIN_EXP = 'swi'\n",
    "SUBJECT_TYPE = 'control'\n",
    "MAIN_COLOR = CTRL_BLUE"
   ]
  },
  {
   "cell_type": "code",
   "execution_count": null,
   "id": "2a7641a7",
   "metadata": {},
   "outputs": [],
   "source": [
    "notebook_figure_root = f'{pu.PAPER_FIGURE_ROOT}/synchrony/field_potentials'\n",
    "subjects, exps = pu.get_subject_list(type=SUBJECT_TYPE, exp=MAIN_EXP)"
   ]
  },
  {
   "cell_type": "code",
   "execution_count": null,
   "id": "c9b15530",
   "metadata": {},
   "outputs": [],
   "source": [
    "full_hyps = {}\n",
    "hyp_dicts = {}\n",
    "for subject, exp in zip(subjects, exps):\n",
    "    full_hyps[subject] = acr.io.load_hypno_full_exp(subject, exp)\n",
    "    hyp_dicts[subject] = acr.hypnogram_utils.create_acr_hyp_dict(subject, exp, true_stim=True, duration='1800s')"
   ]
  },
  {
   "cell_type": "code",
   "execution_count": null,
   "id": "5f40b30b",
   "metadata": {},
   "outputs": [],
   "source": [
    "# Load the Full Exp field potentials\n",
    "raw_lfps = {}\n",
    "for subject, exp in zip(subjects, exps):\n",
    "        if subject not in raw_lfps.keys():\n",
    "            recordings = acr.info_pipeline.get_exp_recs(subject, exp)\n",
    "            for rec in recordings:\n",
    "                if '-post' in rec:\n",
    "                    recordings.remove(rec)\n",
    "            print(subject, recordings)\n",
    "            lfp = acr.io.load_concat_raw_data(subject, recordings)\n",
    "            raw_lfps[subject] = lfp"
   ]
  },
  {
   "cell_type": "markdown",
   "id": "bde28999",
   "metadata": {},
   "source": [
    "# Load OFFs"
   ]
  },
  {
   "cell_type": "code",
   "execution_count": null,
   "id": "81e5490b",
   "metadata": {},
   "outputs": [],
   "source": [
    "bindfs = []\n",
    "oodfs = {}\n",
    "for subject, exp in zip(subjects, exps):\n",
    "        print(subject, exp)\n",
    "        if subject in bindfs:\n",
    "                oodf = dag.load_bindf_with_hybrid_format(subject, exp)\n",
    "        else:\n",
    "                oodf = dag.compute_hybrid_off_df(subject, exp, chan_threshold=12)\n",
    "        oodf = acr.oo_utils.enhance_oodf(oodf, full_hyps[subject], hyp_dicts[subject])\n",
    "        oodfs[subject] = oodf\n",
    "full_oodf = pl.concat(oodfs.values())\n",
    "off_means = full_oodf.group_by(['subject', 'probe', 'condition']).agg(pl.col('duration_rel').mean())"
   ]
  },
  {
   "cell_type": "code",
   "execution_count": null,
   "id": "270811a2",
   "metadata": {},
   "outputs": [],
   "source": [
    "bindfs = []\n",
    "oodfs = {}\n",
    "for subject, exp in zip(subjects, exps):\n",
    "        oodf = dag.load_base_oodf(subject, exp)\n",
    "        oodf = acr.oo_utils.enhance_oodf(oodf, full_hyps[subject], hyp_dicts[subject])\n",
    "        oodfs[subject] = oodf\n",
    "full_oodf = pl.concat(oodfs.values())\n",
    "off_means = full_oodf.group_by(['subject', 'probe', 'condition']).agg(pl.col('duration_rel').mean())"
   ]
  },
  {
   "cell_type": "code",
   "execution_count": null,
   "id": "c5e1ea2b",
   "metadata": {},
   "outputs": [],
   "source": [
    "from acr.sync import *\n",
    "# ____________________________SIMPLE CONDITION AVERAGES _____________________________\n",
    "#=====================================================================================\n",
    "raw_term_data = {}\n",
    "# -----------------------------------------------------------------------------------\n",
    "# ---------------------- OFF-Termination Slope ----------------------------------------\n",
    "# -----------------------------------------------------------------------------------\n",
    "cdn_dfs = [] # slope dataframes for each subject, condition, probe\n",
    "for subject in raw_lfps.keys():\n",
    "    raw_term_data[subject] = {}\n",
    "    for probe in ['NNXo', 'NNXr']:\n",
    "        print(subject, probe)\n",
    "        raw_term_data[subject][probe] = {}\n",
    "        data = raw_lfps[subject].prb(probe)\n",
    "        oodf = oodfs[subject].prb(probe)\n",
    "        for condition in COND_ORDER:\n",
    "            off_ends = oodf.cdn(condition)['end_datetime'].to_pandas()\n",
    "            if len(off_ends) == 0:\n",
    "                continue\n",
    "            term_data = select_data_around_times(off_ends, data, buffer=0.10)\n",
    "            raw_term_data[subject][probe][condition] = term_data\n",
    "            term_slopes = compute_slope_df(term_data, data.fs, find='min', window_length=15, polyorder=5, search_buffer=10)\n",
    "            term_slopes['condition'] = condition\n",
    "            term_slopes['probe'] = probe\n",
    "            term_slopes['subject'] = subject\n",
    "            cdn_dfs.append(term_slopes)\n",
    "        for full_bl_val in ['True']:\n",
    "            off_ends = oodf.filter(pl.col('full_bl')==full_bl_val)['end_datetime'].to_pandas()\n",
    "            if len(off_ends) == 0:\n",
    "                continue\n",
    "            term_data = select_data_around_times(off_ends, data, buffer=0.10)\n",
    "            raw_term_data[subject][probe]['full_bl'] = term_data\n",
    "            term_slopes = compute_slope_df(term_data, data.fs, find='min', window_length=15, polyorder=5, search_buffer=10)\n",
    "            term_slopes['condition'] = 'full_bl'\n",
    "            term_slopes['probe'] = probe\n",
    "            term_slopes['subject'] = subject\n",
    "            cdn_dfs.append(term_slopes)\n",
    "all_term_slopes = pd.concat(cdn_dfs)\n",
    "all_term_slopes['chan_str'] = all_term_slopes['channel'].astype(str)\n",
    "\n",
    "# -----------------------------------------------------------------------------------\n",
    "# ---------------------- OFF-Initiation Slope ----------------------------------------\n",
    "# -----------------------------------------------------------------------------------\n",
    "raw_init_data = {}\n",
    "cdn_dfs = [] # slope dataframes for each subject, condition, probe\n",
    "for subject in raw_lfps.keys():\n",
    "    raw_init_data[subject] = {}\n",
    "    for probe in ['NNXo', 'NNXr']:\n",
    "        raw_init_data[subject][probe] = {}\n",
    "        data = raw_lfps[subject].prb(probe)\n",
    "        oodf = oodfs[subject].prb(probe)\n",
    "        for condition in COND_ORDER:\n",
    "            off_starts = oodf.cdn(condition)['start_datetime'].to_pandas()\n",
    "            if len(off_starts) == 0:\n",
    "                continue\n",
    "            init_data = select_data_around_times(off_starts, data, buffer=0.10)\n",
    "            raw_init_data[subject][probe][condition] = init_data\n",
    "            init_slopes = compute_slope_df(init_data, data.fs, find='max', window_length=15, polyorder=5, search_buffer=10)\n",
    "            init_slopes['condition'] = condition\n",
    "            init_slopes['probe'] = probe\n",
    "            init_slopes['subject'] = subject\n",
    "            cdn_dfs.append(init_slopes)\n",
    "        for full_bl_val in ['True']:\n",
    "            off_starts = oodf.filter(pl.col('full_bl')==full_bl_val)['start_datetime'].to_pandas()\n",
    "            if len(off_starts) == 0:\n",
    "                continue\n",
    "            init_data = select_data_around_times(off_starts, data, buffer=0.10)\n",
    "            raw_init_data[subject][probe]['full_bl'] = init_data\n",
    "            init_slopes = compute_slope_df(init_data, data.fs, find='max', window_length=15, polyorder=5, search_buffer=10)\n",
    "            init_slopes['condition'] = 'full_bl'\n",
    "            init_slopes['probe'] = probe\n",
    "            init_slopes['subject'] = subject\n",
    "            cdn_dfs.append(init_slopes)\n",
    "all_init_slopes = pd.concat(cdn_dfs)\n",
    "all_init_slopes['chan_str'] = all_init_slopes['channel'].astype(str)"
   ]
  },
  {
   "cell_type": "code",
   "execution_count": null,
   "id": "d4a6932b",
   "metadata": {},
   "outputs": [],
   "source": [
    "# ____________________________CONDITION x DURATION AVERAGES _____________________________\n",
    "#=====================================================================================\n",
    "dur_buckets = np.arange(0.05, 0.22, 0.02)\n",
    "\n",
    "# -----------------------------------------------------------------------------------\n",
    "# ---------------------- OFF-Termination Slope ----------------------------------------\n",
    "# -----------------------------------------------------------------------------------\n",
    "cdn_dfs = [] # slope dataframes for each subject, condition, probe\n",
    "for subject in raw_lfps.keys():\n",
    "    for probe in ['NNXo', 'NNXr']:\n",
    "        data = raw_lfps[subject].prb(probe)\n",
    "        oodf = oodfs[subject].prb(probe)\n",
    "        for condition in COND_ORDER:\n",
    "            for dur_edge in dur_buckets:\n",
    "                off_starts = oodf.cdn(condition).filter((pl.col('duration')>=dur_edge)&(pl.col('duration')<dur_edge+0.02))['end_datetime'].to_pandas()\n",
    "                if len(off_starts) == 0:\n",
    "                    continue\n",
    "                term_data = select_data_around_times(off_starts, data, buffer=0.10)\n",
    "                term_slopes = compute_slope_df(term_data, data.fs, find='min', window_length=15, polyorder=5, search_buffer=10)\n",
    "                term_slopes['condition'] = condition\n",
    "                term_slopes['probe'] = probe\n",
    "                term_slopes['subject'] = subject\n",
    "                term_slopes['duration'] = dur_edge\n",
    "                term_slopes['n_offs'] = len(off_starts)\n",
    "                cdn_dfs.append(term_slopes)\n",
    "        for full_bl_val in ['True']:\n",
    "            for dur_edge in dur_buckets:\n",
    "                off_starts = oodf.filter(pl.col('full_bl')==full_bl_val).filter((pl.col('duration')>=dur_edge)&(pl.col('duration')<dur_edge+0.02))['end_datetime'].to_pandas()\n",
    "                if len(off_starts) == 0:\n",
    "                    continue\n",
    "                term_data = select_data_around_times(off_starts, data, buffer=0.10)\n",
    "                term_slopes = compute_slope_df(term_data, data.fs, find='min', window_length=15, polyorder=5, search_buffer=10)\n",
    "                term_slopes['condition'] = 'full_bl'\n",
    "                term_slopes['probe'] = probe\n",
    "                term_slopes['subject'] = subject\n",
    "                term_slopes['duration'] = dur_edge\n",
    "                term_slopes['n_offs'] = len(off_starts)\n",
    "                cdn_dfs.append(term_slopes)\n",
    "term_dur_slopes = pd.concat(cdn_dfs)\n",
    "term_dur_slopes['chan_str'] = term_dur_slopes['channel'].astype(str)\n",
    "\n",
    "\n",
    "# -----------------------------------------------------------------------------------\n",
    "# ---------------------- OFF-Initiation Slope ----------------------------------------\n",
    "# -----------------------------------------------------------------------------------\n",
    "cdn_dfs = [] # slope dataframes for each subject, condition, probe\n",
    "for subject in raw_lfps.keys():\n",
    "    for probe in ['NNXo', 'NNXr']:\n",
    "        data = raw_lfps[subject].prb(probe)\n",
    "        oodf = oodfs[subject].prb(probe)\n",
    "        for condition in COND_ORDER:\n",
    "            for dur_edge in dur_buckets:\n",
    "                off_starts = oodf.cdn(condition).filter((pl.col('duration')>=dur_edge)&(pl.col('duration')<dur_edge+0.02))['start_datetime'].to_pandas()\n",
    "                if len(off_starts) == 0:\n",
    "                    continue\n",
    "                init_data = select_data_around_times(off_starts, data, buffer=0.10)\n",
    "                init_slopes = compute_slope_df(init_data, data.fs, find='max', window_length=15, polyorder=5, search_buffer=10)\n",
    "                init_slopes['condition'] = condition\n",
    "                init_slopes['probe'] = probe\n",
    "                init_slopes['subject'] = subject\n",
    "                init_slopes['duration'] = dur_edge\n",
    "                init_slopes['n_offs'] = len(off_starts)\n",
    "                cdn_dfs.append(init_slopes)\n",
    "        for full_bl_val in ['True']:\n",
    "            for dur_edge in dur_buckets:\n",
    "                off_starts = oodf.filter(pl.col('full_bl')==full_bl_val).filter((pl.col('duration')>=dur_edge)&(pl.col('duration')<dur_edge+0.02))['start_datetime'].to_pandas()\n",
    "                if len(off_starts) == 0:\n",
    "                    continue\n",
    "                init_data = select_data_around_times(off_starts, data, buffer=0.10)\n",
    "                init_slopes = compute_slope_df(init_data, data.fs, find='max', window_length=15, polyorder=5, search_buffer=10)\n",
    "                init_slopes['condition'] = 'full_bl'\n",
    "                init_slopes['probe'] = probe\n",
    "                init_slopes['subject'] = subject\n",
    "                init_slopes['duration'] = dur_edge\n",
    "                init_slopes['n_offs'] = len(off_starts)\n",
    "                cdn_dfs.append(init_slopes)\n",
    "init_dur_slopes = pd.concat(cdn_dfs)\n",
    "init_dur_slopes['chan_str'] = init_dur_slopes['channel'].astype(str)"
   ]
  },
  {
   "cell_type": "code",
   "execution_count": null,
   "id": "99d984d1",
   "metadata": {},
   "outputs": [],
   "source": [
    "term_slopes = relativize_slope_df_to_condition(all_term_slopes, 'full_bl', on=['subject', 'probe', 'channel'])\n",
    "init_slopes = relativize_slope_df_to_condition(all_init_slopes, 'full_bl', on=['subject', 'probe', 'channel'])"
   ]
  },
  {
   "cell_type": "code",
   "execution_count": null,
   "id": "f82a1b28",
   "metadata": {},
   "outputs": [],
   "source": [
    "dur_term_slopes = relativize_slope_df_to_condition(term_dur_slopes, 'full_bl', on=['subject', 'probe', 'channel', 'duration'])\n",
    "dur_init_slopes = relativize_slope_df_to_condition(init_dur_slopes, 'full_bl', on=['subject', 'probe', 'channel', 'duration'])"
   ]
  },
  {
   "cell_type": "markdown",
   "id": "458b5c00",
   "metadata": {},
   "source": [
    "# Initiation and Termination Slopes"
   ]
  },
  {
   "cell_type": "code",
   "execution_count": null,
   "id": "e7c9c222",
   "metadata": {},
   "outputs": [],
   "source": [
    "# obvious outlier/artifactual channels for exclusions\n",
    "scd = {}\n",
    "#scd['ACR_29'] = [16]\n",
    "#scd['ACR_37'] = [14, 15, 16]\n",
    "#scd['ACR_41'] = [1, 2]\n",
    "# ============================="
   ]
  },
  {
   "cell_type": "code",
   "execution_count": null,
   "id": "3f0b8b01",
   "metadata": {},
   "outputs": [],
   "source": [
    "plt.rcdefaults()\n",
    "acr.plots.lrg()\n",
    "plt.rcParams['xtick.bottom'] = False"
   ]
  },
  {
   "cell_type": "code",
   "execution_count": null,
   "id": "a1ce0199",
   "metadata": {},
   "outputs": [],
   "source": [
    "reb_init = init_slopes.cdn('rebound')\n",
    "\n",
    "for subject in reb_init['subject'].unique():\n",
    "    reb_init = pu.add_layer_info_to_df(reb_init, subject)\n",
    "\n",
    "reb_init = pu.drop_sub_channels(reb_init, scd)\n",
    "\n",
    "init_probe_means = reb_init.groupby(['subject', 'probe']).slope_rel.mean().to_frame()\n",
    "init_probe_means.reset_index(inplace=True)\n",
    "init_chan_means = reb_init.groupby(['subject', 'probe', 'channel']).slope_rel.mean().to_frame()\n",
    "init_chan_means.reset_index(inplace=True)\n",
    "init_layer_means = reb_init.groupby(['subject', 'probe', 'layer']).slope_rel.mean().to_frame()\n",
    "init_layer_means.reset_index(inplace=True)"
   ]
  },
  {
   "cell_type": "code",
   "execution_count": null,
   "id": "25781251",
   "metadata": {},
   "outputs": [],
   "source": [
    "reb_term = term_slopes.cdn('rebound')\n",
    "for subject in reb_term['subject'].unique():\n",
    "    reb_term = pu.add_layer_info_to_df(reb_term, subject)\n",
    "reb_term = pu.drop_sub_channels(reb_term, scd)\n",
    "term_probe_means = reb_term.groupby(['subject', 'probe']).slope_rel.mean().to_frame()\n",
    "term_probe_means.reset_index(inplace=True)\n",
    "term_chan_means = reb_term.groupby(['subject', 'probe', 'channel']).slope_rel.mean().to_frame()\n",
    "term_chan_means.reset_index(inplace=True)\n",
    "term_layer_means = reb_term.groupby(['subject', 'probe', 'layer']).slope_rel.mean().to_frame()\n",
    "term_layer_means.reset_index(inplace=True)"
   ]
  },
  {
   "cell_type": "code",
   "execution_count": null,
   "id": "d5cbabd4",
   "metadata": {},
   "outputs": [],
   "source": [
    "#channel-by-channel checks if needed\n",
    "g = sns.catplot(data=reb_init, x='channel', y='slope_rel', kind='bar', hue='probe', col='subject', col_wrap=2, height=4, aspect=3)\n",
    "g = sns.catplot(data=reb_term, x='channel', y='slope_rel', kind='bar', hue='probe', col='subject', col_wrap=2, height=4, aspect=3)"
   ]
  },
  {
   "cell_type": "code",
   "execution_count": null,
   "id": "c4670a66",
   "metadata": {},
   "outputs": [],
   "source": [
    "plt.rcdefaults()\n",
    "acr.plots.supl()"
   ]
  },
  {
   "cell_type": "code",
   "execution_count": null,
   "id": "0bf8d659",
   "metadata": {},
   "outputs": [],
   "source": [
    "nnxr = init_probe_means.prb('NNXr')['slope_rel'].values\n",
    "nnxo = init_probe_means.prb('NNXo')['slope_rel'].values\n",
    "\n",
    "fig_id = 'rebound-init-slope-all-chans'\n",
    "fig_name = f'{SUBJECT_TYPE}__{MAIN_EXP}__{fig_id}'\n",
    "fig_path = f'{notebook_figure_root}/{fig_name}.png'\n",
    "\n",
    "f, ax = plt.subplots(1, 1, figsize=(3.5, 4))\n",
    "f, ax = acr.plots.gen_paired_boxplot(nnxr, nnxo, ax=ax, colors=[NNXR_GRAY, MAIN_COLOR])\n",
    "print(ax.get_ylim())\n",
    "\n",
    "#ax.set_yticks([0.8, 1, 1.2])\n",
    "#ax.set_ylim(0.8, 1.26)\n",
    "ax.set_xticklabels(['Contra Control', 'Optrode'])\n",
    "f.savefig(fig_path, dpi=600, bbox_inches='tight', transparent=True)"
   ]
  },
  {
   "cell_type": "code",
   "execution_count": null,
   "id": "537d30ad",
   "metadata": {},
   "outputs": [],
   "source": [
    "# =============================\n",
    "# ========== STATS ============\n",
    "# =============================\n",
    "write = True\n",
    "\n",
    "diffs = nnxr - nnxo\n",
    "shap_stat, shap_p = shapiro(diffs) # test the paired differences for normality\n",
    "print(f'shapiro_p-value: {shap_p}')\n",
    "#stats = pg.wilcoxon(nnxr, nnxo)\n",
    "stats = pg.ttest(nnxr, nnxo, paired=True)\n",
    "hg = pg.compute_effsize(nnxr, nnxo, paired=True, eftype='hedges')\n",
    "print(f'hedges g: {hg}')\n",
    "#r = acr.stats.calculate_wilx_r(stats['W-val'][0], len(nnxr))\n",
    "if write:\n",
    "    stats_name = fig_name\n",
    "    acr.stats.write_stats_result(stats_name, 'paired_ttest', stats['T'][0], stats['p-val'][0], 'g', [hg])\n",
    "    \n",
    "    # ===== Write Source Data =====\n",
    "    source_data = pd.DataFrame({'contra_control': nnxr, 'off_induction': nnxo, 'subject': np.arange(len(nnxr))})\n",
    "    pu.write_source_data(source_data, stats_name)\n",
    "stats"
   ]
  },
  {
   "cell_type": "code",
   "execution_count": null,
   "id": "49d5ed4e",
   "metadata": {},
   "outputs": [],
   "source": [
    "rnorm = nnxr/nnxr\n",
    "onorm = nnxo/nnxr\n",
    "\n",
    "fig_id = 'rebound-init-slope-all-chans-NORMALIZED'\n",
    "fig_name = f'{SUBJECT_TYPE}__{MAIN_EXP}__{fig_id}'\n",
    "fig_path = f'{notebook_figure_root}/{fig_name}.png'\n",
    "\n",
    "f, ax = plt.subplots(1, 1, figsize=(3.5, 4))\n",
    "f, ax = acr.plots.gen_paired_boxplot(rnorm, onorm, ax=ax, colors=[NNXR_GRAY, MAIN_COLOR], one_sided=True)\n",
    "print(ax.get_ylim())\n",
    "\n",
    "f.savefig(fig_path, dpi=600, bbox_inches='tight', transparent=True)\n"
   ]
  },
  {
   "cell_type": "code",
   "execution_count": null,
   "id": "7e8464e6",
   "metadata": {},
   "outputs": [],
   "source": [
    "nnxr = term_probe_means.prb('NNXr')['slope_rel'].values\n",
    "nnxo = term_probe_means.prb('NNXo')['slope_rel'].values\n",
    "\n",
    "fig_id = 'rebound-term-slope-all-chans'\n",
    "fig_name = f'{SUBJECT_TYPE}__{MAIN_EXP}__{fig_id}'\n",
    "fig_path = f'{notebook_figure_root}/{fig_name}.png'\n",
    "\n",
    "f, ax = plt.subplots(1, 1, figsize=(3.5, 4))\n",
    "f, ax = acr.plots.gen_paired_boxplot(nnxr, nnxo, ax=ax, colors=[NNXR_GRAY, MAIN_COLOR])\n",
    "print(ax.get_ylim())\n",
    "\n",
    "ax.set_xticklabels(['Contra Control', 'Optrode'])\n",
    "f.savefig(fig_path, dpi=600, bbox_inches='tight', transparent=True)"
   ]
  },
  {
   "cell_type": "code",
   "execution_count": null,
   "id": "740b5d2e",
   "metadata": {},
   "outputs": [],
   "source": [
    "# =============================\n",
    "# ========== STATS ============\n",
    "# =============================\n",
    "write = True\n",
    "\n",
    "diffs = nnxr - nnxo\n",
    "shap_stat, shap_p = shapiro(diffs) # test the paired differences for normality\n",
    "print(f'shapiro_p-value: {shap_p}')\n",
    "stats = pg.ttest(nnxr, nnxo, paired=True)\n",
    "hg = pg.compute_effsize(nnxr, nnxo, paired=True, eftype='hedges')\n",
    "print(f'hedges g: {hg}')\n",
    "#r = acr.stats.calculate_wilx_r(stats['W-val'][0], len(nnxr))\n",
    "if write:\n",
    "    stats_name = fig_name\n",
    "    acr.stats.write_stats_result(stats_name, 'paired_ttest', stats['T'][0], stats['p-val'][0], 'g', [hg])\n",
    "    \n",
    "    # ===== Write Source Data =====\n",
    "    source_data = pd.DataFrame({'contra_control': nnxr, 'off_induction': nnxo, 'subject': np.arange(len(nnxr))})\n",
    "    pu.write_source_data(source_data, stats_name)\n",
    "stats"
   ]
  },
  {
   "cell_type": "code",
   "execution_count": null,
   "id": "e93c1d8b",
   "metadata": {},
   "outputs": [],
   "source": [
    "rnorm = nnxr/nnxr\n",
    "onorm = nnxo/nnxr\n",
    "\n",
    "fig_id = 'rebound-term-slope-all-chans-NORMALIZED'\n",
    "fig_name = f'{SUBJECT_TYPE}__{MAIN_EXP}__{fig_id}'\n",
    "fig_path = f'{notebook_figure_root}/{fig_name}.png'\n",
    "\n",
    "f, ax = plt.subplots(1, 1, figsize=(3.5, 4))\n",
    "f, ax = acr.plots.gen_paired_boxplot(rnorm, onorm, ax=ax, colors=[NNXR_GRAY, MAIN_COLOR], one_sided=True)\n",
    "print(ax.get_ylim())\n",
    "\n",
    "\n",
    "ax.set_xticklabels(['Contra Control', 'Optrode'])\n",
    "f.savefig(fig_path, dpi=600, bbox_inches='tight', transparent=True)\n",
    "ax.get_ylim()"
   ]
  },
  {
   "cell_type": "markdown",
   "id": "e277bca7",
   "metadata": {},
   "source": [
    "# Peaks and Troughs"
   ]
  },
  {
   "cell_type": "code",
   "execution_count": null,
   "id": "ac29542b",
   "metadata": {},
   "outputs": [],
   "source": [
    "scd = {}\n",
    "scd['ACR_42'] = [4]"
   ]
  },
  {
   "cell_type": "code",
   "execution_count": null,
   "id": "31898709",
   "metadata": {},
   "outputs": [],
   "source": [
    "# ____________________________SIMPLE CONDITION AVERAGES _____________________________\n",
    "#=====================================================================================\n",
    "\n",
    "# -----------------------------------------------------------------------------------\n",
    "# ---------------------- OFF-Termination Slope ----------------------------------------\n",
    "# -----------------------------------------------------------------------------------\n",
    "peak_dfs = [] # peak dataframes for each subject, condition, probe\n",
    "trough_dfs = []\n",
    "raw_peak_data = {}\n",
    "raw_trough_data = {}\n",
    "for subject in raw_lfps.keys():\n",
    "    raw_peak_data[subject] = {}\n",
    "    raw_trough_data[subject] = {}\n",
    "    for probe in ['NNXo', 'NNXr']:\n",
    "        raw_peak_data[subject][probe] = {}\n",
    "        raw_trough_data[subject][probe] = {}\n",
    "        data = raw_lfps[subject].prb(probe)\n",
    "        oodf = oodfs[subject].prb(probe)\n",
    "        for condition in COND_ORDER:\n",
    "            off_ends = oodf.cdn(condition)['end_datetime'].to_pandas()\n",
    "            off_durs = oodf.cdn(condition)['duration'].to_pandas()\n",
    "            off_starts = oodf.cdn(condition)['start_datetime'].to_pandas()\n",
    "            if len(off_ends) == 0:\n",
    "                continue\n",
    "            term_data = select_data_around_times(off_ends, data, buffer=0.06)\n",
    "            raw_trough_data[subject][probe][condition] = term_data\n",
    "            trough_df = compute_trough_df(term_data, data.fs)\n",
    "            trough_df['condition'] = condition\n",
    "            trough_df['probe'] = probe\n",
    "            trough_df['subject'] = subject\n",
    "            trough_dfs.append(trough_df)\n",
    "\n",
    "            peak_data = select_data_for_peaks(off_starts, off_durs, data, buffer=0.06)\n",
    "            raw_peak_data[subject][probe][condition] = peak_data\n",
    "            peak_df = compute_peak_df(peak_data)\n",
    "            peak_df['condition'] = condition\n",
    "            peak_df['probe'] = probe\n",
    "            peak_df['subject'] = subject\n",
    "            peak_dfs.append(peak_df)\n",
    "        \n",
    "        \n",
    "        for full_bl_val in ['True']:\n",
    "            off_ends = oodf.filter(pl.col('full_bl')==full_bl_val)['end_datetime'].to_pandas()\n",
    "            off_durs = oodf.filter(pl.col('full_bl')==full_bl_val)['duration'].to_pandas()\n",
    "            off_starts = oodf.filter(pl.col('full_bl')==full_bl_val)['start_datetime'].to_pandas()\n",
    "            if len(off_ends) == 0:\n",
    "                continue\n",
    "            term_data = select_data_around_times(off_ends, data, buffer=0.06)\n",
    "            raw_trough_data[subject][probe]['full_bl'] = term_data\n",
    "            trough_df = compute_trough_df(term_data, data.fs)\n",
    "            trough_df['condition'] = 'full_bl'\n",
    "            trough_df['probe'] = probe\n",
    "            trough_df['subject'] = subject\n",
    "            trough_dfs.append(trough_df)\n",
    "\n",
    "            peak_data = select_data_for_peaks(off_starts, off_durs, data, buffer=0.06)\n",
    "            raw_peak_data[subject][probe]['full_bl'] = peak_data\n",
    "            peak_df = compute_peak_df(peak_data)\n",
    "            peak_df['condition'] = 'full_bl'\n",
    "            peak_df['probe'] = probe\n",
    "            peak_df['subject'] = subject\n",
    "            peak_dfs.append(peak_df)\n",
    "\n",
    "trough_df = pd.concat(trough_dfs)\n",
    "trough_df['chan_str'] = trough_df['channel'].astype(str)\n",
    "\n",
    "peak_df = pd.concat(peak_dfs)\n",
    "peak_df['chan_str'] = peak_df['channel'].astype(str)"
   ]
  },
  {
   "cell_type": "code",
   "execution_count": null,
   "id": "063b1517",
   "metadata": {},
   "outputs": [],
   "source": [
    "tdf = relativize_slope_df_to_condition(trough_df, 'full_bl', on=['subject', 'probe', 'channel'], col_to_rel='trough')\n",
    "pdf = relativize_slope_df_to_condition(peak_df, 'full_bl', on=['subject', 'probe', 'channel'], col_to_rel='peak')"
   ]
  },
  {
   "cell_type": "code",
   "execution_count": null,
   "id": "7f6cc6a7",
   "metadata": {},
   "outputs": [],
   "source": [
    "reb_peaks = pdf.cdn('rebound')\n",
    "reb_peaks = pu.drop_sub_channels(reb_peaks, scd)\n",
    "for subject in reb_peaks['subject'].unique():\n",
    "    reb_peaks = pu.add_layer_info_to_df(reb_peaks, subject)\n",
    "\n",
    "reb_peaks_probe = reb_peaks.groupby(['subject', 'probe']).peak_rel.mean().to_frame().reset_index()\n",
    "reb_peaks_channel = reb_peaks.groupby(['subject', 'probe', 'channel']).peak_rel.mean().to_frame().reset_index()\n",
    "reb_peaks_layer = reb_peaks.groupby(['subject', 'probe', 'layer']).peak_rel.mean().to_frame().reset_index()"
   ]
  },
  {
   "cell_type": "code",
   "execution_count": null,
   "id": "23f19551",
   "metadata": {},
   "outputs": [],
   "source": [
    "reb_troughs = tdf.cdn('rebound')\n",
    "reb_troughs = pu.drop_sub_channels(reb_troughs, scd)\n",
    "for subject in reb_troughs['subject'].unique():\n",
    "    reb_troughs = pu.add_layer_info_to_df(reb_troughs, subject)\n",
    "reb_troughs_probe = reb_troughs.groupby(['subject', 'probe']).trough_rel.mean().to_frame().reset_index()\n",
    "reb_troughs_channel = reb_troughs.groupby(['subject', 'probe', 'channel']).trough_rel.mean().to_frame().reset_index()\n",
    "reb_troughs_layer = reb_troughs.groupby(['subject', 'probe', 'layer']).trough_rel.mean().to_frame().reset_index()"
   ]
  },
  {
   "cell_type": "code",
   "execution_count": null,
   "id": "e5e28322",
   "metadata": {},
   "outputs": [],
   "source": [
    "g = sns.catplot(data=reb_peaks, x='channel', y='peak_rel', hue='probe', kind='bar', col='subject', col_wrap=2, height=4, aspect=3)\n",
    "g = sns.catplot(data=reb_troughs, x='channel', y='trough_rel', hue='probe', kind='bar', col='subject', col_wrap=2, height=4, aspect=3)"
   ]
  },
  {
   "cell_type": "code",
   "execution_count": null,
   "id": "8d595220",
   "metadata": {},
   "outputs": [],
   "source": [
    "nnxr = reb_peaks_probe.prb('NNXr')['peak_rel'].values\n",
    "nnxo = reb_peaks_probe.prb('NNXo')['peak_rel'].values\n",
    "\n",
    "fig_id = 'rebound-peak_amplitude-all-chans'\n",
    "fig_name = f'{SUBJECT_TYPE}__{MAIN_EXP}__{fig_id}'\n",
    "fig_path = f'{notebook_figure_root}/{fig_name}.png'\n",
    "\n",
    "f, ax = plt.subplots(1, 1, figsize=(3.5, 4))\n",
    "f, ax = acr.plots.gen_paired_boxplot(nnxr, nnxo, ax=ax, colors=[NNXR_GRAY, MAIN_COLOR])\n",
    "print(ax.get_ylim())\n",
    "ax.set_xticklabels(['Contra Control', 'Optrode'])\n",
    "f.savefig(fig_path, dpi=600, bbox_inches='tight', transparent=True)"
   ]
  },
  {
   "cell_type": "code",
   "execution_count": null,
   "id": "466d689b",
   "metadata": {},
   "outputs": [],
   "source": [
    "# =============================\n",
    "# ========== STATS ============\n",
    "# =============================\n",
    "write = True\n",
    "\n",
    "diffs = nnxr - nnxo\n",
    "shap_stat, shap_p = shapiro(diffs) # test the paired differences for normality\n",
    "print(f'shapiro_p-value: {shap_p}')\n",
    "stats = pg.ttest(nnxr, nnxo, paired=True)\n",
    "hg = pg.compute_effsize(nnxr, nnxo, paired=True, eftype='hedges')\n",
    "print(f'hedges g: {hg}')\n",
    "\n",
    "if write:\n",
    "    stats_name = fig_name\n",
    "    acr.stats.write_stats_result(stats_name, 'paired-ttest', stats['T'][0], stats['p-val'][0], 'g', hg)\n",
    "    # ===== Write Source Data =====\n",
    "    source_data = pd.DataFrame({'contra_control': nnxr, 'off_induction': nnxo, 'subject': np.arange(len(nnxr))})\n",
    "    pu.write_source_data(source_data, stats_name)\n",
    "stats"
   ]
  },
  {
   "cell_type": "code",
   "execution_count": null,
   "id": "48bb7a46",
   "metadata": {},
   "outputs": [],
   "source": [
    "rnorm = nnxr/nnxr\n",
    "onorm = nnxo/nnxr\n",
    "\n",
    "fig_id = 'rebound-peak-amplitude-all-chans-NORMALIZED'\n",
    "fig_name = f'{SUBJECT_TYPE}__{MAIN_EXP}__{fig_id}'\n",
    "fig_path = f'{notebook_figure_root}/{fig_name}.png'\n",
    "\n",
    "f, ax = plt.subplots(1, 1, figsize=(3.5, 4))\n",
    "f, ax = acr.plots.gen_paired_boxplot(rnorm, onorm, ax=ax, colors=[NNXR_GRAY, MAIN_COLOR], one_sided=True)\n",
    "print(ax.get_ylim())\n",
    "ax.set_xticklabels(['Contra Control', 'Optrode'])\n",
    "f.savefig(fig_path, dpi=600, bbox_inches='tight', transparent=True)"
   ]
  },
  {
   "cell_type": "markdown",
   "id": "e91b2490",
   "metadata": {},
   "source": [
    "# Plot direct Potentials"
   ]
  },
  {
   "cell_type": "code",
   "execution_count": null,
   "id": "329c6155",
   "metadata": {},
   "outputs": [],
   "source": [
    "from scipy.stats import sem"
   ]
  },
  {
   "cell_type": "code",
   "execution_count": null,
   "id": "c65df5d1",
   "metadata": {},
   "outputs": [],
   "source": [
    "sub = 'ACR_48'\n",
    "probe = 'NNXr'\n",
    "cond = 'full_bl'\n",
    "rd = raw_peak_data[sub][probe][cond]\n",
    "mrd = rd.mean(axis=2)\n",
    "idf = compute_peak_df(rd)\n",
    "sems = sem(rd, axis=2)\n",
    "half = mrd.shape[1]//2"
   ]
  },
  {
   "cell_type": "code",
   "execution_count": null,
   "id": "be2109e1",
   "metadata": {},
   "outputs": [],
   "source": [
    "mrd.shape"
   ]
  },
  {
   "cell_type": "code",
   "execution_count": null,
   "id": "abf1619f",
   "metadata": {},
   "outputs": [],
   "source": [
    "f, axs = kde.plot.main.atomic_lfp(mrd, times=None, figsize=(6, 18), hspace=-0.7, sems=sems)\n",
    "for chan in np.arange(1, 17):\n",
    "    axn = axs[chan-1]\n",
    "    axn.axvline(x=half, color='k', linestyle='--')\n",
    "    position = idf.loc[idf['channel']==chan]['peak_position'].values[0]\n",
    "    rel_position = half+position\n",
    "    axn.axvline(x=rel_position, color='r', linestyle='--')"
   ]
  },
  {
   "cell_type": "code",
   "execution_count": null,
   "id": "e47145a4",
   "metadata": {},
   "outputs": [],
   "source": [
    "compute_slope_df()"
   ]
  },
  {
   "cell_type": "code",
   "execution_count": null,
   "id": "536a08f7",
   "metadata": {},
   "outputs": [],
   "source": [
    "rd.shape"
   ]
  },
  {
   "cell_type": "code",
   "execution_count": null,
   "id": "58e8e1d6",
   "metadata": {},
   "outputs": [],
   "source": [
    "sub = 'ACR_30'\n",
    "probe = 'NNXo'\n",
    "cond = 'rebound'\n",
    "fs = raw_lfps[sub].fs\n",
    "rd = raw_init_data[sub][probe][cond]\n",
    "sems = sem(rd, axis=2)\n",
    "mrd = rd.mean(axis=2)\n",
    "idf = compute_slope_df(rd, fs, find='max', search_buffer=10)\n",
    "half = rd.shape[1]/2"
   ]
  },
  {
   "cell_type": "code",
   "execution_count": null,
   "id": "6012d691",
   "metadata": {},
   "outputs": [],
   "source": [
    "f, axs = kde.plot.main.atomic_lfp(mrd, times=None, figsize=(6, 18), hspace=-0.7, sems=sems)\n",
    "for chan in np.arange(1, 17):\n",
    "    axn = axs[chan-1]\n",
    "    axn.axvline(x=half, color='k', linestyle='--')\n",
    "    position = idf.loc[idf['channel']==chan]['extrema_rel_position'].values[0]\n",
    "    rel_position = half+position\n",
    "    axn.axvline(x=rel_position, color='r', linestyle='--')\n",
    "    axn.set_xlim(half-15, half+15)"
   ]
  }
 ],
 "metadata": {
  "kernelspec": {
   "display_name": "off_ind",
   "language": "python",
   "name": "python3"
  },
  "language_info": {
   "codemirror_mode": {
    "name": "ipython",
    "version": 3
   },
   "file_extension": ".py",
   "mimetype": "text/x-python",
   "name": "python",
   "nbconvert_exporter": "python",
   "pygments_lexer": "ipython3",
   "version": "3.12.10"
  }
 },
 "nbformat": 4,
 "nbformat_minor": 5
}
