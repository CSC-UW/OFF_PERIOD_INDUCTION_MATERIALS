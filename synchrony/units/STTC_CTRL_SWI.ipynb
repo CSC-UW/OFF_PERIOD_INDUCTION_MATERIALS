{
 "cells": [
  {
   "cell_type": "code",
   "execution_count": null,
   "metadata": {},
   "outputs": [],
   "source": [
    "from acr.utils import SOM_BLUE, NNXR_GRAY, CTRL_BLUE\n",
    "\n",
    "MAIN_EXP = 'swi'\n",
    "SUBJECT_TYPE = 'control'\n",
    "MAIN_COLOR = CTRL_BLUE"
   ]
  },
  {
   "cell_type": "code",
   "execution_count": null,
   "metadata": {},
   "outputs": [],
   "source": [
    "import numpy as np\n",
    "import matplotlib as mpl\n",
    "from matplotlib.colors import ListedColormap\n",
    "\n",
    "def modified_coolwarm_low(low=\"#1a9850\", *, N=256, name=\"coolgreen\"):\n",
    "    \"\"\"\n",
    "    Return a version of 'coolwarm' where the *lower* half fades\n",
    "    into `low` (instead of blue).\n",
    "\n",
    "    Parameters\n",
    "    ----------\n",
    "    low : str or tuple\n",
    "        Target low-end colour (e.g. \"#1a9850\" for green).\n",
    "    N : int\n",
    "        Number of discrete samples pulled from the base map (256 by default).\n",
    "    name : str\n",
    "        Name given to the resulting colormap object.\n",
    "\n",
    "    Returns\n",
    "    -------\n",
    "    matplotlib.colors.ListedColormap\n",
    "    \"\"\"\n",
    "    base = mpl.cm.get_cmap(\"coolwarm\", N)           # original map, N samples\n",
    "    colors = base(np.linspace(0, 1, N))             # RGBA array, shape (N,4)\n",
    "    mid = N // 2                                    # neutral grey index\n",
    "    lo_rgba = mpl.colors.to_rgba(low)\n",
    "\n",
    "    # Replace the lower half [0 : mid] with a linear blend: `low` → mid-grey\n",
    "    t = np.linspace(0, 1, mid + 1)[:, None]         # 0 → 1 from low to centre\n",
    "    colors[:mid + 1] = (1 - t) * lo_rgba + t * colors[mid]\n",
    "\n",
    "    return ListedColormap(colors, name=name)"
   ]
  },
  {
   "cell_type": "code",
   "execution_count": null,
   "metadata": {},
   "outputs": [],
   "source": [
    "\n",
    "#-------------------------- Standard Imports --------------------------#\n",
    "%reload_ext autoreload\n",
    "%autoreload 2\n",
    "import pandas as pd\n",
    "import polars as pl\n",
    "import matplotlib.pyplot as plt\n",
    "import seaborn as sns\n",
    "import acr\n",
    "import pingouin as pg\n",
    "from scipy.stats import shapiro, normaltest\n",
    "import numpy as np\n",
    "import kdephys as kde\n",
    "\n",
    "import warnings\n",
    "warnings.filterwarnings('ignore')\n",
    "\n",
    "from cmcrameri import cm as scm\n",
    "\n",
    "probe_ord = ['NNXr', 'NNXo']\n",
    "hue_ord = [NNXR_GRAY, MAIN_COLOR]\n",
    "\n",
    "from acr.plots import lrg\n",
    "plt.rcdefaults()\n",
    "lrg()\n",
    "plt.rcParams['xtick.bottom'] = False\n",
    "#--------------------------------- Import Publication Functions ---------------------------------#\n",
    "pu = acr.utils.import_publication_functions('/home/kdriessen/gh_master/PUBLICATION__ACR/pub_utils.py', 'pub_utils')\n",
    "dag = acr.utils.import_publication_functions('/home/kdriessen/gh_master/PUBLICATION__ACR/data_agg.py', 'data_agg')\n",
    "from acr.utils import *"
   ]
  },
  {
   "cell_type": "code",
   "execution_count": null,
   "metadata": {},
   "outputs": [],
   "source": [
    "subjects, exps = pu.get_subject_list(type=SUBJECT_TYPE, exp=MAIN_EXP)"
   ]
  },
  {
   "cell_type": "code",
   "execution_count": null,
   "metadata": {},
   "outputs": [],
   "source": [
    "notebook_figure_root = f'{pu.PAPER_FIGURE_ROOT}/synchrony/sttc'"
   ]
  },
  {
   "cell_type": "code",
   "execution_count": null,
   "metadata": {},
   "outputs": [],
   "source": [
    "muas = {}\n",
    "for subject, exp in zip(subjects, exps):\n",
    "        mua = acr.mua.load_concat_peaks_df(subject, exp)\n",
    "        muas[subject] = mua"
   ]
  },
  {
   "cell_type": "code",
   "execution_count": null,
   "metadata": {},
   "outputs": [],
   "source": [
    "full_hyps = {}\n",
    "hyp_dicts = {}\n",
    "for subject, exp in zip(subjects, exps):\n",
    "    full_hyps[subject] = acr.io.load_hypno_full_exp(subject, exp)\n",
    "    hyp_dicts[subject] = acr.hypnogram_utils.create_acr_hyp_dict(subject, exp, true_stim=True, duration='3600s')"
   ]
  },
  {
   "cell_type": "code",
   "execution_count": null,
   "metadata": {},
   "outputs": [],
   "source": [
    "bmtx = {}\n",
    "for subject in muas.keys():\n",
    "    bmtx[subject] = {}\n",
    "    for condition in ['early_bl', 'circ_bl', 'stim', 'rebound']:\n",
    "        print(subject, condition)\n",
    "        hypno_to_use = hyp_dicts[subject][condition]\n",
    "        bmtx[subject][condition] = acr.sync.dual_probe_sttc(muas[subject], hypno_to_use, delta_ms=5)"
   ]
  },
  {
   "cell_type": "code",
   "execution_count": null,
   "metadata": {},
   "outputs": [],
   "source": [
    "for subject in muas.keys():\n",
    "    hypno_to_use = acr.hypnogram_utils.get_full_bl_hypno(full_hyps[subject], state='NREM')\n",
    "    bmtx[subject]['full_bl'] = acr.sync.dual_probe_sttc(muas[subject], hypno_to_use, delta_ms=5)"
   ]
  },
  {
   "cell_type": "code",
   "execution_count": null,
   "metadata": {},
   "outputs": [],
   "source": [
    "nan_out_chans = False\n",
    "scd = {}\n",
    "scd['ACR_37'] = [3, 15]\n",
    "scd['ACR_35'] = [3]\n",
    "scd['ACR_29'] = [0, 1]\n",
    "conds = ['rebound', 'full_bl', 'early_bl', 'circ_bl', 'stim']\n",
    "if nan_out_chans:\n",
    "    for subject in scd.keys():\n",
    "        for probe in ['NNXo', 'NNXr']:\n",
    "            for condition in conds:\n",
    "                old_dat = bmtx[subject][condition][probe]\n",
    "                new_dat = acr.sync.mask_bad_channels(old_dat, scd[subject])\n",
    "                bmtx[subject][condition][probe] = new_dat"
   ]
  },
  {
   "cell_type": "code",
   "execution_count": null,
   "metadata": {},
   "outputs": [],
   "source": [
    "mtx_avgs = []\n",
    "for subject in bmtx.keys():\n",
    "    for cond in bmtx[subject].keys():\n",
    "        for probe in bmtx[subject][cond].keys():\n",
    "            for i, bout_mat in enumerate(bmtx[subject][cond][probe]):\n",
    "                avg = np.nanmean(bout_mat)\n",
    "                mtx_avg = pd.DataFrame(\n",
    "                    {\n",
    "                        'condition': cond,\n",
    "                        'bout_ix': i,\n",
    "                        'avg': avg,\n",
    "                        'probe': probe,\n",
    "                        'subject': subject\n",
    "                    },\n",
    "                    index=[0])\n",
    "                mtx_avgs.append(mtx_avg)\n",
    "mtxdf = pd.concat(mtx_avgs)\n",
    "mtxdf = pl.from_dataframe(mtxdf)\n",
    "mtxdf = dag.relativize_df(mtxdf, 'condition', 'full_bl', 'mean', 'avg', ['subject', 'probe'])\n",
    "mtxmean = mtxdf.cdn('rebound').group_by(['subject', 'probe']).agg(pl.col('avg_rel').mean())\n",
    "mtxmean = mtxmean.sort(['subject', 'probe'])"
   ]
  },
  {
   "cell_type": "code",
   "execution_count": null,
   "metadata": {},
   "outputs": [],
   "source": [
    "# average across bouts (i.e. keep channel-pair info) for all conditions\n",
    "cond_avgs = {}\n",
    "for subject in bmtx.keys():\n",
    "    cond_avgs[subject] = {}\n",
    "    for cond in bmtx[subject].keys():\n",
    "        cond_avgs[subject][cond] = {}\n",
    "        for probe in bmtx[subject][cond].keys():\n",
    "            cond_avgs[subject][cond][probe] = acr.sync.average_sttc_matrices(bmtx[subject][cond][probe])"
   ]
  },
  {
   "cell_type": "code",
   "execution_count": null,
   "metadata": {},
   "outputs": [],
   "source": [
    "# make the averaged condition-matrices all relative to the full baseline - SIMPLE RATIO\n",
    "reb_rel_avgs = {}\n",
    "for subject in bmtx.keys():\n",
    "    reb_rel_avgs[subject] = {}\n",
    "    for probe in ['NNXr', 'NNXo']:\n",
    "        full_bl_mtx = cond_avgs[subject]['full_bl'][probe]\n",
    "        reb_mtx = cond_avgs[subject]['rebound'][probe]\n",
    "        rel_mtx = reb_mtx / full_bl_mtx\n",
    "        reb_rel_avgs[subject][probe] = rel_mtx"
   ]
  },
  {
   "cell_type": "code",
   "execution_count": null,
   "metadata": {},
   "outputs": [],
   "source": [
    "# make the averaged condition-matrices all relative to the full baseline - FISHER DIFFERENCE\n",
    "reb_rel_avgs = {}\n",
    "for subject in bmtx.keys():\n",
    "    reb_rel_avgs[subject] = {}\n",
    "    for probe in ['NNXr', 'NNXo']:\n",
    "        full_bl_mtx = cond_avgs[subject]['full_bl'][probe]\n",
    "        reb_mtx = cond_avgs[subject]['rebound'][probe]\n",
    "        eps = 1e-6\n",
    "        full_bl_mtx = np.arctanh(np.clip(full_bl_mtx, -1+eps, 1-eps))\n",
    "        reb_mtx = np.arctanh(np.clip(reb_mtx, -1+eps, 1-eps))\n",
    "        rel_mtx = reb_mtx - full_bl_mtx\n",
    "        reb_rel_avgs[subject][probe] = rel_mtx"
   ]
  },
  {
   "cell_type": "code",
   "execution_count": null,
   "metadata": {},
   "outputs": [],
   "source": [
    "#obvious outlier/artifactual pairs\n",
    "#reb_rel_avgs['ACR_29']['NNXo'][5, 6] = np.nan\n",
    "#reb_rel_avgs['ACR_29']['NNXr'][5, 6] = np.nan\n"
   ]
  },
  {
   "cell_type": "code",
   "execution_count": null,
   "metadata": {},
   "outputs": [],
   "source": [
    "plt.rcdefaults()\n",
    "acr.plots.lrg()\n",
    "plt.rcParams['xtick.bottom'] = False"
   ]
  },
  {
   "cell_type": "code",
   "execution_count": null,
   "metadata": {},
   "outputs": [],
   "source": [
    "plt.rcdefaults()\n",
    "acr.plots.supl()"
   ]
  },
  {
   "cell_type": "code",
   "execution_count": null,
   "metadata": {},
   "outputs": [],
   "source": [
    "# better averaging method - first average each condition across bouts into a single matrix, then make each channel-pair value relative to its own channel-pair value from the baseline. Then average all of those channel-pairs into a single number.\n",
    "fig_id = 'REBOUND_STTC_all_channel_average'\n",
    "fig_name = f'{SUBJECT_TYPE}__{MAIN_EXP}__{fig_id}'\n",
    "fig_path = f'{notebook_figure_root}/{fig_name}.png'\n",
    "\n",
    "nnxr = np.array([np.nanmean(reb_rel_avgs[subject]['NNXr']) for subject in reb_rel_avgs.keys()])\n",
    "nnxo = np.array([np.nanmean(reb_rel_avgs[subject]['NNXo']) for subject in reb_rel_avgs.keys()])\n",
    "f, ax = acr.plots.gen_paired_boxplot(nnxr, nnxo, colors=[NNXR_GRAY, MAIN_COLOR], fsize=(3.5, 4))\n",
    "print(ax.get_ylim())\n",
    "\n",
    "ax.set_xticklabels(['Contra Control', 'Optrode'])\n",
    "f.savefig(fig_path, dpi=600, bbox_inches='tight', transparent=True)"
   ]
  },
  {
   "cell_type": "code",
   "execution_count": null,
   "metadata": {},
   "outputs": [],
   "source": [
    "# =============================\n",
    "# ========== STATS ============\n",
    "# =============================\n",
    "write = True\n",
    "\n",
    "diffs = nnxr - nnxo\n",
    "shap_stat, shap_p = shapiro(diffs) # test the paired differences for normality\n",
    "print(f'shapiro_p-value: {shap_p}')\n",
    "\n",
    "stats = pg.ttest(nnxr, nnxo, paired=True)\n",
    "# stats = pg.wilcoxon(nnxr, nnxo)\n",
    "\n",
    "hg = pg.compute_effsize(nnxr, nnxo, paired=True, eftype='hedges')\n",
    "print(f'hedges g: {hg}')\n",
    "\n",
    "#r = acr.stats.calculate_wilx_r(stats['W-val'][0], len(nnxr))\n",
    "\n",
    "\n",
    "if write:\n",
    "    # ==== Write Stats Results ====\n",
    "    stats_name = f'{fig_name}'\n",
    "    acr.stats.write_stats_result(stats_name, 'paired_ttest', stats['T'][0], stats['p-val'][0], 'g', hg)\n",
    "    \n",
    "    # ===== Write Source Data =====\n",
    "    source_data = pd.DataFrame({'contra_control': nnxr, 'off_induction': nnxo, 'subject': np.arange(len(nnxr))})\n",
    "    pu.write_source_data(source_data, stats_name)\n",
    "stats"
   ]
  },
  {
   "cell_type": "code",
   "execution_count": null,
   "metadata": {},
   "outputs": [],
   "source": [
    "nnxr_norm = nnxr-nnxr\n",
    "nnxo_norm = nnxo-nnxr\n",
    "\n",
    "# better averaging method - first average each condition across bouts into a single matrix, then make each channel-pair value relative to its own channel-pair value from the baseline. Then average all of those channel-pairs into a single number.\n",
    "fig_id = 'REBOUND_STTC_all_channel_average-NORMALIZED'\n",
    "fig_name = f'{SUBJECT_TYPE}__{MAIN_EXP}__{fig_id}'\n",
    "fig_path = f'{notebook_figure_root}/{fig_name}.png'\n",
    "\n",
    "\n",
    "f, ax = acr.plots.gen_paired_boxplot(nnxr_norm, nnxo_norm, colors=[NNXR_GRAY, MAIN_COLOR], fsize=(3.5, 4), one_sided=True)\n",
    "print(ax.get_ylim())\n",
    "#ax.set_yticks([0.7, 0.8, 0.9, 1])\n",
    "#ax.set_ylim(0.7, 1.01)\n",
    "\n",
    "f.savefig(fig_path, dpi=600, bbox_inches='tight', transparent=True)"
   ]
  },
  {
   "cell_type": "markdown",
   "metadata": {},
   "source": [
    "# Matrix - Main Plots "
   ]
  },
  {
   "cell_type": "code",
   "execution_count": null,
   "metadata": {},
   "outputs": [],
   "source": [
    "from matplotlib.colors import TwoSlopeNorm"
   ]
  },
  {
   "cell_type": "code",
   "execution_count": null,
   "metadata": {},
   "outputs": [],
   "source": [
    "np.nanmin(diffs)"
   ]
  },
  {
   "cell_type": "code",
   "execution_count": null,
   "metadata": {},
   "outputs": [],
   "source": [
    "np.nanmax(diffs)"
   ]
  },
  {
   "cell_type": "code",
   "execution_count": null,
   "metadata": {},
   "outputs": [],
   "source": [
    "plt.rcdefaults()\n",
    "acr.plots.lrg()\n",
    "plt.rcParams['xtick.bottom'] = False\n",
    "plt.rcParams['ytick.left'] = False\n",
    "\n",
    "#cmap = kde.plot.main.custom_diverging_cmap(low=SOM_BLUE, high=NNXR_GRAY)\n",
    "cmap = modified_coolwarm_low(low=CTRL_BLUE)\n",
    "all_nnxo = [reb_rel_avgs[subject]['NNXo'] for subject in reb_rel_avgs.keys()]\n",
    "all_nnxr = [reb_rel_avgs[subject]['NNXr'] for subject in reb_rel_avgs.keys()]\n",
    "all_nnxo = acr.sync.average_sttc_matrices(all_nnxo)\n",
    "all_nnxr = acr.sync.average_sttc_matrices(all_nnxr)\n",
    "\n",
    "diffs = all_nnxo - all_nnxr\n",
    "norm = TwoSlopeNorm(vmin=-0.11, vcenter=0, vmax=0.11)\n",
    "f, ax = plt.subplots(1, 1, figsize=(5, 5))\n",
    "sns.heatmap(diffs, cmap=cmap, ax=ax, norm=norm, cbar_kws={'ticks': [-0.3, 0, 0.3]})\n",
    "\n",
    "fig_id = 'REBOUND_full_channel_map_all_subjects'\n",
    "fig_name = f'{SUBJECT_TYPE}__{MAIN_EXP}__{fig_id}'\n",
    "fig_path = f'{notebook_figure_root}/{fig_name}.png'\n",
    "\n",
    "f.savefig(fig_path, transparent=True, dpi=600, bbox_inches='tight')"
   ]
  },
  {
   "cell_type": "code",
   "execution_count": null,
   "metadata": {},
   "outputs": [],
   "source": [
    "plt.rcdefaults()\n",
    "acr.plots.lrg()\n",
    "plt.rcParams['xtick.bottom'] = False\n",
    "plt.rcParams['ytick.left'] = False\n",
    "\n",
    "#cmap = kde.plot.main.custom_diverging_cmap(low=SOM_BLUE, high=NNXR_GRAY)\n",
    "cmap = modified_coolwarm_low(low=SOM_BLUE)\n",
    "all_nnxo = [reb_rel_avgs[subject]['NNXo'] for subject in reb_rel_avgs.keys()]\n",
    "all_nnxr = [reb_rel_avgs[subject]['NNXr'] for subject in reb_rel_avgs.keys()]\n",
    "all_nnxo = acr.sync.average_sttc_matrices(all_nnxo)\n",
    "all_nnxr = acr.sync.average_sttc_matrices(all_nnxr)\n",
    "\n",
    "diffs = all_nnxo - all_nnxr\n",
    "norm = TwoSlopeNorm(vmin=-0.08, vcenter=0, vmax=0.08)\n",
    "f, ax = plt.subplots(1, 1, figsize=(5, 5))\n",
    "sns.heatmap(diffs, cmap=cmap, ax=ax, norm=norm, cbar=False)\n",
    "\n",
    "fig_id = 'REBOUND_full_channel_map_all_subjects_NOSCALE'\n",
    "fig_name = f'{SUBJECT_TYPE}__{MAIN_EXP}__{fig_id}'\n",
    "fig_path = f'{notebook_figure_root}/{fig_name}.png'\n",
    "\n",
    "f.savefig(fig_path, transparent=True, dpi=600, bbox_inches='tight')"
   ]
  }
 ],
 "metadata": {
  "kernelspec": {
   "display_name": "off_ind",
   "language": "python",
   "name": "python3"
  },
  "language_info": {
   "codemirror_mode": {
    "name": "ipython",
    "version": 3
   },
   "file_extension": ".py",
   "mimetype": "text/x-python",
   "name": "python",
   "nbconvert_exporter": "python",
   "pygments_lexer": "ipython3",
   "version": "3.12.10"
  }
 },
 "nbformat": 4,
 "nbformat_minor": 2
}
